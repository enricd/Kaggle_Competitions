{
 "cells": [
  {
   "cell_type": "code",
   "execution_count": 1,
   "metadata": {},
   "outputs": [
    {
     "data": {
      "text/plain": [
       "{2: 2, 3: 3, 5: 4, 8: 5, 13: 6, 21: 7, 34: 8, 55: 9, 91: 10}"
      ]
     },
     "execution_count": 1,
     "metadata": {},
     "output_type": "execute_result"
    }
   ],
   "source": [
    "import numpy as np\n",
    "from math import floor\n",
    "\n",
    "# Flight Plan Length\n",
    "flt_plan_l = lambda x: floor(2 * np.log(x)) + 1\n",
    "\n",
    "# demo\n",
    "{ships: flt_plan_l(ships) for ships in range(2, 101) if flt_plan_l(ships) != flt_plan_l(ships-1)}"
   ]
  },
  {
   "cell_type": "code",
   "execution_count": 8,
   "metadata": {},
   "outputs": [
    {
     "data": {
      "text/plain": [
       "{1: 0.0,\n",
       " 2: 0.035,\n",
       " 3: 0.055,\n",
       " 5: 0.08,\n",
       " 8: 0.104,\n",
       " 13: 0.128,\n",
       " 21: 0.152,\n",
       " 34: 0.176,\n",
       " 55: 0.2,\n",
       " 89: 0.224,\n",
       " 144: 0.248,\n",
       " 233: 0.273,\n",
       " 377: 0.297}"
      ]
     },
     "execution_count": 8,
     "metadata": {},
     "output_type": "execute_result"
    }
   ],
   "source": [
    "# Mining fraction\n",
    "mining_f = lambda num_ships: np.log(num_ships) / 20\n",
    "\n",
    "# demo \n",
    "fib = lambda n: fib(n-1) + fib(n-2) if n > 1 else 1\n",
    "fib_list = [fib(n) for n in range(1, 14)]\n",
    "\n",
    "{n_ships: mining_f(n_ships).round(3) for n_ships in fib_list}"
   ]
  },
  {
   "cell_type": "code",
   "execution_count": 10,
   "metadata": {},
   "outputs": [
    {
     "data": {
      "text/plain": [
       "{0: 1, 2: 2, 7: 3, 17: 4, 34: 5, 60: 6, 97: 7, 147: 8, 212: 9, 294: 10}"
      ]
     },
     "execution_count": 10,
     "metadata": {},
     "output_type": "execute_result"
    }
   ],
   "source": [
    "# Max possible spawned ships from a shipyard\n",
    "\n",
    "spawned_ships = {0: 1, 2: 2, 7: 3, 17: 4, 34: 5, 60: 6, 97: 7, 147: 8, 212: 9, 294: 10}\n",
    "\n",
    "# demo\n",
    "spawned_ships"
   ]
  },
  {
   "cell_type": "code",
   "execution_count": null,
   "metadata": {},
   "outputs": [],
   "source": [
    "# Detect shipyar being targeted by enemy\n",
    "\n",
    "def is_targeted(shipyard, board):\n",
    "    for fleet in board.fleets.values():\n",
    "        if fleet.player_id == me.id:\n",
    "            continue\n",
    "        flt_plan = fleet.flight_plan\n",
    "        current_pos = fleet.position\n",
    "\n",
    "\n",
    "    "
   ]
  },
  {
   "cell_type": "code",
   "execution_count": 5,
   "metadata": {},
   "outputs": [
    {
     "data": {
      "text/plain": [
       "3"
      ]
     },
     "execution_count": 5,
     "metadata": {},
     "output_type": "execute_result"
    }
   ],
   "source": [
    "22 // 7"
   ]
  },
  {
   "cell_type": "code",
   "execution_count": 1,
   "metadata": {},
   "outputs": [],
   "source": [
    "l = [(1,0), (20, 2), (3, 3), (1, 0)]"
   ]
  },
  {
   "cell_type": "code",
   "execution_count": 2,
   "metadata": {},
   "outputs": [
    {
     "data": {
      "text/plain": [
       "{(1, 0), (3, 3), (20, 2)}"
      ]
     },
     "execution_count": 2,
     "metadata": {},
     "output_type": "execute_result"
    }
   ],
   "source": [
    "set(l)"
   ]
  },
  {
   "cell_type": "code",
   "execution_count": null,
   "metadata": {},
   "outputs": [],
   "source": []
  }
 ],
 "metadata": {
  "interpreter": {
   "hash": "e227bc9b598b7534fa2db9bd8ed36f414a722e913ae28448b514ef5be3475ede"
  },
  "kernelspec": {
   "display_name": "Python 3.10.4 ('venv': venv)",
   "language": "python",
   "name": "python3"
  },
  "language_info": {
   "codemirror_mode": {
    "name": "ipython",
    "version": 3
   },
   "file_extension": ".py",
   "mimetype": "text/x-python",
   "name": "python",
   "nbconvert_exporter": "python",
   "pygments_lexer": "ipython3",
   "version": "3.10.4"
  },
  "orig_nbformat": 4
 },
 "nbformat": 4,
 "nbformat_minor": 2
}
