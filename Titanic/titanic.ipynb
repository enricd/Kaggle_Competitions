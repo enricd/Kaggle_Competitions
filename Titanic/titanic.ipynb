{
 "cells": [
  {
   "cell_type": "code",
   "execution_count": 1,
   "metadata": {},
   "outputs": [],
   "source": [
    "import numpy as np\n",
    "import pandas as pd\n",
    "import matplotlib.pyplot as plt\n",
    "from pathlib import Path\n",
    "from sklearn import preprocessing\n",
    "from sklearn.linear_model import LogisticRegression\n",
    "import xgboost as xgb\n",
    "from sklearn.model_selection import train_test_split\n",
    "from sklearn.metrics import accuracy_score\n",
    "import seaborn as sns"
   ]
  },
  {
   "cell_type": "code",
   "execution_count": 2,
   "metadata": {},
   "outputs": [],
   "source": [
    "DATA_PATH = Path(\"./data\")\n",
    "TRAIN_PATH = DATA_PATH / \"train.csv\"\n",
    "TEST_PATH = DATA_PATH / \"test.csv\"\n",
    "SAMPLE_SUBMISSION_PATH = DATA_PATH / \"gender_submission.csv\""
   ]
  },
  {
   "cell_type": "code",
   "execution_count": 3,
   "metadata": {},
   "outputs": [
    {
     "name": "stdout",
     "output_type": "stream",
     "text": [
      "891\n"
     ]
    },
    {
     "data": {
      "text/html": [
       "<div>\n",
       "<style scoped>\n",
       "    .dataframe tbody tr th:only-of-type {\n",
       "        vertical-align: middle;\n",
       "    }\n",
       "\n",
       "    .dataframe tbody tr th {\n",
       "        vertical-align: top;\n",
       "    }\n",
       "\n",
       "    .dataframe thead th {\n",
       "        text-align: right;\n",
       "    }\n",
       "</style>\n",
       "<table border=\"1\" class=\"dataframe\">\n",
       "  <thead>\n",
       "    <tr style=\"text-align: right;\">\n",
       "      <th></th>\n",
       "      <th>PassengerId</th>\n",
       "      <th>Survived</th>\n",
       "      <th>Pclass</th>\n",
       "      <th>Name</th>\n",
       "      <th>Sex</th>\n",
       "      <th>Age</th>\n",
       "      <th>SibSp</th>\n",
       "      <th>Parch</th>\n",
       "      <th>Ticket</th>\n",
       "      <th>Fare</th>\n",
       "      <th>Cabin</th>\n",
       "      <th>Embarked</th>\n",
       "    </tr>\n",
       "  </thead>\n",
       "  <tbody>\n",
       "    <tr>\n",
       "      <th>0</th>\n",
       "      <td>1</td>\n",
       "      <td>0</td>\n",
       "      <td>3</td>\n",
       "      <td>Braund, Mr. Owen Harris</td>\n",
       "      <td>male</td>\n",
       "      <td>22.0</td>\n",
       "      <td>1</td>\n",
       "      <td>0</td>\n",
       "      <td>A/5 21171</td>\n",
       "      <td>7.2500</td>\n",
       "      <td>NaN</td>\n",
       "      <td>S</td>\n",
       "    </tr>\n",
       "    <tr>\n",
       "      <th>1</th>\n",
       "      <td>2</td>\n",
       "      <td>1</td>\n",
       "      <td>1</td>\n",
       "      <td>Cumings, Mrs. John Bradley (Florence Briggs Th...</td>\n",
       "      <td>female</td>\n",
       "      <td>38.0</td>\n",
       "      <td>1</td>\n",
       "      <td>0</td>\n",
       "      <td>PC 17599</td>\n",
       "      <td>71.2833</td>\n",
       "      <td>C85</td>\n",
       "      <td>C</td>\n",
       "    </tr>\n",
       "    <tr>\n",
       "      <th>2</th>\n",
       "      <td>3</td>\n",
       "      <td>1</td>\n",
       "      <td>3</td>\n",
       "      <td>Heikkinen, Miss. Laina</td>\n",
       "      <td>female</td>\n",
       "      <td>26.0</td>\n",
       "      <td>0</td>\n",
       "      <td>0</td>\n",
       "      <td>STON/O2. 3101282</td>\n",
       "      <td>7.9250</td>\n",
       "      <td>NaN</td>\n",
       "      <td>S</td>\n",
       "    </tr>\n",
       "    <tr>\n",
       "      <th>3</th>\n",
       "      <td>4</td>\n",
       "      <td>1</td>\n",
       "      <td>1</td>\n",
       "      <td>Futrelle, Mrs. Jacques Heath (Lily May Peel)</td>\n",
       "      <td>female</td>\n",
       "      <td>35.0</td>\n",
       "      <td>1</td>\n",
       "      <td>0</td>\n",
       "      <td>113803</td>\n",
       "      <td>53.1000</td>\n",
       "      <td>C123</td>\n",
       "      <td>S</td>\n",
       "    </tr>\n",
       "    <tr>\n",
       "      <th>4</th>\n",
       "      <td>5</td>\n",
       "      <td>0</td>\n",
       "      <td>3</td>\n",
       "      <td>Allen, Mr. William Henry</td>\n",
       "      <td>male</td>\n",
       "      <td>35.0</td>\n",
       "      <td>0</td>\n",
       "      <td>0</td>\n",
       "      <td>373450</td>\n",
       "      <td>8.0500</td>\n",
       "      <td>NaN</td>\n",
       "      <td>S</td>\n",
       "    </tr>\n",
       "  </tbody>\n",
       "</table>\n",
       "</div>"
      ],
      "text/plain": [
       "   PassengerId  Survived  Pclass  \\\n",
       "0            1         0       3   \n",
       "1            2         1       1   \n",
       "2            3         1       3   \n",
       "3            4         1       1   \n",
       "4            5         0       3   \n",
       "\n",
       "                                                Name     Sex   Age  SibSp  \\\n",
       "0                            Braund, Mr. Owen Harris    male  22.0      1   \n",
       "1  Cumings, Mrs. John Bradley (Florence Briggs Th...  female  38.0      1   \n",
       "2                             Heikkinen, Miss. Laina  female  26.0      0   \n",
       "3       Futrelle, Mrs. Jacques Heath (Lily May Peel)  female  35.0      1   \n",
       "4                           Allen, Mr. William Henry    male  35.0      0   \n",
       "\n",
       "   Parch            Ticket     Fare Cabin Embarked  \n",
       "0      0         A/5 21171   7.2500   NaN        S  \n",
       "1      0          PC 17599  71.2833   C85        C  \n",
       "2      0  STON/O2. 3101282   7.9250   NaN        S  \n",
       "3      0            113803  53.1000  C123        S  \n",
       "4      0            373450   8.0500   NaN        S  "
      ]
     },
     "execution_count": 3,
     "metadata": {},
     "output_type": "execute_result"
    }
   ],
   "source": [
    "train_df = pd.read_csv(TRAIN_PATH)\n",
    "\n",
    "print(len(train_df))\n",
    "train_df.head()"
   ]
  },
  {
   "cell_type": "code",
   "execution_count": 4,
   "metadata": {},
   "outputs": [
    {
     "name": "stdout",
     "output_type": "stream",
     "text": [
      "418\n"
     ]
    },
    {
     "data": {
      "text/html": [
       "<div>\n",
       "<style scoped>\n",
       "    .dataframe tbody tr th:only-of-type {\n",
       "        vertical-align: middle;\n",
       "    }\n",
       "\n",
       "    .dataframe tbody tr th {\n",
       "        vertical-align: top;\n",
       "    }\n",
       "\n",
       "    .dataframe thead th {\n",
       "        text-align: right;\n",
       "    }\n",
       "</style>\n",
       "<table border=\"1\" class=\"dataframe\">\n",
       "  <thead>\n",
       "    <tr style=\"text-align: right;\">\n",
       "      <th></th>\n",
       "      <th>PassengerId</th>\n",
       "      <th>Pclass</th>\n",
       "      <th>Name</th>\n",
       "      <th>Sex</th>\n",
       "      <th>Age</th>\n",
       "      <th>SibSp</th>\n",
       "      <th>Parch</th>\n",
       "      <th>Ticket</th>\n",
       "      <th>Fare</th>\n",
       "      <th>Cabin</th>\n",
       "      <th>Embarked</th>\n",
       "    </tr>\n",
       "  </thead>\n",
       "  <tbody>\n",
       "    <tr>\n",
       "      <th>0</th>\n",
       "      <td>892</td>\n",
       "      <td>3</td>\n",
       "      <td>Kelly, Mr. James</td>\n",
       "      <td>male</td>\n",
       "      <td>34.5</td>\n",
       "      <td>0</td>\n",
       "      <td>0</td>\n",
       "      <td>330911</td>\n",
       "      <td>7.8292</td>\n",
       "      <td>NaN</td>\n",
       "      <td>Q</td>\n",
       "    </tr>\n",
       "    <tr>\n",
       "      <th>1</th>\n",
       "      <td>893</td>\n",
       "      <td>3</td>\n",
       "      <td>Wilkes, Mrs. James (Ellen Needs)</td>\n",
       "      <td>female</td>\n",
       "      <td>47.0</td>\n",
       "      <td>1</td>\n",
       "      <td>0</td>\n",
       "      <td>363272</td>\n",
       "      <td>7.0000</td>\n",
       "      <td>NaN</td>\n",
       "      <td>S</td>\n",
       "    </tr>\n",
       "    <tr>\n",
       "      <th>2</th>\n",
       "      <td>894</td>\n",
       "      <td>2</td>\n",
       "      <td>Myles, Mr. Thomas Francis</td>\n",
       "      <td>male</td>\n",
       "      <td>62.0</td>\n",
       "      <td>0</td>\n",
       "      <td>0</td>\n",
       "      <td>240276</td>\n",
       "      <td>9.6875</td>\n",
       "      <td>NaN</td>\n",
       "      <td>Q</td>\n",
       "    </tr>\n",
       "    <tr>\n",
       "      <th>3</th>\n",
       "      <td>895</td>\n",
       "      <td>3</td>\n",
       "      <td>Wirz, Mr. Albert</td>\n",
       "      <td>male</td>\n",
       "      <td>27.0</td>\n",
       "      <td>0</td>\n",
       "      <td>0</td>\n",
       "      <td>315154</td>\n",
       "      <td>8.6625</td>\n",
       "      <td>NaN</td>\n",
       "      <td>S</td>\n",
       "    </tr>\n",
       "    <tr>\n",
       "      <th>4</th>\n",
       "      <td>896</td>\n",
       "      <td>3</td>\n",
       "      <td>Hirvonen, Mrs. Alexander (Helga E Lindqvist)</td>\n",
       "      <td>female</td>\n",
       "      <td>22.0</td>\n",
       "      <td>1</td>\n",
       "      <td>1</td>\n",
       "      <td>3101298</td>\n",
       "      <td>12.2875</td>\n",
       "      <td>NaN</td>\n",
       "      <td>S</td>\n",
       "    </tr>\n",
       "  </tbody>\n",
       "</table>\n",
       "</div>"
      ],
      "text/plain": [
       "   PassengerId  Pclass                                          Name     Sex  \\\n",
       "0          892       3                              Kelly, Mr. James    male   \n",
       "1          893       3              Wilkes, Mrs. James (Ellen Needs)  female   \n",
       "2          894       2                     Myles, Mr. Thomas Francis    male   \n",
       "3          895       3                              Wirz, Mr. Albert    male   \n",
       "4          896       3  Hirvonen, Mrs. Alexander (Helga E Lindqvist)  female   \n",
       "\n",
       "    Age  SibSp  Parch   Ticket     Fare Cabin Embarked  \n",
       "0  34.5      0      0   330911   7.8292   NaN        Q  \n",
       "1  47.0      1      0   363272   7.0000   NaN        S  \n",
       "2  62.0      0      0   240276   9.6875   NaN        Q  \n",
       "3  27.0      0      0   315154   8.6625   NaN        S  \n",
       "4  22.0      1      1  3101298  12.2875   NaN        S  "
      ]
     },
     "execution_count": 4,
     "metadata": {},
     "output_type": "execute_result"
    }
   ],
   "source": [
    "test_df = pd.read_csv(TEST_PATH)\n",
    "test_ids = test_df[\"PassengerId\"]\n",
    "\n",
    "\n",
    "print(len(test_df))\n",
    "test_df.head()"
   ]
  },
  {
   "cell_type": "markdown",
   "metadata": {},
   "source": [
    "## EDA"
   ]
  },
  {
   "cell_type": "code",
   "execution_count": 5,
   "metadata": {},
   "outputs": [
    {
     "name": "stdout",
     "output_type": "stream",
     "text": [
      "<class 'pandas.core.frame.DataFrame'>\n",
      "RangeIndex: 891 entries, 0 to 890\n",
      "Data columns (total 12 columns):\n",
      " #   Column       Non-Null Count  Dtype  \n",
      "---  ------       --------------  -----  \n",
      " 0   PassengerId  891 non-null    int64  \n",
      " 1   Survived     891 non-null    int64  \n",
      " 2   Pclass       891 non-null    int64  \n",
      " 3   Name         891 non-null    object \n",
      " 4   Sex          891 non-null    object \n",
      " 5   Age          714 non-null    float64\n",
      " 6   SibSp        891 non-null    int64  \n",
      " 7   Parch        891 non-null    int64  \n",
      " 8   Ticket       891 non-null    object \n",
      " 9   Fare         891 non-null    float64\n",
      " 10  Cabin        204 non-null    object \n",
      " 11  Embarked     889 non-null    object \n",
      "dtypes: float64(2), int64(5), object(5)\n",
      "memory usage: 83.7+ KB\n"
     ]
    }
   ],
   "source": [
    "train_df.info()"
   ]
  },
  {
   "cell_type": "code",
   "execution_count": 6,
   "metadata": {},
   "outputs": [
    {
     "data": {
      "text/html": [
       "<div>\n",
       "<style scoped>\n",
       "    .dataframe tbody tr th:only-of-type {\n",
       "        vertical-align: middle;\n",
       "    }\n",
       "\n",
       "    .dataframe tbody tr th {\n",
       "        vertical-align: top;\n",
       "    }\n",
       "\n",
       "    .dataframe thead th {\n",
       "        text-align: right;\n",
       "    }\n",
       "</style>\n",
       "<table border=\"1\" class=\"dataframe\">\n",
       "  <thead>\n",
       "    <tr style=\"text-align: right;\">\n",
       "      <th></th>\n",
       "      <th>PassengerId</th>\n",
       "      <th>Survived</th>\n",
       "      <th>Pclass</th>\n",
       "      <th>Age</th>\n",
       "      <th>SibSp</th>\n",
       "      <th>Parch</th>\n",
       "      <th>Fare</th>\n",
       "    </tr>\n",
       "  </thead>\n",
       "  <tbody>\n",
       "    <tr>\n",
       "      <th>count</th>\n",
       "      <td>891.000000</td>\n",
       "      <td>891.000000</td>\n",
       "      <td>891.000000</td>\n",
       "      <td>714.000000</td>\n",
       "      <td>891.000000</td>\n",
       "      <td>891.000000</td>\n",
       "      <td>891.000000</td>\n",
       "    </tr>\n",
       "    <tr>\n",
       "      <th>mean</th>\n",
       "      <td>446.000000</td>\n",
       "      <td>0.383838</td>\n",
       "      <td>2.308642</td>\n",
       "      <td>29.699118</td>\n",
       "      <td>0.523008</td>\n",
       "      <td>0.381594</td>\n",
       "      <td>32.204208</td>\n",
       "    </tr>\n",
       "    <tr>\n",
       "      <th>std</th>\n",
       "      <td>257.353842</td>\n",
       "      <td>0.486592</td>\n",
       "      <td>0.836071</td>\n",
       "      <td>14.526497</td>\n",
       "      <td>1.102743</td>\n",
       "      <td>0.806057</td>\n",
       "      <td>49.693429</td>\n",
       "    </tr>\n",
       "    <tr>\n",
       "      <th>min</th>\n",
       "      <td>1.000000</td>\n",
       "      <td>0.000000</td>\n",
       "      <td>1.000000</td>\n",
       "      <td>0.420000</td>\n",
       "      <td>0.000000</td>\n",
       "      <td>0.000000</td>\n",
       "      <td>0.000000</td>\n",
       "    </tr>\n",
       "    <tr>\n",
       "      <th>25%</th>\n",
       "      <td>223.500000</td>\n",
       "      <td>0.000000</td>\n",
       "      <td>2.000000</td>\n",
       "      <td>20.125000</td>\n",
       "      <td>0.000000</td>\n",
       "      <td>0.000000</td>\n",
       "      <td>7.910400</td>\n",
       "    </tr>\n",
       "    <tr>\n",
       "      <th>50%</th>\n",
       "      <td>446.000000</td>\n",
       "      <td>0.000000</td>\n",
       "      <td>3.000000</td>\n",
       "      <td>28.000000</td>\n",
       "      <td>0.000000</td>\n",
       "      <td>0.000000</td>\n",
       "      <td>14.454200</td>\n",
       "    </tr>\n",
       "    <tr>\n",
       "      <th>75%</th>\n",
       "      <td>668.500000</td>\n",
       "      <td>1.000000</td>\n",
       "      <td>3.000000</td>\n",
       "      <td>38.000000</td>\n",
       "      <td>1.000000</td>\n",
       "      <td>0.000000</td>\n",
       "      <td>31.000000</td>\n",
       "    </tr>\n",
       "    <tr>\n",
       "      <th>max</th>\n",
       "      <td>891.000000</td>\n",
       "      <td>1.000000</td>\n",
       "      <td>3.000000</td>\n",
       "      <td>80.000000</td>\n",
       "      <td>8.000000</td>\n",
       "      <td>6.000000</td>\n",
       "      <td>512.329200</td>\n",
       "    </tr>\n",
       "  </tbody>\n",
       "</table>\n",
       "</div>"
      ],
      "text/plain": [
       "       PassengerId    Survived      Pclass         Age       SibSp  \\\n",
       "count   891.000000  891.000000  891.000000  714.000000  891.000000   \n",
       "mean    446.000000    0.383838    2.308642   29.699118    0.523008   \n",
       "std     257.353842    0.486592    0.836071   14.526497    1.102743   \n",
       "min       1.000000    0.000000    1.000000    0.420000    0.000000   \n",
       "25%     223.500000    0.000000    2.000000   20.125000    0.000000   \n",
       "50%     446.000000    0.000000    3.000000   28.000000    0.000000   \n",
       "75%     668.500000    1.000000    3.000000   38.000000    1.000000   \n",
       "max     891.000000    1.000000    3.000000   80.000000    8.000000   \n",
       "\n",
       "            Parch        Fare  \n",
       "count  891.000000  891.000000  \n",
       "mean     0.381594   32.204208  \n",
       "std      0.806057   49.693429  \n",
       "min      0.000000    0.000000  \n",
       "25%      0.000000    7.910400  \n",
       "50%      0.000000   14.454200  \n",
       "75%      0.000000   31.000000  \n",
       "max      6.000000  512.329200  "
      ]
     },
     "execution_count": 6,
     "metadata": {},
     "output_type": "execute_result"
    }
   ],
   "source": [
    "train_df.describe()"
   ]
  },
  {
   "cell_type": "code",
   "execution_count": 7,
   "metadata": {},
   "outputs": [
    {
     "data": {
      "text/plain": [
       "PassengerId      0\n",
       "Survived         0\n",
       "Pclass           0\n",
       "Name             0\n",
       "Sex              0\n",
       "Age            177\n",
       "SibSp            0\n",
       "Parch            0\n",
       "Ticket           0\n",
       "Fare             0\n",
       "Cabin          687\n",
       "Embarked         2\n",
       "dtype: int64"
      ]
     },
     "execution_count": 7,
     "metadata": {},
     "output_type": "execute_result"
    }
   ],
   "source": [
    "train_df.isna().sum()"
   ]
  },
  {
   "cell_type": "code",
   "execution_count": 8,
   "metadata": {},
   "outputs": [
    {
     "name": "stdout",
     "output_type": "stream",
     "text": [
      "% of men who survived: 0.18890814558058924\n",
      "% of women who survived: 0.7420382165605095\n"
     ]
    }
   ],
   "source": [
    "men = train_df.loc[train_df.Sex == \"male\"][\"Survived\"]\n",
    "rate_men = sum(men)/len(men)\n",
    "\n",
    "women = train_df.loc[train_df.Sex == \"female\"][\"Survived\"]\n",
    "rate_women = sum(women)/len(women)\n",
    "\n",
    "print(\"% of men who survived:\", rate_men)\n",
    "print(\"% of women who survived:\", rate_women)"
   ]
  },
  {
   "cell_type": "code",
   "execution_count": 9,
   "metadata": {},
   "outputs": [
    {
     "data": {
      "text/plain": [
       "array(['Mr', 'Mrs', 'Miss', 'Master', 'Don', 'Rev', 'Dr', 'Mme', 'Ms',\n",
       "       'Major', 'Lady', 'Sir', 'Mlle', 'Col', 'Capt', 'the Countess',\n",
       "       'Jonkheer'], dtype=object)"
      ]
     },
     "execution_count": 9,
     "metadata": {},
     "output_type": "execute_result"
    }
   ],
   "source": [
    "# Name\n",
    "pre_names = train_df[\"Name\"].str.split(\", \", expand=True)[1].str.split(\".\", expand=True)[0].unique()\n",
    "\n",
    "pre_names"
   ]
  },
  {
   "cell_type": "code",
   "execution_count": 10,
   "metadata": {},
   "outputs": [
    {
     "name": "stdout",
     "output_type": "stream",
     "text": [
      "1             C85\n",
      "3            C123\n",
      "6             E46\n",
      "10             G6\n",
      "11           C103\n",
      "21            D56\n",
      "23             A6\n",
      "27    C23 C25 C27\n",
      "31            B78\n",
      "52            D33\n",
      "Name: Cabin, dtype: object\n",
      "\n",
      " [nan 'C' 'E' 'G' 'D' 'A' 'B' 'F' 'T']\n",
      "\n",
      " C    59\n",
      "B    47\n",
      "D    33\n",
      "E    32\n",
      "A    15\n",
      "F    13\n",
      "G     4\n",
      "T     1\n",
      "Name: Cabin, dtype: int64\n",
      "\n",
      " Nan values: 687 out of 891 total rows\n"
     ]
    }
   ],
   "source": [
    "# Cabin\n",
    "print(train_df.loc[train_df[\"Cabin\"].notna()][\"Cabin\"][:10])\n",
    "print(\"\\n\", train_df[\"Cabin\"].str.slice(0,1).unique())\n",
    "print(\"\\n\", train_df[\"Cabin\"].str.slice(0,1).value_counts())\n",
    "print(\"\\n\", \"Nan values:\", train_df[\"Cabin\"].isna().sum(), \"out of\", len(train_df), \"total rows\")"
   ]
  },
  {
   "cell_type": "code",
   "execution_count": 11,
   "metadata": {},
   "outputs": [
    {
     "data": {
      "image/png": "[encoded data removed]",
      "text/plain": [
       "<Figure size 640x480 with 1 Axes>"
      ]
     },
     "metadata": {},
     "output_type": "display_data"
    }
   ],
   "source": [
    "# Create histogram of age distribution\n",
    "sns.histplot(train_df['Age'], bins=20, kde=False)\n",
    "plt.xlabel('Age')\n",
    "plt.ylabel('Count')\n",
    "plt.title('Age Distribution')\n",
    "plt.show()"
   ]
  },
  {
   "cell_type": "code",
   "execution_count": 12,
   "metadata": {},
   "outputs": [
    {
     "data": {
      "image/png": "[encoded data removed]",
      "text/plain": [
       "<Figure size 640x480 with 1 Axes>"
      ]
     },
     "metadata": {},
     "output_type": "display_data"
    }
   ],
   "source": [
    "# Create bar plot of survival rate by gender\n",
    "sns.barplot(x='Sex', y='Survived', data=train_df)\n",
    "plt.xlabel('Gender')\n",
    "plt.ylabel('Survival Rate')\n",
    "plt.title('Survival Rate by Gender')\n",
    "plt.show()"
   ]
  },
  {
   "cell_type": "code",
   "execution_count": 13,
   "metadata": {},
   "outputs": [
    {
     "data": {
      "image/png": "[encoded data removed]",
      "text/plain": [
       "<Figure size 640x480 with 1 Axes>"
      ]
     },
     "metadata": {},
     "output_type": "display_data"
    }
   ],
   "source": [
    "# Create bar plot of survival rate by passenger class\n",
    "sns.barplot(x='Pclass', y='Survived', data=train_df)\n",
    "plt.xlabel('Passenger Class')\n",
    "plt.ylabel('Survival Rate')\n",
    "plt.title('Survival Rate by Passenger Class')\n",
    "plt.show()"
   ]
  },
  {
   "cell_type": "code",
   "execution_count": 14,
   "metadata": {},
   "outputs": [
    {
     "data": {
      "image/png": "[encoded data removed]",
      "text/plain": [
       "<Figure size 640x480 with 1 Axes>"
      ]
     },
     "metadata": {},
     "output_type": "display_data"
    }
   ],
   "source": [
    "# Create bar plot of survival rate by embarked port\n",
    "sns.barplot(x='Embarked', y='Survived', data=train_df)\n",
    "plt.xlabel('Embarked Port')\n",
    "plt.ylabel('Survival Rate')\n",
    "plt.title('Survival Rate by Embarked Port')\n",
    "plt.show()"
   ]
  },
  {
   "cell_type": "code",
   "execution_count": 15,
   "metadata": {},
   "outputs": [
    {
     "data": {
      "image/png": "[encoded data removed]",
      "text/plain": [
       "<Figure size 640x480 with 1 Axes>"
      ]
     },
     "metadata": {},
     "output_type": "display_data"
    },
    {
     "data": {
      "image/png": "[encoded data removed]",
      "text/plain": [
       "<Figure size 640x480 with 1 Axes>"
      ]
     },
     "metadata": {},
     "output_type": "display_data"
    }
   ],
   "source": [
    "# Create violin plot of age and fare distribution by passenger class\n",
    "sns.violinplot(x='Pclass', y='Age', data=train_df)\n",
    "plt.xlabel('Passenger Class')\n",
    "plt.ylabel('Age')\n",
    "plt.title('Age Distribution by Passenger Class')\n",
    "plt.show()\n",
    "\n",
    "sns.violinplot(x='Pclass', y='Fare', data=train_df)\n",
    "plt.xlabel('Passenger Class')\n",
    "plt.ylabel('Fare')\n",
    "plt.title('Fare Distribution by Passenger Class')\n",
    "plt.show()"
   ]
  },
  {
   "cell_type": "code",
   "execution_count": 16,
   "metadata": {},
   "outputs": [
    {
     "name": "stderr",
     "output_type": "stream",
     "text": [
      "C:\\Users\\Enric\\AppData\\Local\\Temp\\ipykernel_25676\\1263200519.py:2: FutureWarning: The default value of numeric_only in DataFrame.corr is deprecated. In a future version, it will default to False. Select only valid columns or specify the value of numeric_only to silence this warning.\n",
      "  corr = train_df.corr()\n"
     ]
    },
    {
     "data": {
      "image/png": "[encoded data removed]",
      "text/plain": [
       "<Figure size 640x480 with 2 Axes>"
      ]
     },
     "metadata": {},
     "output_type": "display_data"
    }
   ],
   "source": [
    "# Create correlation matrix\n",
    "corr = train_df.corr()\n",
    "\n",
    "# Create heatmap of correlation matrix\n",
    "sns.heatmap(corr, annot=True, cmap='coolwarm')\n",
    "plt.title('Correlation Matrix')\n",
    "plt.show()"
   ]
  },
  {
   "cell_type": "code",
   "execution_count": 17,
   "metadata": {},
   "outputs": [
    {
     "data": {
      "application/vnd.plotly.v1+json": {
       "config": {
        "plotlyServerURL": "https://plot.ly"
       },
       "data": [
        {
         "alignmentgroup": "True",
         "hovertemplate": "Sex=%{x}<br>Survival Rate=%{y}<extra></extra>",
         "legendgroup": "female",
         "marker": {
          "color": "#636efa",
          "pattern": {
           "shape": ""
          }
         },
         "name": "female",
         "offsetgroup": "female",
         "orientation": "v",
         "showlegend": true,
         "textposition": "auto",
         "type": "bar",
         "x": [
          "female"
         ],
         "xaxis": "x",
         "y": [
          0.7420382165605095
         ],
         "yaxis": "y"
        },
        {
         "alignmentgroup": "True",
         "hovertemplate": "Sex=%{x}<br>Survival Rate=%{y}<extra></extra>",
         "legendgroup": "male",
         "marker": {
          "color": "#EF553B",
          "pattern": {
           "shape": ""
          }
         },
         "name": "male",
         "offsetgroup": "male",
         "orientation": "v",
         "showlegend": true,
         "textposition": "auto",
         "type": "bar",
         "x": [
          "male"
         ],
         "xaxis": "x",
         "y": [
          0.18890814558058924
         ],
         "yaxis": "y"
        }
       ],
       "layout": {
        "barmode": "relative",
        "legend": {
         "title": {
          "text": "Sex"
         },
         "tracegroupgap": 0
        },
        "margin": {
         "t": 60
        },
        "template": {
         "data": {
          "bar": [
           {
            "error_x": {
             "color": "#2a3f5f"
            },
            "error_y": {
             "color": "#2a3f5f"
            },
            "marker": {
             "line": {
              "color": "#E5ECF6",
              "width": 0.5
             },
             "pattern": {
              "fillmode": "overlay",
              "size": 10,
              "solidity": 0.2
             }
            },
            "type": "bar"
           }
          ],
          "barpolar": [
           {
            "marker": {
             "line": {
              "color": "#E5ECF6",
              "width": 0.5
             },
             "pattern": {
              "fillmode": "overlay",
              "size": 10,
              "solidity": 0.2
             }
            },
            "type": "barpolar"
           }
          ],
          "carpet": [
           {
            "aaxis": {
             "endlinecolor": "#2a3f5f",
             "gridcolor": "white",
             "linecolor": "white",
             "minorgridcolor": "white",
             "startlinecolor": "#2a3f5f"
            },
            "baxis": {
             "endlinecolor": "#2a3f5f",
             "gridcolor": "white",
             "linecolor": "white",
             "minorgridcolor": "white",
             "startlinecolor": "#2a3f5f"
            },
            "type": "carpet"
           }
          ],
          "choropleth": [
           {
            "colorbar": {
             "outlinewidth": 0,
             "ticks": ""
            },
            "type": "choropleth"
           }
          ],
          "contour": [
           {
            "colorbar": {
             "outlinewidth": 0,
             "ticks": ""
            },
            "colorscale": [
             [
              0,
              "#0d0887"
             ],
             [
              0.1111111111111111,
              "#46039f"
             ],
             [
              0.2222222222222222,
              "#7201a8"
             ],
             [
              0.3333333333333333,
              "#9c179e"
             ],
             [
              0.4444444444444444,
              "#bd3786"
             ],
             [
              0.5555555555555556,
              "#d8576b"
             ],
             [
              0.6666666666666666,
              "#ed7953"
             ],
             [
              0.7777777777777778,
              "#fb9f3a"
             ],
             [
              0.8888888888888888,
              "#fdca26"
             ],
             [
              1,
              "#f0f921"
             ]
            ],
            "type": "contour"
           }
          ],
          "contourcarpet": [
           {
            "colorbar": {
             "outlinewidth": 0,
             "ticks": ""
            },
            "type": "contourcarpet"
           }
          ],
          "heatmap": [
           {
            "colorbar": {
             "outlinewidth": 0,
             "ticks": ""
            },
            "colorscale": [
             [
              0,
              "#0d0887"
             ],
             [
              0.1111111111111111,
              "#46039f"
             ],
             [
              0.2222222222222222,
              "#7201a8"
             ],
             [
              0.3333333333333333,
              "#9c179e"
             ],
             [
              0.4444444444444444,
              "#bd3786"
             ],
             [
              0.5555555555555556,
              "#d8576b"
             ],
             [
              0.6666666666666666,
              "#ed7953"
             ],
             [
              0.7777777777777778,
              "#fb9f3a"
             ],
             [
              0.8888888888888888,
              "#fdca26"
             ],
             [
              1,
              "#f0f921"
             ]
            ],
            "type": "heatmap"
           }
          ],
          "heatmapgl": [
           {
            "colorbar": {
             "outlinewidth": 0,
             "ticks": ""
            },
            "colorscale": [
             [
              0,
              "#0d0887"
             ],
             [
              0.1111111111111111,
              "#46039f"
             ],
             [
              0.2222222222222222,
              "#7201a8"
             ],
             [
              0.3333333333333333,
              "#9c179e"
             ],
             [
              0.4444444444444444,
              "#bd3786"
             ],
             [
              0.5555555555555556,
              "#d8576b"
             ],
             [
              0.6666666666666666,
              "#ed7953"
             ],
             [
              0.7777777777777778,
              "#fb9f3a"
             ],
             [
              0.8888888888888888,
              "#fdca26"
             ],
             [
              1,
              "#f0f921"
             ]
            ],
            "type": "heatmapgl"
           }
          ],
          "histogram": [
           {
            "marker": {
             "pattern": {
              "fillmode": "overlay",
              "size": 10,
              "solidity": 0.2
             }
            },
            "type": "histogram"
           }
          ],
          "histogram2d": [
           {
            "colorbar": {
             "outlinewidth": 0,
             "ticks": ""
            },
            "colorscale": [
             [
              0,
              "#0d0887"
             ],
             [
              0.1111111111111111,
              "#46039f"
             ],
             [
              0.2222222222222222,
              "#7201a8"
             ],
             [
              0.3333333333333333,
              "#9c179e"
             ],
             [
              0.4444444444444444,
              "#bd3786"
             ],
             [
              0.5555555555555556,
              "#d8576b"
             ],
             [
              0.6666666666666666,
              "#ed7953"
             ],
             [
              0.7777777777777778,
              "#fb9f3a"
             ],
             [
              0.8888888888888888,
              "#fdca26"
             ],
             [
              1,
              "#f0f921"
             ]
            ],
            "type": "histogram2d"
           }
          ],
          "histogram2dcontour": [
           {
            "colorbar": {
             "outlinewidth": 0,
             "ticks": ""
            },
            "colorscale": [
             [
              0,
              "#0d0887"
             ],
             [
              0.1111111111111111,
              "#46039f"
             ],
             [
              0.2222222222222222,
              "#7201a8"
             ],
             [
              0.3333333333333333,
              "#9c179e"
             ],
             [
              0.4444444444444444,
              "#bd3786"
             ],
             [
              0.5555555555555556,
              "#d8576b"
             ],
             [
              0.6666666666666666,
              "#ed7953"
             ],
             [
              0.7777777777777778,
              "#fb9f3a"
             ],
             [
              0.8888888888888888,
              "#fdca26"
             ],
             [
              1,
              "#f0f921"
             ]
            ],
            "type": "histogram2dcontour"
           }
          ],
          "mesh3d": [
           {
            "colorbar": {
             "outlinewidth": 0,
             "ticks": ""
            },
            "type": "mesh3d"
           }
          ],
          "parcoords": [
           {
            "line": {
             "colorbar": {
              "outlinewidth": 0,
              "ticks": ""
             }
            },
            "type": "parcoords"
           }
          ],
          "pie": [
           {
            "automargin": true,
            "type": "pie"
           }
          ],
          "scatter": [
           {
            "fillpattern": {
             "fillmode": "overlay",
             "size": 10,
             "solidity": 0.2
            },
            "type": "scatter"
           }
          ],
          "scatter3d": [
           {
            "line": {
             "colorbar": {
              "outlinewidth": 0,
              "ticks": ""
             }
            },
            "marker": {
             "colorbar": {
              "outlinewidth": 0,
              "ticks": ""
             }
            },
            "type": "scatter3d"
           }
          ],
          "scattercarpet": [
           {
            "marker": {
             "colorbar": {
              "outlinewidth": 0,
              "ticks": ""
             }
            },
            "type": "scattercarpet"
           }
          ],
          "scattergeo": [
           {
            "marker": {
             "colorbar": {
              "outlinewidth": 0,
              "ticks": ""
             }
            },
            "type": "scattergeo"
           }
          ],
          "scattergl": [
           {
            "marker": {
             "colorbar": {
              "outlinewidth": 0,
              "ticks": ""
             }
            },
            "type": "scattergl"
           }
          ],
          "scattermapbox": [
           {
            "marker": {
             "colorbar": {
              "outlinewidth": 0,
              "ticks": ""
             }
            },
            "type": "scattermapbox"
           }
          ],
          "scatterpolar": [
           {
            "marker": {
             "colorbar": {
              "outlinewidth": 0,
              "ticks": ""
             }
            },
            "type": "scatterpolar"
           }
          ],
          "scatterpolargl": [
           {
            "marker": {
             "colorbar": {
              "outlinewidth": 0,
              "ticks": ""
             }
            },
            "type": "scatterpolargl"
           }
          ],
          "scatterternary": [
           {
            "marker": {
             "colorbar": {
              "outlinewidth": 0,
              "ticks": ""
             }
            },
            "type": "scatterternary"
           }
          ],
          "surface": [
           {
            "colorbar": {
             "outlinewidth": 0,
             "ticks": ""
            },
            "colorscale": [
             [
              0,
              "#0d0887"
             ],
             [
              0.1111111111111111,
              "#46039f"
             ],
             [
              0.2222222222222222,
              "#7201a8"
             ],
             [
              0.3333333333333333,
              "#9c179e"
             ],
             [
              0.4444444444444444,
              "#bd3786"
             ],
             [
              0.5555555555555556,
              "#d8576b"
             ],
             [
              0.6666666666666666,
              "#ed7953"
             ],
             [
              0.7777777777777778,
              "#fb9f3a"
             ],
             [
              0.8888888888888888,
              "#fdca26"
             ],
             [
              1,
              "#f0f921"
             ]
            ],
            "type": "surface"
           }
          ],
          "table": [
           {
            "cells": {
             "fill": {
              "color": "#EBF0F8"
             },
             "line": {
              "color": "white"
             }
            },
            "header": {
             "fill": {
              "color": "#C8D4E3"
             },
             "line": {
              "color": "white"
             }
            },
            "type": "table"
           }
          ]
         },
         "layout": {
          "annotationdefaults": {
           "arrowcolor": "#2a3f5f",
           "arrowhead": 0,
           "arrowwidth": 1
          },
          "autotypenumbers": "strict",
          "coloraxis": {
           "colorbar": {
            "outlinewidth": 0,
            "ticks": ""
           }
          },
          "colorscale": {
           "diverging": [
            [
             0,
             "#8e0152"
            ],
            [
             0.1,
             "#c51b7d"
            ],
            [
             0.2,
             "#de77ae"
            ],
            [
             0.3,
             "#f1b6da"
            ],
            [
             0.4,
             "#fde0ef"
            ],
            [
             0.5,
             "#f7f7f7"
            ],
            [
             0.6,
             "#e6f5d0"
            ],
            [
             0.7,
             "#b8e186"
            ],
            [
             0.8,
             "#7fbc41"
            ],
            [
             0.9,
             "#4d9221"
            ],
            [
             1,
             "#276419"
            ]
           ],
           "sequential": [
            [
             0,
             "#0d0887"
            ],
            [
             0.1111111111111111,
             "#46039f"
            ],
            [
             0.2222222222222222,
             "#7201a8"
            ],
            [
             0.3333333333333333,
             "#9c179e"
            ],
            [
             0.4444444444444444,
             "#bd3786"
            ],
            [
             0.5555555555555556,
             "#d8576b"
            ],
            [
             0.6666666666666666,
             "#ed7953"
            ],
            [
             0.7777777777777778,
             "#fb9f3a"
            ],
            [
             0.8888888888888888,
             "#fdca26"
            ],
            [
             1,
             "#f0f921"
            ]
           ],
           "sequentialminus": [
            [
             0,
             "#0d0887"
            ],
            [
             0.1111111111111111,
             "#46039f"
            ],
            [
             0.2222222222222222,
             "#7201a8"
            ],
            [
             0.3333333333333333,
             "#9c179e"
            ],
            [
             0.4444444444444444,
             "#bd3786"
            ],
            [
             0.5555555555555556,
             "#d8576b"
            ],
            [
             0.6666666666666666,
             "#ed7953"
            ],
            [
             0.7777777777777778,
             "#fb9f3a"
            ],
            [
             0.8888888888888888,
             "#fdca26"
            ],
            [
             1,
             "#f0f921"
            ]
           ]
          },
          "colorway": [
           "#636efa",
           "#EF553B",
           "#00cc96",
           "#ab63fa",
           "#FFA15A",
           "#19d3f3",
           "#FF6692",
           "#B6E880",
           "#FF97FF",
           "#FECB52"
          ],
          "font": {
           "color": "#2a3f5f"
          },
          "geo": {
           "bgcolor": "white",
           "lakecolor": "white",
           "landcolor": "#E5ECF6",
           "showlakes": true,
           "showland": true,
           "subunitcolor": "white"
          },
          "hoverlabel": {
           "align": "left"
          },
          "hovermode": "closest",
          "mapbox": {
           "style": "light"
          },
          "paper_bgcolor": "white",
          "plot_bgcolor": "#E5ECF6",
          "polar": {
           "angularaxis": {
            "gridcolor": "white",
            "linecolor": "white",
            "ticks": ""
           },
           "bgcolor": "#E5ECF6",
           "radialaxis": {
            "gridcolor": "white",
            "linecolor": "white",
            "ticks": ""
           }
          },
          "scene": {
           "xaxis": {
            "backgroundcolor": "#E5ECF6",
            "gridcolor": "white",
            "gridwidth": 2,
            "linecolor": "white",
            "showbackground": true,
            "ticks": "",
            "zerolinecolor": "white"
           },
           "yaxis": {
            "backgroundcolor": "#E5ECF6",
            "gridcolor": "white",
            "gridwidth": 2,
            "linecolor": "white",
            "showbackground": true,
            "ticks": "",
            "zerolinecolor": "white"
           },
           "zaxis": {
            "backgroundcolor": "#E5ECF6",
            "gridcolor": "white",
            "gridwidth": 2,
            "linecolor": "white",
            "showbackground": true,
            "ticks": "",
            "zerolinecolor": "white"
           }
          },
          "shapedefaults": {
           "line": {
            "color": "#2a3f5f"
           }
          },
          "ternary": {
           "aaxis": {
            "gridcolor": "white",
            "linecolor": "white",
            "ticks": ""
           },
           "baxis": {
            "gridcolor": "white",
            "linecolor": "white",
            "ticks": ""
           },
           "bgcolor": "#E5ECF6",
           "caxis": {
            "gridcolor": "white",
            "linecolor": "white",
            "ticks": ""
           }
          },
          "title": {
           "x": 0.05
          },
          "xaxis": {
           "automargin": true,
           "gridcolor": "white",
           "linecolor": "white",
           "ticks": "",
           "title": {
            "standoff": 15
           },
           "zerolinecolor": "white",
           "zerolinewidth": 2
          },
          "yaxis": {
           "automargin": true,
           "gridcolor": "white",
           "linecolor": "white",
           "ticks": "",
           "title": {
            "standoff": 15
           },
           "zerolinecolor": "white",
           "zerolinewidth": 2
          }
         }
        },
        "title": {
         "text": "Survival Rate by Sex"
        },
        "xaxis": {
         "anchor": "y",
         "categoryarray": [
          "female",
          "male"
         ],
         "categoryorder": "array",
         "domain": [
          0,
          1
         ],
         "title": {
          "text": "Sex"
         }
        },
        "yaxis": {
         "anchor": "x",
         "domain": [
          0,
          1
         ],
         "tickformat": "%",
         "title": {
          "text": "Survival Rate"
         }
        }
       }
      }
     },
     "metadata": {},
     "output_type": "display_data"
    },
    {
     "data": {
      "application/vnd.plotly.v1+json": {
       "config": {
        "plotlyServerURL": "https://plot.ly"
       },
       "data": [
        {
         "hovertemplate": "Embarked=C<br>Pclass=%{x}<br>Survival Rate=%{marker.size}<extra></extra>",
         "legendgroup": "C",
         "marker": {
          "color": "#636efa",
          "size": [
           0.6941176470588235,
           0.5294117647058824,
           0.3787878787878788
          ],
          "sizemode": "area",
          "sizeref": 0.0017352941176470588,
          "symbol": "circle"
         },
         "mode": "markers",
         "name": "C",
         "orientation": "v",
         "showlegend": true,
         "type": "scatter",
         "x": [
          1,
          2,
          3
         ],
         "xaxis": "x",
         "y": [
          0.6941176470588235,
          0.5294117647058824,
          0.3787878787878788
         ],
         "yaxis": "y"
        },
        {
         "hovertemplate": "Embarked=Q<br>Pclass=%{x}<br>Survival Rate=%{marker.size}<extra></extra>",
         "legendgroup": "Q",
         "marker": {
          "color": "#EF553B",
          "size": [
           0.5,
           0.6666666666666666,
           0.375
          ],
          "sizemode": "area",
          "sizeref": 0.0017352941176470588,
          "symbol": "circle"
         },
         "mode": "markers",
         "name": "Q",
         "orientation": "v",
         "showlegend": true,
         "type": "scatter",
         "x": [
          1,
          2,
          3
         ],
         "xaxis": "x",
         "y": [
          0.5,
          0.6666666666666666,
          0.375
         ],
         "yaxis": "y"
        },
        {
         "hovertemplate": "Embarked=S<br>Pclass=%{x}<br>Survival Rate=%{marker.size}<extra></extra>",
         "legendgroup": "S",
         "marker": {
          "color": "#00cc96",
          "size": [
           0.5826771653543307,
           0.4634146341463415,
           0.18980169971671387
          ],
          "sizemode": "area",
          "sizeref": 0.0017352941176470588,
          "symbol": "circle"
         },
         "mode": "markers",
         "name": "S",
         "orientation": "v",
         "showlegend": true,
         "type": "scatter",
         "x": [
          1,
          2,
          3
         ],
         "xaxis": "x",
         "y": [
          0.5826771653543307,
          0.4634146341463415,
          0.18980169971671387
         ],
         "yaxis": "y"
        }
       ],
       "layout": {
        "legend": {
         "itemsizing": "constant",
         "title": {
          "text": "Embarked"
         },
         "tracegroupgap": 0
        },
        "margin": {
         "t": 60
        },
        "template": {
         "data": {
          "bar": [
           {
            "error_x": {
             "color": "#2a3f5f"
            },
            "error_y": {
             "color": "#2a3f5f"
            },
            "marker": {
             "line": {
              "color": "#E5ECF6",
              "width": 0.5
             },
             "pattern": {
              "fillmode": "overlay",
              "size": 10,
              "solidity": 0.2
             }
            },
            "type": "bar"
           }
          ],
          "barpolar": [
           {
            "marker": {
             "line": {
              "color": "#E5ECF6",
              "width": 0.5
             },
             "pattern": {
              "fillmode": "overlay",
              "size": 10,
              "solidity": 0.2
             }
            },
            "type": "barpolar"
           }
          ],
          "carpet": [
           {
            "aaxis": {
             "endlinecolor": "#2a3f5f",
             "gridcolor": "white",
             "linecolor": "white",
             "minorgridcolor": "white",
             "startlinecolor": "#2a3f5f"
            },
            "baxis": {
             "endlinecolor": "#2a3f5f",
             "gridcolor": "white",
             "linecolor": "white",
             "minorgridcolor": "white",
             "startlinecolor": "#2a3f5f"
            },
            "type": "carpet"
           }
          ],
          "choropleth": [
           {
            "colorbar": {
             "outlinewidth": 0,
             "ticks": ""
            },
            "type": "choropleth"
           }
          ],
          "contour": [
           {
            "colorbar": {
             "outlinewidth": 0,
             "ticks": ""
            },
            "colorscale": [
             [
              0,
              "#0d0887"
             ],
             [
              0.1111111111111111,
              "#46039f"
             ],
             [
              0.2222222222222222,
              "#7201a8"
             ],
             [
              0.3333333333333333,
              "#9c179e"
             ],
             [
              0.4444444444444444,
              "#bd3786"
             ],
             [
              0.5555555555555556,
              "#d8576b"
             ],
             [
              0.6666666666666666,
              "#ed7953"
             ],
             [
              0.7777777777777778,
              "#fb9f3a"
             ],
             [
              0.8888888888888888,
              "#fdca26"
             ],
             [
              1,
              "#f0f921"
             ]
            ],
            "type": "contour"
           }
          ],
          "contourcarpet": [
           {
            "colorbar": {
             "outlinewidth": 0,
             "ticks": ""
            },
            "type": "contourcarpet"
           }
          ],
          "heatmap": [
           {
            "colorbar": {
             "outlinewidth": 0,
             "ticks": ""
            },
            "colorscale": [
             [
              0,
              "#0d0887"
             ],
             [
              0.1111111111111111,
              "#46039f"
             ],
             [
              0.2222222222222222,
              "#7201a8"
             ],
             [
              0.3333333333333333,
              "#9c179e"
             ],
             [
              0.4444444444444444,
              "#bd3786"
             ],
             [
              0.5555555555555556,
              "#d8576b"
             ],
             [
              0.6666666666666666,
              "#ed7953"
             ],
             [
              0.7777777777777778,
              "#fb9f3a"
             ],
             [
              0.8888888888888888,
              "#fdca26"
             ],
             [
              1,
              "#f0f921"
             ]
            ],
            "type": "heatmap"
           }
          ],
          "heatmapgl": [
           {
            "colorbar": {
             "outlinewidth": 0,
             "ticks": ""
            },
            "colorscale": [
             [
              0,
              "#0d0887"
             ],
             [
              0.1111111111111111,
              "#46039f"
             ],
             [
              0.2222222222222222,
              "#7201a8"
             ],
             [
              0.3333333333333333,
              "#9c179e"
             ],
             [
              0.4444444444444444,
              "#bd3786"
             ],
             [
              0.5555555555555556,
              "#d8576b"
             ],
             [
              0.6666666666666666,
              "#ed7953"
             ],
             [
              0.7777777777777778,
              "#fb9f3a"
             ],
             [
              0.8888888888888888,
              "#fdca26"
             ],
             [
              1,
              "#f0f921"
             ]
            ],
            "type": "heatmapgl"
           }
          ],
          "histogram": [
           {
            "marker": {
             "pattern": {
              "fillmode": "overlay",
              "size": 10,
              "solidity": 0.2
             }
            },
            "type": "histogram"
           }
          ],
          "histogram2d": [
           {
            "colorbar": {
             "outlinewidth": 0,
             "ticks": ""
            },
            "colorscale": [
             [
              0,
              "#0d0887"
             ],
             [
              0.1111111111111111,
              "#46039f"
             ],
             [
              0.2222222222222222,
              "#7201a8"
             ],
             [
              0.3333333333333333,
              "#9c179e"
             ],
             [
              0.4444444444444444,
              "#bd3786"
             ],
             [
              0.5555555555555556,
              "#d8576b"
             ],
             [
              0.6666666666666666,
              "#ed7953"
             ],
             [
              0.7777777777777778,
              "#fb9f3a"
             ],
             [
              0.8888888888888888,
              "#fdca26"
             ],
             [
              1,
              "#f0f921"
             ]
            ],
            "type": "histogram2d"
           }
          ],
          "histogram2dcontour": [
           {
            "colorbar": {
             "outlinewidth": 0,
             "ticks": ""
            },
            "colorscale": [
             [
              0,
              "#0d0887"
             ],
             [
              0.1111111111111111,
              "#46039f"
             ],
             [
              0.2222222222222222,
              "#7201a8"
             ],
             [
              0.3333333333333333,
              "#9c179e"
             ],
             [
              0.4444444444444444,
              "#bd3786"
             ],
             [
              0.5555555555555556,
              "#d8576b"
             ],
             [
              0.6666666666666666,
              "#ed7953"
             ],
             [
              0.7777777777777778,
              "#fb9f3a"
             ],
             [
              0.8888888888888888,
              "#fdca26"
             ],
             [
              1,
              "#f0f921"
             ]
            ],
            "type": "histogram2dcontour"
           }
          ],
          "mesh3d": [
           {
            "colorbar": {
             "outlinewidth": 0,
             "ticks": ""
            },
            "type": "mesh3d"
           }
          ],
          "parcoords": [
           {
            "line": {
             "colorbar": {
              "outlinewidth": 0,
              "ticks": ""
             }
            },
            "type": "parcoords"
           }
          ],
          "pie": [
           {
            "automargin": true,
            "type": "pie"
           }
          ],
          "scatter": [
           {
            "fillpattern": {
             "fillmode": "overlay",
             "size": 10,
             "solidity": 0.2
            },
            "type": "scatter"
           }
          ],
          "scatter3d": [
           {
            "line": {
             "colorbar": {
              "outlinewidth": 0,
              "ticks": ""
             }
            },
            "marker": {
             "colorbar": {
              "outlinewidth": 0,
              "ticks": ""
             }
            },
            "type": "scatter3d"
           }
          ],
          "scattercarpet": [
           {
            "marker": {
             "colorbar": {
              "outlinewidth": 0,
              "ticks": ""
             }
            },
            "type": "scattercarpet"
           }
          ],
          "scattergeo": [
           {
            "marker": {
             "colorbar": {
              "outlinewidth": 0,
              "ticks": ""
             }
            },
            "type": "scattergeo"
           }
          ],
          "scattergl": [
           {
            "marker": {
             "colorbar": {
              "outlinewidth": 0,
              "ticks": ""
             }
            },
            "type": "scattergl"
           }
          ],
          "scattermapbox": [
           {
            "marker": {
             "colorbar": {
              "outlinewidth": 0,
              "ticks": ""
             }
            },
            "type": "scattermapbox"
           }
          ],
          "scatterpolar": [
           {
            "marker": {
             "colorbar": {
              "outlinewidth": 0,
              "ticks": ""
             }
            },
            "type": "scatterpolar"
           }
          ],
          "scatterpolargl": [
           {
            "marker": {
             "colorbar": {
              "outlinewidth": 0,
              "ticks": ""
             }
            },
            "type": "scatterpolargl"
           }
          ],
          "scatterternary": [
           {
            "marker": {
             "colorbar": {
              "outlinewidth": 0,
              "ticks": ""
             }
            },
            "type": "scatterternary"
           }
          ],
          "surface": [
           {
            "colorbar": {
             "outlinewidth": 0,
             "ticks": ""
            },
            "colorscale": [
             [
              0,
              "#0d0887"
             ],
             [
              0.1111111111111111,
              "#46039f"
             ],
             [
              0.2222222222222222,
              "#7201a8"
             ],
             [
              0.3333333333333333,
              "#9c179e"
             ],
             [
              0.4444444444444444,
              "#bd3786"
             ],
             [
              0.5555555555555556,
              "#d8576b"
             ],
             [
              0.6666666666666666,
              "#ed7953"
             ],
             [
              0.7777777777777778,
              "#fb9f3a"
             ],
             [
              0.8888888888888888,
              "#fdca26"
             ],
             [
              1,
              "#f0f921"
             ]
            ],
            "type": "surface"
           }
          ],
          "table": [
           {
            "cells": {
             "fill": {
              "color": "#EBF0F8"
             },
             "line": {
              "color": "white"
             }
            },
            "header": {
             "fill": {
              "color": "#C8D4E3"
             },
             "line": {
              "color": "white"
             }
            },
            "type": "table"
           }
          ]
         },
         "layout": {
          "annotationdefaults": {
           "arrowcolor": "#2a3f5f",
           "arrowhead": 0,
           "arrowwidth": 1
          },
          "autotypenumbers": "strict",
          "coloraxis": {
           "colorbar": {
            "outlinewidth": 0,
            "ticks": ""
           }
          },
          "colorscale": {
           "diverging": [
            [
             0,
             "#8e0152"
            ],
            [
             0.1,
             "#c51b7d"
            ],
            [
             0.2,
             "#de77ae"
            ],
            [
             0.3,
             "#f1b6da"
            ],
            [
             0.4,
             "#fde0ef"
            ],
            [
             0.5,
             "#f7f7f7"
            ],
            [
             0.6,
             "#e6f5d0"
            ],
            [
             0.7,
             "#b8e186"
            ],
            [
             0.8,
             "#7fbc41"
            ],
            [
             0.9,
             "#4d9221"
            ],
            [
             1,
             "#276419"
            ]
           ],
           "sequential": [
            [
             0,
             "#0d0887"
            ],
            [
             0.1111111111111111,
             "#46039f"
            ],
            [
             0.2222222222222222,
             "#7201a8"
            ],
            [
             0.3333333333333333,
             "#9c179e"
            ],
            [
             0.4444444444444444,
             "#bd3786"
            ],
            [
             0.5555555555555556,
             "#d8576b"
            ],
            [
             0.6666666666666666,
             "#ed7953"
            ],
            [
             0.7777777777777778,
             "#fb9f3a"
            ],
            [
             0.8888888888888888,
             "#fdca26"
            ],
            [
             1,
             "#f0f921"
            ]
           ],
           "sequentialminus": [
            [
             0,
             "#0d0887"
            ],
            [
             0.1111111111111111,
             "#46039f"
            ],
            [
             0.2222222222222222,
             "#7201a8"
            ],
            [
             0.3333333333333333,
             "#9c179e"
            ],
            [
             0.4444444444444444,
             "#bd3786"
            ],
            [
             0.5555555555555556,
             "#d8576b"
            ],
            [
             0.6666666666666666,
             "#ed7953"
            ],
            [
             0.7777777777777778,
             "#fb9f3a"
            ],
            [
             0.8888888888888888,
             "#fdca26"
            ],
            [
             1,
             "#f0f921"
            ]
           ]
          },
          "colorway": [
           "#636efa",
           "#EF553B",
           "#00cc96",
           "#ab63fa",
           "#FFA15A",
           "#19d3f3",
           "#FF6692",
           "#B6E880",
           "#FF97FF",
           "#FECB52"
          ],
          "font": {
           "color": "#2a3f5f"
          },
          "geo": {
           "bgcolor": "white",
           "lakecolor": "white",
           "landcolor": "#E5ECF6",
           "showlakes": true,
           "showland": true,
           "subunitcolor": "white"
          },
          "hoverlabel": {
           "align": "left"
          },
          "hovermode": "closest",
          "mapbox": {
           "style": "light"
          },
          "paper_bgcolor": "white",
          "plot_bgcolor": "#E5ECF6",
          "polar": {
           "angularaxis": {
            "gridcolor": "white",
            "linecolor": "white",
            "ticks": ""
           },
           "bgcolor": "#E5ECF6",
           "radialaxis": {
            "gridcolor": "white",
            "linecolor": "white",
            "ticks": ""
           }
          },
          "scene": {
           "xaxis": {
            "backgroundcolor": "#E5ECF6",
            "gridcolor": "white",
            "gridwidth": 2,
            "linecolor": "white",
            "showbackground": true,
            "ticks": "",
            "zerolinecolor": "white"
           },
           "yaxis": {
            "backgroundcolor": "#E5ECF6",
            "gridcolor": "white",
            "gridwidth": 2,
            "linecolor": "white",
            "showbackground": true,
            "ticks": "",
            "zerolinecolor": "white"
           },
           "zaxis": {
            "backgroundcolor": "#E5ECF6",
            "gridcolor": "white",
            "gridwidth": 2,
            "linecolor": "white",
            "showbackground": true,
            "ticks": "",
            "zerolinecolor": "white"
           }
          },
          "shapedefaults": {
           "line": {
            "color": "#2a3f5f"
           }
          },
          "ternary": {
           "aaxis": {
            "gridcolor": "white",
            "linecolor": "white",
            "ticks": ""
           },
           "baxis": {
            "gridcolor": "white",
            "linecolor": "white",
            "ticks": ""
           },
           "bgcolor": "#E5ECF6",
           "caxis": {
            "gridcolor": "white",
            "linecolor": "white",
            "ticks": ""
           }
          },
          "title": {
           "x": 0.05
          },
          "xaxis": {
           "automargin": true,
           "gridcolor": "white",
           "linecolor": "white",
           "ticks": "",
           "title": {
            "standoff": 15
           },
           "zerolinecolor": "white",
           "zerolinewidth": 2
          },
          "yaxis": {
           "automargin": true,
           "gridcolor": "white",
           "linecolor": "white",
           "ticks": "",
           "title": {
            "standoff": 15
           },
           "zerolinecolor": "white",
           "zerolinewidth": 2
          }
         }
        },
        "title": {
         "text": "Survival Rate by Passenger Class and Embarkation Port"
        },
        "xaxis": {
         "anchor": "y",
         "domain": [
          0,
          1
         ],
         "title": {
          "text": "Pclass"
         }
        },
        "yaxis": {
         "anchor": "x",
         "domain": [
          0,
          1
         ],
         "tickformat": "%",
         "title": {
          "text": "Survival Rate"
         }
        }
       }
      }
     },
     "metadata": {},
     "output_type": "display_data"
    },
    {
     "data": {
      "application/vnd.plotly.v1+json": {
       "config": {
        "plotlyServerURL": "https://plot.ly"
       },
       "data": [
        {
         "name": "Survived",
         "nbinsx": 20,
         "type": "histogram",
         "x": [
          38,
          26,
          35,
          27,
          14,
          4,
          58,
          55,
          34,
          15,
          28,
          38,
          14,
          3,
          19,
          49,
          29,
          21,
          5,
          38,
          29,
          17,
          32,
          0.83,
          30,
          29,
          17,
          33,
          23,
          23,
          34,
          21,
          32.5,
          12,
          24,
          29,
          19,
          22,
          24,
          27,
          22,
          16,
          40,
          9,
          1,
          1,
          4,
          45,
          32,
          19,
          3,
          44,
          58,
          18,
          26,
          16,
          40,
          35,
          31,
          27,
          32,
          16,
          38,
          19,
          35,
          5,
          8,
          24,
          37,
          29,
          30,
          35,
          50,
          3,
          25,
          58,
          35,
          25,
          41,
          63,
          35,
          19,
          30,
          42,
          22,
          26,
          19,
          50,
          0.92,
          17,
          30,
          24,
          18,
          26,
          24,
          31,
          40,
          30,
          22,
          36,
          36,
          31,
          16,
          41,
          45,
          2,
          24,
          24,
          40,
          3,
          22,
          60,
          24,
          25,
          22,
          42,
          1,
          35,
          36,
          17,
          36,
          21,
          23,
          24,
          28,
          39,
          3,
          33,
          44,
          34,
          18,
          28,
          19,
          32,
          28,
          42,
          14,
          24,
          45,
          28,
          4,
          13,
          34,
          5,
          52,
          49,
          29,
          50,
          48,
          0.75,
          33,
          23,
          2,
          63,
          25,
          35,
          9,
          54,
          16,
          33,
          26,
          29,
          36,
          54,
          34,
          36,
          30,
          44,
          50,
          2,
          7,
          30,
          22,
          36,
          32,
          19,
          8,
          17,
          22,
          22,
          48,
          39,
          36,
          32,
          62,
          53,
          36,
          34,
          39,
          32,
          25,
          39,
          18,
          60,
          52,
          49,
          24,
          35,
          27,
          22,
          40,
          24,
          4,
          42,
          20,
          21,
          80,
          32,
          28,
          24,
          0.75,
          48,
          56,
          23,
          18,
          50,
          20,
          40,
          31,
          18,
          36,
          27,
          15,
          31,
          4,
          18,
          35,
          45,
          42,
          22,
          24,
          48,
          38,
          27,
          6,
          27,
          30,
          29,
          35,
          21,
          31,
          30,
          4,
          6,
          48,
          0.67,
          33,
          20,
          36,
          51,
          54,
          5,
          43,
          13,
          17,
          18,
          1,
          49,
          31,
          31,
          11,
          0.42,
          27,
          33,
          52,
          27,
          27,
          1,
          62,
          15,
          0.83,
          39,
          32,
          30,
          16,
          18,
          45,
          51,
          24,
          48,
          42,
          27,
          4,
          47,
          28,
          15,
          56,
          25,
          19,
          26
         ],
         "xaxis": "x",
         "yaxis": "y"
        },
        {
         "name": "Not Survived",
         "nbinsx": 20,
         "type": "histogram",
         "x": [
          22,
          35,
          54,
          2,
          20,
          39,
          14,
          2,
          31,
          35,
          8,
          19,
          40,
          66,
          28,
          42,
          21,
          18,
          40,
          27,
          18,
          7,
          21,
          65,
          28.5,
          11,
          22,
          45,
          4,
          19,
          26,
          32,
          16,
          21,
          26,
          25,
          22,
          28,
          16,
          24,
          29,
          20,
          46,
          26,
          59,
          71,
          34,
          28,
          21,
          33,
          37,
          28,
          38,
          47,
          14.5,
          22,
          20,
          17,
          21,
          70.5,
          29,
          24,
          2,
          21,
          32.5,
          54,
          45,
          33,
          20,
          47,
          25,
          23,
          37,
          16,
          24,
          19,
          18,
          19,
          9,
          36.5,
          42,
          51,
          55.5,
          40.5,
          51,
          30,
          44,
          26,
          17,
          1,
          45,
          28,
          61,
          4,
          21,
          56,
          18,
          50,
          30,
          36,
          9,
          40,
          36,
          19,
          42,
          24,
          28,
          34,
          45.5,
          2,
          32,
          24,
          22,
          30,
          42,
          30,
          27,
          51,
          22,
          20.5,
          18,
          29,
          59,
          24,
          44,
          19,
          33,
          29,
          22,
          30,
          44,
          25,
          54,
          29,
          62,
          30,
          41,
          52,
          40,
          36,
          16,
          37,
          45,
          7,
          65,
          28,
          16,
          33,
          22,
          36,
          24,
          24,
          23.5,
          2,
          19,
          30,
          26,
          28,
          43,
          54,
          22,
          27,
          61,
          45.5,
          38,
          16,
          29,
          45,
          28,
          25,
          36,
          42,
          23,
          15,
          25,
          28,
          38,
          40,
          29,
          45,
          35,
          30,
          18,
          19,
          22,
          3,
          27,
          20,
          19,
          32,
          18,
          1,
          28,
          22,
          31,
          46,
          23,
          26,
          21,
          28,
          20,
          34,
          51,
          21,
          30,
          10,
          21,
          29,
          28,
          18,
          17,
          50,
          21,
          64,
          31,
          20,
          25,
          36,
          30,
          65,
          34,
          47,
          48,
          38,
          56,
          38,
          22,
          34,
          29,
          22,
          9,
          50,
          58,
          30,
          21,
          55,
          71,
          21,
          25,
          24,
          17,
          21,
          37,
          18,
          28,
          24,
          47,
          32,
          22,
          40.5,
          39,
          23,
          17,
          30,
          45,
          9,
          11,
          50,
          64,
          33,
          27,
          62,
          40,
          28,
          24,
          19,
          29,
          16,
          19,
          54,
          36,
          47,
          22,
          35,
          47,
          37,
          36,
          49,
          44,
          36,
          30,
          39,
          35,
          34,
          26,
          26,
          27,
          21,
          21,
          61,
          57,
          26,
          51,
          9,
          32,
          31,
          41,
          20,
          2,
          19,
          21,
          18,
          24,
          32,
          23,
          58,
          40,
          47,
          36,
          32,
          25,
          43,
          31,
          70,
          18,
          24.5,
          43,
          20,
          14,
          60,
          25,
          14,
          19,
          18,
          25,
          60,
          52,
          44,
          49,
          42,
          18,
          25,
          26,
          39,
          29,
          52,
          19,
          33,
          17,
          34,
          50,
          20,
          25,
          25,
          11,
          23,
          23,
          28.5,
          48,
          36,
          24,
          70,
          16,
          19,
          31,
          33,
          23,
          28,
          18,
          34,
          41,
          16,
          30.5,
          32,
          24,
          48,
          57,
          18,
          29,
          25,
          25,
          8,
          46,
          16,
          25,
          39,
          30,
          30,
          34,
          31,
          39,
          18,
          39,
          26,
          39,
          35,
          6,
          30.5,
          23,
          31,
          43,
          10,
          38,
          2,
          23,
          18,
          21,
          20,
          16,
          34.5,
          17,
          42,
          35,
          28,
          4,
          74,
          9,
          44,
          41,
          21,
          24,
          31,
          26,
          33,
          47,
          20,
          19,
          33,
          22,
          28,
          25,
          39,
          27,
          32
         ],
         "xaxis": "x2",
         "yaxis": "y2"
        }
       ],
       "layout": {
        "annotations": [
         {
          "font": {
           "size": 16
          },
          "showarrow": false,
          "text": "Age Distribution of Survivors",
          "x": 0.225,
          "xanchor": "center",
          "xref": "paper",
          "y": 1,
          "yanchor": "bottom",
          "yref": "paper"
         },
         {
          "font": {
           "size": 16
          },
          "showarrow": false,
          "text": "Age Distribution of Non-Survivors",
          "x": 0.775,
          "xanchor": "center",
          "xref": "paper",
          "y": 1,
          "yanchor": "bottom",
          "yref": "paper"
         }
        ],
        "template": {
         "data": {
          "bar": [
           {
            "error_x": {
             "color": "#2a3f5f"
            },
            "error_y": {
             "color": "#2a3f5f"
            },
            "marker": {
             "line": {
              "color": "#E5ECF6",
              "width": 0.5
             },
             "pattern": {
              "fillmode": "overlay",
              "size": 10,
              "solidity": 0.2
             }
            },
            "type": "bar"
           }
          ],
          "barpolar": [
           {
            "marker": {
             "line": {
              "color": "#E5ECF6",
              "width": 0.5
             },
             "pattern": {
              "fillmode": "overlay",
              "size": 10,
              "solidity": 0.2
             }
            },
            "type": "barpolar"
           }
          ],
          "carpet": [
           {
            "aaxis": {
             "endlinecolor": "#2a3f5f",
             "gridcolor": "white",
             "linecolor": "white",
             "minorgridcolor": "white",
             "startlinecolor": "#2a3f5f"
            },
            "baxis": {
             "endlinecolor": "#2a3f5f",
             "gridcolor": "white",
             "linecolor": "white",
             "minorgridcolor": "white",
             "startlinecolor": "#2a3f5f"
            },
            "type": "carpet"
           }
          ],
          "choropleth": [
           {
            "colorbar": {
             "outlinewidth": 0,
             "ticks": ""
            },
            "type": "choropleth"
           }
          ],
          "contour": [
           {
            "colorbar": {
             "outlinewidth": 0,
             "ticks": ""
            },
            "colorscale": [
             [
              0,
              "#0d0887"
             ],
             [
              0.1111111111111111,
              "#46039f"
             ],
             [
              0.2222222222222222,
              "#7201a8"
             ],
             [
              0.3333333333333333,
              "#9c179e"
             ],
             [
              0.4444444444444444,
              "#bd3786"
             ],
             [
              0.5555555555555556,
              "#d8576b"
             ],
             [
              0.6666666666666666,
              "#ed7953"
             ],
             [
              0.7777777777777778,
              "#fb9f3a"
             ],
             [
              0.8888888888888888,
              "#fdca26"
             ],
             [
              1,
              "#f0f921"
             ]
            ],
            "type": "contour"
           }
          ],
          "contourcarpet": [
           {
            "colorbar": {
             "outlinewidth": 0,
             "ticks": ""
            },
            "type": "contourcarpet"
           }
          ],
          "heatmap": [
           {
            "colorbar": {
             "outlinewidth": 0,
             "ticks": ""
            },
            "colorscale": [
             [
              0,
              "#0d0887"
             ],
             [
              0.1111111111111111,
              "#46039f"
             ],
             [
              0.2222222222222222,
              "#7201a8"
             ],
             [
              0.3333333333333333,
              "#9c179e"
             ],
             [
              0.4444444444444444,
              "#bd3786"
             ],
             [
              0.5555555555555556,
              "#d8576b"
             ],
             [
              0.6666666666666666,
              "#ed7953"
             ],
             [
              0.7777777777777778,
              "#fb9f3a"
             ],
             [
              0.8888888888888888,
              "#fdca26"
             ],
             [
              1,
              "#f0f921"
             ]
            ],
            "type": "heatmap"
           }
          ],
          "heatmapgl": [
           {
            "colorbar": {
             "outlinewidth": 0,
             "ticks": ""
            },
            "colorscale": [
             [
              0,
              "#0d0887"
             ],
             [
              0.1111111111111111,
              "#46039f"
             ],
             [
              0.2222222222222222,
              "#7201a8"
             ],
             [
              0.3333333333333333,
              "#9c179e"
             ],
             [
              0.4444444444444444,
              "#bd3786"
             ],
             [
              0.5555555555555556,
              "#d8576b"
             ],
             [
              0.6666666666666666,
              "#ed7953"
             ],
             [
              0.7777777777777778,
              "#fb9f3a"
             ],
             [
              0.8888888888888888,
              "#fdca26"
             ],
             [
              1,
              "#f0f921"
             ]
            ],
            "type": "heatmapgl"
           }
          ],
          "histogram": [
           {
            "marker": {
             "pattern": {
              "fillmode": "overlay",
              "size": 10,
              "solidity": 0.2
             }
            },
            "type": "histogram"
           }
          ],
          "histogram2d": [
           {
            "colorbar": {
             "outlinewidth": 0,
             "ticks": ""
            },
            "colorscale": [
             [
              0,
              "#0d0887"
             ],
             [
              0.1111111111111111,
              "#46039f"
             ],
             [
              0.2222222222222222,
              "#7201a8"
             ],
             [
              0.3333333333333333,
              "#9c179e"
             ],
             [
              0.4444444444444444,
              "#bd3786"
             ],
             [
              0.5555555555555556,
              "#d8576b"
             ],
             [
              0.6666666666666666,
              "#ed7953"
             ],
             [
              0.7777777777777778,
              "#fb9f3a"
             ],
             [
              0.8888888888888888,
              "#fdca26"
             ],
             [
              1,
              "#f0f921"
             ]
            ],
            "type": "histogram2d"
           }
          ],
          "histogram2dcontour": [
           {
            "colorbar": {
             "outlinewidth": 0,
             "ticks": ""
            },
            "colorscale": [
             [
              0,
              "#0d0887"
             ],
             [
              0.1111111111111111,
              "#46039f"
             ],
             [
              0.2222222222222222,
              "#7201a8"
             ],
             [
              0.3333333333333333,
              "#9c179e"
             ],
             [
              0.4444444444444444,
              "#bd3786"
             ],
             [
              0.5555555555555556,
              "#d8576b"
             ],
             [
              0.6666666666666666,
              "#ed7953"
             ],
             [
              0.7777777777777778,
              "#fb9f3a"
             ],
             [
              0.8888888888888888,
              "#fdca26"
             ],
             [
              1,
              "#f0f921"
             ]
            ],
            "type": "histogram2dcontour"
           }
          ],
          "mesh3d": [
           {
            "colorbar": {
             "outlinewidth": 0,
             "ticks": ""
            },
            "type": "mesh3d"
           }
          ],
          "parcoords": [
           {
            "line": {
             "colorbar": {
              "outlinewidth": 0,
              "ticks": ""
             }
            },
            "type": "parcoords"
           }
          ],
          "pie": [
           {
            "automargin": true,
            "type": "pie"
           }
          ],
          "scatter": [
           {
            "fillpattern": {
             "fillmode": "overlay",
             "size": 10,
             "solidity": 0.2
            },
            "type": "scatter"
           }
          ],
          "scatter3d": [
           {
            "line": {
             "colorbar": {
              "outlinewidth": 0,
              "ticks": ""
             }
            },
            "marker": {
             "colorbar": {
              "outlinewidth": 0,
              "ticks": ""
             }
            },
            "type": "scatter3d"
           }
          ],
          "scattercarpet": [
           {
            "marker": {
             "colorbar": {
              "outlinewidth": 0,
              "ticks": ""
             }
            },
            "type": "scattercarpet"
           }
          ],
          "scattergeo": [
           {
            "marker": {
             "colorbar": {
              "outlinewidth": 0,
              "ticks": ""
             }
            },
            "type": "scattergeo"
           }
          ],
          "scattergl": [
           {
            "marker": {
             "colorbar": {
              "outlinewidth": 0,
              "ticks": ""
             }
            },
            "type": "scattergl"
           }
          ],
          "scattermapbox": [
           {
            "marker": {
             "colorbar": {
              "outlinewidth": 0,
              "ticks": ""
             }
            },
            "type": "scattermapbox"
           }
          ],
          "scatterpolar": [
           {
            "marker": {
             "colorbar": {
              "outlinewidth": 0,
              "ticks": ""
             }
            },
            "type": "scatterpolar"
           }
          ],
          "scatterpolargl": [
           {
            "marker": {
             "colorbar": {
              "outlinewidth": 0,
              "ticks": ""
             }
            },
            "type": "scatterpolargl"
           }
          ],
          "scatterternary": [
           {
            "marker": {
             "colorbar": {
              "outlinewidth": 0,
              "ticks": ""
             }
            },
            "type": "scatterternary"
           }
          ],
          "surface": [
           {
            "colorbar": {
             "outlinewidth": 0,
             "ticks": ""
            },
            "colorscale": [
             [
              0,
              "#0d0887"
             ],
             [
              0.1111111111111111,
              "#46039f"
             ],
             [
              0.2222222222222222,
              "#7201a8"
             ],
             [
              0.3333333333333333,
              "#9c179e"
             ],
             [
              0.4444444444444444,
              "#bd3786"
             ],
             [
              0.5555555555555556,
              "#d8576b"
             ],
             [
              0.6666666666666666,
              "#ed7953"
             ],
             [
              0.7777777777777778,
              "#fb9f3a"
             ],
             [
              0.8888888888888888,
              "#fdca26"
             ],
             [
              1,
              "#f0f921"
             ]
            ],
            "type": "surface"
           }
          ],
          "table": [
           {
            "cells": {
             "fill": {
              "color": "#EBF0F8"
             },
             "line": {
              "color": "white"
             }
            },
            "header": {
             "fill": {
              "color": "#C8D4E3"
             },
             "line": {
              "color": "white"
             }
            },
            "type": "table"
           }
          ]
         },
         "layout": {
          "annotationdefaults": {
           "arrowcolor": "#2a3f5f",
           "arrowhead": 0,
           "arrowwidth": 1
          },
          "autotypenumbers": "strict",
          "coloraxis": {
           "colorbar": {
            "outlinewidth": 0,
            "ticks": ""
           }
          },
          "colorscale": {
           "diverging": [
            [
             0,
             "#8e0152"
            ],
            [
             0.1,
             "#c51b7d"
            ],
            [
             0.2,
             "#de77ae"
            ],
            [
             0.3,
             "#f1b6da"
            ],
            [
             0.4,
             "#fde0ef"
            ],
            [
             0.5,
             "#f7f7f7"
            ],
            [
             0.6,
             "#e6f5d0"
            ],
            [
             0.7,
             "#b8e186"
            ],
            [
             0.8,
             "#7fbc41"
            ],
            [
             0.9,
             "#4d9221"
            ],
            [
             1,
             "#276419"
            ]
           ],
           "sequential": [
            [
             0,
             "#0d0887"
            ],
            [
             0.1111111111111111,
             "#46039f"
            ],
            [
             0.2222222222222222,
             "#7201a8"
            ],
            [
             0.3333333333333333,
             "#9c179e"
            ],
            [
             0.4444444444444444,
             "#bd3786"
            ],
            [
             0.5555555555555556,
             "#d8576b"
            ],
            [
             0.6666666666666666,
             "#ed7953"
            ],
            [
             0.7777777777777778,
             "#fb9f3a"
            ],
            [
             0.8888888888888888,
             "#fdca26"
            ],
            [
             1,
             "#f0f921"
            ]
           ],
           "sequentialminus": [
            [
             0,
             "#0d0887"
            ],
            [
             0.1111111111111111,
             "#46039f"
            ],
            [
             0.2222222222222222,
             "#7201a8"
            ],
            [
             0.3333333333333333,
             "#9c179e"
            ],
            [
             0.4444444444444444,
             "#bd3786"
            ],
            [
             0.5555555555555556,
             "#d8576b"
            ],
            [
             0.6666666666666666,
             "#ed7953"
            ],
            [
             0.7777777777777778,
             "#fb9f3a"
            ],
            [
             0.8888888888888888,
             "#fdca26"
            ],
            [
             1,
             "#f0f921"
            ]
           ]
          },
          "colorway": [
           "#636efa",
           "#EF553B",
           "#00cc96",
           "#ab63fa",
           "#FFA15A",
           "#19d3f3",
           "#FF6692",
           "#B6E880",
           "#FF97FF",
           "#FECB52"
          ],
          "font": {
           "color": "#2a3f5f"
          },
          "geo": {
           "bgcolor": "white",
           "lakecolor": "white",
           "landcolor": "#E5ECF6",
           "showlakes": true,
           "showland": true,
           "subunitcolor": "white"
          },
          "hoverlabel": {
           "align": "left"
          },
          "hovermode": "closest",
          "mapbox": {
           "style": "light"
          },
          "paper_bgcolor": "white",
          "plot_bgcolor": "#E5ECF6",
          "polar": {
           "angularaxis": {
            "gridcolor": "white",
            "linecolor": "white",
            "ticks": ""
           },
           "bgcolor": "#E5ECF6",
           "radialaxis": {
            "gridcolor": "white",
            "linecolor": "white",
            "ticks": ""
           }
          },
          "scene": {
           "xaxis": {
            "backgroundcolor": "#E5ECF6",
            "gridcolor": "white",
            "gridwidth": 2,
            "linecolor": "white",
            "showbackground": true,
            "ticks": "",
            "zerolinecolor": "white"
           },
           "yaxis": {
            "backgroundcolor": "#E5ECF6",
            "gridcolor": "white",
            "gridwidth": 2,
            "linecolor": "white",
            "showbackground": true,
            "ticks": "",
            "zerolinecolor": "white"
           },
           "zaxis": {
            "backgroundcolor": "#E5ECF6",
            "gridcolor": "white",
            "gridwidth": 2,
            "linecolor": "white",
            "showbackground": true,
            "ticks": "",
            "zerolinecolor": "white"
           }
          },
          "shapedefaults": {
           "line": {
            "color": "#2a3f5f"
           }
          },
          "ternary": {
           "aaxis": {
            "gridcolor": "white",
            "linecolor": "white",
            "ticks": ""
           },
           "baxis": {
            "gridcolor": "white",
            "linecolor": "white",
            "ticks": ""
           },
           "bgcolor": "#E5ECF6",
           "caxis": {
            "gridcolor": "white",
            "linecolor": "white",
            "ticks": ""
           }
          },
          "title": {
           "x": 0.05
          },
          "xaxis": {
           "automargin": true,
           "gridcolor": "white",
           "linecolor": "white",
           "ticks": "",
           "title": {
            "standoff": 15
           },
           "zerolinecolor": "white",
           "zerolinewidth": 2
          },
          "yaxis": {
           "automargin": true,
           "gridcolor": "white",
           "linecolor": "white",
           "ticks": "",
           "title": {
            "standoff": 15
           },
           "zerolinecolor": "white",
           "zerolinewidth": 2
          }
         }
        },
        "title": {
         "text": "Age Distribution by Survival and Passenger Class"
        },
        "xaxis": {
         "anchor": "y",
         "domain": [
          0,
          0.45
         ]
        },
        "xaxis2": {
         "anchor": "y2",
         "domain": [
          0.55,
          1
         ]
        },
        "yaxis": {
         "anchor": "x",
         "domain": [
          0,
          1
         ]
        },
        "yaxis2": {
         "anchor": "x2",
         "domain": [
          0,
          1
         ]
        }
       }
      }
     },
     "metadata": {},
     "output_type": "display_data"
    },
    {
     "data": {
      "application/vnd.plotly.v1+json": {
       "config": {
        "plotlyServerURL": "https://plot.ly"
       },
       "data": [
        {
         "hovertemplate": "FamilySize=%{x}<br>Survival Rate=%{y}<extra></extra>",
         "legendgroup": "",
         "line": {
          "color": "#636efa",
          "dash": "solid"
         },
         "marker": {
          "symbol": "circle"
         },
         "mode": "lines",
         "name": "",
         "orientation": "v",
         "showlegend": false,
         "type": "scatter",
         "x": [
          1,
          2,
          3,
          4,
          5,
          6,
          7,
          8,
          11
         ],
         "xaxis": "x",
         "y": [
          0.30353817504655495,
          0.5527950310559007,
          0.5784313725490197,
          0.7241379310344828,
          0.2,
          0.13636363636363635,
          0.3333333333333333,
          0,
          0
         ],
         "yaxis": "y"
        }
       ],
       "layout": {
        "legend": {
         "tracegroupgap": 0
        },
        "margin": {
         "t": 60
        },
        "template": {
         "data": {
          "bar": [
           {
            "error_x": {
             "color": "#2a3f5f"
            },
            "error_y": {
             "color": "#2a3f5f"
            },
            "marker": {
             "line": {
              "color": "#E5ECF6",
              "width": 0.5
             },
             "pattern": {
              "fillmode": "overlay",
              "size": 10,
              "solidity": 0.2
             }
            },
            "type": "bar"
           }
          ],
          "barpolar": [
           {
            "marker": {
             "line": {
              "color": "#E5ECF6",
              "width": 0.5
             },
             "pattern": {
              "fillmode": "overlay",
              "size": 10,
              "solidity": 0.2
             }
            },
            "type": "barpolar"
           }
          ],
          "carpet": [
           {
            "aaxis": {
             "endlinecolor": "#2a3f5f",
             "gridcolor": "white",
             "linecolor": "white",
             "minorgridcolor": "white",
             "startlinecolor": "#2a3f5f"
            },
            "baxis": {
             "endlinecolor": "#2a3f5f",
             "gridcolor": "white",
             "linecolor": "white",
             "minorgridcolor": "white",
             "startlinecolor": "#2a3f5f"
            },
            "type": "carpet"
           }
          ],
          "choropleth": [
           {
            "colorbar": {
             "outlinewidth": 0,
             "ticks": ""
            },
            "type": "choropleth"
           }
          ],
          "contour": [
           {
            "colorbar": {
             "outlinewidth": 0,
             "ticks": ""
            },
            "colorscale": [
             [
              0,
              "#0d0887"
             ],
             [
              0.1111111111111111,
              "#46039f"
             ],
             [
              0.2222222222222222,
              "#7201a8"
             ],
             [
              0.3333333333333333,
              "#9c179e"
             ],
             [
              0.4444444444444444,
              "#bd3786"
             ],
             [
              0.5555555555555556,
              "#d8576b"
             ],
             [
              0.6666666666666666,
              "#ed7953"
             ],
             [
              0.7777777777777778,
              "#fb9f3a"
             ],
             [
              0.8888888888888888,
              "#fdca26"
             ],
             [
              1,
              "#f0f921"
             ]
            ],
            "type": "contour"
           }
          ],
          "contourcarpet": [
           {
            "colorbar": {
             "outlinewidth": 0,
             "ticks": ""
            },
            "type": "contourcarpet"
           }
          ],
          "heatmap": [
           {
            "colorbar": {
             "outlinewidth": 0,
             "ticks": ""
            },
            "colorscale": [
             [
              0,
              "#0d0887"
             ],
             [
              0.1111111111111111,
              "#46039f"
             ],
             [
              0.2222222222222222,
              "#7201a8"
             ],
             [
              0.3333333333333333,
              "#9c179e"
             ],
             [
              0.4444444444444444,
              "#bd3786"
             ],
             [
              0.5555555555555556,
              "#d8576b"
             ],
             [
              0.6666666666666666,
              "#ed7953"
             ],
             [
              0.7777777777777778,
              "#fb9f3a"
             ],
             [
              0.8888888888888888,
              "#fdca26"
             ],
             [
              1,
              "#f0f921"
             ]
            ],
            "type": "heatmap"
           }
          ],
          "heatmapgl": [
           {
            "colorbar": {
             "outlinewidth": 0,
             "ticks": ""
            },
            "colorscale": [
             [
              0,
              "#0d0887"
             ],
             [
              0.1111111111111111,
              "#46039f"
             ],
             [
              0.2222222222222222,
              "#7201a8"
             ],
             [
              0.3333333333333333,
              "#9c179e"
             ],
             [
              0.4444444444444444,
              "#bd3786"
             ],
             [
              0.5555555555555556,
              "#d8576b"
             ],
             [
              0.6666666666666666,
              "#ed7953"
             ],
             [
              0.7777777777777778,
              "#fb9f3a"
             ],
             [
              0.8888888888888888,
              "#fdca26"
             ],
             [
              1,
              "#f0f921"
             ]
            ],
            "type": "heatmapgl"
           }
          ],
          "histogram": [
           {
            "marker": {
             "pattern": {
              "fillmode": "overlay",
              "size": 10,
              "solidity": 0.2
             }
            },
            "type": "histogram"
           }
          ],
          "histogram2d": [
           {
            "colorbar": {
             "outlinewidth": 0,
             "ticks": ""
            },
            "colorscale": [
             [
              0,
              "#0d0887"
             ],
             [
              0.1111111111111111,
              "#46039f"
             ],
             [
              0.2222222222222222,
              "#7201a8"
             ],
             [
              0.3333333333333333,
              "#9c179e"
             ],
             [
              0.4444444444444444,
              "#bd3786"
             ],
             [
              0.5555555555555556,
              "#d8576b"
             ],
             [
              0.6666666666666666,
              "#ed7953"
             ],
             [
              0.7777777777777778,
              "#fb9f3a"
             ],
             [
              0.8888888888888888,
              "#fdca26"
             ],
             [
              1,
              "#f0f921"
             ]
            ],
            "type": "histogram2d"
           }
          ],
          "histogram2dcontour": [
           {
            "colorbar": {
             "outlinewidth": 0,
             "ticks": ""
            },
            "colorscale": [
             [
              0,
              "#0d0887"
             ],
             [
              0.1111111111111111,
              "#46039f"
             ],
             [
              0.2222222222222222,
              "#7201a8"
             ],
             [
              0.3333333333333333,
              "#9c179e"
             ],
             [
              0.4444444444444444,
              "#bd3786"
             ],
             [
              0.5555555555555556,
              "#d8576b"
             ],
             [
              0.6666666666666666,
              "#ed7953"
             ],
             [
              0.7777777777777778,
              "#fb9f3a"
             ],
             [
              0.8888888888888888,
              "#fdca26"
             ],
             [
              1,
              "#f0f921"
             ]
            ],
            "type": "histogram2dcontour"
           }
          ],
          "mesh3d": [
           {
            "colorbar": {
             "outlinewidth": 0,
             "ticks": ""
            },
            "type": "mesh3d"
           }
          ],
          "parcoords": [
           {
            "line": {
             "colorbar": {
              "outlinewidth": 0,
              "ticks": ""
             }
            },
            "type": "parcoords"
           }
          ],
          "pie": [
           {
            "automargin": true,
            "type": "pie"
           }
          ],
          "scatter": [
           {
            "fillpattern": {
             "fillmode": "overlay",
             "size": 10,
             "solidity": 0.2
            },
            "type": "scatter"
           }
          ],
          "scatter3d": [
           {
            "line": {
             "colorbar": {
              "outlinewidth": 0,
              "ticks": ""
             }
            },
            "marker": {
             "colorbar": {
              "outlinewidth": 0,
              "ticks": ""
             }
            },
            "type": "scatter3d"
           }
          ],
          "scattercarpet": [
           {
            "marker": {
             "colorbar": {
              "outlinewidth": 0,
              "ticks": ""
             }
            },
            "type": "scattercarpet"
           }
          ],
          "scattergeo": [
           {
            "marker": {
             "colorbar": {
              "outlinewidth": 0,
              "ticks": ""
             }
            },
            "type": "scattergeo"
           }
          ],
          "scattergl": [
           {
            "marker": {
             "colorbar": {
              "outlinewidth": 0,
              "ticks": ""
             }
            },
            "type": "scattergl"
           }
          ],
          "scattermapbox": [
           {
            "marker": {
             "colorbar": {
              "outlinewidth": 0,
              "ticks": ""
             }
            },
            "type": "scattermapbox"
           }
          ],
          "scatterpolar": [
           {
            "marker": {
             "colorbar": {
              "outlinewidth": 0,
              "ticks": ""
             }
            },
            "type": "scatterpolar"
           }
          ],
          "scatterpolargl": [
           {
            "marker": {
             "colorbar": {
              "outlinewidth": 0,
              "ticks": ""
             }
            },
            "type": "scatterpolargl"
           }
          ],
          "scatterternary": [
           {
            "marker": {
             "colorbar": {
              "outlinewidth": 0,
              "ticks": ""
             }
            },
            "type": "scatterternary"
           }
          ],
          "surface": [
           {
            "colorbar": {
             "outlinewidth": 0,
             "ticks": ""
            },
            "colorscale": [
             [
              0,
              "#0d0887"
             ],
             [
              0.1111111111111111,
              "#46039f"
             ],
             [
              0.2222222222222222,
              "#7201a8"
             ],
             [
              0.3333333333333333,
              "#9c179e"
             ],
             [
              0.4444444444444444,
              "#bd3786"
             ],
             [
              0.5555555555555556,
              "#d8576b"
             ],
             [
              0.6666666666666666,
              "#ed7953"
             ],
             [
              0.7777777777777778,
              "#fb9f3a"
             ],
             [
              0.8888888888888888,
              "#fdca26"
             ],
             [
              1,
              "#f0f921"
             ]
            ],
            "type": "surface"
           }
          ],
          "table": [
           {
            "cells": {
             "fill": {
              "color": "#EBF0F8"
             },
             "line": {
              "color": "white"
             }
            },
            "header": {
             "fill": {
              "color": "#C8D4E3"
             },
             "line": {
              "color": "white"
             }
            },
            "type": "table"
           }
          ]
         },
         "layout": {
          "annotationdefaults": {
           "arrowcolor": "#2a3f5f",
           "arrowhead": 0,
           "arrowwidth": 1
          },
          "autotypenumbers": "strict",
          "coloraxis": {
           "colorbar": {
            "outlinewidth": 0,
            "ticks": ""
           }
          },
          "colorscale": {
           "diverging": [
            [
             0,
             "#8e0152"
            ],
            [
             0.1,
             "#c51b7d"
            ],
            [
             0.2,
             "#de77ae"
            ],
            [
             0.3,
             "#f1b6da"
            ],
            [
             0.4,
             "#fde0ef"
            ],
            [
             0.5,
             "#f7f7f7"
            ],
            [
             0.6,
             "#e6f5d0"
            ],
            [
             0.7,
             "#b8e186"
            ],
            [
             0.8,
             "#7fbc41"
            ],
            [
             0.9,
             "#4d9221"
            ],
            [
             1,
             "#276419"
            ]
           ],
           "sequential": [
            [
             0,
             "#0d0887"
            ],
            [
             0.1111111111111111,
             "#46039f"
            ],
            [
             0.2222222222222222,
             "#7201a8"
            ],
            [
             0.3333333333333333,
             "#9c179e"
            ],
            [
             0.4444444444444444,
             "#bd3786"
            ],
            [
             0.5555555555555556,
             "#d8576b"
            ],
            [
             0.6666666666666666,
             "#ed7953"
            ],
            [
             0.7777777777777778,
             "#fb9f3a"
            ],
            [
             0.8888888888888888,
             "#fdca26"
            ],
            [
             1,
             "#f0f921"
            ]
           ],
           "sequentialminus": [
            [
             0,
             "#0d0887"
            ],
            [
             0.1111111111111111,
             "#46039f"
            ],
            [
             0.2222222222222222,
             "#7201a8"
            ],
            [
             0.3333333333333333,
             "#9c179e"
            ],
            [
             0.4444444444444444,
             "#bd3786"
            ],
            [
             0.5555555555555556,
             "#d8576b"
            ],
            [
             0.6666666666666666,
             "#ed7953"
            ],
            [
             0.7777777777777778,
             "#fb9f3a"
            ],
            [
             0.8888888888888888,
             "#fdca26"
            ],
            [
             1,
             "#f0f921"
            ]
           ]
          },
          "colorway": [
           "#636efa",
           "#EF553B",
           "#00cc96",
           "#ab63fa",
           "#FFA15A",
           "#19d3f3",
           "#FF6692",
           "#B6E880",
           "#FF97FF",
           "#FECB52"
          ],
          "font": {
           "color": "#2a3f5f"
          },
          "geo": {
           "bgcolor": "white",
           "lakecolor": "white",
           "landcolor": "#E5ECF6",
           "showlakes": true,
           "showland": true,
           "subunitcolor": "white"
          },
          "hoverlabel": {
           "align": "left"
          },
          "hovermode": "closest",
          "mapbox": {
           "style": "light"
          },
          "paper_bgcolor": "white",
          "plot_bgcolor": "#E5ECF6",
          "polar": {
           "angularaxis": {
            "gridcolor": "white",
            "linecolor": "white",
            "ticks": ""
           },
           "bgcolor": "#E5ECF6",
           "radialaxis": {
            "gridcolor": "white",
            "linecolor": "white",
            "ticks": ""
           }
          },
          "scene": {
           "xaxis": {
            "backgroundcolor": "#E5ECF6",
            "gridcolor": "white",
            "gridwidth": 2,
            "linecolor": "white",
            "showbackground": true,
            "ticks": "",
            "zerolinecolor": "white"
           },
           "yaxis": {
            "backgroundcolor": "#E5ECF6",
            "gridcolor": "white",
            "gridwidth": 2,
            "linecolor": "white",
            "showbackground": true,
            "ticks": "",
            "zerolinecolor": "white"
           },
           "zaxis": {
            "backgroundcolor": "#E5ECF6",
            "gridcolor": "white",
            "gridwidth": 2,
            "linecolor": "white",
            "showbackground": true,
            "ticks": "",
            "zerolinecolor": "white"
           }
          },
          "shapedefaults": {
           "line": {
            "color": "#2a3f5f"
           }
          },
          "ternary": {
           "aaxis": {
            "gridcolor": "white",
            "linecolor": "white",
            "ticks": ""
           },
           "baxis": {
            "gridcolor": "white",
            "linecolor": "white",
            "ticks": ""
           },
           "bgcolor": "#E5ECF6",
           "caxis": {
            "gridcolor": "white",
            "linecolor": "white",
            "ticks": ""
           }
          },
          "title": {
           "x": 0.05
          },
          "xaxis": {
           "automargin": true,
           "gridcolor": "white",
           "linecolor": "white",
           "ticks": "",
           "title": {
            "standoff": 15
           },
           "zerolinecolor": "white",
           "zerolinewidth": 2
          },
          "yaxis": {
           "automargin": true,
           "gridcolor": "white",
           "linecolor": "white",
           "ticks": "",
           "title": {
            "standoff": 15
           },
           "zerolinecolor": "white",
           "zerolinewidth": 2
          }
         }
        },
        "title": {
         "text": "Survival Rate by Family Size"
        },
        "xaxis": {
         "anchor": "y",
         "domain": [
          0,
          1
         ],
         "title": {
          "text": "FamilySize"
         }
        },
        "yaxis": {
         "anchor": "x",
         "domain": [
          0,
          1
         ],
         "tickformat": "%",
         "title": {
          "text": "Survival Rate"
         }
        }
       }
      }
     },
     "metadata": {},
     "output_type": "display_data"
    }
   ],
   "source": [
    "import plotly.express as px\n",
    "import plotly.graph_objs as go\n",
    "from plotly.subplots import make_subplots\n",
    "\n",
    "# Load Titanic dataset\n",
    "#train_df = pd.read_csv('train.csv')\n",
    "\n",
    "# Visualize survival rate by sex\n",
    "survival_rate_by_sex = train_df.groupby('Sex')['Survived'].mean().reset_index()\n",
    "fig1 = px.bar(survival_rate_by_sex, x='Sex', y='Survived', color='Sex', labels={'Survived': 'Survival Rate'})\n",
    "fig1.update_layout(title='Survival Rate by Sex', yaxis_tickformat='%')\n",
    "\n",
    "# Visualize survival rate by passenger class and embarkation port\n",
    "survival_rate_by_class_port = train_df.groupby(['Pclass', 'Embarked'])['Survived'].mean().reset_index()\n",
    "fig2 = px.scatter(survival_rate_by_class_port, x='Pclass', y='Survived', color='Embarked',\n",
    "                   size='Survived', labels={'Survived': 'Survival Rate'})\n",
    "fig2.update_layout(title='Survival Rate by Passenger Class and Embarkation Port', yaxis_tickformat='%')\n",
    "\n",
    "# Visualize age distribution by survival and passenger class\n",
    "age_distribution = train_df[['Age', 'Pclass', 'Survived']].dropna()\n",
    "fig3 = make_subplots(rows=1, cols=2, subplot_titles=['Age Distribution of Survivors', 'Age Distribution of Non-Survivors'])\n",
    "fig3.add_trace(go.Histogram(x=age_distribution[age_distribution['Survived'] == 1]['Age'], \n",
    "                             nbinsx=20, name='Survived'), row=1, col=1)\n",
    "fig3.add_trace(go.Histogram(x=age_distribution[age_distribution['Survived'] == 0]['Age'], \n",
    "                             nbinsx=20, name='Not Survived'), row=1, col=2)\n",
    "fig3.update_layout(title='Age Distribution by Survival and Passenger Class')\n",
    "\n",
    "# Visualize survival rate by family size\n",
    "train_df['FamilySize'] = train_df['SibSp'] + train_df['Parch'] + 1\n",
    "survival_rate_by_family_size = train_df.groupby('FamilySize')['Survived'].mean().reset_index()\n",
    "fig4 = px.line(survival_rate_by_family_size, x='FamilySize', y='Survived', labels={'Survived': 'Survival Rate'})\n",
    "fig4.update_layout(title='Survival Rate by Family Size', yaxis_tickformat='%')\n",
    "\n",
    "# Show plots\n",
    "fig1.show()\n",
    "fig2.show()\n",
    "fig3.show()\n",
    "fig4.show()"
   ]
  },
  {
   "cell_type": "code",
   "execution_count": 18,
   "metadata": {},
   "outputs": [
    {
     "data": {
      "application/vnd.plotly.v1+json": {
       "config": {
        "plotlyServerURL": "https://plot.ly"
       },
       "data": [
        {
         "alignmentgroup": "True",
         "bingroup": "x",
         "histnorm": "percent",
         "hovertemplate": "Sex=male<br>Age=%{x}<br>percent=%{y}<extra></extra>",
         "legendgroup": "male",
         "marker": {
          "color": "#636efa",
          "pattern": {
           "shape": ""
          }
         },
         "name": "male",
         "nbinsx": 20,
         "offsetgroup": "male",
         "orientation": "v",
         "showlegend": true,
         "type": "histogram",
         "x": [
          22,
          35,
          null,
          54,
          2,
          20,
          39,
          2,
          null,
          35,
          34,
          28,
          null,
          19,
          null,
          40,
          66,
          28,
          42,
          null,
          21,
          null,
          null,
          null,
          null,
          7,
          21,
          65,
          null,
          28.5,
          11,
          22,
          45,
          4,
          null,
          null,
          19,
          26,
          32,
          21,
          26,
          32,
          25,
          null,
          null,
          0.83,
          22,
          29,
          28,
          16,
          null,
          24,
          29,
          20,
          46,
          26,
          59,
          null,
          71,
          23,
          34,
          null,
          21,
          33,
          37,
          28,
          null,
          38,
          47,
          22,
          21,
          70.5,
          29,
          24,
          21,
          null,
          32.5,
          54,
          12,
          null,
          24,
          45,
          33,
          20,
          25,
          23,
          37,
          16,
          24,
          19,
          18,
          19,
          27,
          36.5,
          42,
          51,
          55.5,
          40.5,
          null,
          51,
          30,
          null,
          null,
          44,
          26,
          17,
          1,
          9,
          null,
          28,
          61,
          4,
          21,
          56,
          18,
          null,
          30,
          36,
          null,
          9,
          1,
          null,
          45,
          40,
          36,
          19,
          3,
          null,
          42,
          28,
          null,
          34,
          45.5,
          18,
          32,
          26,
          40,
          24,
          22,
          30,
          null,
          42,
          30,
          16,
          27,
          51,
          null,
          38,
          22,
          19,
          20.5,
          18,
          29,
          59,
          24,
          44,
          19,
          33,
          29,
          22,
          30,
          44,
          37,
          54,
          null,
          62,
          30,
          null,
          3,
          52,
          40,
          36,
          16,
          25,
          null,
          25,
          37,
          null,
          7,
          65,
          28,
          16,
          19,
          null,
          33,
          30,
          22,
          42,
          36,
          24,
          null,
          23.5,
          null,
          null,
          19,
          null,
          0.92,
          30,
          28,
          43,
          54,
          22,
          27,
          null,
          61,
          45.5,
          38,
          16,
          null,
          29,
          45,
          45,
          2,
          28,
          25,
          36,
          3,
          42,
          23,
          null,
          15,
          25,
          null,
          28,
          40,
          29,
          35,
          null,
          30,
          25,
          18,
          19,
          22,
          27,
          20,
          19,
          32,
          null,
          18,
          1,
          null,
          36,
          21,
          28,
          22,
          46,
          23,
          39,
          26,
          28,
          34,
          51,
          3,
          21,
          null,
          null,
          null,
          44,
          30,
          null,
          21,
          29,
          18,
          null,
          null,
          32,
          28,
          17,
          50,
          64,
          31,
          20,
          25,
          null,
          4,
          34,
          52,
          36,
          null,
          30,
          49,
          null,
          29,
          65,
          null,
          48,
          34,
          47,
          48,
          null,
          38,
          null,
          56,
          null,
          null,
          38,
          null,
          34,
          29,
          22,
          9,
          null,
          50,
          25,
          58,
          30,
          9,
          null,
          21,
          55,
          71,
          21,
          null,
          null,
          24,
          17,
          18,
          null,
          28,
          26,
          29,
          null,
          36,
          24,
          47,
          null,
          32,
          22,
          null,
          null,
          40.5,
          null,
          39,
          23,
          null,
          17,
          45,
          null,
          32,
          50,
          64,
          null,
          33,
          8,
          17,
          27,
          null,
          22,
          62,
          null,
          null,
          40,
          28,
          null,
          24,
          19,
          null,
          32,
          62,
          36,
          16,
          19,
          32,
          54,
          36,
          null,
          47,
          60,
          22,
          null,
          35,
          47,
          37,
          36,
          49,
          null,
          49,
          null,
          null,
          44,
          35,
          36,
          30,
          27,
          null,
          null,
          35,
          34,
          26,
          27,
          42,
          20,
          21,
          21,
          61,
          57,
          26,
          null,
          80,
          51,
          32,
          null,
          32,
          31,
          null,
          20,
          null,
          48,
          19,
          56,
          null,
          null,
          21,
          24,
          null,
          23,
          58,
          50,
          40,
          47,
          36,
          20,
          32,
          25,
          null,
          43,
          31,
          70,
          31,
          null,
          18,
          24.5,
          36,
          27,
          20,
          14,
          60,
          25,
          14,
          19,
          18,
          31,
          null,
          25,
          60,
          52,
          44,
          49,
          42,
          35,
          25,
          26,
          39,
          42,
          null,
          null,
          48,
          29,
          52,
          19,
          null,
          33,
          17,
          34,
          50,
          27,
          20,
          25,
          11,
          null,
          23,
          23,
          28.5,
          35,
          null,
          null,
          null,
          36,
          24,
          31,
          70,
          16,
          19,
          31,
          6,
          33,
          23,
          0.67,
          28,
          18,
          34,
          null,
          41,
          20,
          16,
          null,
          null,
          32,
          24,
          48,
          null,
          18,
          null,
          null,
          29,
          null,
          25,
          25,
          8,
          1,
          46,
          null,
          16,
          null,
          25,
          39,
          30,
          34,
          11,
          0.42,
          27,
          31,
          39,
          39,
          26,
          39,
          35,
          30.5,
          null,
          31,
          43,
          10,
          27,
          38,
          2,
          null,
          null,
          1,
          null,
          0.83,
          null,
          23,
          18,
          21,
          null,
          32,
          null,
          20,
          16,
          34.5,
          17,
          42,
          null,
          35,
          28,
          4,
          74,
          51,
          null,
          41,
          21,
          24,
          31,
          null,
          4,
          26,
          33,
          47,
          20,
          19,
          null,
          33,
          28,
          25,
          27,
          26,
          32
         ],
         "xaxis": "x",
         "yaxis": "y"
        },
        {
         "alignmentgroup": "True",
         "customdata": [
          [
           0
          ],
          [
           0
          ],
          [
           0
          ],
          [
           0
          ],
          [
           0
          ],
          [
           0
          ],
          [
           0
          ],
          [
           0
          ],
          [
           1
          ],
          [
           0
          ],
          [
           1
          ],
          [
           1
          ],
          [
           0
          ],
          [
           0
          ],
          [
           0
          ],
          [
           0
          ],
          [
           0
          ],
          [
           0
          ],
          [
           0
          ],
          [
           1
          ],
          [
           0
          ],
          [
           0
          ],
          [
           0
          ],
          [
           0
          ],
          [
           0
          ],
          [
           0
          ],
          [
           0
          ],
          [
           0
          ],
          [
           1
          ],
          [
           0
          ],
          [
           0
          ],
          [
           0
          ],
          [
           0
          ],
          [
           0
          ],
          [
           0
          ],
          [
           1
          ],
          [
           0
          ],
          [
           0
          ],
          [
           0
          ],
          [
           0
          ],
          [
           0
          ],
          [
           1
          ],
          [
           0
          ],
          [
           0
          ],
          [
           0
          ],
          [
           1
          ],
          [
           0
          ],
          [
           1
          ],
          [
           0
          ],
          [
           0
          ],
          [
           0
          ],
          [
           0
          ],
          [
           0
          ],
          [
           0
          ],
          [
           0
          ],
          [
           0
          ],
          [
           0
          ],
          [
           0
          ],
          [
           0
          ],
          [
           1
          ],
          [
           0
          ],
          [
           0
          ],
          [
           0
          ],
          [
           0
          ],
          [
           0
          ],
          [
           0
          ],
          [
           1
          ],
          [
           0
          ],
          [
           0
          ],
          [
           0
          ],
          [
           0
          ],
          [
           0
          ],
          [
           0
          ],
          [
           0
          ],
          [
           0
          ],
          [
           0
          ],
          [
           0
          ],
          [
           0
          ],
          [
           1
          ],
          [
           0
          ],
          [
           1
          ],
          [
           0
          ],
          [
           0
          ],
          [
           0
          ],
          [
           0
          ],
          [
           0
          ],
          [
           0
          ],
          [
           0
          ],
          [
           0
          ],
          [
           0
          ],
          [
           0
          ],
          [
           0
          ],
          [
           1
          ],
          [
           0
          ],
          [
           0
          ],
          [
           0
          ],
          [
           0
          ],
          [
           0
          ],
          [
           0
          ],
          [
           0
          ],
          [
           0
          ],
          [
           0
          ],
          [
           0
          ],
          [
           0
          ],
          [
           0
          ],
          [
           0
          ],
          [
           0
          ],
          [
           1
          ],
          [
           0
          ],
          [
           0
          ],
          [
           0
          ],
          [
           0
          ],
          [
           0
          ],
          [
           0
          ],
          [
           0
          ],
          [
           0
          ],
          [
           0
          ],
          [
           0
          ],
          [
           0
          ],
          [
           0
          ],
          [
           1
          ],
          [
           0
          ],
          [
           1
          ],
          [
           0
          ],
          [
           0
          ],
          [
           0
          ],
          [
           1
          ],
          [
           0
          ],
          [
           0
          ],
          [
           0
          ],
          [
           0
          ],
          [
           0
          ],
          [
           0
          ],
          [
           1
          ],
          [
           0
          ],
          [
           1
          ],
          [
           1
          ],
          [
           0
          ],
          [
           0
          ],
          [
           0
          ],
          [
           0
          ],
          [
           0
          ],
          [
           0
          ],
          [
           1
          ],
          [
           0
          ],
          [
           0
          ],
          [
           0
          ],
          [
           1
          ],
          [
           0
          ],
          [
           1
          ],
          [
           0
          ],
          [
           0
          ],
          [
           0
          ],
          [
           0
          ],
          [
           0
          ],
          [
           0
          ],
          [
           0
          ],
          [
           0
          ],
          [
           0
          ],
          [
           0
          ],
          [
           0
          ],
          [
           0
          ],
          [
           1
          ],
          [
           0
          ],
          [
           0
          ],
          [
           0
          ],
          [
           0
          ],
          [
           0
          ],
          [
           1
          ],
          [
           0
          ],
          [
           0
          ],
          [
           0
          ],
          [
           0
          ],
          [
           1
          ],
          [
           0
          ],
          [
           1
          ],
          [
           0
          ],
          [
           0
          ],
          [
           0
          ],
          [
           0
          ],
          [
           0
          ],
          [
           0
          ],
          [
           1
          ],
          [
           0
          ],
          [
           0
          ],
          [
           1
          ],
          [
           0
          ],
          [
           1
          ],
          [
           0
          ],
          [
           0
          ],
          [
           0
          ],
          [
           0
          ],
          [
           1
          ],
          [
           1
          ],
          [
           0
          ],
          [
           0
          ],
          [
           1
          ],
          [
           0
          ],
          [
           0
          ],
          [
           0
          ],
          [
           0
          ],
          [
           0
          ],
          [
           0
          ],
          [
           0
          ],
          [
           0
          ],
          [
           0
          ],
          [
           0
          ],
          [
           0
          ],
          [
           0
          ],
          [
           0
          ],
          [
           1
          ],
          [
           0
          ],
          [
           1
          ],
          [
           0
          ],
          [
           0
          ],
          [
           0
          ],
          [
           1
          ],
          [
           0
          ],
          [
           0
          ],
          [
           0
          ],
          [
           0
          ],
          [
           0
          ],
          [
           0
          ],
          [
           0
          ],
          [
           0
          ],
          [
           0
          ],
          [
           0
          ],
          [
           0
          ],
          [
           0
          ],
          [
           1
          ],
          [
           0
          ],
          [
           0
          ],
          [
           0
          ],
          [
           0
          ],
          [
           0
          ],
          [
           0
          ],
          [
           0
          ],
          [
           0
          ],
          [
           0
          ],
          [
           0
          ],
          [
           0
          ],
          [
           1
          ],
          [
           1
          ],
          [
           0
          ],
          [
           0
          ],
          [
           0
          ],
          [
           0
          ],
          [
           1
          ],
          [
           0
          ],
          [
           0
          ],
          [
           0
          ],
          [
           0
          ],
          [
           1
          ],
          [
           0
          ],
          [
           0
          ],
          [
           0
          ],
          [
           0
          ],
          [
           1
          ],
          [
           0
          ],
          [
           0
          ],
          [
           0
          ],
          [
           0
          ],
          [
           0
          ],
          [
           0
          ],
          [
           0
          ],
          [
           1
          ],
          [
           1
          ],
          [
           0
          ],
          [
           0
          ],
          [
           0
          ],
          [
           0
          ],
          [
           0
          ],
          [
           0
          ],
          [
           1
          ],
          [
           1
          ],
          [
           1
          ],
          [
           1
          ],
          [
           0
          ],
          [
           0
          ],
          [
           0
          ],
          [
           1
          ],
          [
           0
          ],
          [
           1
          ],
          [
           0
          ],
          [
           0
          ],
          [
           1
          ],
          [
           0
          ],
          [
           0
          ],
          [
           0
          ],
          [
           0
          ],
          [
           0
          ],
          [
           0
          ],
          [
           0
          ],
          [
           0
          ],
          [
           0
          ],
          [
           0
          ],
          [
           0
          ],
          [
           0
          ],
          [
           0
          ],
          [
           0
          ],
          [
           0
          ],
          [
           0
          ],
          [
           0
          ],
          [
           1
          ],
          [
           0
          ],
          [
           0
          ],
          [
           1
          ],
          [
           0
          ],
          [
           0
          ],
          [
           0
          ],
          [
           0
          ],
          [
           0
          ],
          [
           0
          ],
          [
           0
          ],
          [
           0
          ],
          [
           0
          ],
          [
           0
          ],
          [
           1
          ],
          [
           0
          ],
          [
           1
          ],
          [
           1
          ],
          [
           0
          ],
          [
           1
          ],
          [
           0
          ],
          [
           0
          ],
          [
           0
          ],
          [
           0
          ],
          [
           0
          ],
          [
           0
          ],
          [
           0
          ],
          [
           0
          ],
          [
           0
          ],
          [
           0
          ],
          [
           0
          ],
          [
           0
          ],
          [
           0
          ],
          [
           0
          ],
          [
           0
          ],
          [
           1
          ],
          [
           0
          ],
          [
           0
          ],
          [
           1
          ],
          [
           0
          ],
          [
           1
          ],
          [
           1
          ],
          [
           0
          ],
          [
           0
          ],
          [
           1
          ],
          [
           0
          ],
          [
           0
          ],
          [
           0
          ],
          [
           0
          ],
          [
           0
          ],
          [
           0
          ],
          [
           0
          ],
          [
           0
          ],
          [
           0
          ],
          [
           1
          ],
          [
           1
          ],
          [
           1
          ],
          [
           0
          ],
          [
           0
          ],
          [
           1
          ],
          [
           0
          ],
          [
           0
          ],
          [
           0
          ],
          [
           0
          ],
          [
           1
          ],
          [
           0
          ],
          [
           0
          ],
          [
           0
          ],
          [
           0
          ],
          [
           0
          ],
          [
           0
          ],
          [
           0
          ],
          [
           0
          ],
          [
           1
          ],
          [
           0
          ],
          [
           0
          ],
          [
           0
          ],
          [
           1
          ],
          [
           0
          ],
          [
           0
          ],
          [
           1
          ],
          [
           0
          ],
          [
           0
          ],
          [
           0
          ],
          [
           0
          ],
          [
           0
          ],
          [
           0
          ],
          [
           1
          ],
          [
           1
          ],
          [
           0
          ],
          [
           0
          ],
          [
           0
          ],
          [
           0
          ],
          [
           0
          ],
          [
           0
          ],
          [
           1
          ],
          [
           0
          ],
          [
           1
          ],
          [
           0
          ],
          [
           0
          ],
          [
           0
          ],
          [
           0
          ],
          [
           0
          ],
          [
           1
          ],
          [
           1
          ],
          [
           0
          ],
          [
           1
          ],
          [
           0
          ],
          [
           0
          ],
          [
           0
          ],
          [
           0
          ],
          [
           0
          ],
          [
           0
          ],
          [
           0
          ],
          [
           1
          ],
          [
           0
          ],
          [
           0
          ],
          [
           0
          ],
          [
           1
          ],
          [
           0
          ],
          [
           0
          ],
          [
           0
          ],
          [
           0
          ],
          [
           0
          ],
          [
           0
          ],
          [
           1
          ],
          [
           0
          ],
          [
           0
          ],
          [
           0
          ],
          [
           1
          ],
          [
           1
          ],
          [
           0
          ],
          [
           0
          ],
          [
           0
          ],
          [
           0
          ],
          [
           0
          ],
          [
           0
          ],
          [
           0
          ],
          [
           1
          ],
          [
           1
          ],
          [
           0
          ],
          [
           0
          ],
          [
           0
          ],
          [
           0
          ],
          [
           0
          ],
          [
           0
          ],
          [
           1
          ],
          [
           0
          ],
          [
           0
          ],
          [
           0
          ],
          [
           1
          ],
          [
           1
          ],
          [
           0
          ],
          [
           1
          ],
          [
           0
          ],
          [
           0
          ],
          [
           0
          ],
          [
           0
          ],
          [
           0
          ],
          [
           0
          ],
          [
           0
          ],
          [
           0
          ],
          [
           1
          ],
          [
           0
          ],
          [
           0
          ],
          [
           0
          ],
          [
           0
          ],
          [
           0
          ],
          [
           0
          ],
          [
           0
          ],
          [
           1
          ],
          [
           0
          ],
          [
           0
          ],
          [
           1
          ],
          [
           0
          ],
          [
           0
          ],
          [
           1
          ],
          [
           0
          ],
          [
           0
          ],
          [
           0
          ],
          [
           0
          ],
          [
           1
          ],
          [
           0
          ],
          [
           0
          ],
          [
           1
          ],
          [
           0
          ],
          [
           0
          ],
          [
           0
          ],
          [
           0
          ],
          [
           0
          ],
          [
           1
          ],
          [
           0
          ],
          [
           0
          ],
          [
           0
          ],
          [
           0
          ],
          [
           0
          ],
          [
           0
          ],
          [
           0
          ],
          [
           0
          ],
          [
           0
          ],
          [
           0
          ],
          [
           0
          ],
          [
           0
          ],
          [
           0
          ],
          [
           0
          ],
          [
           0
          ],
          [
           1
          ],
          [
           0
          ],
          [
           0
          ],
          [
           0
          ],
          [
           0
          ],
          [
           0
          ],
          [
           0
          ],
          [
           0
          ],
          [
           0
          ],
          [
           1
          ],
          [
           1
          ],
          [
           1
          ],
          [
           0
          ],
          [
           0
          ],
          [
           0
          ],
          [
           0
          ],
          [
           0
          ],
          [
           0
          ],
          [
           0
          ],
          [
           0
          ],
          [
           0
          ],
          [
           0
          ],
          [
           0
          ],
          [
           1
          ],
          [
           0
          ],
          [
           0
          ],
          [
           0
          ],
          [
           0
          ],
          [
           1
          ],
          [
           1
          ],
          [
           1
          ],
          [
           0
          ],
          [
           0
          ],
          [
           0
          ],
          [
           0
          ],
          [
           0
          ],
          [
           1
          ],
          [
           1
          ],
          [
           0
          ],
          [
           0
          ],
          [
           0
          ],
          [
           0
          ],
          [
           0
          ],
          [
           0
          ],
          [
           0
          ],
          [
           0
          ],
          [
           0
          ],
          [
           0
          ],
          [
           1
          ],
          [
           0
          ],
          [
           0
          ],
          [
           0
          ],
          [
           0
          ],
          [
           0
          ],
          [
           0
          ],
          [
           1
          ],
          [
           0
          ],
          [
           0
          ],
          [
           0
          ],
          [
           0
          ],
          [
           0
          ],
          [
           0
          ],
          [
           0
          ],
          [
           0
          ],
          [
           0
          ],
          [
           0
          ],
          [
           1
          ],
          [
           0
          ]
         ],
         "hovertemplate": "Sex=male<br>Age=%{x}<br>Survived=%{customdata[0]}<extra></extra>",
         "legendgroup": "male",
         "marker": {
          "color": "#636efa"
         },
         "name": "male",
         "offsetgroup": "male",
         "scalegroup": "x",
         "showlegend": false,
         "type": "violin",
         "x": [
          22,
          35,
          null,
          54,
          2,
          20,
          39,
          2,
          null,
          35,
          34,
          28,
          null,
          19,
          null,
          40,
          66,
          28,
          42,
          null,
          21,
          null,
          null,
          null,
          null,
          7,
          21,
          65,
          null,
          28.5,
          11,
          22,
          45,
          4,
          null,
          null,
          19,
          26,
          32,
          21,
          26,
          32,
          25,
          null,
          null,
          0.83,
          22,
          29,
          28,
          16,
          null,
          24,
          29,
          20,
          46,
          26,
          59,
          null,
          71,
          23,
          34,
          null,
          21,
          33,
          37,
          28,
          null,
          38,
          47,
          22,
          21,
          70.5,
          29,
          24,
          21,
          null,
          32.5,
          54,
          12,
          null,
          24,
          45,
          33,
          20,
          25,
          23,
          37,
          16,
          24,
          19,
          18,
          19,
          27,
          36.5,
          42,
          51,
          55.5,
          40.5,
          null,
          51,
          30,
          null,
          null,
          44,
          26,
          17,
          1,
          9,
          null,
          28,
          61,
          4,
          21,
          56,
          18,
          null,
          30,
          36,
          null,
          9,
          1,
          null,
          45,
          40,
          36,
          19,
          3,
          null,
          42,
          28,
          null,
          34,
          45.5,
          18,
          32,
          26,
          40,
          24,
          22,
          30,
          null,
          42,
          30,
          16,
          27,
          51,
          null,
          38,
          22,
          19,
          20.5,
          18,
          29,
          59,
          24,
          44,
          19,
          33,
          29,
          22,
          30,
          44,
          37,
          54,
          null,
          62,
          30,
          null,
          3,
          52,
          40,
          36,
          16,
          25,
          null,
          25,
          37,
          null,
          7,
          65,
          28,
          16,
          19,
          null,
          33,
          30,
          22,
          42,
          36,
          24,
          null,
          23.5,
          null,
          null,
          19,
          null,
          0.92,
          30,
          28,
          43,
          54,
          22,
          27,
          null,
          61,
          45.5,
          38,
          16,
          null,
          29,
          45,
          45,
          2,
          28,
          25,
          36,
          3,
          42,
          23,
          null,
          15,
          25,
          null,
          28,
          40,
          29,
          35,
          null,
          30,
          25,
          18,
          19,
          22,
          27,
          20,
          19,
          32,
          null,
          18,
          1,
          null,
          36,
          21,
          28,
          22,
          46,
          23,
          39,
          26,
          28,
          34,
          51,
          3,
          21,
          null,
          null,
          null,
          44,
          30,
          null,
          21,
          29,
          18,
          null,
          null,
          32,
          28,
          17,
          50,
          64,
          31,
          20,
          25,
          null,
          4,
          34,
          52,
          36,
          null,
          30,
          49,
          null,
          29,
          65,
          null,
          48,
          34,
          47,
          48,
          null,
          38,
          null,
          56,
          null,
          null,
          38,
          null,
          34,
          29,
          22,
          9,
          null,
          50,
          25,
          58,
          30,
          9,
          null,
          21,
          55,
          71,
          21,
          null,
          null,
          24,
          17,
          18,
          null,
          28,
          26,
          29,
          null,
          36,
          24,
          47,
          null,
          32,
          22,
          null,
          null,
          40.5,
          null,
          39,
          23,
          null,
          17,
          45,
          null,
          32,
          50,
          64,
          null,
          33,
          8,
          17,
          27,
          null,
          22,
          62,
          null,
          null,
          40,
          28,
          null,
          24,
          19,
          null,
          32,
          62,
          36,
          16,
          19,
          32,
          54,
          36,
          null,
          47,
          60,
          22,
          null,
          35,
          47,
          37,
          36,
          49,
          null,
          49,
          null,
          null,
          44,
          35,
          36,
          30,
          27,
          null,
          null,
          35,
          34,
          26,
          27,
          42,
          20,
          21,
          21,
          61,
          57,
          26,
          null,
          80,
          51,
          32,
          null,
          32,
          31,
          null,
          20,
          null,
          48,
          19,
          56,
          null,
          null,
          21,
          24,
          null,
          23,
          58,
          50,
          40,
          47,
          36,
          20,
          32,
          25,
          null,
          43,
          31,
          70,
          31,
          null,
          18,
          24.5,
          36,
          27,
          20,
          14,
          60,
          25,
          14,
          19,
          18,
          31,
          null,
          25,
          60,
          52,
          44,
          49,
          42,
          35,
          25,
          26,
          39,
          42,
          null,
          null,
          48,
          29,
          52,
          19,
          null,
          33,
          17,
          34,
          50,
          27,
          20,
          25,
          11,
          null,
          23,
          23,
          28.5,
          35,
          null,
          null,
          null,
          36,
          24,
          31,
          70,
          16,
          19,
          31,
          6,
          33,
          23,
          0.67,
          28,
          18,
          34,
          null,
          41,
          20,
          16,
          null,
          null,
          32,
          24,
          48,
          null,
          18,
          null,
          null,
          29,
          null,
          25,
          25,
          8,
          1,
          46,
          null,
          16,
          null,
          25,
          39,
          30,
          34,
          11,
          0.42,
          27,
          31,
          39,
          39,
          26,
          39,
          35,
          30.5,
          null,
          31,
          43,
          10,
          27,
          38,
          2,
          null,
          null,
          1,
          null,
          0.83,
          null,
          23,
          18,
          21,
          null,
          32,
          null,
          20,
          16,
          34.5,
          17,
          42,
          null,
          35,
          28,
          4,
          74,
          51,
          null,
          41,
          21,
          24,
          31,
          null,
          4,
          26,
          33,
          47,
          20,
          19,
          null,
          33,
          28,
          25,
          27,
          26,
          32
         ],
         "xaxis": "x2",
         "yaxis": "y2"
        },
        {
         "alignmentgroup": "True",
         "bingroup": "x",
         "histnorm": "percent",
         "hovertemplate": "Sex=female<br>Age=%{x}<br>percent=%{y}<extra></extra>",
         "legendgroup": "female",
         "marker": {
          "color": "#EF553B",
          "pattern": {
           "shape": ""
          }
         },
         "name": "female",
         "nbinsx": 20,
         "offsetgroup": "female",
         "orientation": "v",
         "showlegend": true,
         "type": "histogram",
         "x": [
          38,
          26,
          35,
          27,
          14,
          4,
          58,
          14,
          55,
          31,
          null,
          15,
          8,
          38,
          null,
          null,
          null,
          18,
          14,
          40,
          27,
          3,
          19,
          null,
          18,
          49,
          29,
          21,
          5,
          38,
          29,
          17,
          16,
          30,
          null,
          17,
          33,
          23,
          34,
          28,
          21,
          null,
          14.5,
          20,
          17,
          2,
          32.5,
          null,
          47,
          29,
          19,
          null,
          22,
          24,
          9,
          22,
          16,
          40,
          null,
          45,
          1,
          50,
          null,
          4,
          null,
          32,
          19,
          44,
          58,
          null,
          24,
          2,
          16,
          35,
          31,
          27,
          32,
          null,
          35,
          5,
          null,
          8,
          null,
          null,
          25,
          24,
          29,
          41,
          29,
          null,
          30,
          35,
          50,
          null,
          58,
          35,
          41,
          null,
          63,
          45,
          35,
          22,
          26,
          19,
          24,
          2,
          50,
          null,
          null,
          null,
          17,
          30,
          24,
          18,
          26,
          26,
          24,
          31,
          40,
          30,
          22,
          36,
          36,
          31,
          16,
          null,
          null,
          41,
          24,
          24,
          40,
          null,
          22,
          38,
          null,
          null,
          45,
          60,
          null,
          null,
          24,
          3,
          null,
          22,
          42,
          1,
          35,
          36,
          17,
          23,
          24,
          31,
          28,
          21,
          20,
          null,
          33,
          null,
          34,
          18,
          10,
          28,
          28,
          19,
          null,
          42,
          14,
          21,
          24,
          45,
          28,
          13,
          5,
          null,
          50,
          0.75,
          33,
          23,
          22,
          2,
          63,
          null,
          35,
          54,
          25,
          21,
          null,
          37,
          16,
          33,
          54,
          34,
          36,
          30,
          44,
          50,
          2,
          null,
          30,
          7,
          30,
          22,
          36,
          9,
          11,
          19,
          22,
          48,
          39,
          36,
          null,
          29,
          53,
          null,
          34,
          39,
          null,
          25,
          39,
          18,
          52,
          null,
          null,
          24,
          22,
          40,
          39,
          null,
          24,
          26,
          4,
          21,
          9,
          28,
          41,
          24,
          2,
          0.75,
          23,
          18,
          null,
          18,
          32,
          null,
          40,
          18,
          43,
          null,
          15,
          4,
          null,
          18,
          18,
          45,
          22,
          24,
          38,
          27,
          6,
          30,
          null,
          25,
          29,
          48,
          21,
          30,
          4,
          48,
          33,
          36,
          51,
          30.5,
          57,
          54,
          5,
          43,
          13,
          17,
          18,
          null,
          49,
          31,
          30,
          31,
          18,
          33,
          6,
          23,
          52,
          27,
          62,
          15,
          39,
          30,
          null,
          9,
          16,
          44,
          18,
          45,
          24,
          48,
          null,
          42,
          27,
          47,
          28,
          15,
          56,
          25,
          22,
          39,
          19,
          null
         ],
         "xaxis": "x",
         "yaxis": "y"
        },
        {
         "alignmentgroup": "True",
         "customdata": [
          [
           1
          ],
          [
           1
          ],
          [
           1
          ],
          [
           1
          ],
          [
           1
          ],
          [
           1
          ],
          [
           1
          ],
          [
           0
          ],
          [
           1
          ],
          [
           0
          ],
          [
           1
          ],
          [
           1
          ],
          [
           0
          ],
          [
           1
          ],
          [
           1
          ],
          [
           1
          ],
          [
           1
          ],
          [
           0
          ],
          [
           1
          ],
          [
           0
          ],
          [
           0
          ],
          [
           1
          ],
          [
           1
          ],
          [
           1
          ],
          [
           0
          ],
          [
           1
          ],
          [
           1
          ],
          [
           1
          ],
          [
           1
          ],
          [
           1
          ],
          [
           1
          ],
          [
           1
          ],
          [
           0
          ],
          [
           1
          ],
          [
           1
          ],
          [
           1
          ],
          [
           1
          ],
          [
           1
          ],
          [
           1
          ],
          [
           0
          ],
          [
           1
          ],
          [
           1
          ],
          [
           0
          ],
          [
           0
          ],
          [
           0
          ],
          [
           0
          ],
          [
           1
          ],
          [
           1
          ],
          [
           0
          ],
          [
           1
          ],
          [
           1
          ],
          [
           0
          ],
          [
           1
          ],
          [
           1
          ],
          [
           0
          ],
          [
           1
          ],
          [
           1
          ],
          [
           1
          ],
          [
           1
          ],
          [
           0
          ],
          [
           1
          ],
          [
           0
          ],
          [
           0
          ],
          [
           1
          ],
          [
           1
          ],
          [
           1
          ],
          [
           1
          ],
          [
           1
          ],
          [
           1
          ],
          [
           1
          ],
          [
           0
          ],
          [
           0
          ],
          [
           1
          ],
          [
           1
          ],
          [
           1
          ],
          [
           1
          ],
          [
           1
          ],
          [
           0
          ],
          [
           1
          ],
          [
           1
          ],
          [
           0
          ],
          [
           1
          ],
          [
           0
          ],
          [
           1
          ],
          [
           0
          ],
          [
           1
          ],
          [
           0
          ],
          [
           0
          ],
          [
           1
          ],
          [
           1
          ],
          [
           1
          ],
          [
           1
          ],
          [
           1
          ],
          [
           0
          ],
          [
           1
          ],
          [
           1
          ],
          [
           1
          ],
          [
           1
          ],
          [
           1
          ],
          [
           0
          ],
          [
           1
          ],
          [
           1
          ],
          [
           1
          ],
          [
           1
          ],
          [
           0
          ],
          [
           0
          ],
          [
           1
          ],
          [
           1
          ],
          [
           1
          ],
          [
           1
          ],
          [
           1
          ],
          [
           1
          ],
          [
           1
          ],
          [
           1
          ],
          [
           0
          ],
          [
           1
          ],
          [
           1
          ],
          [
           1
          ],
          [
           1
          ],
          [
           1
          ],
          [
           1
          ],
          [
           1
          ],
          [
           1
          ],
          [
           1
          ],
          [
           1
          ],
          [
           1
          ],
          [
           1
          ],
          [
           1
          ],
          [
           1
          ],
          [
           1
          ],
          [
           1
          ],
          [
           1
          ],
          [
           1
          ],
          [
           0
          ],
          [
           1
          ],
          [
           1
          ],
          [
           0
          ],
          [
           1
          ],
          [
           1
          ],
          [
           1
          ],
          [
           1
          ],
          [
           0
          ],
          [
           1
          ],
          [
           1
          ],
          [
           1
          ],
          [
           1
          ],
          [
           1
          ],
          [
           1
          ],
          [
           1
          ],
          [
           1
          ],
          [
           1
          ],
          [
           0
          ],
          [
           1
          ],
          [
           0
          ],
          [
           0
          ],
          [
           0
          ],
          [
           1
          ],
          [
           0
          ],
          [
           1
          ],
          [
           1
          ],
          [
           0
          ],
          [
           0
          ],
          [
           1
          ],
          [
           1
          ],
          [
           1
          ],
          [
           1
          ],
          [
           1
          ],
          [
           0
          ],
          [
           1
          ],
          [
           1
          ],
          [
           1
          ],
          [
           1
          ],
          [
           1
          ],
          [
           1
          ],
          [
           1
          ],
          [
           1
          ],
          [
           1
          ],
          [
           1
          ],
          [
           0
          ],
          [
           1
          ],
          [
           1
          ],
          [
           0
          ],
          [
           1
          ],
          [
           1
          ],
          [
           0
          ],
          [
           0
          ],
          [
           0
          ],
          [
           0
          ],
          [
           1
          ],
          [
           1
          ],
          [
           1
          ],
          [
           1
          ],
          [
           1
          ],
          [
           1
          ],
          [
           1
          ],
          [
           1
          ],
          [
           1
          ],
          [
           1
          ],
          [
           0
          ],
          [
           1
          ],
          [
           1
          ],
          [
           1
          ],
          [
           1
          ],
          [
           0
          ],
          [
           0
          ],
          [
           1
          ],
          [
           1
          ],
          [
           1
          ],
          [
           1
          ],
          [
           1
          ],
          [
           0
          ],
          [
           0
          ],
          [
           1
          ],
          [
           1
          ],
          [
           1
          ],
          [
           1
          ],
          [
           0
          ],
          [
           1
          ],
          [
           1
          ],
          [
           1
          ],
          [
           1
          ],
          [
           0
          ],
          [
           1
          ],
          [
           1
          ],
          [
           1
          ],
          [
           1
          ],
          [
           0
          ],
          [
           1
          ],
          [
           1
          ],
          [
           0
          ],
          [
           1
          ],
          [
           1
          ],
          [
           0
          ],
          [
           1
          ],
          [
           0
          ],
          [
           1
          ],
          [
           0
          ],
          [
           1
          ],
          [
           1
          ],
          [
           1
          ],
          [
           1
          ],
          [
           0
          ],
          [
           0
          ],
          [
           1
          ],
          [
           1
          ],
          [
           1
          ],
          [
           0
          ],
          [
           0
          ],
          [
           1
          ],
          [
           1
          ],
          [
           1
          ],
          [
           1
          ],
          [
           0
          ],
          [
           1
          ],
          [
           1
          ],
          [
           1
          ],
          [
           1
          ],
          [
           1
          ],
          [
           1
          ],
          [
           1
          ],
          [
           1
          ],
          [
           0
          ],
          [
           1
          ],
          [
           0
          ],
          [
           1
          ],
          [
           1
          ],
          [
           1
          ],
          [
           1
          ],
          [
           1
          ],
          [
           1
          ],
          [
           1
          ],
          [
           0
          ],
          [
           0
          ],
          [
           1
          ],
          [
           1
          ],
          [
           1
          ],
          [
           1
          ],
          [
           1
          ],
          [
           1
          ],
          [
           0
          ],
          [
           1
          ],
          [
           1
          ],
          [
           0
          ],
          [
           1
          ],
          [
           0
          ],
          [
           1
          ],
          [
           0
          ],
          [
           0
          ],
          [
           1
          ],
          [
           1
          ],
          [
           1
          ],
          [
           1
          ],
          [
           1
          ],
          [
           1
          ],
          [
           1
          ],
          [
           0
          ],
          [
           1
          ],
          [
           0
          ],
          [
           1
          ],
          [
           1
          ],
          [
           1
          ],
          [
           1
          ],
          [
           0
          ],
          [
           1
          ],
          [
           1
          ],
          [
           1
          ],
          [
           1
          ],
          [
           1
          ],
          [
           1
          ],
          [
           1
          ],
          [
           0
          ],
          [
           0
          ],
          [
           1
          ],
          [
           0
          ]
         ],
         "hovertemplate": "Sex=female<br>Age=%{x}<br>Survived=%{customdata[0]}<extra></extra>",
         "legendgroup": "female",
         "marker": {
          "color": "#EF553B"
         },
         "name": "female",
         "offsetgroup": "female",
         "scalegroup": "x",
         "showlegend": false,
         "type": "violin",
         "x": [
          38,
          26,
          35,
          27,
          14,
          4,
          58,
          14,
          55,
          31,
          null,
          15,
          8,
          38,
          null,
          null,
          null,
          18,
          14,
          40,
          27,
          3,
          19,
          null,
          18,
          49,
          29,
          21,
          5,
          38,
          29,
          17,
          16,
          30,
          null,
          17,
          33,
          23,
          34,
          28,
          21,
          null,
          14.5,
          20,
          17,
          2,
          32.5,
          null,
          47,
          29,
          19,
          null,
          22,
          24,
          9,
          22,
          16,
          40,
          null,
          45,
          1,
          50,
          null,
          4,
          null,
          32,
          19,
          44,
          58,
          null,
          24,
          2,
          16,
          35,
          31,
          27,
          32,
          null,
          35,
          5,
          null,
          8,
          null,
          null,
          25,
          24,
          29,
          41,
          29,
          null,
          30,
          35,
          50,
          null,
          58,
          35,
          41,
          null,
          63,
          45,
          35,
          22,
          26,
          19,
          24,
          2,
          50,
          null,
          null,
          null,
          17,
          30,
          24,
          18,
          26,
          26,
          24,
          31,
          40,
          30,
          22,
          36,
          36,
          31,
          16,
          null,
          null,
          41,
          24,
          24,
          40,
          null,
          22,
          38,
          null,
          null,
          45,
          60,
          null,
          null,
          24,
          3,
          null,
          22,
          42,
          1,
          35,
          36,
          17,
          23,
          24,
          31,
          28,
          21,
          20,
          null,
          33,
          null,
          34,
          18,
          10,
          28,
          28,
          19,
          null,
          42,
          14,
          21,
          24,
          45,
          28,
          13,
          5,
          null,
          50,
          0.75,
          33,
          23,
          22,
          2,
          63,
          null,
          35,
          54,
          25,
          21,
          null,
          37,
          16,
          33,
          54,
          34,
          36,
          30,
          44,
          50,
          2,
          null,
          30,
          7,
          30,
          22,
          36,
          9,
          11,
          19,
          22,
          48,
          39,
          36,
          null,
          29,
          53,
          null,
          34,
          39,
          null,
          25,
          39,
          18,
          52,
          null,
          null,
          24,
          22,
          40,
          39,
          null,
          24,
          26,
          4,
          21,
          9,
          28,
          41,
          24,
          2,
          0.75,
          23,
          18,
          null,
          18,
          32,
          null,
          40,
          18,
          43,
          null,
          15,
          4,
          null,
          18,
          18,
          45,
          22,
          24,
          38,
          27,
          6,
          30,
          null,
          25,
          29,
          48,
          21,
          30,
          4,
          48,
          33,
          36,
          51,
          30.5,
          57,
          54,
          5,
          43,
          13,
          17,
          18,
          null,
          49,
          31,
          30,
          31,
          18,
          33,
          6,
          23,
          52,
          27,
          62,
          15,
          39,
          30,
          null,
          9,
          16,
          44,
          18,
          45,
          24,
          48,
          null,
          42,
          27,
          47,
          28,
          15,
          56,
          25,
          22,
          39,
          19,
          null
         ],
         "xaxis": "x2",
         "yaxis": "y2"
        }
       ],
       "layout": {
        "barmode": "group",
        "legend": {
         "title": {
          "text": "Sex"
         },
         "tracegroupgap": 0
        },
        "margin": {
         "t": 60
        },
        "template": {
         "data": {
          "bar": [
           {
            "error_x": {
             "color": "#2a3f5f"
            },
            "error_y": {
             "color": "#2a3f5f"
            },
            "marker": {
             "line": {
              "color": "#E5ECF6",
              "width": 0.5
             },
             "pattern": {
              "fillmode": "overlay",
              "size": 10,
              "solidity": 0.2
             }
            },
            "type": "bar"
           }
          ],
          "barpolar": [
           {
            "marker": {
             "line": {
              "color": "#E5ECF6",
              "width": 0.5
             },
             "pattern": {
              "fillmode": "overlay",
              "size": 10,
              "solidity": 0.2
             }
            },
            "type": "barpolar"
           }
          ],
          "carpet": [
           {
            "aaxis": {
             "endlinecolor": "#2a3f5f",
             "gridcolor": "white",
             "linecolor": "white",
             "minorgridcolor": "white",
             "startlinecolor": "#2a3f5f"
            },
            "baxis": {
             "endlinecolor": "#2a3f5f",
             "gridcolor": "white",
             "linecolor": "white",
             "minorgridcolor": "white",
             "startlinecolor": "#2a3f5f"
            },
            "type": "carpet"
           }
          ],
          "choropleth": [
           {
            "colorbar": {
             "outlinewidth": 0,
             "ticks": ""
            },
            "type": "choropleth"
           }
          ],
          "contour": [
           {
            "colorbar": {
             "outlinewidth": 0,
             "ticks": ""
            },
            "colorscale": [
             [
              0,
              "#0d0887"
             ],
             [
              0.1111111111111111,
              "#46039f"
             ],
             [
              0.2222222222222222,
              "#7201a8"
             ],
             [
              0.3333333333333333,
              "#9c179e"
             ],
             [
              0.4444444444444444,
              "#bd3786"
             ],
             [
              0.5555555555555556,
              "#d8576b"
             ],
             [
              0.6666666666666666,
              "#ed7953"
             ],
             [
              0.7777777777777778,
              "#fb9f3a"
             ],
             [
              0.8888888888888888,
              "#fdca26"
             ],
             [
              1,
              "#f0f921"
             ]
            ],
            "type": "contour"
           }
          ],
          "contourcarpet": [
           {
            "colorbar": {
             "outlinewidth": 0,
             "ticks": ""
            },
            "type": "contourcarpet"
           }
          ],
          "heatmap": [
           {
            "colorbar": {
             "outlinewidth": 0,
             "ticks": ""
            },
            "colorscale": [
             [
              0,
              "#0d0887"
             ],
             [
              0.1111111111111111,
              "#46039f"
             ],
             [
              0.2222222222222222,
              "#7201a8"
             ],
             [
              0.3333333333333333,
              "#9c179e"
             ],
             [
              0.4444444444444444,
              "#bd3786"
             ],
             [
              0.5555555555555556,
              "#d8576b"
             ],
             [
              0.6666666666666666,
              "#ed7953"
             ],
             [
              0.7777777777777778,
              "#fb9f3a"
             ],
             [
              0.8888888888888888,
              "#fdca26"
             ],
             [
              1,
              "#f0f921"
             ]
            ],
            "type": "heatmap"
           }
          ],
          "heatmapgl": [
           {
            "colorbar": {
             "outlinewidth": 0,
             "ticks": ""
            },
            "colorscale": [
             [
              0,
              "#0d0887"
             ],
             [
              0.1111111111111111,
              "#46039f"
             ],
             [
              0.2222222222222222,
              "#7201a8"
             ],
             [
              0.3333333333333333,
              "#9c179e"
             ],
             [
              0.4444444444444444,
              "#bd3786"
             ],
             [
              0.5555555555555556,
              "#d8576b"
             ],
             [
              0.6666666666666666,
              "#ed7953"
             ],
             [
              0.7777777777777778,
              "#fb9f3a"
             ],
             [
              0.8888888888888888,
              "#fdca26"
             ],
             [
              1,
              "#f0f921"
             ]
            ],
            "type": "heatmapgl"
           }
          ],
          "histogram": [
           {
            "marker": {
             "pattern": {
              "fillmode": "overlay",
              "size": 10,
              "solidity": 0.2
             }
            },
            "type": "histogram"
           }
          ],
          "histogram2d": [
           {
            "colorbar": {
             "outlinewidth": 0,
             "ticks": ""
            },
            "colorscale": [
             [
              0,
              "#0d0887"
             ],
             [
              0.1111111111111111,
              "#46039f"
             ],
             [
              0.2222222222222222,
              "#7201a8"
             ],
             [
              0.3333333333333333,
              "#9c179e"
             ],
             [
              0.4444444444444444,
              "#bd3786"
             ],
             [
              0.5555555555555556,
              "#d8576b"
             ],
             [
              0.6666666666666666,
              "#ed7953"
             ],
             [
              0.7777777777777778,
              "#fb9f3a"
             ],
             [
              0.8888888888888888,
              "#fdca26"
             ],
             [
              1,
              "#f0f921"
             ]
            ],
            "type": "histogram2d"
           }
          ],
          "histogram2dcontour": [
           {
            "colorbar": {
             "outlinewidth": 0,
             "ticks": ""
            },
            "colorscale": [
             [
              0,
              "#0d0887"
             ],
             [
              0.1111111111111111,
              "#46039f"
             ],
             [
              0.2222222222222222,
              "#7201a8"
             ],
             [
              0.3333333333333333,
              "#9c179e"
             ],
             [
              0.4444444444444444,
              "#bd3786"
             ],
             [
              0.5555555555555556,
              "#d8576b"
             ],
             [
              0.6666666666666666,
              "#ed7953"
             ],
             [
              0.7777777777777778,
              "#fb9f3a"
             ],
             [
              0.8888888888888888,
              "#fdca26"
             ],
             [
              1,
              "#f0f921"
             ]
            ],
            "type": "histogram2dcontour"
           }
          ],
          "mesh3d": [
           {
            "colorbar": {
             "outlinewidth": 0,
             "ticks": ""
            },
            "type": "mesh3d"
           }
          ],
          "parcoords": [
           {
            "line": {
             "colorbar": {
              "outlinewidth": 0,
              "ticks": ""
             }
            },
            "type": "parcoords"
           }
          ],
          "pie": [
           {
            "automargin": true,
            "type": "pie"
           }
          ],
          "scatter": [
           {
            "fillpattern": {
             "fillmode": "overlay",
             "size": 10,
             "solidity": 0.2
            },
            "type": "scatter"
           }
          ],
          "scatter3d": [
           {
            "line": {
             "colorbar": {
              "outlinewidth": 0,
              "ticks": ""
             }
            },
            "marker": {
             "colorbar": {
              "outlinewidth": 0,
              "ticks": ""
             }
            },
            "type": "scatter3d"
           }
          ],
          "scattercarpet": [
           {
            "marker": {
             "colorbar": {
              "outlinewidth": 0,
              "ticks": ""
             }
            },
            "type": "scattercarpet"
           }
          ],
          "scattergeo": [
           {
            "marker": {
             "colorbar": {
              "outlinewidth": 0,
              "ticks": ""
             }
            },
            "type": "scattergeo"
           }
          ],
          "scattergl": [
           {
            "marker": {
             "colorbar": {
              "outlinewidth": 0,
              "ticks": ""
             }
            },
            "type": "scattergl"
           }
          ],
          "scattermapbox": [
           {
            "marker": {
             "colorbar": {
              "outlinewidth": 0,
              "ticks": ""
             }
            },
            "type": "scattermapbox"
           }
          ],
          "scatterpolar": [
           {
            "marker": {
             "colorbar": {
              "outlinewidth": 0,
              "ticks": ""
             }
            },
            "type": "scatterpolar"
           }
          ],
          "scatterpolargl": [
           {
            "marker": {
             "colorbar": {
              "outlinewidth": 0,
              "ticks": ""
             }
            },
            "type": "scatterpolargl"
           }
          ],
          "scatterternary": [
           {
            "marker": {
             "colorbar": {
              "outlinewidth": 0,
              "ticks": ""
             }
            },
            "type": "scatterternary"
           }
          ],
          "surface": [
           {
            "colorbar": {
             "outlinewidth": 0,
             "ticks": ""
            },
            "colorscale": [
             [
              0,
              "#0d0887"
             ],
             [
              0.1111111111111111,
              "#46039f"
             ],
             [
              0.2222222222222222,
              "#7201a8"
             ],
             [
              0.3333333333333333,
              "#9c179e"
             ],
             [
              0.4444444444444444,
              "#bd3786"
             ],
             [
              0.5555555555555556,
              "#d8576b"
             ],
             [
              0.6666666666666666,
              "#ed7953"
             ],
             [
              0.7777777777777778,
              "#fb9f3a"
             ],
             [
              0.8888888888888888,
              "#fdca26"
             ],
             [
              1,
              "#f0f921"
             ]
            ],
            "type": "surface"
           }
          ],
          "table": [
           {
            "cells": {
             "fill": {
              "color": "#EBF0F8"
             },
             "line": {
              "color": "white"
             }
            },
            "header": {
             "fill": {
              "color": "#C8D4E3"
             },
             "line": {
              "color": "white"
             }
            },
            "type": "table"
           }
          ]
         },
         "layout": {
          "annotationdefaults": {
           "arrowcolor": "#2a3f5f",
           "arrowhead": 0,
           "arrowwidth": 1
          },
          "autotypenumbers": "strict",
          "coloraxis": {
           "colorbar": {
            "outlinewidth": 0,
            "ticks": ""
           }
          },
          "colorscale": {
           "diverging": [
            [
             0,
             "#8e0152"
            ],
            [
             0.1,
             "#c51b7d"
            ],
            [
             0.2,
             "#de77ae"
            ],
            [
             0.3,
             "#f1b6da"
            ],
            [
             0.4,
             "#fde0ef"
            ],
            [
             0.5,
             "#f7f7f7"
            ],
            [
             0.6,
             "#e6f5d0"
            ],
            [
             0.7,
             "#b8e186"
            ],
            [
             0.8,
             "#7fbc41"
            ],
            [
             0.9,
             "#4d9221"
            ],
            [
             1,
             "#276419"
            ]
           ],
           "sequential": [
            [
             0,
             "#0d0887"
            ],
            [
             0.1111111111111111,
             "#46039f"
            ],
            [
             0.2222222222222222,
             "#7201a8"
            ],
            [
             0.3333333333333333,
             "#9c179e"
            ],
            [
             0.4444444444444444,
             "#bd3786"
            ],
            [
             0.5555555555555556,
             "#d8576b"
            ],
            [
             0.6666666666666666,
             "#ed7953"
            ],
            [
             0.7777777777777778,
             "#fb9f3a"
            ],
            [
             0.8888888888888888,
             "#fdca26"
            ],
            [
             1,
             "#f0f921"
            ]
           ],
           "sequentialminus": [
            [
             0,
             "#0d0887"
            ],
            [
             0.1111111111111111,
             "#46039f"
            ],
            [
             0.2222222222222222,
             "#7201a8"
            ],
            [
             0.3333333333333333,
             "#9c179e"
            ],
            [
             0.4444444444444444,
             "#bd3786"
            ],
            [
             0.5555555555555556,
             "#d8576b"
            ],
            [
             0.6666666666666666,
             "#ed7953"
            ],
            [
             0.7777777777777778,
             "#fb9f3a"
            ],
            [
             0.8888888888888888,
             "#fdca26"
            ],
            [
             1,
             "#f0f921"
            ]
           ]
          },
          "colorway": [
           "#636efa",
           "#EF553B",
           "#00cc96",
           "#ab63fa",
           "#FFA15A",
           "#19d3f3",
           "#FF6692",
           "#B6E880",
           "#FF97FF",
           "#FECB52"
          ],
          "font": {
           "color": "#2a3f5f"
          },
          "geo": {
           "bgcolor": "white",
           "lakecolor": "white",
           "landcolor": "#E5ECF6",
           "showlakes": true,
           "showland": true,
           "subunitcolor": "white"
          },
          "hoverlabel": {
           "align": "left"
          },
          "hovermode": "closest",
          "mapbox": {
           "style": "light"
          },
          "paper_bgcolor": "white",
          "plot_bgcolor": "#E5ECF6",
          "polar": {
           "angularaxis": {
            "gridcolor": "white",
            "linecolor": "white",
            "ticks": ""
           },
           "bgcolor": "#E5ECF6",
           "radialaxis": {
            "gridcolor": "white",
            "linecolor": "white",
            "ticks": ""
           }
          },
          "scene": {
           "xaxis": {
            "backgroundcolor": "#E5ECF6",
            "gridcolor": "white",
            "gridwidth": 2,
            "linecolor": "white",
            "showbackground": true,
            "ticks": "",
            "zerolinecolor": "white"
           },
           "yaxis": {
            "backgroundcolor": "#E5ECF6",
            "gridcolor": "white",
            "gridwidth": 2,
            "linecolor": "white",
            "showbackground": true,
            "ticks": "",
            "zerolinecolor": "white"
           },
           "zaxis": {
            "backgroundcolor": "#E5ECF6",
            "gridcolor": "white",
            "gridwidth": 2,
            "linecolor": "white",
            "showbackground": true,
            "ticks": "",
            "zerolinecolor": "white"
           }
          },
          "shapedefaults": {
           "line": {
            "color": "#2a3f5f"
           }
          },
          "ternary": {
           "aaxis": {
            "gridcolor": "white",
            "linecolor": "white",
            "ticks": ""
           },
           "baxis": {
            "gridcolor": "white",
            "linecolor": "white",
            "ticks": ""
           },
           "bgcolor": "#E5ECF6",
           "caxis": {
            "gridcolor": "white",
            "linecolor": "white",
            "ticks": ""
           }
          },
          "title": {
           "x": 0.05
          },
          "xaxis": {
           "automargin": true,
           "gridcolor": "white",
           "linecolor": "white",
           "ticks": "",
           "title": {
            "standoff": 15
           },
           "zerolinecolor": "white",
           "zerolinewidth": 2
          },
          "yaxis": {
           "automargin": true,
           "gridcolor": "white",
           "linecolor": "white",
           "ticks": "",
           "title": {
            "standoff": 15
           },
           "zerolinecolor": "white",
           "zerolinewidth": 2
          }
         }
        },
        "title": {
         "text": "Survival Rate by Age and Sex"
        },
        "xaxis": {
         "anchor": "y",
         "domain": [
          0,
          1
         ],
         "title": {
          "text": "Age"
         }
        },
        "xaxis2": {
         "anchor": "y2",
         "domain": [
          0,
          1
         ],
         "matches": "x",
         "showgrid": true,
         "showticklabels": false
        },
        "yaxis": {
         "anchor": "x",
         "domain": [
          0,
          0.7326
         ],
         "title": {
          "text": "percent"
         }
        },
        "yaxis2": {
         "anchor": "x2",
         "domain": [
          0.7426,
          1
         ],
         "matches": "y2",
         "showgrid": false,
         "showline": false,
         "showticklabels": false,
         "ticks": ""
        }
       }
      }
     },
     "metadata": {},
     "output_type": "display_data"
    },
    {
     "data": {
      "application/vnd.plotly.v1+json": {
       "config": {
        "plotlyServerURL": "https://plot.ly"
       },
       "data": [
        {
         "customdata": [
          [
           1,
           3,
           "male"
          ],
          [
           3,
           3,
           "female"
          ],
          [
           4,
           1,
           "female"
          ],
          [
           5,
           3,
           "male"
          ],
          [
           7,
           1,
           "male"
          ],
          [
           8,
           3,
           "male"
          ],
          [
           9,
           3,
           "female"
          ],
          [
           11,
           3,
           "female"
          ],
          [
           12,
           1,
           "female"
          ],
          [
           13,
           3,
           "male"
          ],
          [
           14,
           3,
           "male"
          ],
          [
           15,
           3,
           "female"
          ],
          [
           16,
           2,
           "female"
          ],
          [
           18,
           2,
           "male"
          ],
          [
           19,
           3,
           "female"
          ],
          [
           21,
           2,
           "male"
          ],
          [
           22,
           2,
           "male"
          ],
          [
           24,
           1,
           "male"
          ],
          [
           25,
           3,
           "female"
          ],
          [
           26,
           3,
           "female"
          ],
          [
           28,
           1,
           "male"
          ],
          [
           30,
           3,
           "male"
          ],
          [
           34,
           2,
           "male"
          ],
          [
           36,
           1,
           "male"
          ],
          [
           38,
           3,
           "male"
          ],
          [
           39,
           3,
           "female"
          ],
          [
           41,
           3,
           "female"
          ],
          [
           42,
           2,
           "female"
          ],
          [
           46,
           3,
           "male"
          ],
          [
           50,
           3,
           "female"
          ],
          [
           51,
           3,
           "male"
          ],
          [
           52,
           3,
           "male"
          ],
          [
           54,
           2,
           "female"
          ],
          [
           56,
           1,
           "male"
          ],
          [
           57,
           2,
           "female"
          ],
          [
           59,
           2,
           "female"
          ],
          [
           60,
           3,
           "male"
          ],
          [
           63,
           1,
           "male"
          ],
          [
           64,
           3,
           "male"
          ],
          [
           67,
           2,
           "female"
          ],
          [
           68,
           3,
           "male"
          ],
          [
           69,
           3,
           "female"
          ],
          [
           70,
           3,
           "male"
          ],
          [
           71,
           2,
           "male"
          ],
          [
           72,
           3,
           "female"
          ],
          [
           73,
           2,
           "male"
          ],
          [
           75,
           3,
           "male"
          ],
          [
           76,
           3,
           "male"
          ],
          [
           77,
           3,
           "male"
          ],
          [
           78,
           3,
           "male"
          ],
          [
           79,
           2,
           "male"
          ],
          [
           80,
           3,
           "female"
          ],
          [
           81,
           3,
           "male"
          ],
          [
           82,
           3,
           "male"
          ],
          [
           84,
           1,
           "male"
          ],
          [
           85,
           2,
           "female"
          ],
          [
           86,
           3,
           "female"
          ],
          [
           87,
           3,
           "male"
          ],
          [
           88,
           3,
           "male"
          ],
          [
           89,
           1,
           "female"
          ],
          [
           90,
           3,
           "male"
          ],
          [
           91,
           3,
           "male"
          ],
          [
           92,
           3,
           "male"
          ],
          [
           93,
           1,
           "male"
          ],
          [
           94,
           3,
           "male"
          ],
          [
           95,
           3,
           "male"
          ],
          [
           96,
           3,
           "male"
          ],
          [
           99,
           2,
           "female"
          ],
          [
           100,
           2,
           "male"
          ],
          [
           101,
           3,
           "female"
          ],
          [
           102,
           3,
           "male"
          ],
          [
           103,
           1,
           "male"
          ],
          [
           104,
           3,
           "male"
          ],
          [
           105,
           3,
           "male"
          ],
          [
           106,
           3,
           "male"
          ],
          [
           107,
           3,
           "female"
          ],
          [
           108,
           3,
           "male"
          ],
          [
           109,
           3,
           "male"
          ],
          [
           111,
           1,
           "male"
          ],
          [
           113,
           3,
           "male"
          ],
          [
           114,
           3,
           "female"
          ],
          [
           116,
           3,
           "male"
          ],
          [
           118,
           2,
           "male"
          ],
          [
           120,
           3,
           "female"
          ],
          [
           121,
           2,
           "male"
          ],
          [
           122,
           3,
           "male"
          ],
          [
           124,
           2,
           "female"
          ],
          [
           125,
           1,
           "male"
          ],
          [
           128,
           3,
           "male"
          ],
          [
           130,
           3,
           "male"
          ],
          [
           132,
           3,
           "male"
          ],
          [
           133,
           3,
           "female"
          ],
          [
           134,
           2,
           "female"
          ],
          [
           135,
           2,
           "male"
          ],
          [
           137,
           1,
           "female"
          ],
          [
           138,
           1,
           "male"
          ],
          [
           139,
           3,
           "male"
          ],
          [
           142,
           3,
           "female"
          ],
          [
           143,
           3,
           "female"
          ],
          [
           145,
           2,
           "male"
          ],
          [
           146,
           2,
           "male"
          ],
          [
           147,
           3,
           "male"
          ],
          [
           148,
           3,
           "female"
          ],
          [
           149,
           2,
           "male"
          ],
          [
           150,
           2,
           "male"
          ],
          [
           151,
           2,
           "male"
          ],
          [
           152,
           1,
           "female"
          ],
          [
           153,
           3,
           "male"
          ],
          [
           154,
           3,
           "male"
          ],
          [
           155,
           3,
           "male"
          ],
          [
           158,
           3,
           "male"
          ],
          [
           159,
           3,
           "male"
          ],
          [
           160,
           3,
           "male"
          ],
          [
           161,
           3,
           "male"
          ],
          [
           162,
           2,
           "female"
          ],
          [
           163,
           3,
           "male"
          ],
          [
           164,
           3,
           "male"
          ],
          [
           165,
           3,
           "male"
          ],
          [
           166,
           3,
           "male"
          ],
          [
           167,
           1,
           "female"
          ],
          [
           168,
           3,
           "female"
          ],
          [
           169,
           1,
           "male"
          ],
          [
           170,
           3,
           "male"
          ],
          [
           171,
           1,
           "male"
          ],
          [
           173,
           3,
           "female"
          ],
          [
           174,
           3,
           "male"
          ],
          [
           176,
           3,
           "male"
          ],
          [
           177,
           3,
           "male"
          ],
          [
           179,
           2,
           "male"
          ],
          [
           180,
           3,
           "male"
          ],
          [
           181,
           3,
           "female"
          ],
          [
           183,
           3,
           "male"
          ],
          [
           184,
           2,
           "male"
          ],
          [
           185,
           3,
           "female"
          ],
          [
           186,
           1,
           "male"
          ],
          [
           188,
           1,
           "male"
          ],
          [
           190,
           3,
           "male"
          ],
          [
           191,
           2,
           "female"
          ],
          [
           192,
           2,
           "male"
          ],
          [
           193,
           3,
           "female"
          ],
          [
           194,
           2,
           "male"
          ],
          [
           198,
           3,
           "male"
          ],
          [
           200,
           2,
           "female"
          ],
          [
           201,
           3,
           "male"
          ],
          [
           202,
           3,
           "male"
          ],
          [
           203,
           3,
           "male"
          ],
          [
           205,
           3,
           "male"
          ],
          [
           206,
           3,
           "female"
          ],
          [
           207,
           3,
           "male"
          ],
          [
           211,
           3,
           "male"
          ],
          [
           212,
           2,
           "female"
          ],
          [
           213,
           3,
           "male"
          ],
          [
           214,
           2,
           "male"
          ],
          [
           217,
           3,
           "female"
          ],
          [
           218,
           2,
           "male"
          ],
          [
           220,
           2,
           "male"
          ],
          [
           221,
           3,
           "male"
          ],
          [
           222,
           2,
           "male"
          ],
          [
           223,
           3,
           "male"
          ],
          [
           224,
           3,
           "male"
          ],
          [
           225,
           1,
           "male"
          ],
          [
           226,
           3,
           "male"
          ],
          [
           227,
           2,
           "male"
          ],
          [
           228,
           3,
           "male"
          ],
          [
           229,
           2,
           "male"
          ],
          [
           230,
           3,
           "female"
          ],
          [
           231,
           1,
           "female"
          ],
          [
           232,
           3,
           "male"
          ],
          [
           233,
           2,
           "male"
          ],
          [
           234,
           3,
           "female"
          ],
          [
           235,
           2,
           "male"
          ],
          [
           236,
           3,
           "female"
          ],
          [
           237,
           2,
           "male"
          ],
          [
           238,
           2,
           "female"
          ],
          [
           239,
           2,
           "male"
          ],
          [
           240,
           2,
           "male"
          ],
          [
           243,
           2,
           "male"
          ],
          [
           244,
           3,
           "male"
          ],
          [
           247,
           3,
           "female"
          ],
          [
           248,
           2,
           "female"
          ],
          [
           249,
           1,
           "male"
          ],
          [
           250,
           2,
           "male"
          ],
          [
           251,
           3,
           "male"
          ],
          [
           252,
           3,
           "female"
          ],
          [
           253,
           1,
           "male"
          ],
          [
           254,
           3,
           "male"
          ],
          [
           255,
           3,
           "female"
          ],
          [
           258,
           1,
           "female"
          ],
          [
           260,
           2,
           "female"
          ],
          [
           262,
           3,
           "male"
          ],
          [
           263,
           1,
           "male"
          ],
          [
           264,
           1,
           "male"
          ],
          [
           266,
           2,
           "male"
          ],
          [
           267,
           3,
           "male"
          ],
          [
           268,
           3,
           "male"
          ],
          [
           269,
           1,
           "female"
          ],
          [
           270,
           1,
           "female"
          ],
          [
           271,
           1,
           "male"
          ],
          [
           272,
           3,
           "male"
          ],
          [
           273,
           2,
           "female"
          ],
          [
           276,
           1,
           "female"
          ],
          [
           277,
           3,
           "female"
          ],
          [
           278,
           2,
           "male"
          ],
          [
           280,
           3,
           "female"
          ],
          [
           282,
           3,
           "male"
          ],
          [
           283,
           3,
           "male"
          ],
          [
           284,
           3,
           "male"
          ],
          [
           285,
           1,
           "male"
          ],
          [
           287,
           3,
           "male"
          ],
          [
           288,
           3,
           "male"
          ],
          [
           289,
           2,
           "male"
          ],
          [
           291,
           1,
           "female"
          ],
          [
           294,
           3,
           "female"
          ],
          [
           295,
           3,
           "male"
          ],
          [
           298,
           1,
           "female"
          ],
          [
           299,
           1,
           "male"
          ],
          [
           303,
           3,
           "male"
          ],
          [
           305,
           3,
           "male"
          ],
          [
           306,
           1,
           "male"
          ],
          [
           313,
           2,
           "female"
          ],
          [
           314,
           3,
           "male"
          ],
          [
           315,
           2,
           "male"
          ],
          [
           316,
           3,
           "female"
          ],
          [
           317,
           2,
           "female"
          ],
          [
           318,
           2,
           "male"
          ],
          [
           319,
           1,
           "female"
          ],
          [
           321,
           3,
           "male"
          ],
          [
           322,
           3,
           "male"
          ],
          [
           324,
           2,
           "female"
          ],
          [
           325,
           3,
           "male"
          ],
          [
           327,
           3,
           "male"
          ],
          [
           328,
           2,
           "female"
          ],
          [
           329,
           3,
           "female"
          ],
          [
           332,
           1,
           "male"
          ],
          [
           333,
           1,
           "male"
          ],
          [
           334,
           3,
           "male"
          ],
          [
           335,
           1,
           "female"
          ],
          [
           336,
           3,
           "male"
          ],
          [
           337,
           1,
           "male"
          ],
          [
           339,
           3,
           "male"
          ],
          [
           340,
           1,
           "male"
          ],
          [
           341,
           2,
           "male"
          ],
          [
           342,
           1,
           "female"
          ],
          [
           343,
           2,
           "male"
          ],
          [
           344,
           2,
           "male"
          ],
          [
           345,
           2,
           "male"
          ],
          [
           346,
           2,
           "female"
          ],
          [
           347,
           2,
           "female"
          ],
          [
           348,
           3,
           "female"
          ],
          [
           349,
           3,
           "male"
          ],
          [
           350,
           3,
           "male"
          ],
          [
           351,
           3,
           "male"
          ],
          [
           352,
           1,
           "male"
          ],
          [
           354,
           3,
           "male"
          ],
          [
           356,
           3,
           "male"
          ],
          [
           357,
           1,
           "female"
          ],
          [
           358,
           2,
           "female"
          ],
          [
           361,
           3,
           "male"
          ],
          [
           364,
           3,
           "male"
          ],
          [
           366,
           3,
           "male"
          ],
          [
           372,
           3,
           "male"
          ],
          [
           373,
           3,
           "male"
          ],
          [
           375,
           3,
           "female"
          ],
          [
           377,
           3,
           "female"
          ],
          [
           380,
           3,
           "male"
          ],
          [
           383,
           3,
           "male"
          ],
          [
           384,
           1,
           "female"
          ],
          [
           385,
           3,
           "male"
          ],
          [
           386,
           2,
           "male"
          ],
          [
           387,
           3,
           "male"
          ],
          [
           388,
           2,
           "female"
          ],
          [
           391,
           1,
           "male"
          ],
          [
           392,
           3,
           "male"
          ],
          [
           393,
           3,
           "male"
          ],
          [
           395,
           3,
           "female"
          ],
          [
           396,
           3,
           "male"
          ],
          [
           397,
           3,
           "female"
          ],
          [
           398,
           2,
           "male"
          ],
          [
           399,
           2,
           "male"
          ],
          [
           400,
           2,
           "female"
          ],
          [
           401,
           3,
           "male"
          ],
          [
           402,
           3,
           "male"
          ],
          [
           403,
           3,
           "female"
          ],
          [
           404,
           3,
           "male"
          ],
          [
           405,
           3,
           "female"
          ],
          [
           406,
           2,
           "male"
          ],
          [
           407,
           3,
           "male"
          ],
          [
           408,
           2,
           "male"
          ],
          [
           409,
           3,
           "male"
          ],
          [
           410,
           3,
           "female"
          ],
          [
           411,
           3,
           "male"
          ],
          [
           414,
           2,
           "male"
          ],
          [
           415,
           3,
           "male"
          ],
          [
           416,
           3,
           "female"
          ],
          [
           417,
           2,
           "female"
          ],
          [
           418,
           2,
           "female"
          ],
          [
           419,
           2,
           "male"
          ],
          [
           420,
           3,
           "female"
          ],
          [
           423,
           3,
           "male"
          ],
          [
           424,
           3,
           "female"
          ],
          [
           425,
           3,
           "male"
          ],
          [
           426,
           3,
           "male"
          ],
          [
           427,
           2,
           "female"
          ],
          [
           428,
           2,
           "female"
          ],
          [
           430,
           3,
           "male"
          ],
          [
           431,
           1,
           "male"
          ],
          [
           432,
           3,
           "female"
          ],
          [
           433,
           2,
           "female"
          ],
          [
           434,
           3,
           "male"
          ],
          [
           435,
           1,
           "male"
          ],
          [
           436,
           1,
           "female"
          ],
          [
           437,
           3,
           "female"
          ],
          [
           438,
           2,
           "female"
          ],
          [
           439,
           1,
           "male"
          ],
          [
           440,
           2,
           "male"
          ],
          [
           441,
           2,
           "female"
          ],
          [
           442,
           3,
           "male"
          ],
          [
           443,
           3,
           "male"
          ],
          [
           444,
           2,
           "female"
          ],
          [
           445,
           3,
           "male"
          ],
          [
           446,
           1,
           "male"
          ],
          [
           447,
           2,
           "female"
          ],
          [
           448,
           1,
           "male"
          ],
          [
           450,
           1,
           "male"
          ],
          [
           451,
           2,
           "male"
          ],
          [
           452,
           3,
           "male"
          ],
          [
           455,
           3,
           "male"
          ],
          [
           457,
           1,
           "male"
          ],
          [
           458,
           1,
           "female"
          ],
          [
           459,
           2,
           "female"
          ],
          [
           461,
           1,
           "male"
          ],
          [
           462,
           3,
           "male"
          ],
          [
           463,
           1,
           "male"
          ],
          [
           464,
           2,
           "male"
          ],
          [
           465,
           3,
           "male"
          ],
          [
           466,
           3,
           "male"
          ],
          [
           467,
           2,
           "male"
          ],
          [
           468,
           1,
           "male"
          ],
          [
           471,
           3,
           "male"
          ],
          [
           472,
           3,
           "male"
          ],
          [
           473,
           2,
           "female"
          ],
          [
           475,
           3,
           "female"
          ],
          [
           476,
           1,
           "male"
          ],
          [
           477,
           2,
           "male"
          ],
          [
           478,
           3,
           "male"
          ],
          [
           479,
           3,
           "male"
          ],
          [
           480,
           3,
           "female"
          ],
          [
           481,
           3,
           "male"
          ],
          [
           482,
           2,
           "male"
          ],
          [
           483,
           3,
           "male"
          ],
          [
           484,
           3,
           "female"
          ],
          [
           486,
           3,
           "female"
          ],
          [
           487,
           1,
           "female"
          ],
          [
           489,
           3,
           "male"
          ],
          [
           490,
           3,
           "male"
          ],
          [
           491,
           3,
           "male"
          ],
          [
           492,
           3,
           "male"
          ],
          [
           493,
           1,
           "male"
          ],
          [
           495,
           3,
           "male"
          ],
          [
           498,
           3,
           "male"
          ],
          [
           499,
           1,
           "female"
          ],
          [
           500,
           3,
           "male"
          ],
          [
           501,
           3,
           "male"
          ],
          [
           504,
           3,
           "female"
          ],
          [
           505,
           1,
           "female"
          ],
          [
           507,
           2,
           "female"
          ],
          [
           508,
           1,
           "male"
          ],
          [
           509,
           3,
           "male"
          ],
          [
           510,
           3,
           "male"
          ],
          [
           512,
           3,
           "male"
          ],
          [
           513,
           1,
           "male"
          ],
          [
           515,
           3,
           "male"
          ],
          [
           516,
           1,
           "male"
          ],
          [
           517,
           2,
           "female"
          ],
          [
           519,
           2,
           "female"
          ],
          [
           520,
           3,
           "male"
          ],
          [
           521,
           1,
           "female"
          ],
          [
           522,
           3,
           "male"
          ],
          [
           527,
           2,
           "female"
          ],
          [
           528,
           1,
           "male"
          ],
          [
           529,
           3,
           "male"
          ],
          [
           530,
           2,
           "male"
          ],
          [
           531,
           2,
           "female"
          ],
          [
           535,
           3,
           "female"
          ],
          [
           536,
           2,
           "female"
          ],
          [
           537,
           1,
           "male"
          ],
          [
           539,
           3,
           "male"
          ],
          [
           541,
           1,
           "female"
          ],
          [
           542,
           3,
           "female"
          ],
          [
           543,
           3,
           "female"
          ],
          [
           544,
           2,
           "male"
          ],
          [
           546,
           1,
           "male"
          ],
          [
           547,
           2,
           "female"
          ],
          [
           549,
           3,
           "male"
          ],
          [
           550,
           2,
           "male"
          ],
          [
           552,
           2,
           "male"
          ],
          [
           555,
           3,
           "female"
          ],
          [
           556,
           1,
           "male"
          ],
          [
           559,
           1,
           "female"
          ],
          [
           560,
           3,
           "female"
          ],
          [
           562,
           3,
           "male"
          ],
          [
           563,
           2,
           "male"
          ],
          [
           564,
           3,
           "male"
          ],
          [
           565,
           3,
           "female"
          ],
          [
           566,
           3,
           "male"
          ],
          [
           567,
           3,
           "male"
          ],
          [
           568,
           3,
           "female"
          ],
          [
           570,
           3,
           "male"
          ],
          [
           571,
           2,
           "male"
          ],
          [
           572,
           1,
           "female"
          ],
          [
           573,
           1,
           "male"
          ],
          [
           575,
           3,
           "male"
          ],
          [
           576,
           3,
           "male"
          ],
          [
           577,
           2,
           "female"
          ],
          [
           578,
           1,
           "female"
          ],
          [
           580,
           3,
           "male"
          ],
          [
           581,
           2,
           "female"
          ],
          [
           583,
           2,
           "male"
          ],
          [
           586,
           1,
           "female"
          ],
          [
           587,
           2,
           "male"
          ],
          [
           589,
           3,
           "male"
          ],
          [
           590,
           3,
           "male"
          ],
          [
           591,
           3,
           "male"
          ],
          [
           593,
           3,
           "male"
          ],
          [
           595,
           2,
           "male"
          ],
          [
           596,
           3,
           "male"
          ],
          [
           597,
           2,
           "female"
          ],
          [
           598,
           3,
           "male"
          ],
          [
           601,
           2,
           "female"
          ],
          [
           602,
           3,
           "male"
          ],
          [
           603,
           1,
           "male"
          ],
          [
           604,
           3,
           "male"
          ],
          [
           606,
           3,
           "male"
          ],
          [
           607,
           3,
           "male"
          ],
          [
           608,
           1,
           "male"
          ],
          [
           610,
           1,
           "female"
          ],
          [
           611,
           3,
           "female"
          ],
          [
           612,
           3,
           "male"
          ],
          [
           615,
           3,
           "male"
          ],
          [
           616,
           2,
           "female"
          ],
          [
           617,
           3,
           "male"
          ],
          [
           618,
           3,
           "female"
          ],
          [
           619,
           2,
           "female"
          ],
          [
           620,
           2,
           "male"
          ],
          [
           622,
           1,
           "male"
          ],
          [
           624,
           3,
           "male"
          ],
          [
           625,
           3,
           "male"
          ],
          [
           626,
           1,
           "male"
          ],
          [
           628,
           1,
           "female"
          ],
          [
           629,
           3,
           "male"
          ],
          [
           631,
           1,
           "male"
          ],
          [
           632,
           3,
           "male"
          ],
          [
           634,
           1,
           "male"
          ],
          [
           635,
           3,
           "female"
          ],
          [
           636,
           2,
           "female"
          ],
          [
           637,
           3,
           "male"
          ],
          [
           638,
           2,
           "male"
          ],
          [
           639,
           3,
           "female"
          ],
          [
           640,
           3,
           "male"
          ],
          [
           641,
           3,
           "male"
          ],
          [
           643,
           3,
           "female"
          ],
          [
           644,
           3,
           "male"
          ],
          [
           647,
           3,
           "male"
          ],
          [
           649,
           3,
           "male"
          ],
          [
           650,
           3,
           "female"
          ],
          [
           651,
           3,
           "male"
          ],
          [
           652,
           2,
           "female"
          ],
          [
           653,
           3,
           "male"
          ],
          [
           656,
           2,
           "male"
          ],
          [
           657,
           3,
           "male"
          ],
          [
           659,
           2,
           "male"
          ],
          [
           661,
           1,
           "male"
          ],
          [
           663,
           1,
           "male"
          ],
          [
           664,
           3,
           "male"
          ],
          [
           665,
           3,
           "male"
          ],
          [
           666,
           2,
           "male"
          ],
          [
           667,
           2,
           "male"
          ],
          [
           668,
           3,
           "male"
          ],
          [
           669,
           3,
           "male"
          ],
          [
           670,
           1,
           "female"
          ],
          [
           671,
           2,
           "female"
          ],
          [
           672,
           1,
           "male"
          ],
          [
           673,
           2,
           "male"
          ],
          [
           674,
           2,
           "male"
          ],
          [
           675,
           2,
           "male"
          ],
          [
           676,
           3,
           "male"
          ],
          [
           677,
           3,
           "male"
          ],
          [
           678,
           3,
           "female"
          ],
          [
           679,
           3,
           "female"
          ],
          [
           683,
           3,
           "male"
          ],
          [
           684,
           3,
           "male"
          ],
          [
           685,
           2,
           "male"
          ],
          [
           687,
           3,
           "male"
          ],
          [
           688,
           3,
           "male"
          ],
          [
           689,
           3,
           "male"
          ],
          [
           690,
           1,
           "female"
          ],
          [
           691,
           1,
           "male"
          ],
          [
           693,
           3,
           "male"
          ],
          [
           695,
           1,
           "male"
          ],
          [
           696,
           2,
           "male"
          ],
          [
           697,
           3,
           "male"
          ],
          [
           700,
           3,
           "male"
          ],
          [
           702,
           1,
           "male"
          ],
          [
           705,
           3,
           "male"
          ],
          [
           706,
           2,
           "male"
          ],
          [
           707,
           2,
           "female"
          ],
          [
           708,
           1,
           "male"
          ],
          [
           709,
           1,
           "female"
          ],
          [
           712,
           1,
           "male"
          ],
          [
           713,
           1,
           "male"
          ],
          [
           714,
           3,
           "male"
          ],
          [
           715,
           2,
           "male"
          ],
          [
           716,
           3,
           "male"
          ],
          [
           718,
           2,
           "female"
          ],
          [
           720,
           3,
           "male"
          ],
          [
           721,
           2,
           "female"
          ],
          [
           722,
           3,
           "male"
          ],
          [
           723,
           2,
           "male"
          ],
          [
           724,
           2,
           "male"
          ],
          [
           725,
           1,
           "male"
          ],
          [
           726,
           3,
           "male"
          ],
          [
           727,
           2,
           "female"
          ],
          [
           729,
           2,
           "male"
          ],
          [
           730,
           3,
           "female"
          ],
          [
           731,
           1,
           "female"
          ],
          [
           733,
           2,
           "male"
          ],
          [
           734,
           2,
           "male"
          ],
          [
           735,
           2,
           "male"
          ],
          [
           736,
           3,
           "male"
          ],
          [
           737,
           3,
           "female"
          ],
          [
           739,
           3,
           "male"
          ],
          [
           740,
           3,
           "male"
          ],
          [
           741,
           1,
           "male"
          ],
          [
           742,
           1,
           "male"
          ],
          [
           744,
           3,
           "male"
          ],
          [
           745,
           3,
           "male"
          ],
          [
           746,
           1,
           "male"
          ],
          [
           747,
           3,
           "male"
          ],
          [
           748,
           2,
           "female"
          ],
          [
           749,
           1,
           "male"
          ],
          [
           751,
           2,
           "female"
          ],
          [
           752,
           3,
           "male"
          ],
          [
           753,
           3,
           "male"
          ],
          [
           754,
           3,
           "male"
          ],
          [
           755,
           2,
           "female"
          ],
          [
           756,
           2,
           "male"
          ],
          [
           757,
           3,
           "male"
          ],
          [
           758,
           2,
           "male"
          ],
          [
           759,
           3,
           "male"
          ],
          [
           760,
           1,
           "female"
          ],
          [
           761,
           3,
           "male"
          ],
          [
           762,
           3,
           "male"
          ],
          [
           764,
           1,
           "female"
          ],
          [
           765,
           3,
           "male"
          ],
          [
           766,
           1,
           "female"
          ],
          [
           770,
           3,
           "male"
          ],
          [
           771,
           3,
           "male"
          ],
          [
           772,
           3,
           "male"
          ],
          [
           773,
           2,
           "female"
          ],
          [
           775,
           2,
           "female"
          ],
          [
           776,
           3,
           "male"
          ],
          [
           778,
           3,
           "female"
          ],
          [
           780,
           1,
           "female"
          ],
          [
           782,
           1,
           "female"
          ],
          [
           783,
           1,
           "male"
          ],
          [
           784,
           3,
           "male"
          ],
          [
           785,
           3,
           "male"
          ],
          [
           786,
           3,
           "male"
          ],
          [
           787,
           3,
           "female"
          ],
          [
           789,
           3,
           "male"
          ],
          [
           792,
           2,
           "male"
          ],
          [
           793,
           3,
           "female"
          ],
          [
           795,
           3,
           "male"
          ],
          [
           796,
           2,
           "male"
          ],
          [
           797,
           1,
           "female"
          ],
          [
           798,
           3,
           "female"
          ],
          [
           800,
           3,
           "female"
          ],
          [
           801,
           2,
           "male"
          ],
          [
           802,
           2,
           "female"
          ],
          [
           803,
           1,
           "male"
          ],
          [
           805,
           3,
           "male"
          ],
          [
           806,
           3,
           "male"
          ],
          [
           807,
           1,
           "male"
          ],
          [
           808,
           3,
           "female"
          ],
          [
           809,
           2,
           "male"
          ],
          [
           810,
           1,
           "female"
          ],
          [
           811,
           3,
           "male"
          ],
          [
           812,
           3,
           "male"
          ],
          [
           813,
           2,
           "male"
          ],
          [
           814,
           3,
           "female"
          ],
          [
           815,
           3,
           "male"
          ],
          [
           816,
           1,
           "male"
          ],
          [
           817,
           3,
           "female"
          ],
          [
           819,
           3,
           "male"
          ],
          [
           820,
           3,
           "male"
          ],
          [
           821,
           1,
           "female"
          ],
          [
           822,
           3,
           "male"
          ],
          [
           823,
           1,
           "male"
          ],
          [
           824,
           3,
           "female"
          ],
          [
           825,
           3,
           "male"
          ],
          [
           827,
           3,
           "male"
          ],
          [
           832,
           2,
           "male"
          ],
          [
           834,
           3,
           "male"
          ],
          [
           835,
           3,
           "male"
          ],
          [
           837,
           3,
           "male"
          ],
          [
           838,
           3,
           "male"
          ],
          [
           839,
           3,
           "male"
          ],
          [
           841,
           3,
           "male"
          ],
          [
           842,
           2,
           "male"
          ],
          [
           845,
           3,
           "male"
          ],
          [
           846,
           3,
           "male"
          ],
          [
           847,
           3,
           "male"
          ],
          [
           849,
           2,
           "male"
          ],
          [
           851,
           3,
           "male"
          ],
          [
           852,
           3,
           "male"
          ],
          [
           854,
           1,
           "female"
          ],
          [
           855,
           2,
           "female"
          ],
          [
           856,
           3,
           "female"
          ],
          [
           857,
           1,
           "female"
          ],
          [
           858,
           1,
           "male"
          ],
          [
           861,
           3,
           "male"
          ],
          [
           862,
           2,
           "male"
          ],
          [
           863,
           1,
           "female"
          ],
          [
           864,
           3,
           "female"
          ],
          [
           865,
           2,
           "male"
          ],
          [
           866,
           2,
           "female"
          ],
          [
           868,
           1,
           "male"
          ],
          [
           869,
           3,
           "male"
          ],
          [
           870,
           3,
           "male"
          ],
          [
           871,
           3,
           "male"
          ],
          [
           872,
           1,
           "female"
          ],
          [
           873,
           1,
           "male"
          ],
          [
           874,
           3,
           "male"
          ],
          [
           877,
           3,
           "male"
          ],
          [
           878,
           3,
           "male"
          ],
          [
           879,
           3,
           "male"
          ],
          [
           881,
           2,
           "female"
          ],
          [
           882,
           3,
           "male"
          ],
          [
           883,
           3,
           "female"
          ],
          [
           884,
           2,
           "male"
          ],
          [
           885,
           3,
           "male"
          ],
          [
           887,
           2,
           "male"
          ],
          [
           888,
           1,
           "female"
          ],
          [
           889,
           3,
           "female"
          ]
         ],
         "hovertemplate": "Embarked=S<br>Fare=%{marker.size}<br>Survived=%{y}<br>PassengerId=%{customdata[0]}<br>Pclass=%{customdata[1]}<br>Sex=%{customdata[2]}<extra></extra>",
         "legendgroup": "S",
         "marker": {
          "color": "#636efa",
          "size": [
           7.25,
           7.925,
           53.1,
           8.05,
           51.8625,
           21.075,
           11.1333,
           16.7,
           26.55,
           8.05,
           31.275,
           7.8542,
           16,
           13,
           18,
           26,
           13,
           35.5,
           21.075,
           31.3875,
           263,
           7.8958,
           10.5,
           52,
           8.05,
           18,
           9.475,
           21,
           8.05,
           17.8,
           39.6875,
           7.8,
           26,
           35.5,
           10.5,
           27.75,
           46.9,
           83.475,
           27.9,
           10.5,
           8.1583,
           7.925,
           8.6625,
           10.5,
           46.9,
           73.5,
           56.4958,
           7.65,
           7.8958,
           8.05,
           29,
           12.475,
           9,
           9.5,
           47.1,
           10.5,
           15.85,
           34.375,
           8.05,
           263,
           8.05,
           8.05,
           7.8542,
           61.175,
           20.575,
           7.25,
           8.05,
           23,
           26,
           7.8958,
           7.8958,
           77.2875,
           8.6542,
           7.925,
           7.8958,
           7.65,
           7.775,
           7.8958,
           52,
           8.05,
           9.825,
           7.925,
           21,
           31.275,
           73.5,
           8.05,
           13,
           77.2875,
           7.1417,
           6.975,
           7.05,
           14.5,
           26,
           13,
           26.2833,
           53.1,
           9.2167,
           7.75,
           15.85,
           11.5,
           36.75,
           7.7958,
           34.375,
           26,
           13,
           12.525,
           66.6,
           8.05,
           14.5,
           7.3125,
           8.05,
           8.6625,
           69.55,
           16.1,
           15.75,
           7.775,
           8.6625,
           39.6875,
           20.525,
           55,
           27.9,
           25.925,
           56.4958,
           33.5,
           11.1333,
           7.925,
           7.8542,
           25.4667,
           13,
           0,
           69.55,
           31.3875,
           39,
           22.025,
           50,
           26.55,
           7.8958,
           13,
           13,
           7.8542,
           26,
           8.4042,
           13,
           9.5,
           69.55,
           6.4958,
           8.05,
           10.4625,
           15.85,
           7.05,
           21,
           7.25,
           13,
           7.925,
           27,
           10.5,
           8.05,
           13,
           8.05,
           7.8958,
           90,
           9.35,
           10.5,
           7.25,
           13,
           25.4667,
           83.475,
           7.775,
           13.5,
           31.3875,
           10.5,
           7.55,
           26,
           26.25,
           10.5,
           12.275,
           10.5,
           7.125,
           7.775,
           14.5,
           52.5542,
           26,
           7.25,
           10.4625,
           26.55,
           16.1,
           20.2125,
           86.5,
           26,
           31.3875,
           79.65,
           0,
           10.5,
           39.6875,
           7.775,
           153.4625,
           135.6333,
           31,
           0,
           19.5,
           77.9583,
           7.75,
           0,
           20.25,
           7.8542,
           9.5,
           8.05,
           26,
           9.5,
           7.8958,
           13,
           78.85,
           8.85,
           7.8958,
           151.55,
           30.5,
           0,
           8.05,
           151.55,
           26,
           7.8958,
           26.25,
           7.8542,
           26,
           14,
           164.8667,
           7.25,
           7.8958,
           29,
           69.55,
           6.2375,
           13,
           20.525,
           28.5,
           153.4625,
           18,
           133.65,
           7.8958,
           66.6,
           8.05,
           35.5,
           26,
           263,
           13,
           13,
           13,
           13,
           13,
           16.1,
           15.9,
           8.6625,
           9.225,
           35,
           17.8,
           9.5,
           55,
           13,
           27.9,
           7.05,
           7.25,
           6.4958,
           8.05,
           21.075,
           7.25,
           7.775,
           7.925,
           52,
           7.8958,
           73.5,
           46.9,
           13,
           120,
           7.7958,
           7.925,
           16.7,
           7.7958,
           7.8542,
           26,
           10.5,
           12.65,
           7.925,
           8.05,
           9.825,
           15.85,
           8.6625,
           21,
           7.75,
           18.75,
           7.775,
           25.4667,
           7.8958,
           0,
           7.925,
           8.05,
           32.5,
           13,
           13,
           24.15,
           7.875,
           14.4,
           20.2125,
           7.25,
           26,
           26,
           8.05,
           26.55,
           16.1,
           26,
           7.125,
           55.9,
           120,
           34.375,
           18.75,
           263,
           10.5,
           26.25,
           9.5,
           7.775,
           13,
           8.1125,
           81.8583,
           19.5,
           26.55,
           30.5,
           27.75,
           19.9667,
           8.05,
           26.55,
           51.8625,
           10.5,
           26.55,
           8.05,
           38.5,
           13,
           8.05,
           7.05,
           0,
           26.55,
           7.25,
           8.6625,
           27.75,
           9.8375,
           52,
           21,
           7.0458,
           7.5208,
           12.2875,
           46.9,
           0,
           8.05,
           9.5875,
           25.4667,
           90,
           8.05,
           15.9,
           19.9667,
           7.25,
           30.5,
           8.05,
           15.1,
           151.55,
           7.7958,
           8.6625,
           9.5875,
           86.5,
           26,
           26.55,
           22.525,
           56.4958,
           8.05,
           26.2875,
           7.4958,
           34.0208,
           10.5,
           26,
           7.8958,
           93.5,
           7.8958,
           10.5,
           221.7792,
           7.925,
           11.5,
           26,
           8.6625,
           26.25,
           26.55,
           14.5,
           71,
           31.275,
           31.275,
           26,
           26,
           26,
           20.525,
           36.75,
           26,
           7.775,
           26.55,
           79.65,
           17.4,
           7.8958,
           13.5,
           8.05,
           8.05,
           24.15,
           7.8958,
           21.075,
           7.8542,
           10.5,
           51.4792,
           26.3875,
           8.05,
           14.5,
           13,
           55.9,
           7.925,
           30,
           26,
           79.65,
           15,
           8.05,
           8.05,
           7.125,
           7.25,
           26,
           24.15,
           33,
           0,
           27,
           7.8958,
           42.4,
           8.05,
           15.55,
           7.8958,
           30.5,
           153.4625,
           31.275,
           7.05,
           8.05,
           65,
           14.4,
           16.1,
           39,
           10.5,
           52.5542,
           7.8542,
           16.1,
           32.3208,
           77.9583,
           7.8958,
           30,
           7.0542,
           0,
           27.9,
           13,
           7.925,
           26.25,
           39.6875,
           16.1,
           7.8542,
           27.9,
           56.4958,
           7.8958,
           7.55,
           7.55,
           7.8958,
           23,
           8.4333,
           73.5,
           7.8958,
           13,
           133.65,
           25.5875,
           7.4958,
           7.925,
           73.5,
           13,
           7.775,
           8.05,
           52,
           39,
           52,
           10.5,
           13,
           0,
           7.775,
           8.05,
           9.8417,
           46.9,
           9.225,
           46.9,
           39,
           39.6875,
           10.1708,
           7.7958,
           211.3375,
           57,
           56.4958,
           26.55,
           13.5,
           8.05,
           7.65,
           26.2875,
           7.8542,
           26,
           13.5,
           26.2875,
           151.55,
           26.55,
           52,
           9.4833,
           13,
           7.65,
           10.5,
           7.775,
           33,
           7.0542,
           13,
           13,
           53.1,
           8.6625,
           21,
           26,
           7.925,
           211.3375,
           0,
           13,
           13,
           16.1,
           34.375,
           7.8958,
           7.8958,
           30,
           78.85,
           16.1,
           7.925,
           71,
           20.25,
           13,
           53.1,
           23,
           12.475,
           9.5,
           7.8958,
           65,
           14.5,
           7.7958,
           11.5,
           8.05,
           86.5,
           14.5,
           7.125,
           120,
           7.775,
           77.9583,
           8.3625,
           9.5,
           7.8542,
           10.5,
           23,
           7.75,
           12.475,
           211.3375,
           57,
           30,
           23.45,
           7.05,
           7.25,
           7.4958,
           20.575,
           26,
           69.55,
           7.8958,
           13,
           25.9292,
           8.6833,
           24.15,
           13,
           26.25,
           120,
           6.975,
           7.775,
           0,
           7.775,
           13,
           53.1,
           7.8875,
           24.15,
           10.5,
           31.275,
           8.05,
           0,
           7.925,
           6.45,
           27.9,
           93.5,
           8.6625,
           0,
           12.475,
           39.6875,
           56.4958,
           18.75,
           7.8542,
           8.3,
           8.6625,
           8.05,
           56.4958,
           7.925,
           10.5,
           8.6625,
           7.55,
           69.55,
           33,
           31.275,
           7.775,
           39.4,
           26,
           9.35,
           164.8667,
           26.55,
           14.1083,
           11.5,
           25.9292,
           69.55,
           13,
           13,
           50.4958,
           9.5,
           11.1333,
           7.8958,
           52.5542,
           5,
           9,
           9.8458,
           7.8958,
           7.8958,
           26,
           7.8958,
           10.5167,
           10.5,
           7.05,
           13,
           30,
           23.45
          ],
          "sizemode": "area",
          "sizeref": 1.280823,
          "symbol": "circle"
         },
         "mode": "markers",
         "name": "S",
         "orientation": "v",
         "showlegend": true,
         "type": "scatter",
         "x": [
          7.25,
          7.925,
          53.1,
          8.05,
          51.8625,
          21.075,
          11.1333,
          16.7,
          26.55,
          8.05,
          31.275,
          7.8542,
          16,
          13,
          18,
          26,
          13,
          35.5,
          21.075,
          31.3875,
          263,
          7.8958,
          10.5,
          52,
          8.05,
          18,
          9.475,
          21,
          8.05,
          17.8,
          39.6875,
          7.8,
          26,
          35.5,
          10.5,
          27.75,
          46.9,
          83.475,
          27.9,
          10.5,
          8.1583,
          7.925,
          8.6625,
          10.5,
          46.9,
          73.5,
          56.4958,
          7.65,
          7.8958,
          8.05,
          29,
          12.475,
          9,
          9.5,
          47.1,
          10.5,
          15.85,
          34.375,
          8.05,
          263,
          8.05,
          8.05,
          7.8542,
          61.175,
          20.575,
          7.25,
          8.05,
          23,
          26,
          7.8958,
          7.8958,
          77.2875,
          8.6542,
          7.925,
          7.8958,
          7.65,
          7.775,
          7.8958,
          52,
          8.05,
          9.825,
          7.925,
          21,
          31.275,
          73.5,
          8.05,
          13,
          77.2875,
          7.1417,
          6.975,
          7.05,
          14.5,
          26,
          13,
          26.2833,
          53.1,
          9.2167,
          7.75,
          15.85,
          11.5,
          36.75,
          7.7958,
          34.375,
          26,
          13,
          12.525,
          66.6,
          8.05,
          14.5,
          7.3125,
          8.05,
          8.6625,
          69.55,
          16.1,
          15.75,
          7.775,
          8.6625,
          39.6875,
          20.525,
          55,
          27.9,
          25.925,
          56.4958,
          33.5,
          11.1333,
          7.925,
          7.8542,
          25.4667,
          13,
          0,
          69.55,
          31.3875,
          39,
          22.025,
          50,
          26.55,
          7.8958,
          13,
          13,
          7.8542,
          26,
          8.4042,
          13,
          9.5,
          69.55,
          6.4958,
          8.05,
          10.4625,
          15.85,
          7.05,
          21,
          7.25,
          13,
          7.925,
          27,
          10.5,
          8.05,
          13,
          8.05,
          7.8958,
          90,
          9.35,
          10.5,
          7.25,
          13,
          25.4667,
          83.475,
          7.775,
          13.5,
          31.3875,
          10.5,
          7.55,
          26,
          26.25,
          10.5,
          12.275,
          10.5,
          7.125,
          7.775,
          14.5,
          52.5542,
          26,
          7.25,
          10.4625,
          26.55,
          16.1,
          20.2125,
          86.5,
          26,
          31.3875,
          79.65,
          0,
          10.5,
          39.6875,
          7.775,
          153.4625,
          135.6333,
          31,
          0,
          19.5,
          77.9583,
          7.75,
          0,
          20.25,
          7.8542,
          9.5,
          8.05,
          26,
          9.5,
          7.8958,
          13,
          78.85,
          8.85,
          7.8958,
          151.55,
          30.5,
          0,
          8.05,
          151.55,
          26,
          7.8958,
          26.25,
          7.8542,
          26,
          14,
          164.8667,
          7.25,
          7.8958,
          29,
          69.55,
          6.2375,
          13,
          20.525,
          28.5,
          153.4625,
          18,
          133.65,
          7.8958,
          66.6,
          8.05,
          35.5,
          26,
          263,
          13,
          13,
          13,
          13,
          13,
          16.1,
          15.9,
          8.6625,
          9.225,
          35,
          17.8,
          9.5,
          55,
          13,
          27.9,
          7.05,
          7.25,
          6.4958,
          8.05,
          21.075,
          7.25,
          7.775,
          7.925,
          52,
          7.8958,
          73.5,
          46.9,
          13,
          120,
          7.7958,
          7.925,
          16.7,
          7.7958,
          7.8542,
          26,
          10.5,
          12.65,
          7.925,
          8.05,
          9.825,
          15.85,
          8.6625,
          21,
          7.75,
          18.75,
          7.775,
          25.4667,
          7.8958,
          0,
          7.925,
          8.05,
          32.5,
          13,
          13,
          24.15,
          7.875,
          14.4,
          20.2125,
          7.25,
          26,
          26,
          8.05,
          26.55,
          16.1,
          26,
          7.125,
          55.9,
          120,
          34.375,
          18.75,
          263,
          10.5,
          26.25,
          9.5,
          7.775,
          13,
          8.1125,
          81.8583,
          19.5,
          26.55,
          30.5,
          27.75,
          19.9667,
          8.05,
          26.55,
          51.8625,
          10.5,
          26.55,
          8.05,
          38.5,
          13,
          8.05,
          7.05,
          0,
          26.55,
          7.25,
          8.6625,
          27.75,
          9.8375,
          52,
          21,
          7.0458,
          7.5208,
          12.2875,
          46.9,
          0,
          8.05,
          9.5875,
          25.4667,
          90,
          8.05,
          15.9,
          19.9667,
          7.25,
          30.5,
          8.05,
          15.1,
          151.55,
          7.7958,
          8.6625,
          9.5875,
          86.5,
          26,
          26.55,
          22.525,
          56.4958,
          8.05,
          26.2875,
          7.4958,
          34.0208,
          10.5,
          26,
          7.8958,
          93.5,
          7.8958,
          10.5,
          221.7792,
          7.925,
          11.5,
          26,
          8.6625,
          26.25,
          26.55,
          14.5,
          71,
          31.275,
          31.275,
          26,
          26,
          26,
          20.525,
          36.75,
          26,
          7.775,
          26.55,
          79.65,
          17.4,
          7.8958,
          13.5,
          8.05,
          8.05,
          24.15,
          7.8958,
          21.075,
          7.8542,
          10.5,
          51.4792,
          26.3875,
          8.05,
          14.5,
          13,
          55.9,
          7.925,
          30,
          26,
          79.65,
          15,
          8.05,
          8.05,
          7.125,
          7.25,
          26,
          24.15,
          33,
          0,
          27,
          7.8958,
          42.4,
          8.05,
          15.55,
          7.8958,
          30.5,
          153.4625,
          31.275,
          7.05,
          8.05,
          65,
          14.4,
          16.1,
          39,
          10.5,
          52.5542,
          7.8542,
          16.1,
          32.3208,
          77.9583,
          7.8958,
          30,
          7.0542,
          0,
          27.9,
          13,
          7.925,
          26.25,
          39.6875,
          16.1,
          7.8542,
          27.9,
          56.4958,
          7.8958,
          7.55,
          7.55,
          7.8958,
          23,
          8.4333,
          73.5,
          7.8958,
          13,
          133.65,
          25.5875,
          7.4958,
          7.925,
          73.5,
          13,
          7.775,
          8.05,
          52,
          39,
          52,
          10.5,
          13,
          0,
          7.775,
          8.05,
          9.8417,
          46.9,
          9.225,
          46.9,
          39,
          39.6875,
          10.1708,
          7.7958,
          211.3375,
          57,
          56.4958,
          26.55,
          13.5,
          8.05,
          7.65,
          26.2875,
          7.8542,
          26,
          13.5,
          26.2875,
          151.55,
          26.55,
          52,
          9.4833,
          13,
          7.65,
          10.5,
          7.775,
          33,
          7.0542,
          13,
          13,
          53.1,
          8.6625,
          21,
          26,
          7.925,
          211.3375,
          0,
          13,
          13,
          16.1,
          34.375,
          7.8958,
          7.8958,
          30,
          78.85,
          16.1,
          7.925,
          71,
          20.25,
          13,
          53.1,
          23,
          12.475,
          9.5,
          7.8958,
          65,
          14.5,
          7.7958,
          11.5,
          8.05,
          86.5,
          14.5,
          7.125,
          120,
          7.775,
          77.9583,
          8.3625,
          9.5,
          7.8542,
          10.5,
          23,
          7.75,
          12.475,
          211.3375,
          57,
          30,
          23.45,
          7.05,
          7.25,
          7.4958,
          20.575,
          26,
          69.55,
          7.8958,
          13,
          25.9292,
          8.6833,
          24.15,
          13,
          26.25,
          120,
          6.975,
          7.775,
          0,
          7.775,
          13,
          53.1,
          7.8875,
          24.15,
          10.5,
          31.275,
          8.05,
          0,
          7.925,
          6.45,
          27.9,
          93.5,
          8.6625,
          0,
          12.475,
          39.6875,
          56.4958,
          18.75,
          7.8542,
          8.3,
          8.6625,
          8.05,
          56.4958,
          7.925,
          10.5,
          8.6625,
          7.55,
          69.55,
          33,
          31.275,
          7.775,
          39.4,
          26,
          9.35,
          164.8667,
          26.55,
          14.1083,
          11.5,
          25.9292,
          69.55,
          13,
          13,
          50.4958,
          9.5,
          11.1333,
          7.8958,
          52.5542,
          5,
          9,
          9.8458,
          7.8958,
          7.8958,
          26,
          7.8958,
          10.5167,
          10.5,
          7.05,
          13,
          30,
          23.45
         ],
         "xaxis": "x",
         "y": [
          0,
          1,
          1,
          0,
          0,
          0,
          1,
          1,
          1,
          0,
          0,
          0,
          1,
          1,
          0,
          0,
          1,
          1,
          0,
          1,
          0,
          0,
          0,
          0,
          0,
          0,
          0,
          0,
          0,
          0,
          0,
          0,
          1,
          1,
          1,
          1,
          0,
          0,
          0,
          1,
          0,
          1,
          0,
          0,
          0,
          0,
          1,
          0,
          0,
          0,
          1,
          1,
          0,
          1,
          0,
          1,
          1,
          0,
          0,
          1,
          0,
          0,
          0,
          0,
          0,
          0,
          0,
          1,
          0,
          0,
          0,
          0,
          0,
          0,
          0,
          1,
          1,
          0,
          0,
          0,
          0,
          0,
          0,
          0,
          0,
          0,
          1,
          0,
          1,
          0,
          0,
          0,
          1,
          0,
          1,
          0,
          0,
          1,
          1,
          0,
          0,
          1,
          0,
          0,
          0,
          0,
          1,
          0,
          0,
          0,
          0,
          0,
          0,
          0,
          1,
          0,
          0,
          0,
          1,
          1,
          0,
          0,
          0,
          0,
          1,
          0,
          0,
          0,
          0,
          0,
          0,
          0,
          1,
          1,
          0,
          1,
          0,
          1,
          0,
          1,
          1,
          0,
          0,
          0,
          0,
          0,
          1,
          0,
          0,
          0,
          1,
          0,
          0,
          1,
          0,
          0,
          1,
          0,
          0,
          0,
          1,
          0,
          1,
          0,
          0,
          0,
          1,
          0,
          0,
          1,
          0,
          0,
          0,
          1,
          0,
          0,
          0,
          0,
          0,
          1,
          1,
          0,
          0,
          0,
          0,
          0,
          0,
          1,
          1,
          1,
          0,
          0,
          0,
          0,
          1,
          1,
          1,
          0,
          1,
          1,
          1,
          0,
          0,
          1,
          0,
          0,
          1,
          0,
          1,
          0,
          1,
          1,
          0,
          0,
          0,
          1,
          0,
          0,
          1,
          0,
          0,
          0,
          1,
          1,
          0,
          1,
          0,
          0,
          1,
          0,
          0,
          1,
          1,
          0,
          0,
          0,
          1,
          0,
          0,
          1,
          0,
          1,
          1,
          0,
          0,
          0,
          1,
          1,
          1,
          1,
          0,
          0,
          0,
          0,
          0,
          1,
          0,
          0,
          0,
          0,
          0,
          0,
          0,
          1,
          0,
          0,
          1,
          0,
          0,
          0,
          1,
          1,
          1,
          0,
          1,
          0,
          0,
          0,
          0,
          1,
          1,
          0,
          0,
          0,
          0,
          0,
          0,
          1,
          0,
          0,
          0,
          0,
          1,
          0,
          1,
          1,
          0,
          0,
          0,
          0,
          0,
          0,
          1,
          1,
          1,
          1,
          1,
          1,
          0,
          0,
          1,
          0,
          1,
          0,
          0,
          1,
          0,
          0,
          1,
          1,
          1,
          1,
          1,
          1,
          0,
          0,
          0,
          0,
          1,
          1,
          1,
          0,
          0,
          0,
          0,
          0,
          0,
          0,
          0,
          0,
          1,
          0,
          0,
          0,
          0,
          0,
          1,
          0,
          0,
          0,
          1,
          0,
          1,
          0,
          1,
          0,
          0,
          0,
          0,
          0,
          0,
          0,
          0,
          0,
          1,
          1,
          1,
          0,
          1,
          0,
          1,
          0,
          0,
          1,
          1,
          0,
          1,
          0,
          1,
          0,
          0,
          0,
          1,
          0,
          1,
          0,
          0,
          1,
          0,
          0,
          1,
          0,
          1,
          0,
          1,
          0,
          1,
          0,
          1,
          1,
          0,
          0,
          0,
          0,
          0,
          0,
          0,
          1,
          1,
          1,
          1,
          0,
          0,
          1,
          1,
          1,
          1,
          0,
          1,
          0,
          0,
          0,
          0,
          0,
          0,
          0,
          1,
          0,
          1,
          0,
          0,
          0,
          0,
          0,
          1,
          1,
          0,
          0,
          0,
          1,
          0,
          0,
          1,
          0,
          1,
          0,
          0,
          0,
          1,
          0,
          1,
          0,
          0,
          0,
          1,
          0,
          0,
          0,
          0,
          0,
          0,
          1,
          0,
          0,
          1,
          0,
          1,
          0,
          0,
          0,
          0,
          1,
          0,
          0,
          1,
          0,
          0,
          0,
          0,
          1,
          1,
          0,
          0,
          1,
          0,
          0,
          0,
          1,
          0,
          0,
          0,
          0,
          0,
          0,
          0,
          1,
          1,
          1,
          0,
          0,
          0,
          0,
          1,
          0,
          0,
          1,
          1,
          1,
          0,
          1,
          0,
          0,
          0,
          1,
          0,
          1,
          0,
          0,
          0,
          1,
          0,
          1,
          0,
          0,
          1,
          0,
          0,
          0,
          0,
          0,
          0,
          0,
          1,
          0,
          0,
          1,
          0,
          0,
          1,
          0,
          1,
          1,
          0,
          0,
          1,
          1,
          0,
          0,
          0,
          1,
          0,
          0,
          1,
          0,
          1,
          0,
          0,
          0,
          0,
          1,
          0,
          1,
          1,
          1,
          0,
          0,
          0,
          0,
          1,
          1,
          0,
          0,
          0,
          0,
          1,
          1,
          0,
          0,
          1,
          1,
          1,
          0,
          0,
          0,
          0,
          1,
          0,
          0,
          0,
          0,
          0,
          0,
          0,
          0,
          0,
          1,
          1,
          0,
          1,
          0,
          0,
          1,
          0,
          0,
          0,
          0,
          1,
          0,
          0,
          0,
          0,
          0,
          0,
          0,
          0,
          1,
          0,
          1,
          1,
          1,
          0,
          0,
          1,
          0,
          0,
          1,
          0,
          0,
          1,
          0,
          1,
          0,
          0,
          0,
          0,
          0,
          1,
          0,
          0,
          0,
          0,
          0,
          1,
          0
         ],
         "yaxis": "y"
        },
        {
         "customdata": [
          [
           2,
           1,
           "female"
          ],
          [
           10,
           2,
           "female"
          ],
          [
           20,
           3,
           "female"
          ],
          [
           27,
           3,
           "male"
          ],
          [
           31,
           1,
           "male"
          ],
          [
           32,
           1,
           "female"
          ],
          [
           35,
           1,
           "male"
          ],
          [
           37,
           3,
           "male"
          ],
          [
           40,
           3,
           "female"
          ],
          [
           43,
           3,
           "male"
          ],
          [
           44,
           2,
           "female"
          ],
          [
           49,
           3,
           "male"
          ],
          [
           53,
           1,
           "female"
          ],
          [
           55,
           1,
           "male"
          ],
          [
           58,
           3,
           "male"
          ],
          [
           61,
           3,
           "male"
          ],
          [
           65,
           1,
           "male"
          ],
          [
           66,
           3,
           "male"
          ],
          [
           74,
           3,
           "male"
          ],
          [
           97,
           1,
           "male"
          ],
          [
           98,
           1,
           "male"
          ],
          [
           112,
           3,
           "female"
          ],
          [
           115,
           3,
           "female"
          ],
          [
           119,
           1,
           "male"
          ],
          [
           123,
           2,
           "male"
          ],
          [
           126,
           3,
           "male"
          ],
          [
           129,
           3,
           "female"
          ],
          [
           131,
           3,
           "male"
          ],
          [
           136,
           2,
           "male"
          ],
          [
           140,
           1,
           "male"
          ],
          [
           141,
           3,
           "female"
          ],
          [
           156,
           1,
           "male"
          ],
          [
           175,
           1,
           "male"
          ],
          [
           178,
           1,
           "female"
          ],
          [
           182,
           2,
           "male"
          ],
          [
           195,
           1,
           "female"
          ],
          [
           196,
           1,
           "female"
          ],
          [
           204,
           3,
           "male"
          ],
          [
           208,
           3,
           "male"
          ],
          [
           210,
           1,
           "male"
          ],
          [
           216,
           1,
           "female"
          ],
          [
           219,
           1,
           "female"
          ],
          [
           241,
           3,
           "female"
          ],
          [
           245,
           3,
           "male"
          ],
          [
           256,
           3,
           "female"
          ],
          [
           257,
           1,
           "female"
          ],
          [
           259,
           1,
           "female"
          ],
          [
           274,
           1,
           "male"
          ],
          [
           286,
           3,
           "male"
          ],
          [
           292,
           1,
           "female"
          ],
          [
           293,
           2,
           "male"
          ],
          [
           296,
           1,
           "male"
          ],
          [
           297,
           3,
           "male"
          ],
          [
           300,
           1,
           "female"
          ],
          [
           307,
           1,
           "female"
          ],
          [
           308,
           1,
           "female"
          ],
          [
           309,
           2,
           "male"
          ],
          [
           310,
           1,
           "female"
          ],
          [
           311,
           1,
           "female"
          ],
          [
           312,
           1,
           "female"
          ],
          [
           320,
           1,
           "female"
          ],
          [
           326,
           1,
           "female"
          ],
          [
           330,
           1,
           "female"
          ],
          [
           338,
           1,
           "female"
          ],
          [
           353,
           3,
           "male"
          ],
          [
           355,
           3,
           "male"
          ],
          [
           362,
           2,
           "male"
          ],
          [
           363,
           3,
           "female"
          ],
          [
           367,
           1,
           "female"
          ],
          [
           368,
           3,
           "female"
          ],
          [
           370,
           1,
           "female"
          ],
          [
           371,
           1,
           "male"
          ],
          [
           374,
           1,
           "male"
          ],
          [
           376,
           1,
           "female"
          ],
          [
           378,
           1,
           "male"
          ],
          [
           379,
           3,
           "male"
          ],
          [
           381,
           1,
           "female"
          ],
          [
           382,
           3,
           "female"
          ],
          [
           390,
           2,
           "female"
          ],
          [
           394,
           1,
           "female"
          ],
          [
           421,
           3,
           "male"
          ],
          [
           449,
           3,
           "female"
          ],
          [
           453,
           1,
           "male"
          ],
          [
           454,
           1,
           "male"
          ],
          [
           456,
           3,
           "male"
          ],
          [
           470,
           3,
           "female"
          ],
          [
           474,
           2,
           "female"
          ],
          [
           485,
           1,
           "male"
          ],
          [
           488,
           1,
           "male"
          ],
          [
           494,
           1,
           "male"
          ],
          [
           496,
           3,
           "male"
          ],
          [
           497,
           1,
           "female"
          ],
          [
           506,
           1,
           "male"
          ],
          [
           514,
           1,
           "female"
          ],
          [
           523,
           3,
           "male"
          ],
          [
           524,
           1,
           "female"
          ],
          [
           525,
           3,
           "male"
          ],
          [
           532,
           3,
           "male"
          ],
          [
           533,
           3,
           "male"
          ],
          [
           534,
           3,
           "female"
          ],
          [
           538,
           1,
           "female"
          ],
          [
           540,
           1,
           "female"
          ],
          [
           545,
           1,
           "male"
          ],
          [
           548,
           2,
           "male"
          ],
          [
           551,
           1,
           "male"
          ],
          [
           554,
           3,
           "male"
          ],
          [
           557,
           1,
           "female"
          ],
          [
           558,
           1,
           "male"
          ],
          [
           569,
           3,
           "male"
          ],
          [
           579,
           3,
           "female"
          ],
          [
           582,
           1,
           "female"
          ],
          [
           584,
           1,
           "male"
          ],
          [
           585,
           3,
           "male"
          ],
          [
           588,
           1,
           "male"
          ],
          [
           592,
           1,
           "female"
          ],
          [
           599,
           3,
           "male"
          ],
          [
           600,
           1,
           "male"
          ],
          [
           605,
           1,
           "male"
          ],
          [
           609,
           2,
           "female"
          ],
          [
           621,
           3,
           "male"
          ],
          [
           623,
           3,
           "male"
          ],
          [
           633,
           1,
           "male"
          ],
          [
           642,
           1,
           "female"
          ],
          [
           645,
           3,
           "female"
          ],
          [
           646,
           1,
           "male"
          ],
          [
           648,
           1,
           "male"
          ],
          [
           660,
           1,
           "male"
          ],
          [
           662,
           3,
           "male"
          ],
          [
           680,
           1,
           "male"
          ],
          [
           682,
           1,
           "male"
          ],
          [
           686,
           2,
           "male"
          ],
          [
           692,
           3,
           "female"
          ],
          [
           694,
           3,
           "male"
          ],
          [
           699,
           1,
           "male"
          ],
          [
           701,
           1,
           "female"
          ],
          [
           703,
           3,
           "female"
          ],
          [
           710,
           3,
           "male"
          ],
          [
           711,
           1,
           "female"
          ],
          [
           717,
           1,
           "female"
          ],
          [
           732,
           3,
           "male"
          ],
          [
           738,
           1,
           "male"
          ],
          [
           743,
           1,
           "female"
          ],
          [
           763,
           3,
           "male"
          ],
          [
           767,
           1,
           "male"
          ],
          [
           774,
           3,
           "male"
          ],
          [
           781,
           3,
           "female"
          ],
          [
           790,
           1,
           "male"
          ],
          [
           794,
           1,
           "male"
          ],
          [
           799,
           3,
           "male"
          ],
          [
           804,
           3,
           "male"
          ],
          [
           818,
           2,
           "male"
          ],
          [
           828,
           2,
           "male"
          ],
          [
           831,
           3,
           "female"
          ],
          [
           833,
           3,
           "male"
          ],
          [
           836,
           1,
           "female"
          ],
          [
           840,
           1,
           "male"
          ],
          [
           843,
           1,
           "female"
          ],
          [
           844,
           3,
           "male"
          ],
          [
           848,
           3,
           "male"
          ],
          [
           850,
           1,
           "female"
          ],
          [
           853,
           3,
           "female"
          ],
          [
           859,
           3,
           "female"
          ],
          [
           860,
           3,
           "male"
          ],
          [
           867,
           2,
           "female"
          ],
          [
           875,
           2,
           "female"
          ],
          [
           876,
           3,
           "female"
          ],
          [
           880,
           1,
           "female"
          ],
          [
           890,
           1,
           "male"
          ]
         ],
         "hovertemplate": "Embarked=C<br>Fare=%{marker.size}<br>Survived=%{y}<br>PassengerId=%{customdata[0]}<br>Pclass=%{customdata[1]}<br>Sex=%{customdata[2]}<extra></extra>",
         "legendgroup": "C",
         "marker": {
          "color": "#EF553B",
          "size": [
           71.2833,
           30.0708,
           7.225,
           7.225,
           27.7208,
           146.5208,
           82.1708,
           7.2292,
           11.2417,
           7.8958,
           41.5792,
           21.6792,
           76.7292,
           61.9792,
           7.2292,
           7.2292,
           27.7208,
           15.2458,
           14.4542,
           34.6542,
           63.3583,
           14.4542,
           14.4583,
           247.5208,
           30.0708,
           11.2417,
           22.3583,
           7.8958,
           15.0458,
           79.2,
           15.2458,
           61.3792,
           30.6958,
           28.7125,
           15.05,
           27.7208,
           146.5208,
           7.225,
           18.7875,
           31,
           113.275,
           76.2917,
           14.4542,
           7.225,
           15.2458,
           79.2,
           512.3292,
           29.7,
           8.6625,
           91.0792,
           12.875,
           27.7208,
           7.2292,
           247.5208,
           110.8833,
           108.9,
           24,
           56.9292,
           83.1583,
           262.375,
           134.5,
           135.6333,
           57.9792,
           134.5,
           7.2292,
           7.225,
           27.7208,
           14.4542,
           75.25,
           7.2292,
           69.3,
           55.4417,
           135.6333,
           82.1708,
           211.5,
           4.0125,
           227.525,
           15.7417,
           12,
           113.275,
           7.8958,
           19.2583,
           27.75,
           89.1042,
           7.8958,
           19.2583,
           13.7917,
           91.0792,
           29.7,
           49.5042,
           14.4583,
           78.2667,
           108.9,
           59.4,
           7.225,
           57.9792,
           7.2292,
           7.2292,
           7.2292,
           22.3583,
           106.425,
           49.5,
           106.425,
           13.8625,
           110.8833,
           7.225,
           39.6,
           227.525,
           7.2292,
           14.4583,
           110.8833,
           40.125,
           8.7125,
           79.2,
           78.2667,
           7.225,
           56.9292,
           26.55,
           41.5792,
           14.4542,
           15.7417,
           30.5,
           69.3,
           19.2583,
           76.7292,
           35.5,
           113.275,
           7.225,
           512.3292,
           76.7292,
           41.5792,
           13.4167,
           7.225,
           110.8833,
           227.525,
           14.4542,
           15.2458,
           49.5042,
           227.525,
           18.7875,
           512.3292,
           262.375,
           7.2292,
           39.6,
           7.225,
           7.2292,
           79.2,
           30.6958,
           7.2292,
           8.5167,
           37.0042,
           37.0042,
           14.4542,
           7.2292,
           83.1583,
           29.7,
           31,
           6.4375,
           7.8958,
           89.1042,
           15.2458,
           19.2583,
           7.2292,
           13.8583,
           24,
           7.225,
           83.1583,
           30
          ],
          "sizemode": "area",
          "sizeref": 1.280823,
          "symbol": "circle"
         },
         "mode": "markers",
         "name": "C",
         "orientation": "v",
         "showlegend": true,
         "type": "scatter",
         "x": [
          71.2833,
          30.0708,
          7.225,
          7.225,
          27.7208,
          146.5208,
          82.1708,
          7.2292,
          11.2417,
          7.8958,
          41.5792,
          21.6792,
          76.7292,
          61.9792,
          7.2292,
          7.2292,
          27.7208,
          15.2458,
          14.4542,
          34.6542,
          63.3583,
          14.4542,
          14.4583,
          247.5208,
          30.0708,
          11.2417,
          22.3583,
          7.8958,
          15.0458,
          79.2,
          15.2458,
          61.3792,
          30.6958,
          28.7125,
          15.05,
          27.7208,
          146.5208,
          7.225,
          18.7875,
          31,
          113.275,
          76.2917,
          14.4542,
          7.225,
          15.2458,
          79.2,
          512.3292,
          29.7,
          8.6625,
          91.0792,
          12.875,
          27.7208,
          7.2292,
          247.5208,
          110.8833,
          108.9,
          24,
          56.9292,
          83.1583,
          262.375,
          134.5,
          135.6333,
          57.9792,
          134.5,
          7.2292,
          7.225,
          27.7208,
          14.4542,
          75.25,
          7.2292,
          69.3,
          55.4417,
          135.6333,
          82.1708,
          211.5,
          4.0125,
          227.525,
          15.7417,
          12,
          113.275,
          7.8958,
          19.2583,
          27.75,
          89.1042,
          7.8958,
          19.2583,
          13.7917,
          91.0792,
          29.7,
          49.5042,
          14.4583,
          78.2667,
          108.9,
          59.4,
          7.225,
          57.9792,
          7.2292,
          7.2292,
          7.2292,
          22.3583,
          106.425,
          49.5,
          106.425,
          13.8625,
          110.8833,
          7.225,
          39.6,
          227.525,
          7.2292,
          14.4583,
          110.8833,
          40.125,
          8.7125,
          79.2,
          78.2667,
          7.225,
          56.9292,
          26.55,
          41.5792,
          14.4542,
          15.7417,
          30.5,
          69.3,
          19.2583,
          76.7292,
          35.5,
          113.275,
          7.225,
          512.3292,
          76.7292,
          41.5792,
          13.4167,
          7.225,
          110.8833,
          227.525,
          14.4542,
          15.2458,
          49.5042,
          227.525,
          18.7875,
          512.3292,
          262.375,
          7.2292,
          39.6,
          7.225,
          7.2292,
          79.2,
          30.6958,
          7.2292,
          8.5167,
          37.0042,
          37.0042,
          14.4542,
          7.2292,
          83.1583,
          29.7,
          31,
          6.4375,
          7.8958,
          89.1042,
          15.2458,
          19.2583,
          7.2292,
          13.8583,
          24,
          7.225,
          83.1583,
          30
         ],
         "xaxis": "x",
         "y": [
          1,
          1,
          1,
          0,
          0,
          1,
          0,
          1,
          1,
          0,
          1,
          0,
          1,
          0,
          0,
          0,
          0,
          1,
          0,
          0,
          1,
          0,
          0,
          0,
          0,
          1,
          1,
          0,
          0,
          0,
          0,
          0,
          0,
          0,
          0,
          1,
          1,
          0,
          1,
          1,
          1,
          1,
          0,
          0,
          1,
          1,
          1,
          0,
          0,
          1,
          0,
          0,
          0,
          1,
          1,
          1,
          0,
          1,
          1,
          1,
          1,
          1,
          1,
          1,
          0,
          0,
          0,
          0,
          1,
          1,
          1,
          1,
          0,
          1,
          0,
          0,
          1,
          1,
          1,
          1,
          0,
          1,
          0,
          1,
          1,
          1,
          1,
          1,
          0,
          0,
          0,
          1,
          0,
          1,
          0,
          1,
          0,
          0,
          0,
          1,
          1,
          1,
          0,
          1,
          1,
          1,
          1,
          0,
          0,
          0,
          1,
          0,
          0,
          1,
          1,
          0,
          1,
          1,
          1,
          0,
          1,
          1,
          1,
          1,
          1,
          1,
          0,
          0,
          1,
          1,
          0,
          1,
          0,
          0,
          1,
          0,
          1,
          1,
          1,
          0,
          1,
          1,
          1,
          0,
          0,
          1,
          0,
          0,
          0,
          1,
          0,
          1,
          1,
          0,
          1,
          1,
          1,
          0,
          0,
          1,
          0,
          1,
          0,
          1,
          1,
          1,
          1,
          1
         ],
         "yaxis": "y"
        },
        {
         "customdata": [
          [
           6,
           3,
           "male"
          ],
          [
           17,
           3,
           "male"
          ],
          [
           23,
           3,
           "female"
          ],
          [
           29,
           3,
           "female"
          ],
          [
           33,
           3,
           "female"
          ],
          [
           45,
           3,
           "female"
          ],
          [
           47,
           3,
           "male"
          ],
          [
           48,
           3,
           "female"
          ],
          [
           83,
           3,
           "female"
          ],
          [
           110,
           3,
           "female"
          ],
          [
           117,
           3,
           "male"
          ],
          [
           127,
           3,
           "male"
          ],
          [
           144,
           3,
           "male"
          ],
          [
           157,
           3,
           "female"
          ],
          [
           172,
           3,
           "male"
          ],
          [
           187,
           3,
           "female"
          ],
          [
           189,
           3,
           "male"
          ],
          [
           197,
           3,
           "male"
          ],
          [
           199,
           3,
           "female"
          ],
          [
           209,
           3,
           "female"
          ],
          [
           215,
           3,
           "male"
          ],
          [
           242,
           3,
           "female"
          ],
          [
           246,
           1,
           "male"
          ],
          [
           261,
           3,
           "male"
          ],
          [
           265,
           3,
           "female"
          ],
          [
           275,
           3,
           "female"
          ],
          [
           279,
           3,
           "male"
          ],
          [
           281,
           3,
           "male"
          ],
          [
           290,
           3,
           "female"
          ],
          [
           301,
           3,
           "female"
          ],
          [
           302,
           3,
           "male"
          ],
          [
           304,
           2,
           "female"
          ],
          [
           323,
           2,
           "female"
          ],
          [
           331,
           3,
           "female"
          ],
          [
           359,
           3,
           "female"
          ],
          [
           360,
           3,
           "female"
          ],
          [
           365,
           3,
           "male"
          ],
          [
           369,
           3,
           "female"
          ],
          [
           389,
           3,
           "male"
          ],
          [
           412,
           3,
           "male"
          ],
          [
           413,
           1,
           "female"
          ],
          [
           422,
           3,
           "male"
          ],
          [
           429,
           3,
           "male"
          ],
          [
           460,
           3,
           "male"
          ],
          [
           469,
           3,
           "male"
          ],
          [
           502,
           3,
           "female"
          ],
          [
           503,
           3,
           "female"
          ],
          [
           511,
           3,
           "male"
          ],
          [
           518,
           3,
           "male"
          ],
          [
           526,
           3,
           "male"
          ],
          [
           553,
           3,
           "male"
          ],
          [
           561,
           3,
           "male"
          ],
          [
           574,
           3,
           "female"
          ],
          [
           594,
           3,
           "female"
          ],
          [
           613,
           3,
           "female"
          ],
          [
           614,
           3,
           "male"
          ],
          [
           627,
           2,
           "male"
          ],
          [
           630,
           3,
           "male"
          ],
          [
           654,
           3,
           "female"
          ],
          [
           655,
           3,
           "female"
          ],
          [
           658,
           3,
           "female"
          ],
          [
           681,
           3,
           "female"
          ],
          [
           698,
           3,
           "female"
          ],
          [
           704,
           3,
           "male"
          ],
          [
           719,
           3,
           "male"
          ],
          [
           728,
           3,
           "female"
          ],
          [
           750,
           3,
           "male"
          ],
          [
           768,
           3,
           "female"
          ],
          [
           769,
           3,
           "male"
          ],
          [
           777,
           3,
           "male"
          ],
          [
           779,
           3,
           "male"
          ],
          [
           788,
           3,
           "male"
          ],
          [
           791,
           3,
           "male"
          ],
          [
           826,
           3,
           "male"
          ],
          [
           829,
           3,
           "male"
          ],
          [
           886,
           3,
           "female"
          ],
          [
           891,
           3,
           "male"
          ]
         ],
         "hovertemplate": "Embarked=Q<br>Fare=%{marker.size}<br>Survived=%{y}<br>PassengerId=%{customdata[0]}<br>Pclass=%{customdata[1]}<br>Sex=%{customdata[2]}<extra></extra>",
         "legendgroup": "Q",
         "marker": {
          "color": "#00cc96",
          "size": [
           8.4583,
           29.125,
           8.0292,
           7.8792,
           7.75,
           7.8792,
           15.5,
           7.75,
           7.7875,
           24.15,
           7.75,
           7.75,
           6.75,
           7.7333,
           29.125,
           15.5,
           15.5,
           7.75,
           7.75,
           7.75,
           7.75,
           15.5,
           90,
           7.75,
           7.75,
           7.75,
           29.125,
           7.75,
           7.75,
           7.75,
           23.25,
           12.35,
           12.35,
           23.25,
           7.8792,
           7.8792,
           15.5,
           7.75,
           7.7292,
           6.8583,
           90,
           7.7333,
           7.75,
           7.75,
           7.725,
           7.75,
           7.6292,
           7.75,
           24.15,
           7.75,
           7.8292,
           7.75,
           7.75,
           7.75,
           15.5,
           7.75,
           12.35,
           7.7333,
           7.8292,
           6.75,
           15.5,
           8.1375,
           7.7333,
           7.7417,
           15.5,
           7.7375,
           7.75,
           7.75,
           24.15,
           7.75,
           7.7375,
           29.125,
           7.75,
           6.95,
           7.75,
           29.125,
           7.75
          ],
          "sizemode": "area",
          "sizeref": 1.280823,
          "symbol": "circle"
         },
         "mode": "markers",
         "name": "Q",
         "orientation": "v",
         "showlegend": true,
         "type": "scatter",
         "x": [
          8.4583,
          29.125,
          8.0292,
          7.8792,
          7.75,
          7.8792,
          15.5,
          7.75,
          7.7875,
          24.15,
          7.75,
          7.75,
          6.75,
          7.7333,
          29.125,
          15.5,
          15.5,
          7.75,
          7.75,
          7.75,
          7.75,
          15.5,
          90,
          7.75,
          7.75,
          7.75,
          29.125,
          7.75,
          7.75,
          7.75,
          23.25,
          12.35,
          12.35,
          23.25,
          7.8792,
          7.8792,
          15.5,
          7.75,
          7.7292,
          6.8583,
          90,
          7.7333,
          7.75,
          7.75,
          7.725,
          7.75,
          7.6292,
          7.75,
          24.15,
          7.75,
          7.8292,
          7.75,
          7.75,
          7.75,
          15.5,
          7.75,
          12.35,
          7.7333,
          7.8292,
          6.75,
          15.5,
          8.1375,
          7.7333,
          7.7417,
          15.5,
          7.7375,
          7.75,
          7.75,
          24.15,
          7.75,
          7.7375,
          29.125,
          7.75,
          6.95,
          7.75,
          29.125,
          7.75
         ],
         "xaxis": "x",
         "y": [
          0,
          0,
          1,
          1,
          1,
          1,
          0,
          1,
          1,
          1,
          0,
          0,
          0,
          1,
          0,
          1,
          0,
          0,
          1,
          1,
          0,
          1,
          0,
          0,
          0,
          1,
          0,
          0,
          1,
          1,
          1,
          1,
          1,
          1,
          1,
          1,
          0,
          1,
          0,
          0,
          1,
          0,
          0,
          0,
          0,
          0,
          0,
          1,
          0,
          0,
          0,
          0,
          1,
          0,
          1,
          0,
          0,
          0,
          1,
          0,
          0,
          0,
          1,
          0,
          0,
          1,
          0,
          0,
          0,
          0,
          0,
          0,
          0,
          0,
          1,
          0,
          0
         ],
         "yaxis": "y"
        }
       ],
       "layout": {
        "legend": {
         "itemsizing": "constant",
         "title": {
          "text": "Embarked"
         },
         "tracegroupgap": 0
        },
        "margin": {
         "t": 60
        },
        "template": {
         "data": {
          "bar": [
           {
            "error_x": {
             "color": "#2a3f5f"
            },
            "error_y": {
             "color": "#2a3f5f"
            },
            "marker": {
             "line": {
              "color": "#E5ECF6",
              "width": 0.5
             },
             "pattern": {
              "fillmode": "overlay",
              "size": 10,
              "solidity": 0.2
             }
            },
            "type": "bar"
           }
          ],
          "barpolar": [
           {
            "marker": {
             "line": {
              "color": "#E5ECF6",
              "width": 0.5
             },
             "pattern": {
              "fillmode": "overlay",
              "size": 10,
              "solidity": 0.2
             }
            },
            "type": "barpolar"
           }
          ],
          "carpet": [
           {
            "aaxis": {
             "endlinecolor": "#2a3f5f",
             "gridcolor": "white",
             "linecolor": "white",
             "minorgridcolor": "white",
             "startlinecolor": "#2a3f5f"
            },
            "baxis": {
             "endlinecolor": "#2a3f5f",
             "gridcolor": "white",
             "linecolor": "white",
             "minorgridcolor": "white",
             "startlinecolor": "#2a3f5f"
            },
            "type": "carpet"
           }
          ],
          "choropleth": [
           {
            "colorbar": {
             "outlinewidth": 0,
             "ticks": ""
            },
            "type": "choropleth"
           }
          ],
          "contour": [
           {
            "colorbar": {
             "outlinewidth": 0,
             "ticks": ""
            },
            "colorscale": [
             [
              0,
              "#0d0887"
             ],
             [
              0.1111111111111111,
              "#46039f"
             ],
             [
              0.2222222222222222,
              "#7201a8"
             ],
             [
              0.3333333333333333,
              "#9c179e"
             ],
             [
              0.4444444444444444,
              "#bd3786"
             ],
             [
              0.5555555555555556,
              "#d8576b"
             ],
             [
              0.6666666666666666,
              "#ed7953"
             ],
             [
              0.7777777777777778,
              "#fb9f3a"
             ],
             [
              0.8888888888888888,
              "#fdca26"
             ],
             [
              1,
              "#f0f921"
             ]
            ],
            "type": "contour"
           }
          ],
          "contourcarpet": [
           {
            "colorbar": {
             "outlinewidth": 0,
             "ticks": ""
            },
            "type": "contourcarpet"
           }
          ],
          "heatmap": [
           {
            "colorbar": {
             "outlinewidth": 0,
             "ticks": ""
            },
            "colorscale": [
             [
              0,
              "#0d0887"
             ],
             [
              0.1111111111111111,
              "#46039f"
             ],
             [
              0.2222222222222222,
              "#7201a8"
             ],
             [
              0.3333333333333333,
              "#9c179e"
             ],
             [
              0.4444444444444444,
              "#bd3786"
             ],
             [
              0.5555555555555556,
              "#d8576b"
             ],
             [
              0.6666666666666666,
              "#ed7953"
             ],
             [
              0.7777777777777778,
              "#fb9f3a"
             ],
             [
              0.8888888888888888,
              "#fdca26"
             ],
             [
              1,
              "#f0f921"
             ]
            ],
            "type": "heatmap"
           }
          ],
          "heatmapgl": [
           {
            "colorbar": {
             "outlinewidth": 0,
             "ticks": ""
            },
            "colorscale": [
             [
              0,
              "#0d0887"
             ],
             [
              0.1111111111111111,
              "#46039f"
             ],
             [
              0.2222222222222222,
              "#7201a8"
             ],
             [
              0.3333333333333333,
              "#9c179e"
             ],
             [
              0.4444444444444444,
              "#bd3786"
             ],
             [
              0.5555555555555556,
              "#d8576b"
             ],
             [
              0.6666666666666666,
              "#ed7953"
             ],
             [
              0.7777777777777778,
              "#fb9f3a"
             ],
             [
              0.8888888888888888,
              "#fdca26"
             ],
             [
              1,
              "#f0f921"
             ]
            ],
            "type": "heatmapgl"
           }
          ],
          "histogram": [
           {
            "marker": {
             "pattern": {
              "fillmode": "overlay",
              "size": 10,
              "solidity": 0.2
             }
            },
            "type": "histogram"
           }
          ],
          "histogram2d": [
           {
            "colorbar": {
             "outlinewidth": 0,
             "ticks": ""
            },
            "colorscale": [
             [
              0,
              "#0d0887"
             ],
             [
              0.1111111111111111,
              "#46039f"
             ],
             [
              0.2222222222222222,
              "#7201a8"
             ],
             [
              0.3333333333333333,
              "#9c179e"
             ],
             [
              0.4444444444444444,
              "#bd3786"
             ],
             [
              0.5555555555555556,
              "#d8576b"
             ],
             [
              0.6666666666666666,
              "#ed7953"
             ],
             [
              0.7777777777777778,
              "#fb9f3a"
             ],
             [
              0.8888888888888888,
              "#fdca26"
             ],
             [
              1,
              "#f0f921"
             ]
            ],
            "type": "histogram2d"
           }
          ],
          "histogram2dcontour": [
           {
            "colorbar": {
             "outlinewidth": 0,
             "ticks": ""
            },
            "colorscale": [
             [
              0,
              "#0d0887"
             ],
             [
              0.1111111111111111,
              "#46039f"
             ],
             [
              0.2222222222222222,
              "#7201a8"
             ],
             [
              0.3333333333333333,
              "#9c179e"
             ],
             [
              0.4444444444444444,
              "#bd3786"
             ],
             [
              0.5555555555555556,
              "#d8576b"
             ],
             [
              0.6666666666666666,
              "#ed7953"
             ],
             [
              0.7777777777777778,
              "#fb9f3a"
             ],
             [
              0.8888888888888888,
              "#fdca26"
             ],
             [
              1,
              "#f0f921"
             ]
            ],
            "type": "histogram2dcontour"
           }
          ],
          "mesh3d": [
           {
            "colorbar": {
             "outlinewidth": 0,
             "ticks": ""
            },
            "type": "mesh3d"
           }
          ],
          "parcoords": [
           {
            "line": {
             "colorbar": {
              "outlinewidth": 0,
              "ticks": ""
             }
            },
            "type": "parcoords"
           }
          ],
          "pie": [
           {
            "automargin": true,
            "type": "pie"
           }
          ],
          "scatter": [
           {
            "fillpattern": {
             "fillmode": "overlay",
             "size": 10,
             "solidity": 0.2
            },
            "type": "scatter"
           }
          ],
          "scatter3d": [
           {
            "line": {
             "colorbar": {
              "outlinewidth": 0,
              "ticks": ""
             }
            },
            "marker": {
             "colorbar": {
              "outlinewidth": 0,
              "ticks": ""
             }
            },
            "type": "scatter3d"
           }
          ],
          "scattercarpet": [
           {
            "marker": {
             "colorbar": {
              "outlinewidth": 0,
              "ticks": ""
             }
            },
            "type": "scattercarpet"
           }
          ],
          "scattergeo": [
           {
            "marker": {
             "colorbar": {
              "outlinewidth": 0,
              "ticks": ""
             }
            },
            "type": "scattergeo"
           }
          ],
          "scattergl": [
           {
            "marker": {
             "colorbar": {
              "outlinewidth": 0,
              "ticks": ""
             }
            },
            "type": "scattergl"
           }
          ],
          "scattermapbox": [
           {
            "marker": {
             "colorbar": {
              "outlinewidth": 0,
              "ticks": ""
             }
            },
            "type": "scattermapbox"
           }
          ],
          "scatterpolar": [
           {
            "marker": {
             "colorbar": {
              "outlinewidth": 0,
              "ticks": ""
             }
            },
            "type": "scatterpolar"
           }
          ],
          "scatterpolargl": [
           {
            "marker": {
             "colorbar": {
              "outlinewidth": 0,
              "ticks": ""
             }
            },
            "type": "scatterpolargl"
           }
          ],
          "scatterternary": [
           {
            "marker": {
             "colorbar": {
              "outlinewidth": 0,
              "ticks": ""
             }
            },
            "type": "scatterternary"
           }
          ],
          "surface": [
           {
            "colorbar": {
             "outlinewidth": 0,
             "ticks": ""
            },
            "colorscale": [
             [
              0,
              "#0d0887"
             ],
             [
              0.1111111111111111,
              "#46039f"
             ],
             [
              0.2222222222222222,
              "#7201a8"
             ],
             [
              0.3333333333333333,
              "#9c179e"
             ],
             [
              0.4444444444444444,
              "#bd3786"
             ],
             [
              0.5555555555555556,
              "#d8576b"
             ],
             [
              0.6666666666666666,
              "#ed7953"
             ],
             [
              0.7777777777777778,
              "#fb9f3a"
             ],
             [
              0.8888888888888888,
              "#fdca26"
             ],
             [
              1,
              "#f0f921"
             ]
            ],
            "type": "surface"
           }
          ],
          "table": [
           {
            "cells": {
             "fill": {
              "color": "#EBF0F8"
             },
             "line": {
              "color": "white"
             }
            },
            "header": {
             "fill": {
              "color": "#C8D4E3"
             },
             "line": {
              "color": "white"
             }
            },
            "type": "table"
           }
          ]
         },
         "layout": {
          "annotationdefaults": {
           "arrowcolor": "#2a3f5f",
           "arrowhead": 0,
           "arrowwidth": 1
          },
          "autotypenumbers": "strict",
          "coloraxis": {
           "colorbar": {
            "outlinewidth": 0,
            "ticks": ""
           }
          },
          "colorscale": {
           "diverging": [
            [
             0,
             "#8e0152"
            ],
            [
             0.1,
             "#c51b7d"
            ],
            [
             0.2,
             "#de77ae"
            ],
            [
             0.3,
             "#f1b6da"
            ],
            [
             0.4,
             "#fde0ef"
            ],
            [
             0.5,
             "#f7f7f7"
            ],
            [
             0.6,
             "#e6f5d0"
            ],
            [
             0.7,
             "#b8e186"
            ],
            [
             0.8,
             "#7fbc41"
            ],
            [
             0.9,
             "#4d9221"
            ],
            [
             1,
             "#276419"
            ]
           ],
           "sequential": [
            [
             0,
             "#0d0887"
            ],
            [
             0.1111111111111111,
             "#46039f"
            ],
            [
             0.2222222222222222,
             "#7201a8"
            ],
            [
             0.3333333333333333,
             "#9c179e"
            ],
            [
             0.4444444444444444,
             "#bd3786"
            ],
            [
             0.5555555555555556,
             "#d8576b"
            ],
            [
             0.6666666666666666,
             "#ed7953"
            ],
            [
             0.7777777777777778,
             "#fb9f3a"
            ],
            [
             0.8888888888888888,
             "#fdca26"
            ],
            [
             1,
             "#f0f921"
            ]
           ],
           "sequentialminus": [
            [
             0,
             "#0d0887"
            ],
            [
             0.1111111111111111,
             "#46039f"
            ],
            [
             0.2222222222222222,
             "#7201a8"
            ],
            [
             0.3333333333333333,
             "#9c179e"
            ],
            [
             0.4444444444444444,
             "#bd3786"
            ],
            [
             0.5555555555555556,
             "#d8576b"
            ],
            [
             0.6666666666666666,
             "#ed7953"
            ],
            [
             0.7777777777777778,
             "#fb9f3a"
            ],
            [
             0.8888888888888888,
             "#fdca26"
            ],
            [
             1,
             "#f0f921"
            ]
           ]
          },
          "colorway": [
           "#636efa",
           "#EF553B",
           "#00cc96",
           "#ab63fa",
           "#FFA15A",
           "#19d3f3",
           "#FF6692",
           "#B6E880",
           "#FF97FF",
           "#FECB52"
          ],
          "font": {
           "color": "#2a3f5f"
          },
          "geo": {
           "bgcolor": "white",
           "lakecolor": "white",
           "landcolor": "#E5ECF6",
           "showlakes": true,
           "showland": true,
           "subunitcolor": "white"
          },
          "hoverlabel": {
           "align": "left"
          },
          "hovermode": "closest",
          "mapbox": {
           "style": "light"
          },
          "paper_bgcolor": "white",
          "plot_bgcolor": "#E5ECF6",
          "polar": {
           "angularaxis": {
            "gridcolor": "white",
            "linecolor": "white",
            "ticks": ""
           },
           "bgcolor": "#E5ECF6",
           "radialaxis": {
            "gridcolor": "white",
            "linecolor": "white",
            "ticks": ""
           }
          },
          "scene": {
           "xaxis": {
            "backgroundcolor": "#E5ECF6",
            "gridcolor": "white",
            "gridwidth": 2,
            "linecolor": "white",
            "showbackground": true,
            "ticks": "",
            "zerolinecolor": "white"
           },
           "yaxis": {
            "backgroundcolor": "#E5ECF6",
            "gridcolor": "white",
            "gridwidth": 2,
            "linecolor": "white",
            "showbackground": true,
            "ticks": "",
            "zerolinecolor": "white"
           },
           "zaxis": {
            "backgroundcolor": "#E5ECF6",
            "gridcolor": "white",
            "gridwidth": 2,
            "linecolor": "white",
            "showbackground": true,
            "ticks": "",
            "zerolinecolor": "white"
           }
          },
          "shapedefaults": {
           "line": {
            "color": "#2a3f5f"
           }
          },
          "ternary": {
           "aaxis": {
            "gridcolor": "white",
            "linecolor": "white",
            "ticks": ""
           },
           "baxis": {
            "gridcolor": "white",
            "linecolor": "white",
            "ticks": ""
           },
           "bgcolor": "#E5ECF6",
           "caxis": {
            "gridcolor": "white",
            "linecolor": "white",
            "ticks": ""
           }
          },
          "title": {
           "x": 0.05
          },
          "xaxis": {
           "automargin": true,
           "gridcolor": "white",
           "linecolor": "white",
           "ticks": "",
           "title": {
            "standoff": 15
           },
           "zerolinecolor": "white",
           "zerolinewidth": 2
          },
          "yaxis": {
           "automargin": true,
           "gridcolor": "white",
           "linecolor": "white",
           "ticks": "",
           "title": {
            "standoff": 15
           },
           "zerolinecolor": "white",
           "zerolinewidth": 2
          }
         }
        },
        "title": {
         "text": "Survival Rate by Fare and Embarkation Port"
        },
        "xaxis": {
         "anchor": "y",
         "domain": [
          0,
          1
         ],
         "title": {
          "text": "Fare"
         }
        },
        "yaxis": {
         "anchor": "x",
         "domain": [
          0,
          1
         ],
         "title": {
          "text": "Survived"
         }
        }
       }
      }
     },
     "metadata": {},
     "output_type": "display_data"
    },
    {
     "data": {
      "application/vnd.plotly.v1+json": {
       "config": {
        "plotlyServerURL": "https://plot.ly"
       },
       "data": [
        {
         "alignmentgroup": "True",
         "boxpoints": "all",
         "customdata": [
          [
           1,
           "male"
          ],
          [
           5,
           "male"
          ],
          [
           6,
           "male"
          ],
          [
           7,
           "male"
          ],
          [
           8,
           "male"
          ],
          [
           13,
           "male"
          ],
          [
           14,
           "male"
          ],
          [
           15,
           "female"
          ],
          [
           17,
           "male"
          ],
          [
           19,
           "female"
          ],
          [
           21,
           "male"
          ],
          [
           25,
           "female"
          ],
          [
           27,
           "male"
          ],
          [
           28,
           "male"
          ],
          [
           30,
           "male"
          ],
          [
           31,
           "male"
          ],
          [
           34,
           "male"
          ],
          [
           35,
           "male"
          ],
          [
           36,
           "male"
          ],
          [
           38,
           "male"
          ],
          [
           39,
           "female"
          ],
          [
           41,
           "female"
          ],
          [
           42,
           "female"
          ],
          [
           43,
           "male"
          ],
          [
           46,
           "male"
          ],
          [
           47,
           "male"
          ],
          [
           49,
           "male"
          ],
          [
           50,
           "female"
          ],
          [
           51,
           "male"
          ],
          [
           52,
           "male"
          ],
          [
           55,
           "male"
          ],
          [
           58,
           "male"
          ],
          [
           60,
           "male"
          ],
          [
           61,
           "male"
          ],
          [
           63,
           "male"
          ],
          [
           64,
           "male"
          ],
          [
           65,
           "male"
          ],
          [
           68,
           "male"
          ],
          [
           70,
           "male"
          ],
          [
           71,
           "male"
          ],
          [
           72,
           "female"
          ],
          [
           73,
           "male"
          ],
          [
           74,
           "male"
          ],
          [
           76,
           "male"
          ],
          [
           77,
           "male"
          ],
          [
           78,
           "male"
          ],
          [
           81,
           "male"
          ],
          [
           84,
           "male"
          ],
          [
           87,
           "male"
          ],
          [
           88,
           "male"
          ],
          [
           90,
           "male"
          ],
          [
           91,
           "male"
          ],
          [
           92,
           "male"
          ],
          [
           93,
           "male"
          ],
          [
           94,
           "male"
          ],
          [
           95,
           "male"
          ],
          [
           96,
           "male"
          ],
          [
           97,
           "male"
          ],
          [
           100,
           "male"
          ],
          [
           101,
           "female"
          ],
          [
           102,
           "male"
          ],
          [
           103,
           "male"
          ],
          [
           104,
           "male"
          ],
          [
           105,
           "male"
          ],
          [
           106,
           "male"
          ],
          [
           109,
           "male"
          ],
          [
           111,
           "male"
          ],
          [
           112,
           "female"
          ],
          [
           113,
           "male"
          ],
          [
           114,
           "female"
          ],
          [
           115,
           "female"
          ],
          [
           116,
           "male"
          ],
          [
           117,
           "male"
          ],
          [
           118,
           "male"
          ],
          [
           119,
           "male"
          ],
          [
           120,
           "female"
          ],
          [
           121,
           "male"
          ],
          [
           122,
           "male"
          ],
          [
           123,
           "male"
          ],
          [
           125,
           "male"
          ],
          [
           127,
           "male"
          ],
          [
           130,
           "male"
          ],
          [
           131,
           "male"
          ],
          [
           132,
           "male"
          ],
          [
           133,
           "female"
          ],
          [
           135,
           "male"
          ],
          [
           136,
           "male"
          ],
          [
           138,
           "male"
          ],
          [
           139,
           "male"
          ],
          [
           140,
           "male"
          ],
          [
           141,
           "female"
          ],
          [
           144,
           "male"
          ],
          [
           145,
           "male"
          ],
          [
           146,
           "male"
          ],
          [
           148,
           "female"
          ],
          [
           149,
           "male"
          ],
          [
           150,
           "male"
          ],
          [
           151,
           "male"
          ],
          [
           153,
           "male"
          ],
          [
           154,
           "male"
          ],
          [
           155,
           "male"
          ],
          [
           156,
           "male"
          ],
          [
           158,
           "male"
          ],
          [
           159,
           "male"
          ],
          [
           160,
           "male"
          ],
          [
           161,
           "male"
          ],
          [
           163,
           "male"
          ],
          [
           164,
           "male"
          ],
          [
           165,
           "male"
          ],
          [
           168,
           "female"
          ],
          [
           169,
           "male"
          ],
          [
           170,
           "male"
          ],
          [
           171,
           "male"
          ],
          [
           172,
           "male"
          ],
          [
           174,
           "male"
          ],
          [
           175,
           "male"
          ],
          [
           176,
           "male"
          ],
          [
           177,
           "male"
          ],
          [
           178,
           "female"
          ],
          [
           179,
           "male"
          ],
          [
           180,
           "male"
          ],
          [
           181,
           "female"
          ],
          [
           182,
           "male"
          ],
          [
           183,
           "male"
          ],
          [
           186,
           "male"
          ],
          [
           189,
           "male"
          ],
          [
           190,
           "male"
          ],
          [
           192,
           "male"
          ],
          [
           197,
           "male"
          ],
          [
           198,
           "male"
          ],
          [
           200,
           "female"
          ],
          [
           201,
           "male"
          ],
          [
           202,
           "male"
          ],
          [
           203,
           "male"
          ],
          [
           204,
           "male"
          ],
          [
           206,
           "female"
          ],
          [
           207,
           "male"
          ],
          [
           211,
           "male"
          ],
          [
           213,
           "male"
          ],
          [
           214,
           "male"
          ],
          [
           215,
           "male"
          ],
          [
           218,
           "male"
          ],
          [
           220,
           "male"
          ],
          [
           222,
           "male"
          ],
          [
           223,
           "male"
          ],
          [
           224,
           "male"
          ],
          [
           226,
           "male"
          ],
          [
           228,
           "male"
          ],
          [
           229,
           "male"
          ],
          [
           230,
           "female"
          ],
          [
           232,
           "male"
          ],
          [
           233,
           "male"
          ],
          [
           235,
           "male"
          ],
          [
           236,
           "female"
          ],
          [
           237,
           "male"
          ],
          [
           239,
           "male"
          ],
          [
           240,
           "male"
          ],
          [
           241,
           "female"
          ],
          [
           243,
           "male"
          ],
          [
           244,
           "male"
          ],
          [
           245,
           "male"
          ],
          [
           246,
           "male"
          ],
          [
           247,
           "female"
          ],
          [
           250,
           "male"
          ],
          [
           251,
           "male"
          ],
          [
           252,
           "female"
          ],
          [
           253,
           "male"
          ],
          [
           254,
           "male"
          ],
          [
           255,
           "female"
          ],
          [
           261,
           "male"
          ],
          [
           263,
           "male"
          ],
          [
           264,
           "male"
          ],
          [
           265,
           "female"
          ],
          [
           266,
           "male"
          ],
          [
           267,
           "male"
          ],
          [
           271,
           "male"
          ],
          [
           274,
           "male"
          ],
          [
           277,
           "female"
          ],
          [
           278,
           "male"
          ],
          [
           279,
           "male"
          ],
          [
           281,
           "male"
          ],
          [
           282,
           "male"
          ],
          [
           283,
           "male"
          ],
          [
           285,
           "male"
          ],
          [
           286,
           "male"
          ],
          [
           288,
           "male"
          ],
          [
           293,
           "male"
          ],
          [
           294,
           "female"
          ],
          [
           295,
           "male"
          ],
          [
           296,
           "male"
          ],
          [
           297,
           "male"
          ],
          [
           298,
           "female"
          ],
          [
           303,
           "male"
          ],
          [
           305,
           "male"
          ],
          [
           309,
           "male"
          ],
          [
           313,
           "female"
          ],
          [
           314,
           "male"
          ],
          [
           315,
           "male"
          ],
          [
           318,
           "male"
          ],
          [
           321,
           "male"
          ],
          [
           322,
           "male"
          ],
          [
           325,
           "male"
          ],
          [
           327,
           "male"
          ],
          [
           332,
           "male"
          ],
          [
           333,
           "male"
          ],
          [
           334,
           "male"
          ],
          [
           336,
           "male"
          ],
          [
           337,
           "male"
          ],
          [
           340,
           "male"
          ],
          [
           343,
           "male"
          ],
          [
           344,
           "male"
          ],
          [
           345,
           "male"
          ],
          [
           350,
           "male"
          ],
          [
           351,
           "male"
          ],
          [
           352,
           "male"
          ],
          [
           353,
           "male"
          ],
          [
           354,
           "male"
          ],
          [
           355,
           "male"
          ],
          [
           356,
           "male"
          ],
          [
           358,
           "female"
          ],
          [
           361,
           "male"
          ],
          [
           362,
           "male"
          ],
          [
           363,
           "female"
          ],
          [
           364,
           "male"
          ],
          [
           365,
           "male"
          ],
          [
           366,
           "male"
          ],
          [
           372,
           "male"
          ],
          [
           373,
           "male"
          ],
          [
           374,
           "male"
          ],
          [
           375,
           "female"
          ],
          [
           378,
           "male"
          ],
          [
           379,
           "male"
          ],
          [
           380,
           "male"
          ],
          [
           383,
           "male"
          ],
          [
           385,
           "male"
          ],
          [
           386,
           "male"
          ],
          [
           387,
           "male"
          ],
          [
           389,
           "male"
          ],
          [
           393,
           "male"
          ],
          [
           396,
           "male"
          ],
          [
           397,
           "female"
          ],
          [
           398,
           "male"
          ],
          [
           399,
           "male"
          ],
          [
           402,
           "male"
          ],
          [
           403,
           "female"
          ],
          [
           404,
           "male"
          ],
          [
           405,
           "female"
          ],
          [
           406,
           "male"
          ],
          [
           407,
           "male"
          ],
          [
           409,
           "male"
          ],
          [
           410,
           "female"
          ],
          [
           411,
           "male"
          ],
          [
           412,
           "male"
          ],
          [
           414,
           "male"
          ],
          [
           416,
           "female"
          ],
          [
           419,
           "male"
          ],
          [
           420,
           "female"
          ],
          [
           421,
           "male"
          ],
          [
           422,
           "male"
          ],
          [
           423,
           "male"
          ],
          [
           424,
           "female"
          ],
          [
           425,
           "male"
          ],
          [
           426,
           "male"
          ],
          [
           429,
           "male"
          ],
          [
           434,
           "male"
          ],
          [
           435,
           "male"
          ],
          [
           437,
           "female"
          ],
          [
           439,
           "male"
          ],
          [
           440,
           "male"
          ],
          [
           442,
           "male"
          ],
          [
           443,
           "male"
          ],
          [
           451,
           "male"
          ],
          [
           452,
           "male"
          ],
          [
           453,
           "male"
          ],
          [
           455,
           "male"
          ],
          [
           457,
           "male"
          ],
          [
           460,
           "male"
          ],
          [
           462,
           "male"
          ],
          [
           463,
           "male"
          ],
          [
           464,
           "male"
          ],
          [
           465,
           "male"
          ],
          [
           466,
           "male"
          ],
          [
           467,
           "male"
          ],
          [
           468,
           "male"
          ],
          [
           469,
           "male"
          ],
          [
           471,
           "male"
          ],
          [
           472,
           "male"
          ],
          [
           475,
           "female"
          ],
          [
           476,
           "male"
          ],
          [
           477,
           "male"
          ],
          [
           478,
           "male"
          ],
          [
           479,
           "male"
          ],
          [
           481,
           "male"
          ],
          [
           482,
           "male"
          ],
          [
           483,
           "male"
          ],
          [
           486,
           "female"
          ],
          [
           488,
           "male"
          ],
          [
           489,
           "male"
          ],
          [
           491,
           "male"
          ],
          [
           492,
           "male"
          ],
          [
           493,
           "male"
          ],
          [
           494,
           "male"
          ],
          [
           495,
           "male"
          ],
          [
           496,
           "male"
          ],
          [
           498,
           "male"
          ],
          [
           499,
           "female"
          ],
          [
           500,
           "male"
          ],
          [
           501,
           "male"
          ],
          [
           502,
           "female"
          ],
          [
           503,
           "female"
          ],
          [
           504,
           "female"
          ],
          [
           506,
           "male"
          ],
          [
           509,
           "male"
          ],
          [
           512,
           "male"
          ],
          [
           515,
           "male"
          ],
          [
           516,
           "male"
          ],
          [
           518,
           "male"
          ],
          [
           520,
           "male"
          ],
          [
           522,
           "male"
          ],
          [
           523,
           "male"
          ],
          [
           525,
           "male"
          ],
          [
           526,
           "male"
          ],
          [
           528,
           "male"
          ],
          [
           529,
           "male"
          ],
          [
           530,
           "male"
          ],
          [
           532,
           "male"
          ],
          [
           533,
           "male"
          ],
          [
           535,
           "female"
          ],
          [
           537,
           "male"
          ],
          [
           539,
           "male"
          ],
          [
           542,
           "female"
          ],
          [
           543,
           "female"
          ],
          [
           545,
           "male"
          ],
          [
           546,
           "male"
          ],
          [
           549,
           "male"
          ],
          [
           552,
           "male"
          ],
          [
           553,
           "male"
          ],
          [
           556,
           "male"
          ],
          [
           558,
           "male"
          ],
          [
           561,
           "male"
          ],
          [
           562,
           "male"
          ],
          [
           563,
           "male"
          ],
          [
           564,
           "male"
          ],
          [
           565,
           "female"
          ],
          [
           566,
           "male"
          ],
          [
           567,
           "male"
          ],
          [
           568,
           "female"
          ],
          [
           569,
           "male"
          ],
          [
           575,
           "male"
          ],
          [
           576,
           "male"
          ],
          [
           579,
           "female"
          ],
          [
           583,
           "male"
          ],
          [
           584,
           "male"
          ],
          [
           585,
           "male"
          ],
          [
           587,
           "male"
          ],
          [
           589,
           "male"
          ],
          [
           590,
           "male"
          ],
          [
           591,
           "male"
          ],
          [
           593,
           "male"
          ],
          [
           594,
           "female"
          ],
          [
           595,
           "male"
          ],
          [
           596,
           "male"
          ],
          [
           598,
           "male"
          ],
          [
           599,
           "male"
          ],
          [
           602,
           "male"
          ],
          [
           603,
           "male"
          ],
          [
           604,
           "male"
          ],
          [
           606,
           "male"
          ],
          [
           607,
           "male"
          ],
          [
           611,
           "female"
          ],
          [
           612,
           "male"
          ],
          [
           614,
           "male"
          ],
          [
           615,
           "male"
          ],
          [
           617,
           "male"
          ],
          [
           618,
           "female"
          ],
          [
           620,
           "male"
          ],
          [
           621,
           "male"
          ],
          [
           624,
           "male"
          ],
          [
           625,
           "male"
          ],
          [
           626,
           "male"
          ],
          [
           627,
           "male"
          ],
          [
           629,
           "male"
          ],
          [
           630,
           "male"
          ],
          [
           632,
           "male"
          ],
          [
           634,
           "male"
          ],
          [
           635,
           "female"
          ],
          [
           637,
           "male"
          ],
          [
           638,
           "male"
          ],
          [
           639,
           "female"
          ],
          [
           640,
           "male"
          ],
          [
           641,
           "male"
          ],
          [
           643,
           "female"
          ],
          [
           647,
           "male"
          ],
          [
           649,
           "male"
          ],
          [
           651,
           "male"
          ],
          [
           653,
           "male"
          ],
          [
           655,
           "female"
          ],
          [
           656,
           "male"
          ],
          [
           657,
           "male"
          ],
          [
           658,
           "female"
          ],
          [
           659,
           "male"
          ],
          [
           660,
           "male"
          ],
          [
           662,
           "male"
          ],
          [
           663,
           "male"
          ],
          [
           664,
           "male"
          ],
          [
           666,
           "male"
          ],
          [
           667,
           "male"
          ],
          [
           668,
           "male"
          ],
          [
           669,
           "male"
          ],
          [
           672,
           "male"
          ],
          [
           673,
           "male"
          ],
          [
           675,
           "male"
          ],
          [
           676,
           "male"
          ],
          [
           677,
           "male"
          ],
          [
           679,
           "female"
          ],
          [
           681,
           "female"
          ],
          [
           683,
           "male"
          ],
          [
           684,
           "male"
          ],
          [
           685,
           "male"
          ],
          [
           686,
           "male"
          ],
          [
           687,
           "male"
          ],
          [
           688,
           "male"
          ],
          [
           689,
           "male"
          ],
          [
           694,
           "male"
          ],
          [
           695,
           "male"
          ],
          [
           696,
           "male"
          ],
          [
           697,
           "male"
          ],
          [
           699,
           "male"
          ],
          [
           700,
           "male"
          ],
          [
           703,
           "female"
          ],
          [
           704,
           "male"
          ],
          [
           705,
           "male"
          ],
          [
           706,
           "male"
          ],
          [
           712,
           "male"
          ],
          [
           714,
           "male"
          ],
          [
           715,
           "male"
          ],
          [
           716,
           "male"
          ],
          [
           719,
           "male"
          ],
          [
           720,
           "male"
          ],
          [
           722,
           "male"
          ],
          [
           723,
           "male"
          ],
          [
           724,
           "male"
          ],
          [
           726,
           "male"
          ],
          [
           729,
           "male"
          ],
          [
           730,
           "female"
          ],
          [
           732,
           "male"
          ],
          [
           733,
           "male"
          ],
          [
           734,
           "male"
          ],
          [
           735,
           "male"
          ],
          [
           736,
           "male"
          ],
          [
           737,
           "female"
          ],
          [
           739,
           "male"
          ],
          [
           740,
           "male"
          ],
          [
           742,
           "male"
          ],
          [
           744,
           "male"
          ],
          [
           746,
           "male"
          ],
          [
           747,
           "male"
          ],
          [
           749,
           "male"
          ],
          [
           750,
           "male"
          ],
          [
           753,
           "male"
          ],
          [
           754,
           "male"
          ],
          [
           757,
           "male"
          ],
          [
           758,
           "male"
          ],
          [
           759,
           "male"
          ],
          [
           761,
           "male"
          ],
          [
           762,
           "male"
          ],
          [
           765,
           "male"
          ],
          [
           767,
           "male"
          ],
          [
           768,
           "female"
          ],
          [
           769,
           "male"
          ],
          [
           770,
           "male"
          ],
          [
           771,
           "male"
          ],
          [
           772,
           "male"
          ],
          [
           773,
           "female"
          ],
          [
           774,
           "male"
          ],
          [
           776,
           "male"
          ],
          [
           777,
           "male"
          ],
          [
           779,
           "male"
          ],
          [
           783,
           "male"
          ],
          [
           784,
           "male"
          ],
          [
           785,
           "male"
          ],
          [
           786,
           "male"
          ],
          [
           788,
           "male"
          ],
          [
           790,
           "male"
          ],
          [
           791,
           "male"
          ],
          [
           792,
           "male"
          ],
          [
           793,
           "female"
          ],
          [
           794,
           "male"
          ],
          [
           795,
           "male"
          ],
          [
           796,
           "male"
          ],
          [
           799,
           "male"
          ],
          [
           800,
           "female"
          ],
          [
           801,
           "male"
          ],
          [
           806,
           "male"
          ],
          [
           807,
           "male"
          ],
          [
           808,
           "female"
          ],
          [
           809,
           "male"
          ],
          [
           811,
           "male"
          ],
          [
           812,
           "male"
          ],
          [
           813,
           "male"
          ],
          [
           814,
           "female"
          ],
          [
           815,
           "male"
          ],
          [
           816,
           "male"
          ],
          [
           817,
           "female"
          ],
          [
           818,
           "male"
          ],
          [
           819,
           "male"
          ],
          [
           820,
           "male"
          ],
          [
           823,
           "male"
          ],
          [
           825,
           "male"
          ],
          [
           826,
           "male"
          ],
          [
           827,
           "male"
          ],
          [
           833,
           "male"
          ],
          [
           834,
           "male"
          ],
          [
           835,
           "male"
          ],
          [
           837,
           "male"
          ],
          [
           838,
           "male"
          ],
          [
           841,
           "male"
          ],
          [
           842,
           "male"
          ],
          [
           844,
           "male"
          ],
          [
           845,
           "male"
          ],
          [
           846,
           "male"
          ],
          [
           847,
           "male"
          ],
          [
           848,
           "male"
          ],
          [
           849,
           "male"
          ],
          [
           851,
           "male"
          ],
          [
           852,
           "male"
          ],
          [
           853,
           "female"
          ],
          [
           855,
           "female"
          ],
          [
           860,
           "male"
          ],
          [
           861,
           "male"
          ],
          [
           862,
           "male"
          ],
          [
           864,
           "female"
          ],
          [
           865,
           "male"
          ],
          [
           868,
           "male"
          ],
          [
           869,
           "male"
          ],
          [
           871,
           "male"
          ],
          [
           873,
           "male"
          ],
          [
           874,
           "male"
          ],
          [
           877,
           "male"
          ],
          [
           878,
           "male"
          ],
          [
           879,
           "male"
          ],
          [
           882,
           "male"
          ],
          [
           883,
           "female"
          ],
          [
           884,
           "male"
          ],
          [
           885,
           "male"
          ],
          [
           886,
           "female"
          ],
          [
           887,
           "male"
          ],
          [
           889,
           "female"
          ],
          [
           891,
           "male"
          ]
         ],
         "hovertemplate": "Survived=0<br>Pclass=%{x}<br>Age=%{y}<br>PassengerId=%{customdata[0]}<br>Sex=%{customdata[1]}<extra></extra>",
         "legendgroup": "0",
         "marker": {
          "color": "#636efa"
         },
         "name": "0",
         "notched": false,
         "offsetgroup": "0",
         "orientation": "v",
         "showlegend": true,
         "type": "box",
         "x": [
          3,
          3,
          3,
          1,
          3,
          3,
          3,
          3,
          3,
          3,
          2,
          3,
          3,
          1,
          3,
          1,
          2,
          1,
          1,
          3,
          3,
          3,
          2,
          3,
          3,
          3,
          3,
          3,
          3,
          3,
          1,
          3,
          3,
          3,
          1,
          3,
          1,
          3,
          3,
          2,
          3,
          2,
          3,
          3,
          3,
          3,
          3,
          1,
          3,
          3,
          3,
          3,
          3,
          1,
          3,
          3,
          3,
          1,
          2,
          3,
          3,
          1,
          3,
          3,
          3,
          3,
          1,
          3,
          3,
          3,
          3,
          3,
          3,
          2,
          1,
          3,
          2,
          3,
          2,
          1,
          3,
          3,
          3,
          3,
          3,
          2,
          2,
          1,
          3,
          1,
          3,
          3,
          2,
          2,
          3,
          2,
          2,
          2,
          3,
          3,
          3,
          1,
          3,
          3,
          3,
          3,
          3,
          3,
          3,
          3,
          1,
          3,
          1,
          3,
          3,
          1,
          3,
          3,
          1,
          2,
          3,
          3,
          2,
          3,
          1,
          3,
          3,
          2,
          3,
          3,
          2,
          3,
          3,
          3,
          3,
          3,
          3,
          3,
          3,
          2,
          3,
          2,
          2,
          2,
          3,
          3,
          3,
          3,
          2,
          3,
          3,
          2,
          2,
          3,
          2,
          2,
          2,
          3,
          2,
          3,
          3,
          1,
          3,
          2,
          3,
          3,
          1,
          3,
          3,
          3,
          1,
          1,
          3,
          2,
          3,
          1,
          1,
          3,
          2,
          3,
          3,
          3,
          3,
          1,
          3,
          3,
          2,
          3,
          3,
          1,
          3,
          1,
          3,
          3,
          2,
          2,
          3,
          2,
          2,
          3,
          3,
          3,
          3,
          1,
          1,
          3,
          3,
          1,
          1,
          2,
          2,
          2,
          3,
          3,
          1,
          3,
          3,
          3,
          3,
          2,
          3,
          2,
          3,
          3,
          3,
          3,
          3,
          3,
          1,
          3,
          1,
          3,
          3,
          3,
          3,
          2,
          3,
          3,
          3,
          3,
          3,
          2,
          2,
          3,
          3,
          3,
          3,
          2,
          3,
          3,
          3,
          3,
          3,
          2,
          3,
          2,
          3,
          3,
          3,
          3,
          3,
          3,
          3,
          3,
          3,
          1,
          3,
          1,
          2,
          3,
          3,
          2,
          3,
          1,
          3,
          1,
          3,
          3,
          1,
          2,
          3,
          3,
          2,
          1,
          3,
          3,
          3,
          3,
          1,
          2,
          3,
          3,
          3,
          2,
          3,
          3,
          1,
          3,
          3,
          3,
          1,
          1,
          3,
          3,
          3,
          1,
          3,
          3,
          3,
          3,
          3,
          1,
          3,
          3,
          3,
          1,
          3,
          3,
          3,
          3,
          3,
          3,
          1,
          3,
          2,
          3,
          3,
          3,
          1,
          3,
          3,
          3,
          1,
          1,
          3,
          2,
          3,
          1,
          1,
          3,
          3,
          2,
          3,
          3,
          3,
          3,
          3,
          3,
          3,
          3,
          3,
          2,
          1,
          3,
          2,
          3,
          3,
          3,
          3,
          3,
          2,
          3,
          3,
          3,
          3,
          1,
          3,
          3,
          3,
          3,
          3,
          3,
          3,
          3,
          3,
          2,
          3,
          3,
          3,
          1,
          2,
          3,
          3,
          3,
          1,
          3,
          3,
          2,
          3,
          3,
          3,
          3,
          3,
          3,
          3,
          3,
          3,
          2,
          3,
          3,
          2,
          1,
          3,
          1,
          3,
          2,
          2,
          3,
          3,
          1,
          2,
          2,
          3,
          3,
          3,
          3,
          3,
          3,
          2,
          2,
          3,
          3,
          3,
          3,
          1,
          2,
          3,
          1,
          3,
          3,
          3,
          3,
          2,
          1,
          3,
          2,
          3,
          3,
          3,
          3,
          2,
          2,
          3,
          2,
          3,
          3,
          2,
          2,
          2,
          3,
          3,
          3,
          3,
          1,
          3,
          1,
          3,
          1,
          3,
          3,
          3,
          3,
          2,
          3,
          3,
          3,
          3,
          1,
          3,
          3,
          3,
          3,
          3,
          2,
          3,
          3,
          3,
          3,
          1,
          3,
          3,
          3,
          3,
          1,
          3,
          2,
          3,
          1,
          3,
          2,
          3,
          3,
          2,
          3,
          1,
          3,
          2,
          3,
          3,
          2,
          3,
          3,
          1,
          3,
          2,
          3,
          3,
          1,
          3,
          3,
          3,
          3,
          3,
          3,
          3,
          3,
          3,
          2,
          3,
          3,
          3,
          3,
          3,
          2,
          3,
          3,
          3,
          2,
          3,
          3,
          2,
          3,
          2,
          1,
          3,
          3,
          1,
          3,
          3,
          3,
          3,
          3,
          3,
          2,
          3,
          3,
          2,
          3,
          3
         ],
         "x0": " ",
         "xaxis": "x",
         "y": [
          22,
          35,
          null,
          54,
          2,
          20,
          39,
          14,
          2,
          31,
          35,
          8,
          null,
          19,
          null,
          40,
          66,
          28,
          42,
          21,
          18,
          40,
          27,
          null,
          null,
          null,
          null,
          18,
          7,
          21,
          65,
          28.5,
          11,
          22,
          45,
          4,
          null,
          19,
          26,
          32,
          16,
          21,
          26,
          25,
          null,
          null,
          22,
          28,
          16,
          null,
          24,
          29,
          20,
          46,
          26,
          59,
          null,
          71,
          34,
          28,
          null,
          21,
          33,
          37,
          28,
          38,
          47,
          14.5,
          22,
          20,
          17,
          21,
          70.5,
          29,
          24,
          2,
          21,
          null,
          32.5,
          54,
          null,
          45,
          33,
          20,
          47,
          25,
          23,
          37,
          16,
          24,
          null,
          19,
          18,
          19,
          9,
          36.5,
          42,
          51,
          55.5,
          40.5,
          null,
          51,
          30,
          null,
          null,
          44,
          26,
          17,
          1,
          45,
          null,
          28,
          61,
          4,
          21,
          56,
          18,
          null,
          50,
          30,
          36,
          null,
          null,
          9,
          null,
          40,
          36,
          19,
          null,
          42,
          24,
          28,
          null,
          34,
          45.5,
          2,
          32,
          24,
          22,
          30,
          null,
          42,
          30,
          27,
          51,
          null,
          22,
          20.5,
          18,
          null,
          29,
          59,
          24,
          null,
          44,
          19,
          33,
          null,
          29,
          22,
          30,
          44,
          25,
          54,
          null,
          29,
          62,
          30,
          41,
          null,
          52,
          40,
          null,
          36,
          16,
          null,
          37,
          45,
          null,
          7,
          65,
          28,
          16,
          null,
          33,
          22,
          36,
          24,
          24,
          null,
          23.5,
          2,
          19,
          null,
          30,
          26,
          28,
          43,
          54,
          22,
          27,
          null,
          61,
          45.5,
          38,
          16,
          null,
          29,
          45,
          28,
          25,
          36,
          42,
          23,
          null,
          15,
          25,
          null,
          28,
          38,
          40,
          29,
          45,
          35,
          null,
          30,
          18,
          19,
          22,
          3,
          27,
          20,
          19,
          32,
          null,
          18,
          1,
          null,
          28,
          22,
          31,
          46,
          23,
          26,
          21,
          28,
          20,
          34,
          51,
          21,
          null,
          null,
          null,
          null,
          null,
          30,
          10,
          null,
          21,
          29,
          28,
          18,
          null,
          null,
          17,
          50,
          21,
          64,
          31,
          20,
          25,
          36,
          null,
          30,
          null,
          65,
          null,
          34,
          47,
          48,
          null,
          38,
          null,
          56,
          null,
          null,
          38,
          22,
          null,
          34,
          29,
          22,
          9,
          null,
          50,
          null,
          58,
          30,
          null,
          21,
          55,
          71,
          21,
          null,
          null,
          25,
          24,
          17,
          21,
          null,
          37,
          18,
          28,
          null,
          24,
          47,
          null,
          32,
          22,
          null,
          null,
          40.5,
          null,
          39,
          23,
          null,
          17,
          30,
          45,
          null,
          9,
          11,
          50,
          64,
          33,
          27,
          null,
          62,
          null,
          null,
          40,
          28,
          null,
          null,
          24,
          19,
          29,
          null,
          16,
          19,
          null,
          54,
          36,
          null,
          47,
          22,
          null,
          35,
          47,
          null,
          37,
          36,
          49,
          null,
          null,
          null,
          44,
          36,
          30,
          39,
          null,
          null,
          35,
          34,
          26,
          26,
          27,
          21,
          21,
          61,
          57,
          26,
          null,
          51,
          null,
          9,
          32,
          31,
          41,
          null,
          20,
          2,
          19,
          null,
          null,
          21,
          18,
          24,
          null,
          32,
          23,
          58,
          40,
          47,
          36,
          32,
          25,
          null,
          43,
          31,
          70,
          null,
          18,
          24.5,
          43,
          null,
          20,
          14,
          60,
          25,
          14,
          19,
          18,
          25,
          60,
          52,
          44,
          49,
          42,
          18,
          25,
          26,
          39,
          null,
          29,
          52,
          19,
          null,
          33,
          17,
          34,
          50,
          20,
          25,
          25,
          11,
          null,
          23,
          23,
          28.5,
          48,
          null,
          null,
          36,
          24,
          70,
          16,
          19,
          31,
          33,
          23,
          28,
          18,
          34,
          null,
          41,
          16,
          null,
          30.5,
          null,
          32,
          24,
          48,
          57,
          null,
          18,
          null,
          null,
          29,
          null,
          25,
          25,
          8,
          46,
          null,
          16,
          null,
          null,
          25,
          39,
          30,
          30,
          34,
          31,
          39,
          18,
          39,
          26,
          39,
          35,
          6,
          30.5,
          null,
          23,
          31,
          43,
          10,
          38,
          2,
          null,
          null,
          null,
          23,
          18,
          21,
          null,
          20,
          16,
          34.5,
          17,
          42,
          null,
          35,
          28,
          4,
          74,
          9,
          44,
          null,
          41,
          21,
          null,
          24,
          31,
          null,
          26,
          33,
          47,
          20,
          19,
          null,
          33,
          22,
          28,
          25,
          39,
          27,
          null,
          32
         ],
         "y0": " ",
         "yaxis": "y"
        },
        {
         "alignmentgroup": "True",
         "boxpoints": "all",
         "customdata": [
          [
           2,
           "female"
          ],
          [
           3,
           "female"
          ],
          [
           4,
           "female"
          ],
          [
           9,
           "female"
          ],
          [
           10,
           "female"
          ],
          [
           11,
           "female"
          ],
          [
           12,
           "female"
          ],
          [
           16,
           "female"
          ],
          [
           18,
           "male"
          ],
          [
           20,
           "female"
          ],
          [
           22,
           "male"
          ],
          [
           23,
           "female"
          ],
          [
           24,
           "male"
          ],
          [
           26,
           "female"
          ],
          [
           29,
           "female"
          ],
          [
           32,
           "female"
          ],
          [
           33,
           "female"
          ],
          [
           37,
           "male"
          ],
          [
           40,
           "female"
          ],
          [
           44,
           "female"
          ],
          [
           45,
           "female"
          ],
          [
           48,
           "female"
          ],
          [
           53,
           "female"
          ],
          [
           54,
           "female"
          ],
          [
           56,
           "male"
          ],
          [
           57,
           "female"
          ],
          [
           59,
           "female"
          ],
          [
           62,
           "female"
          ],
          [
           66,
           "male"
          ],
          [
           67,
           "female"
          ],
          [
           69,
           "female"
          ],
          [
           75,
           "male"
          ],
          [
           79,
           "male"
          ],
          [
           80,
           "female"
          ],
          [
           82,
           "male"
          ],
          [
           83,
           "female"
          ],
          [
           85,
           "female"
          ],
          [
           86,
           "female"
          ],
          [
           89,
           "female"
          ],
          [
           98,
           "male"
          ],
          [
           99,
           "female"
          ],
          [
           107,
           "female"
          ],
          [
           108,
           "male"
          ],
          [
           110,
           "female"
          ],
          [
           124,
           "female"
          ],
          [
           126,
           "male"
          ],
          [
           128,
           "male"
          ],
          [
           129,
           "female"
          ],
          [
           134,
           "female"
          ],
          [
           137,
           "female"
          ],
          [
           142,
           "female"
          ],
          [
           143,
           "female"
          ],
          [
           147,
           "male"
          ],
          [
           152,
           "female"
          ],
          [
           157,
           "female"
          ],
          [
           162,
           "female"
          ],
          [
           166,
           "male"
          ],
          [
           167,
           "female"
          ],
          [
           173,
           "female"
          ],
          [
           184,
           "male"
          ],
          [
           185,
           "female"
          ],
          [
           187,
           "female"
          ],
          [
           188,
           "male"
          ],
          [
           191,
           "female"
          ],
          [
           193,
           "female"
          ],
          [
           194,
           "male"
          ],
          [
           195,
           "female"
          ],
          [
           196,
           "female"
          ],
          [
           199,
           "female"
          ],
          [
           205,
           "male"
          ],
          [
           208,
           "male"
          ],
          [
           209,
           "female"
          ],
          [
           210,
           "male"
          ],
          [
           212,
           "female"
          ],
          [
           216,
           "female"
          ],
          [
           217,
           "female"
          ],
          [
           219,
           "female"
          ],
          [
           221,
           "male"
          ],
          [
           225,
           "male"
          ],
          [
           227,
           "male"
          ],
          [
           231,
           "female"
          ],
          [
           234,
           "female"
          ],
          [
           238,
           "female"
          ],
          [
           242,
           "female"
          ],
          [
           248,
           "female"
          ],
          [
           249,
           "male"
          ],
          [
           256,
           "female"
          ],
          [
           257,
           "female"
          ],
          [
           258,
           "female"
          ],
          [
           259,
           "female"
          ],
          [
           260,
           "female"
          ],
          [
           262,
           "male"
          ],
          [
           268,
           "male"
          ],
          [
           269,
           "female"
          ],
          [
           270,
           "female"
          ],
          [
           272,
           "male"
          ],
          [
           273,
           "female"
          ],
          [
           275,
           "female"
          ],
          [
           276,
           "female"
          ],
          [
           280,
           "female"
          ],
          [
           284,
           "male"
          ],
          [
           287,
           "male"
          ],
          [
           289,
           "male"
          ],
          [
           290,
           "female"
          ],
          [
           291,
           "female"
          ],
          [
           292,
           "female"
          ],
          [
           299,
           "male"
          ],
          [
           300,
           "female"
          ],
          [
           301,
           "female"
          ],
          [
           302,
           "male"
          ],
          [
           304,
           "female"
          ],
          [
           306,
           "male"
          ],
          [
           307,
           "female"
          ],
          [
           308,
           "female"
          ],
          [
           310,
           "female"
          ],
          [
           311,
           "female"
          ],
          [
           312,
           "female"
          ],
          [
           316,
           "female"
          ],
          [
           317,
           "female"
          ],
          [
           319,
           "female"
          ],
          [
           320,
           "female"
          ],
          [
           323,
           "female"
          ],
          [
           324,
           "female"
          ],
          [
           326,
           "female"
          ],
          [
           328,
           "female"
          ],
          [
           329,
           "female"
          ],
          [
           330,
           "female"
          ],
          [
           331,
           "female"
          ],
          [
           335,
           "female"
          ],
          [
           338,
           "female"
          ],
          [
           339,
           "male"
          ],
          [
           341,
           "male"
          ],
          [
           342,
           "female"
          ],
          [
           346,
           "female"
          ],
          [
           347,
           "female"
          ],
          [
           348,
           "female"
          ],
          [
           349,
           "male"
          ],
          [
           357,
           "female"
          ],
          [
           359,
           "female"
          ],
          [
           360,
           "female"
          ],
          [
           367,
           "female"
          ],
          [
           368,
           "female"
          ],
          [
           369,
           "female"
          ],
          [
           370,
           "female"
          ],
          [
           371,
           "male"
          ],
          [
           376,
           "female"
          ],
          [
           377,
           "female"
          ],
          [
           381,
           "female"
          ],
          [
           382,
           "female"
          ],
          [
           384,
           "female"
          ],
          [
           388,
           "female"
          ],
          [
           390,
           "female"
          ],
          [
           391,
           "male"
          ],
          [
           392,
           "male"
          ],
          [
           394,
           "female"
          ],
          [
           395,
           "female"
          ],
          [
           400,
           "female"
          ],
          [
           401,
           "male"
          ],
          [
           408,
           "male"
          ],
          [
           413,
           "female"
          ],
          [
           415,
           "male"
          ],
          [
           417,
           "female"
          ],
          [
           418,
           "female"
          ],
          [
           427,
           "female"
          ],
          [
           428,
           "female"
          ],
          [
           430,
           "male"
          ],
          [
           431,
           "male"
          ],
          [
           432,
           "female"
          ],
          [
           433,
           "female"
          ],
          [
           436,
           "female"
          ],
          [
           438,
           "female"
          ],
          [
           441,
           "female"
          ],
          [
           444,
           "female"
          ],
          [
           445,
           "male"
          ],
          [
           446,
           "male"
          ],
          [
           447,
           "female"
          ],
          [
           448,
           "male"
          ],
          [
           449,
           "female"
          ],
          [
           450,
           "male"
          ],
          [
           454,
           "male"
          ],
          [
           456,
           "male"
          ],
          [
           458,
           "female"
          ],
          [
           459,
           "female"
          ],
          [
           461,
           "male"
          ],
          [
           470,
           "female"
          ],
          [
           473,
           "female"
          ],
          [
           474,
           "female"
          ],
          [
           480,
           "female"
          ],
          [
           484,
           "female"
          ],
          [
           485,
           "male"
          ],
          [
           487,
           "female"
          ],
          [
           490,
           "male"
          ],
          [
           497,
           "female"
          ],
          [
           505,
           "female"
          ],
          [
           507,
           "female"
          ],
          [
           508,
           "male"
          ],
          [
           510,
           "male"
          ],
          [
           511,
           "male"
          ],
          [
           513,
           "male"
          ],
          [
           514,
           "female"
          ],
          [
           517,
           "female"
          ],
          [
           519,
           "female"
          ],
          [
           521,
           "female"
          ],
          [
           524,
           "female"
          ],
          [
           527,
           "female"
          ],
          [
           531,
           "female"
          ],
          [
           534,
           "female"
          ],
          [
           536,
           "female"
          ],
          [
           538,
           "female"
          ],
          [
           540,
           "female"
          ],
          [
           541,
           "female"
          ],
          [
           544,
           "male"
          ],
          [
           547,
           "female"
          ],
          [
           548,
           "male"
          ],
          [
           550,
           "male"
          ],
          [
           551,
           "male"
          ],
          [
           554,
           "male"
          ],
          [
           555,
           "female"
          ],
          [
           557,
           "female"
          ],
          [
           559,
           "female"
          ],
          [
           560,
           "female"
          ],
          [
           570,
           "male"
          ],
          [
           571,
           "male"
          ],
          [
           572,
           "female"
          ],
          [
           573,
           "male"
          ],
          [
           574,
           "female"
          ],
          [
           577,
           "female"
          ],
          [
           578,
           "female"
          ],
          [
           580,
           "male"
          ],
          [
           581,
           "female"
          ],
          [
           582,
           "female"
          ],
          [
           586,
           "female"
          ],
          [
           588,
           "male"
          ],
          [
           592,
           "female"
          ],
          [
           597,
           "female"
          ],
          [
           600,
           "male"
          ],
          [
           601,
           "female"
          ],
          [
           605,
           "male"
          ],
          [
           608,
           "male"
          ],
          [
           609,
           "female"
          ],
          [
           610,
           "female"
          ],
          [
           613,
           "female"
          ],
          [
           616,
           "female"
          ],
          [
           619,
           "female"
          ],
          [
           622,
           "male"
          ],
          [
           623,
           "male"
          ],
          [
           628,
           "female"
          ],
          [
           631,
           "male"
          ],
          [
           633,
           "male"
          ],
          [
           636,
           "female"
          ],
          [
           642,
           "female"
          ],
          [
           644,
           "male"
          ],
          [
           645,
           "female"
          ],
          [
           646,
           "male"
          ],
          [
           648,
           "male"
          ],
          [
           650,
           "female"
          ],
          [
           652,
           "female"
          ],
          [
           654,
           "female"
          ],
          [
           661,
           "male"
          ],
          [
           665,
           "male"
          ],
          [
           670,
           "female"
          ],
          [
           671,
           "female"
          ],
          [
           674,
           "male"
          ],
          [
           678,
           "female"
          ],
          [
           680,
           "male"
          ],
          [
           682,
           "male"
          ],
          [
           690,
           "female"
          ],
          [
           691,
           "male"
          ],
          [
           692,
           "female"
          ],
          [
           693,
           "male"
          ],
          [
           698,
           "female"
          ],
          [
           701,
           "female"
          ],
          [
           702,
           "male"
          ],
          [
           707,
           "female"
          ],
          [
           708,
           "male"
          ],
          [
           709,
           "female"
          ],
          [
           710,
           "male"
          ],
          [
           711,
           "female"
          ],
          [
           713,
           "male"
          ],
          [
           717,
           "female"
          ],
          [
           718,
           "female"
          ],
          [
           721,
           "female"
          ],
          [
           725,
           "male"
          ],
          [
           727,
           "female"
          ],
          [
           728,
           "female"
          ],
          [
           731,
           "female"
          ],
          [
           738,
           "male"
          ],
          [
           741,
           "male"
          ],
          [
           743,
           "female"
          ],
          [
           745,
           "male"
          ],
          [
           748,
           "female"
          ],
          [
           751,
           "female"
          ],
          [
           752,
           "male"
          ],
          [
           755,
           "female"
          ],
          [
           756,
           "male"
          ],
          [
           760,
           "female"
          ],
          [
           763,
           "male"
          ],
          [
           764,
           "female"
          ],
          [
           766,
           "female"
          ],
          [
           775,
           "female"
          ],
          [
           778,
           "female"
          ],
          [
           780,
           "female"
          ],
          [
           781,
           "female"
          ],
          [
           782,
           "female"
          ],
          [
           787,
           "female"
          ],
          [
           789,
           "male"
          ],
          [
           797,
           "female"
          ],
          [
           798,
           "female"
          ],
          [
           802,
           "female"
          ],
          [
           803,
           "male"
          ],
          [
           804,
           "male"
          ],
          [
           805,
           "male"
          ],
          [
           810,
           "female"
          ],
          [
           821,
           "female"
          ],
          [
           822,
           "male"
          ],
          [
           824,
           "female"
          ],
          [
           828,
           "male"
          ],
          [
           829,
           "male"
          ],
          [
           830,
           "female"
          ],
          [
           831,
           "female"
          ],
          [
           832,
           "male"
          ],
          [
           836,
           "female"
          ],
          [
           839,
           "male"
          ],
          [
           840,
           "male"
          ],
          [
           843,
           "female"
          ],
          [
           850,
           "female"
          ],
          [
           854,
           "female"
          ],
          [
           856,
           "female"
          ],
          [
           857,
           "female"
          ],
          [
           858,
           "male"
          ],
          [
           859,
           "female"
          ],
          [
           863,
           "female"
          ],
          [
           866,
           "female"
          ],
          [
           867,
           "female"
          ],
          [
           870,
           "male"
          ],
          [
           872,
           "female"
          ],
          [
           875,
           "female"
          ],
          [
           876,
           "female"
          ],
          [
           880,
           "female"
          ],
          [
           881,
           "female"
          ],
          [
           888,
           "female"
          ],
          [
           890,
           "male"
          ]
         ],
         "hovertemplate": "Survived=1<br>Pclass=%{x}<br>Age=%{y}<br>PassengerId=%{customdata[0]}<br>Sex=%{customdata[1]}<extra></extra>",
         "legendgroup": "1",
         "marker": {
          "color": "#EF553B"
         },
         "name": "1",
         "notched": false,
         "offsetgroup": "1",
         "orientation": "v",
         "showlegend": true,
         "type": "box",
         "x": [
          1,
          3,
          1,
          3,
          2,
          3,
          1,
          2,
          2,
          3,
          2,
          3,
          1,
          3,
          3,
          1,
          3,
          3,
          3,
          2,
          3,
          3,
          1,
          2,
          1,
          2,
          2,
          1,
          3,
          2,
          3,
          3,
          2,
          3,
          3,
          3,
          2,
          3,
          1,
          1,
          2,
          3,
          3,
          3,
          2,
          3,
          3,
          3,
          2,
          1,
          3,
          3,
          3,
          1,
          3,
          2,
          3,
          1,
          3,
          2,
          3,
          3,
          1,
          2,
          3,
          2,
          1,
          1,
          3,
          3,
          3,
          3,
          1,
          2,
          1,
          3,
          1,
          3,
          1,
          2,
          1,
          3,
          2,
          3,
          2,
          1,
          3,
          1,
          1,
          1,
          2,
          3,
          3,
          1,
          1,
          3,
          2,
          3,
          1,
          3,
          3,
          3,
          2,
          3,
          1,
          1,
          1,
          1,
          3,
          3,
          2,
          1,
          1,
          1,
          1,
          1,
          1,
          3,
          2,
          1,
          1,
          2,
          2,
          1,
          2,
          3,
          1,
          3,
          1,
          1,
          3,
          2,
          1,
          2,
          2,
          3,
          3,
          1,
          3,
          3,
          1,
          3,
          3,
          1,
          1,
          1,
          3,
          1,
          3,
          1,
          2,
          2,
          1,
          3,
          1,
          3,
          2,
          3,
          2,
          1,
          3,
          2,
          2,
          2,
          2,
          3,
          1,
          3,
          2,
          1,
          2,
          2,
          2,
          3,
          1,
          2,
          1,
          3,
          1,
          1,
          3,
          1,
          2,
          1,
          3,
          2,
          2,
          3,
          3,
          1,
          1,
          3,
          1,
          1,
          2,
          1,
          3,
          3,
          1,
          1,
          2,
          2,
          1,
          1,
          2,
          2,
          3,
          2,
          1,
          1,
          1,
          2,
          2,
          2,
          2,
          1,
          3,
          3,
          1,
          1,
          3,
          3,
          2,
          1,
          1,
          3,
          2,
          1,
          3,
          2,
          1,
          1,
          1,
          1,
          2,
          1,
          2,
          1,
          1,
          2,
          1,
          3,
          2,
          2,
          1,
          3,
          1,
          1,
          1,
          2,
          1,
          3,
          3,
          1,
          1,
          3,
          2,
          3,
          1,
          3,
          1,
          2,
          2,
          3,
          1,
          1,
          1,
          1,
          3,
          3,
          3,
          1,
          1,
          2,
          1,
          1,
          3,
          1,
          1,
          1,
          2,
          2,
          1,
          2,
          3,
          1,
          1,
          1,
          1,
          3,
          2,
          2,
          3,
          2,
          2,
          1,
          3,
          1,
          1,
          2,
          3,
          1,
          3,
          1,
          3,
          3,
          1,
          3,
          2,
          1,
          3,
          3,
          1,
          1,
          3,
          3,
          2,
          3,
          1,
          3,
          2,
          1,
          3,
          1,
          1,
          1,
          1,
          3,
          1,
          1,
          3,
          1,
          2,
          2,
          3,
          1,
          2,
          3,
          1,
          2,
          1,
          1
         ],
         "x0": " ",
         "xaxis": "x",
         "y": [
          38,
          26,
          35,
          27,
          14,
          4,
          58,
          55,
          null,
          null,
          34,
          15,
          28,
          38,
          null,
          null,
          null,
          null,
          14,
          3,
          19,
          null,
          49,
          29,
          null,
          21,
          5,
          38,
          null,
          29,
          17,
          32,
          0.83,
          30,
          29,
          null,
          17,
          33,
          23,
          23,
          34,
          21,
          null,
          null,
          32.5,
          12,
          24,
          null,
          29,
          19,
          22,
          24,
          27,
          22,
          16,
          40,
          9,
          null,
          1,
          1,
          4,
          null,
          45,
          32,
          19,
          3,
          44,
          58,
          null,
          18,
          26,
          16,
          40,
          35,
          31,
          27,
          32,
          16,
          38,
          19,
          35,
          5,
          8,
          null,
          24,
          37,
          29,
          null,
          30,
          35,
          50,
          3,
          25,
          58,
          35,
          25,
          41,
          null,
          63,
          35,
          19,
          30,
          42,
          22,
          26,
          19,
          null,
          50,
          null,
          null,
          null,
          0.92,
          null,
          17,
          30,
          24,
          18,
          26,
          24,
          31,
          40,
          30,
          22,
          36,
          36,
          31,
          16,
          null,
          null,
          41,
          45,
          2,
          24,
          24,
          40,
          null,
          3,
          22,
          null,
          null,
          60,
          null,
          null,
          24,
          25,
          null,
          22,
          42,
          1,
          35,
          36,
          17,
          36,
          21,
          23,
          24,
          28,
          39,
          3,
          33,
          44,
          34,
          18,
          28,
          19,
          32,
          28,
          null,
          42,
          14,
          24,
          45,
          28,
          null,
          4,
          13,
          34,
          5,
          52,
          49,
          29,
          null,
          50,
          48,
          0.75,
          33,
          23,
          2,
          63,
          25,
          35,
          9,
          54,
          16,
          33,
          null,
          26,
          29,
          36,
          54,
          34,
          36,
          30,
          44,
          50,
          2,
          null,
          7,
          30,
          22,
          36,
          32,
          19,
          null,
          8,
          17,
          22,
          22,
          48,
          39,
          36,
          32,
          62,
          53,
          36,
          null,
          34,
          39,
          32,
          25,
          39,
          18,
          60,
          52,
          null,
          49,
          24,
          35,
          27,
          22,
          40,
          null,
          24,
          4,
          42,
          20,
          21,
          80,
          32,
          28,
          24,
          null,
          0.75,
          48,
          56,
          23,
          18,
          null,
          50,
          20,
          null,
          40,
          31,
          18,
          36,
          27,
          15,
          31,
          4,
          null,
          null,
          18,
          35,
          45,
          42,
          22,
          null,
          24,
          48,
          38,
          27,
          6,
          27,
          30,
          null,
          29,
          35,
          null,
          21,
          31,
          30,
          4,
          6,
          48,
          0.67,
          33,
          20,
          36,
          51,
          54,
          5,
          43,
          13,
          17,
          18,
          1,
          49,
          31,
          31,
          11,
          0.42,
          27,
          33,
          52,
          27,
          27,
          1,
          null,
          62,
          15,
          0.83,
          39,
          32,
          null,
          30,
          null,
          16,
          18,
          45,
          51,
          24,
          48,
          42,
          27,
          4,
          47,
          28,
          15,
          56,
          25,
          19,
          26
         ],
         "y0": " ",
         "yaxis": "y"
        }
       ],
       "layout": {
        "boxmode": "group",
        "legend": {
         "title": {
          "text": "Survived"
         },
         "tracegroupgap": 0
        },
        "margin": {
         "t": 60
        },
        "template": {
         "data": {
          "bar": [
           {
            "error_x": {
             "color": "#2a3f5f"
            },
            "error_y": {
             "color": "#2a3f5f"
            },
            "marker": {
             "line": {
              "color": "#E5ECF6",
              "width": 0.5
             },
             "pattern": {
              "fillmode": "overlay",
              "size": 10,
              "solidity": 0.2
             }
            },
            "type": "bar"
           }
          ],
          "barpolar": [
           {
            "marker": {
             "line": {
              "color": "#E5ECF6",
              "width": 0.5
             },
             "pattern": {
              "fillmode": "overlay",
              "size": 10,
              "solidity": 0.2
             }
            },
            "type": "barpolar"
           }
          ],
          "carpet": [
           {
            "aaxis": {
             "endlinecolor": "#2a3f5f",
             "gridcolor": "white",
             "linecolor": "white",
             "minorgridcolor": "white",
             "startlinecolor": "#2a3f5f"
            },
            "baxis": {
             "endlinecolor": "#2a3f5f",
             "gridcolor": "white",
             "linecolor": "white",
             "minorgridcolor": "white",
             "startlinecolor": "#2a3f5f"
            },
            "type": "carpet"
           }
          ],
          "choropleth": [
           {
            "colorbar": {
             "outlinewidth": 0,
             "ticks": ""
            },
            "type": "choropleth"
           }
          ],
          "contour": [
           {
            "colorbar": {
             "outlinewidth": 0,
             "ticks": ""
            },
            "colorscale": [
             [
              0,
              "#0d0887"
             ],
             [
              0.1111111111111111,
              "#46039f"
             ],
             [
              0.2222222222222222,
              "#7201a8"
             ],
             [
              0.3333333333333333,
              "#9c179e"
             ],
             [
              0.4444444444444444,
              "#bd3786"
             ],
             [
              0.5555555555555556,
              "#d8576b"
             ],
             [
              0.6666666666666666,
              "#ed7953"
             ],
             [
              0.7777777777777778,
              "#fb9f3a"
             ],
             [
              0.8888888888888888,
              "#fdca26"
             ],
             [
              1,
              "#f0f921"
             ]
            ],
            "type": "contour"
           }
          ],
          "contourcarpet": [
           {
            "colorbar": {
             "outlinewidth": 0,
             "ticks": ""
            },
            "type": "contourcarpet"
           }
          ],
          "heatmap": [
           {
            "colorbar": {
             "outlinewidth": 0,
             "ticks": ""
            },
            "colorscale": [
             [
              0,
              "#0d0887"
             ],
             [
              0.1111111111111111,
              "#46039f"
             ],
             [
              0.2222222222222222,
              "#7201a8"
             ],
             [
              0.3333333333333333,
              "#9c179e"
             ],
             [
              0.4444444444444444,
              "#bd3786"
             ],
             [
              0.5555555555555556,
              "#d8576b"
             ],
             [
              0.6666666666666666,
              "#ed7953"
             ],
             [
              0.7777777777777778,
              "#fb9f3a"
             ],
             [
              0.8888888888888888,
              "#fdca26"
             ],
             [
              1,
              "#f0f921"
             ]
            ],
            "type": "heatmap"
           }
          ],
          "heatmapgl": [
           {
            "colorbar": {
             "outlinewidth": 0,
             "ticks": ""
            },
            "colorscale": [
             [
              0,
              "#0d0887"
             ],
             [
              0.1111111111111111,
              "#46039f"
             ],
             [
              0.2222222222222222,
              "#7201a8"
             ],
             [
              0.3333333333333333,
              "#9c179e"
             ],
             [
              0.4444444444444444,
              "#bd3786"
             ],
             [
              0.5555555555555556,
              "#d8576b"
             ],
             [
              0.6666666666666666,
              "#ed7953"
             ],
             [
              0.7777777777777778,
              "#fb9f3a"
             ],
             [
              0.8888888888888888,
              "#fdca26"
             ],
             [
              1,
              "#f0f921"
             ]
            ],
            "type": "heatmapgl"
           }
          ],
          "histogram": [
           {
            "marker": {
             "pattern": {
              "fillmode": "overlay",
              "size": 10,
              "solidity": 0.2
             }
            },
            "type": "histogram"
           }
          ],
          "histogram2d": [
           {
            "colorbar": {
             "outlinewidth": 0,
             "ticks": ""
            },
            "colorscale": [
             [
              0,
              "#0d0887"
             ],
             [
              0.1111111111111111,
              "#46039f"
             ],
             [
              0.2222222222222222,
              "#7201a8"
             ],
             [
              0.3333333333333333,
              "#9c179e"
             ],
             [
              0.4444444444444444,
              "#bd3786"
             ],
             [
              0.5555555555555556,
              "#d8576b"
             ],
             [
              0.6666666666666666,
              "#ed7953"
             ],
             [
              0.7777777777777778,
              "#fb9f3a"
             ],
             [
              0.8888888888888888,
              "#fdca26"
             ],
             [
              1,
              "#f0f921"
             ]
            ],
            "type": "histogram2d"
           }
          ],
          "histogram2dcontour": [
           {
            "colorbar": {
             "outlinewidth": 0,
             "ticks": ""
            },
            "colorscale": [
             [
              0,
              "#0d0887"
             ],
             [
              0.1111111111111111,
              "#46039f"
             ],
             [
              0.2222222222222222,
              "#7201a8"
             ],
             [
              0.3333333333333333,
              "#9c179e"
             ],
             [
              0.4444444444444444,
              "#bd3786"
             ],
             [
              0.5555555555555556,
              "#d8576b"
             ],
             [
              0.6666666666666666,
              "#ed7953"
             ],
             [
              0.7777777777777778,
              "#fb9f3a"
             ],
             [
              0.8888888888888888,
              "#fdca26"
             ],
             [
              1,
              "#f0f921"
             ]
            ],
            "type": "histogram2dcontour"
           }
          ],
          "mesh3d": [
           {
            "colorbar": {
             "outlinewidth": 0,
             "ticks": ""
            },
            "type": "mesh3d"
           }
          ],
          "parcoords": [
           {
            "line": {
             "colorbar": {
              "outlinewidth": 0,
              "ticks": ""
             }
            },
            "type": "parcoords"
           }
          ],
          "pie": [
           {
            "automargin": true,
            "type": "pie"
           }
          ],
          "scatter": [
           {
            "fillpattern": {
             "fillmode": "overlay",
             "size": 10,
             "solidity": 0.2
            },
            "type": "scatter"
           }
          ],
          "scatter3d": [
           {
            "line": {
             "colorbar": {
              "outlinewidth": 0,
              "ticks": ""
             }
            },
            "marker": {
             "colorbar": {
              "outlinewidth": 0,
              "ticks": ""
             }
            },
            "type": "scatter3d"
           }
          ],
          "scattercarpet": [
           {
            "marker": {
             "colorbar": {
              "outlinewidth": 0,
              "ticks": ""
             }
            },
            "type": "scattercarpet"
           }
          ],
          "scattergeo": [
           {
            "marker": {
             "colorbar": {
              "outlinewidth": 0,
              "ticks": ""
             }
            },
            "type": "scattergeo"
           }
          ],
          "scattergl": [
           {
            "marker": {
             "colorbar": {
              "outlinewidth": 0,
              "ticks": ""
             }
            },
            "type": "scattergl"
           }
          ],
          "scattermapbox": [
           {
            "marker": {
             "colorbar": {
              "outlinewidth": 0,
              "ticks": ""
             }
            },
            "type": "scattermapbox"
           }
          ],
          "scatterpolar": [
           {
            "marker": {
             "colorbar": {
              "outlinewidth": 0,
              "ticks": ""
             }
            },
            "type": "scatterpolar"
           }
          ],
          "scatterpolargl": [
           {
            "marker": {
             "colorbar": {
              "outlinewidth": 0,
              "ticks": ""
             }
            },
            "type": "scatterpolargl"
           }
          ],
          "scatterternary": [
           {
            "marker": {
             "colorbar": {
              "outlinewidth": 0,
              "ticks": ""
             }
            },
            "type": "scatterternary"
           }
          ],
          "surface": [
           {
            "colorbar": {
             "outlinewidth": 0,
             "ticks": ""
            },
            "colorscale": [
             [
              0,
              "#0d0887"
             ],
             [
              0.1111111111111111,
              "#46039f"
             ],
             [
              0.2222222222222222,
              "#7201a8"
             ],
             [
              0.3333333333333333,
              "#9c179e"
             ],
             [
              0.4444444444444444,
              "#bd3786"
             ],
             [
              0.5555555555555556,
              "#d8576b"
             ],
             [
              0.6666666666666666,
              "#ed7953"
             ],
             [
              0.7777777777777778,
              "#fb9f3a"
             ],
             [
              0.8888888888888888,
              "#fdca26"
             ],
             [
              1,
              "#f0f921"
             ]
            ],
            "type": "surface"
           }
          ],
          "table": [
           {
            "cells": {
             "fill": {
              "color": "#EBF0F8"
             },
             "line": {
              "color": "white"
             }
            },
            "header": {
             "fill": {
              "color": "#C8D4E3"
             },
             "line": {
              "color": "white"
             }
            },
            "type": "table"
           }
          ]
         },
         "layout": {
          "annotationdefaults": {
           "arrowcolor": "#2a3f5f",
           "arrowhead": 0,
           "arrowwidth": 1
          },
          "autotypenumbers": "strict",
          "coloraxis": {
           "colorbar": {
            "outlinewidth": 0,
            "ticks": ""
           }
          },
          "colorscale": {
           "diverging": [
            [
             0,
             "#8e0152"
            ],
            [
             0.1,
             "#c51b7d"
            ],
            [
             0.2,
             "#de77ae"
            ],
            [
             0.3,
             "#f1b6da"
            ],
            [
             0.4,
             "#fde0ef"
            ],
            [
             0.5,
             "#f7f7f7"
            ],
            [
             0.6,
             "#e6f5d0"
            ],
            [
             0.7,
             "#b8e186"
            ],
            [
             0.8,
             "#7fbc41"
            ],
            [
             0.9,
             "#4d9221"
            ],
            [
             1,
             "#276419"
            ]
           ],
           "sequential": [
            [
             0,
             "#0d0887"
            ],
            [
             0.1111111111111111,
             "#46039f"
            ],
            [
             0.2222222222222222,
             "#7201a8"
            ],
            [
             0.3333333333333333,
             "#9c179e"
            ],
            [
             0.4444444444444444,
             "#bd3786"
            ],
            [
             0.5555555555555556,
             "#d8576b"
            ],
            [
             0.6666666666666666,
             "#ed7953"
            ],
            [
             0.7777777777777778,
             "#fb9f3a"
            ],
            [
             0.8888888888888888,
             "#fdca26"
            ],
            [
             1,
             "#f0f921"
            ]
           ],
           "sequentialminus": [
            [
             0,
             "#0d0887"
            ],
            [
             0.1111111111111111,
             "#46039f"
            ],
            [
             0.2222222222222222,
             "#7201a8"
            ],
            [
             0.3333333333333333,
             "#9c179e"
            ],
            [
             0.4444444444444444,
             "#bd3786"
            ],
            [
             0.5555555555555556,
             "#d8576b"
            ],
            [
             0.6666666666666666,
             "#ed7953"
            ],
            [
             0.7777777777777778,
             "#fb9f3a"
            ],
            [
             0.8888888888888888,
             "#fdca26"
            ],
            [
             1,
             "#f0f921"
            ]
           ]
          },
          "colorway": [
           "#636efa",
           "#EF553B",
           "#00cc96",
           "#ab63fa",
           "#FFA15A",
           "#19d3f3",
           "#FF6692",
           "#B6E880",
           "#FF97FF",
           "#FECB52"
          ],
          "font": {
           "color": "#2a3f5f"
          },
          "geo": {
           "bgcolor": "white",
           "lakecolor": "white",
           "landcolor": "#E5ECF6",
           "showlakes": true,
           "showland": true,
           "subunitcolor": "white"
          },
          "hoverlabel": {
           "align": "left"
          },
          "hovermode": "closest",
          "mapbox": {
           "style": "light"
          },
          "paper_bgcolor": "white",
          "plot_bgcolor": "#E5ECF6",
          "polar": {
           "angularaxis": {
            "gridcolor": "white",
            "linecolor": "white",
            "ticks": ""
           },
           "bgcolor": "#E5ECF6",
           "radialaxis": {
            "gridcolor": "white",
            "linecolor": "white",
            "ticks": ""
           }
          },
          "scene": {
           "xaxis": {
            "backgroundcolor": "#E5ECF6",
            "gridcolor": "white",
            "gridwidth": 2,
            "linecolor": "white",
            "showbackground": true,
            "ticks": "",
            "zerolinecolor": "white"
           },
           "yaxis": {
            "backgroundcolor": "#E5ECF6",
            "gridcolor": "white",
            "gridwidth": 2,
            "linecolor": "white",
            "showbackground": true,
            "ticks": "",
            "zerolinecolor": "white"
           },
           "zaxis": {
            "backgroundcolor": "#E5ECF6",
            "gridcolor": "white",
            "gridwidth": 2,
            "linecolor": "white",
            "showbackground": true,
            "ticks": "",
            "zerolinecolor": "white"
           }
          },
          "shapedefaults": {
           "line": {
            "color": "#2a3f5f"
           }
          },
          "ternary": {
           "aaxis": {
            "gridcolor": "white",
            "linecolor": "white",
            "ticks": ""
           },
           "baxis": {
            "gridcolor": "white",
            "linecolor": "white",
            "ticks": ""
           },
           "bgcolor": "#E5ECF6",
           "caxis": {
            "gridcolor": "white",
            "linecolor": "white",
            "ticks": ""
           }
          },
          "title": {
           "x": 0.05
          },
          "xaxis": {
           "automargin": true,
           "gridcolor": "white",
           "linecolor": "white",
           "ticks": "",
           "title": {
            "standoff": 15
           },
           "zerolinecolor": "white",
           "zerolinewidth": 2
          },
          "yaxis": {
           "automargin": true,
           "gridcolor": "white",
           "linecolor": "white",
           "ticks": "",
           "title": {
            "standoff": 15
           },
           "zerolinecolor": "white",
           "zerolinewidth": 2
          }
         }
        },
        "title": {
         "text": "Survival Rate by Passenger Class and Age"
        },
        "xaxis": {
         "anchor": "y",
         "domain": [
          0,
          1
         ],
         "title": {
          "text": "Pclass"
         }
        },
        "yaxis": {
         "anchor": "x",
         "domain": [
          0,
          1
         ],
         "title": {
          "text": "Age"
         }
        }
       }
      }
     },
     "metadata": {},
     "output_type": "display_data"
    },
    {
     "data": {
      "application/vnd.plotly.v1+json": {
       "config": {
        "plotlyServerURL": "https://plot.ly"
       },
       "data": [
        {
         "customdata": [
          [
           1,
           3,
           "male"
          ],
          [
           2,
           1,
           "female"
          ],
          [
           3,
           3,
           "female"
          ],
          [
           4,
           1,
           "female"
          ],
          [
           5,
           3,
           "male"
          ],
          [
           6,
           3,
           "male"
          ],
          [
           7,
           1,
           "male"
          ],
          [
           8,
           3,
           "male"
          ],
          [
           9,
           3,
           "female"
          ],
          [
           10,
           2,
           "female"
          ],
          [
           11,
           3,
           "female"
          ],
          [
           12,
           1,
           "female"
          ],
          [
           13,
           3,
           "male"
          ],
          [
           14,
           3,
           "male"
          ],
          [
           15,
           3,
           "female"
          ],
          [
           16,
           2,
           "female"
          ],
          [
           17,
           3,
           "male"
          ],
          [
           18,
           2,
           "male"
          ],
          [
           19,
           3,
           "female"
          ],
          [
           20,
           3,
           "female"
          ],
          [
           21,
           2,
           "male"
          ],
          [
           22,
           2,
           "male"
          ],
          [
           23,
           3,
           "female"
          ],
          [
           24,
           1,
           "male"
          ],
          [
           25,
           3,
           "female"
          ],
          [
           26,
           3,
           "female"
          ],
          [
           27,
           3,
           "male"
          ],
          [
           28,
           1,
           "male"
          ],
          [
           29,
           3,
           "female"
          ],
          [
           30,
           3,
           "male"
          ],
          [
           31,
           1,
           "male"
          ],
          [
           32,
           1,
           "female"
          ],
          [
           33,
           3,
           "female"
          ],
          [
           34,
           2,
           "male"
          ],
          [
           35,
           1,
           "male"
          ],
          [
           36,
           1,
           "male"
          ],
          [
           37,
           3,
           "male"
          ],
          [
           38,
           3,
           "male"
          ],
          [
           39,
           3,
           "female"
          ],
          [
           40,
           3,
           "female"
          ],
          [
           41,
           3,
           "female"
          ],
          [
           42,
           2,
           "female"
          ],
          [
           43,
           3,
           "male"
          ],
          [
           44,
           2,
           "female"
          ],
          [
           45,
           3,
           "female"
          ],
          [
           46,
           3,
           "male"
          ],
          [
           47,
           3,
           "male"
          ],
          [
           48,
           3,
           "female"
          ],
          [
           49,
           3,
           "male"
          ],
          [
           50,
           3,
           "female"
          ],
          [
           51,
           3,
           "male"
          ],
          [
           52,
           3,
           "male"
          ],
          [
           53,
           1,
           "female"
          ],
          [
           54,
           2,
           "female"
          ],
          [
           55,
           1,
           "male"
          ],
          [
           56,
           1,
           "male"
          ],
          [
           57,
           2,
           "female"
          ],
          [
           58,
           3,
           "male"
          ],
          [
           59,
           2,
           "female"
          ],
          [
           60,
           3,
           "male"
          ],
          [
           61,
           3,
           "male"
          ],
          [
           62,
           1,
           "female"
          ],
          [
           63,
           1,
           "male"
          ],
          [
           64,
           3,
           "male"
          ],
          [
           65,
           1,
           "male"
          ],
          [
           66,
           3,
           "male"
          ],
          [
           67,
           2,
           "female"
          ],
          [
           68,
           3,
           "male"
          ],
          [
           69,
           3,
           "female"
          ],
          [
           70,
           3,
           "male"
          ],
          [
           71,
           2,
           "male"
          ],
          [
           72,
           3,
           "female"
          ],
          [
           73,
           2,
           "male"
          ],
          [
           74,
           3,
           "male"
          ],
          [
           75,
           3,
           "male"
          ],
          [
           76,
           3,
           "male"
          ],
          [
           77,
           3,
           "male"
          ],
          [
           78,
           3,
           "male"
          ],
          [
           79,
           2,
           "male"
          ],
          [
           80,
           3,
           "female"
          ],
          [
           81,
           3,
           "male"
          ],
          [
           82,
           3,
           "male"
          ],
          [
           83,
           3,
           "female"
          ],
          [
           84,
           1,
           "male"
          ],
          [
           85,
           2,
           "female"
          ],
          [
           86,
           3,
           "female"
          ],
          [
           87,
           3,
           "male"
          ],
          [
           88,
           3,
           "male"
          ],
          [
           89,
           1,
           "female"
          ],
          [
           90,
           3,
           "male"
          ],
          [
           91,
           3,
           "male"
          ],
          [
           92,
           3,
           "male"
          ],
          [
           93,
           1,
           "male"
          ],
          [
           94,
           3,
           "male"
          ],
          [
           95,
           3,
           "male"
          ],
          [
           96,
           3,
           "male"
          ],
          [
           97,
           1,
           "male"
          ],
          [
           98,
           1,
           "male"
          ],
          [
           99,
           2,
           "female"
          ],
          [
           100,
           2,
           "male"
          ],
          [
           101,
           3,
           "female"
          ],
          [
           102,
           3,
           "male"
          ],
          [
           103,
           1,
           "male"
          ],
          [
           104,
           3,
           "male"
          ],
          [
           105,
           3,
           "male"
          ],
          [
           106,
           3,
           "male"
          ],
          [
           107,
           3,
           "female"
          ],
          [
           108,
           3,
           "male"
          ],
          [
           109,
           3,
           "male"
          ],
          [
           110,
           3,
           "female"
          ],
          [
           111,
           1,
           "male"
          ],
          [
           112,
           3,
           "female"
          ],
          [
           113,
           3,
           "male"
          ],
          [
           114,
           3,
           "female"
          ],
          [
           115,
           3,
           "female"
          ],
          [
           116,
           3,
           "male"
          ],
          [
           117,
           3,
           "male"
          ],
          [
           118,
           2,
           "male"
          ],
          [
           119,
           1,
           "male"
          ],
          [
           120,
           3,
           "female"
          ],
          [
           121,
           2,
           "male"
          ],
          [
           122,
           3,
           "male"
          ],
          [
           123,
           2,
           "male"
          ],
          [
           124,
           2,
           "female"
          ],
          [
           125,
           1,
           "male"
          ],
          [
           126,
           3,
           "male"
          ],
          [
           127,
           3,
           "male"
          ],
          [
           128,
           3,
           "male"
          ],
          [
           129,
           3,
           "female"
          ],
          [
           130,
           3,
           "male"
          ],
          [
           131,
           3,
           "male"
          ],
          [
           132,
           3,
           "male"
          ],
          [
           133,
           3,
           "female"
          ],
          [
           134,
           2,
           "female"
          ],
          [
           135,
           2,
           "male"
          ],
          [
           136,
           2,
           "male"
          ],
          [
           137,
           1,
           "female"
          ],
          [
           138,
           1,
           "male"
          ],
          [
           139,
           3,
           "male"
          ],
          [
           140,
           1,
           "male"
          ],
          [
           141,
           3,
           "female"
          ],
          [
           142,
           3,
           "female"
          ],
          [
           143,
           3,
           "female"
          ],
          [
           144,
           3,
           "male"
          ],
          [
           145,
           2,
           "male"
          ],
          [
           146,
           2,
           "male"
          ],
          [
           147,
           3,
           "male"
          ],
          [
           148,
           3,
           "female"
          ],
          [
           149,
           2,
           "male"
          ],
          [
           150,
           2,
           "male"
          ],
          [
           151,
           2,
           "male"
          ],
          [
           152,
           1,
           "female"
          ],
          [
           153,
           3,
           "male"
          ],
          [
           154,
           3,
           "male"
          ],
          [
           155,
           3,
           "male"
          ],
          [
           156,
           1,
           "male"
          ],
          [
           157,
           3,
           "female"
          ],
          [
           158,
           3,
           "male"
          ],
          [
           159,
           3,
           "male"
          ],
          [
           160,
           3,
           "male"
          ],
          [
           161,
           3,
           "male"
          ],
          [
           162,
           2,
           "female"
          ],
          [
           163,
           3,
           "male"
          ],
          [
           164,
           3,
           "male"
          ],
          [
           165,
           3,
           "male"
          ],
          [
           166,
           3,
           "male"
          ],
          [
           167,
           1,
           "female"
          ],
          [
           168,
           3,
           "female"
          ],
          [
           169,
           1,
           "male"
          ],
          [
           170,
           3,
           "male"
          ],
          [
           171,
           1,
           "male"
          ],
          [
           172,
           3,
           "male"
          ],
          [
           173,
           3,
           "female"
          ],
          [
           174,
           3,
           "male"
          ],
          [
           175,
           1,
           "male"
          ],
          [
           176,
           3,
           "male"
          ],
          [
           177,
           3,
           "male"
          ],
          [
           178,
           1,
           "female"
          ],
          [
           179,
           2,
           "male"
          ],
          [
           180,
           3,
           "male"
          ],
          [
           181,
           3,
           "female"
          ],
          [
           182,
           2,
           "male"
          ],
          [
           183,
           3,
           "male"
          ],
          [
           184,
           2,
           "male"
          ],
          [
           185,
           3,
           "female"
          ],
          [
           186,
           1,
           "male"
          ],
          [
           187,
           3,
           "female"
          ],
          [
           188,
           1,
           "male"
          ],
          [
           189,
           3,
           "male"
          ],
          [
           190,
           3,
           "male"
          ],
          [
           191,
           2,
           "female"
          ],
          [
           192,
           2,
           "male"
          ],
          [
           193,
           3,
           "female"
          ],
          [
           194,
           2,
           "male"
          ],
          [
           195,
           1,
           "female"
          ],
          [
           196,
           1,
           "female"
          ],
          [
           197,
           3,
           "male"
          ],
          [
           198,
           3,
           "male"
          ],
          [
           199,
           3,
           "female"
          ],
          [
           200,
           2,
           "female"
          ],
          [
           201,
           3,
           "male"
          ],
          [
           202,
           3,
           "male"
          ],
          [
           203,
           3,
           "male"
          ],
          [
           204,
           3,
           "male"
          ],
          [
           205,
           3,
           "male"
          ],
          [
           206,
           3,
           "female"
          ],
          [
           207,
           3,
           "male"
          ],
          [
           208,
           3,
           "male"
          ],
          [
           209,
           3,
           "female"
          ],
          [
           210,
           1,
           "male"
          ],
          [
           211,
           3,
           "male"
          ],
          [
           212,
           2,
           "female"
          ],
          [
           213,
           3,
           "male"
          ],
          [
           214,
           2,
           "male"
          ],
          [
           215,
           3,
           "male"
          ],
          [
           216,
           1,
           "female"
          ],
          [
           217,
           3,
           "female"
          ],
          [
           218,
           2,
           "male"
          ],
          [
           219,
           1,
           "female"
          ],
          [
           220,
           2,
           "male"
          ],
          [
           221,
           3,
           "male"
          ],
          [
           222,
           2,
           "male"
          ],
          [
           223,
           3,
           "male"
          ],
          [
           224,
           3,
           "male"
          ],
          [
           225,
           1,
           "male"
          ],
          [
           226,
           3,
           "male"
          ],
          [
           227,
           2,
           "male"
          ],
          [
           228,
           3,
           "male"
          ],
          [
           229,
           2,
           "male"
          ],
          [
           230,
           3,
           "female"
          ],
          [
           231,
           1,
           "female"
          ],
          [
           232,
           3,
           "male"
          ],
          [
           233,
           2,
           "male"
          ],
          [
           234,
           3,
           "female"
          ],
          [
           235,
           2,
           "male"
          ],
          [
           236,
           3,
           "female"
          ],
          [
           237,
           2,
           "male"
          ],
          [
           238,
           2,
           "female"
          ],
          [
           239,
           2,
           "male"
          ],
          [
           240,
           2,
           "male"
          ],
          [
           241,
           3,
           "female"
          ],
          [
           242,
           3,
           "female"
          ],
          [
           243,
           2,
           "male"
          ],
          [
           244,
           3,
           "male"
          ],
          [
           245,
           3,
           "male"
          ],
          [
           246,
           1,
           "male"
          ],
          [
           247,
           3,
           "female"
          ],
          [
           248,
           2,
           "female"
          ],
          [
           249,
           1,
           "male"
          ],
          [
           250,
           2,
           "male"
          ],
          [
           251,
           3,
           "male"
          ],
          [
           252,
           3,
           "female"
          ],
          [
           253,
           1,
           "male"
          ],
          [
           254,
           3,
           "male"
          ],
          [
           255,
           3,
           "female"
          ],
          [
           256,
           3,
           "female"
          ],
          [
           257,
           1,
           "female"
          ],
          [
           258,
           1,
           "female"
          ],
          [
           259,
           1,
           "female"
          ],
          [
           260,
           2,
           "female"
          ],
          [
           261,
           3,
           "male"
          ],
          [
           262,
           3,
           "male"
          ],
          [
           263,
           1,
           "male"
          ],
          [
           264,
           1,
           "male"
          ],
          [
           265,
           3,
           "female"
          ],
          [
           266,
           2,
           "male"
          ],
          [
           267,
           3,
           "male"
          ],
          [
           268,
           3,
           "male"
          ],
          [
           269,
           1,
           "female"
          ],
          [
           270,
           1,
           "female"
          ],
          [
           271,
           1,
           "male"
          ],
          [
           272,
           3,
           "male"
          ],
          [
           273,
           2,
           "female"
          ],
          [
           274,
           1,
           "male"
          ],
          [
           275,
           3,
           "female"
          ],
          [
           276,
           1,
           "female"
          ],
          [
           277,
           3,
           "female"
          ],
          [
           278,
           2,
           "male"
          ],
          [
           279,
           3,
           "male"
          ],
          [
           280,
           3,
           "female"
          ],
          [
           281,
           3,
           "male"
          ],
          [
           282,
           3,
           "male"
          ],
          [
           283,
           3,
           "male"
          ],
          [
           284,
           3,
           "male"
          ],
          [
           285,
           1,
           "male"
          ],
          [
           286,
           3,
           "male"
          ],
          [
           287,
           3,
           "male"
          ],
          [
           288,
           3,
           "male"
          ],
          [
           289,
           2,
           "male"
          ],
          [
           290,
           3,
           "female"
          ],
          [
           291,
           1,
           "female"
          ],
          [
           292,
           1,
           "female"
          ],
          [
           293,
           2,
           "male"
          ],
          [
           294,
           3,
           "female"
          ],
          [
           295,
           3,
           "male"
          ],
          [
           296,
           1,
           "male"
          ],
          [
           297,
           3,
           "male"
          ],
          [
           298,
           1,
           "female"
          ],
          [
           299,
           1,
           "male"
          ],
          [
           300,
           1,
           "female"
          ],
          [
           301,
           3,
           "female"
          ],
          [
           302,
           3,
           "male"
          ],
          [
           303,
           3,
           "male"
          ],
          [
           304,
           2,
           "female"
          ],
          [
           305,
           3,
           "male"
          ],
          [
           306,
           1,
           "male"
          ],
          [
           307,
           1,
           "female"
          ],
          [
           308,
           1,
           "female"
          ],
          [
           309,
           2,
           "male"
          ],
          [
           310,
           1,
           "female"
          ],
          [
           311,
           1,
           "female"
          ],
          [
           312,
           1,
           "female"
          ],
          [
           313,
           2,
           "female"
          ],
          [
           314,
           3,
           "male"
          ],
          [
           315,
           2,
           "male"
          ],
          [
           316,
           3,
           "female"
          ],
          [
           317,
           2,
           "female"
          ],
          [
           318,
           2,
           "male"
          ],
          [
           319,
           1,
           "female"
          ],
          [
           320,
           1,
           "female"
          ],
          [
           321,
           3,
           "male"
          ],
          [
           322,
           3,
           "male"
          ],
          [
           323,
           2,
           "female"
          ],
          [
           324,
           2,
           "female"
          ],
          [
           325,
           3,
           "male"
          ],
          [
           326,
           1,
           "female"
          ],
          [
           327,
           3,
           "male"
          ],
          [
           328,
           2,
           "female"
          ],
          [
           329,
           3,
           "female"
          ],
          [
           330,
           1,
           "female"
          ],
          [
           331,
           3,
           "female"
          ],
          [
           332,
           1,
           "male"
          ],
          [
           333,
           1,
           "male"
          ],
          [
           334,
           3,
           "male"
          ],
          [
           335,
           1,
           "female"
          ],
          [
           336,
           3,
           "male"
          ],
          [
           337,
           1,
           "male"
          ],
          [
           338,
           1,
           "female"
          ],
          [
           339,
           3,
           "male"
          ],
          [
           340,
           1,
           "male"
          ],
          [
           341,
           2,
           "male"
          ],
          [
           342,
           1,
           "female"
          ],
          [
           343,
           2,
           "male"
          ],
          [
           344,
           2,
           "male"
          ],
          [
           345,
           2,
           "male"
          ],
          [
           346,
           2,
           "female"
          ],
          [
           347,
           2,
           "female"
          ],
          [
           348,
           3,
           "female"
          ],
          [
           349,
           3,
           "male"
          ],
          [
           350,
           3,
           "male"
          ],
          [
           351,
           3,
           "male"
          ],
          [
           352,
           1,
           "male"
          ],
          [
           353,
           3,
           "male"
          ],
          [
           354,
           3,
           "male"
          ],
          [
           355,
           3,
           "male"
          ],
          [
           356,
           3,
           "male"
          ],
          [
           357,
           1,
           "female"
          ],
          [
           358,
           2,
           "female"
          ],
          [
           359,
           3,
           "female"
          ],
          [
           360,
           3,
           "female"
          ],
          [
           361,
           3,
           "male"
          ],
          [
           362,
           2,
           "male"
          ],
          [
           363,
           3,
           "female"
          ],
          [
           364,
           3,
           "male"
          ],
          [
           365,
           3,
           "male"
          ],
          [
           366,
           3,
           "male"
          ],
          [
           367,
           1,
           "female"
          ],
          [
           368,
           3,
           "female"
          ],
          [
           369,
           3,
           "female"
          ],
          [
           370,
           1,
           "female"
          ],
          [
           371,
           1,
           "male"
          ],
          [
           372,
           3,
           "male"
          ],
          [
           373,
           3,
           "male"
          ],
          [
           374,
           1,
           "male"
          ],
          [
           375,
           3,
           "female"
          ],
          [
           376,
           1,
           "female"
          ],
          [
           377,
           3,
           "female"
          ],
          [
           378,
           1,
           "male"
          ],
          [
           379,
           3,
           "male"
          ],
          [
           380,
           3,
           "male"
          ],
          [
           381,
           1,
           "female"
          ],
          [
           382,
           3,
           "female"
          ],
          [
           383,
           3,
           "male"
          ],
          [
           384,
           1,
           "female"
          ],
          [
           385,
           3,
           "male"
          ],
          [
           386,
           2,
           "male"
          ],
          [
           387,
           3,
           "male"
          ],
          [
           388,
           2,
           "female"
          ],
          [
           389,
           3,
           "male"
          ],
          [
           390,
           2,
           "female"
          ],
          [
           391,
           1,
           "male"
          ],
          [
           392,
           3,
           "male"
          ],
          [
           393,
           3,
           "male"
          ],
          [
           394,
           1,
           "female"
          ],
          [
           395,
           3,
           "female"
          ],
          [
           396,
           3,
           "male"
          ],
          [
           397,
           3,
           "female"
          ],
          [
           398,
           2,
           "male"
          ],
          [
           399,
           2,
           "male"
          ],
          [
           400,
           2,
           "female"
          ],
          [
           401,
           3,
           "male"
          ],
          [
           402,
           3,
           "male"
          ],
          [
           403,
           3,
           "female"
          ],
          [
           404,
           3,
           "male"
          ],
          [
           405,
           3,
           "female"
          ],
          [
           406,
           2,
           "male"
          ],
          [
           407,
           3,
           "male"
          ],
          [
           408,
           2,
           "male"
          ],
          [
           409,
           3,
           "male"
          ],
          [
           410,
           3,
           "female"
          ],
          [
           411,
           3,
           "male"
          ],
          [
           412,
           3,
           "male"
          ],
          [
           413,
           1,
           "female"
          ],
          [
           414,
           2,
           "male"
          ],
          [
           415,
           3,
           "male"
          ],
          [
           416,
           3,
           "female"
          ],
          [
           417,
           2,
           "female"
          ],
          [
           418,
           2,
           "female"
          ],
          [
           419,
           2,
           "male"
          ],
          [
           420,
           3,
           "female"
          ],
          [
           421,
           3,
           "male"
          ],
          [
           422,
           3,
           "male"
          ],
          [
           423,
           3,
           "male"
          ],
          [
           424,
           3,
           "female"
          ],
          [
           425,
           3,
           "male"
          ],
          [
           426,
           3,
           "male"
          ],
          [
           427,
           2,
           "female"
          ],
          [
           428,
           2,
           "female"
          ],
          [
           429,
           3,
           "male"
          ],
          [
           430,
           3,
           "male"
          ],
          [
           431,
           1,
           "male"
          ],
          [
           432,
           3,
           "female"
          ],
          [
           433,
           2,
           "female"
          ],
          [
           434,
           3,
           "male"
          ],
          [
           435,
           1,
           "male"
          ],
          [
           436,
           1,
           "female"
          ],
          [
           437,
           3,
           "female"
          ],
          [
           438,
           2,
           "female"
          ],
          [
           439,
           1,
           "male"
          ],
          [
           440,
           2,
           "male"
          ],
          [
           441,
           2,
           "female"
          ],
          [
           442,
           3,
           "male"
          ],
          [
           443,
           3,
           "male"
          ],
          [
           444,
           2,
           "female"
          ],
          [
           445,
           3,
           "male"
          ],
          [
           446,
           1,
           "male"
          ],
          [
           447,
           2,
           "female"
          ],
          [
           448,
           1,
           "male"
          ],
          [
           449,
           3,
           "female"
          ],
          [
           450,
           1,
           "male"
          ],
          [
           451,
           2,
           "male"
          ],
          [
           452,
           3,
           "male"
          ],
          [
           453,
           1,
           "male"
          ],
          [
           454,
           1,
           "male"
          ],
          [
           455,
           3,
           "male"
          ],
          [
           456,
           3,
           "male"
          ],
          [
           457,
           1,
           "male"
          ],
          [
           458,
           1,
           "female"
          ],
          [
           459,
           2,
           "female"
          ],
          [
           460,
           3,
           "male"
          ],
          [
           461,
           1,
           "male"
          ],
          [
           462,
           3,
           "male"
          ],
          [
           463,
           1,
           "male"
          ],
          [
           464,
           2,
           "male"
          ],
          [
           465,
           3,
           "male"
          ],
          [
           466,
           3,
           "male"
          ],
          [
           467,
           2,
           "male"
          ],
          [
           468,
           1,
           "male"
          ],
          [
           469,
           3,
           "male"
          ],
          [
           470,
           3,
           "female"
          ],
          [
           471,
           3,
           "male"
          ],
          [
           472,
           3,
           "male"
          ],
          [
           473,
           2,
           "female"
          ],
          [
           474,
           2,
           "female"
          ],
          [
           475,
           3,
           "female"
          ],
          [
           476,
           1,
           "male"
          ],
          [
           477,
           2,
           "male"
          ],
          [
           478,
           3,
           "male"
          ],
          [
           479,
           3,
           "male"
          ],
          [
           480,
           3,
           "female"
          ],
          [
           481,
           3,
           "male"
          ],
          [
           482,
           2,
           "male"
          ],
          [
           483,
           3,
           "male"
          ],
          [
           484,
           3,
           "female"
          ],
          [
           485,
           1,
           "male"
          ],
          [
           486,
           3,
           "female"
          ],
          [
           487,
           1,
           "female"
          ],
          [
           488,
           1,
           "male"
          ],
          [
           489,
           3,
           "male"
          ],
          [
           490,
           3,
           "male"
          ],
          [
           491,
           3,
           "male"
          ],
          [
           492,
           3,
           "male"
          ],
          [
           493,
           1,
           "male"
          ],
          [
           494,
           1,
           "male"
          ],
          [
           495,
           3,
           "male"
          ],
          [
           496,
           3,
           "male"
          ],
          [
           497,
           1,
           "female"
          ],
          [
           498,
           3,
           "male"
          ],
          [
           499,
           1,
           "female"
          ],
          [
           500,
           3,
           "male"
          ],
          [
           501,
           3,
           "male"
          ],
          [
           502,
           3,
           "female"
          ],
          [
           503,
           3,
           "female"
          ],
          [
           504,
           3,
           "female"
          ],
          [
           505,
           1,
           "female"
          ],
          [
           506,
           1,
           "male"
          ],
          [
           507,
           2,
           "female"
          ],
          [
           508,
           1,
           "male"
          ],
          [
           509,
           3,
           "male"
          ],
          [
           510,
           3,
           "male"
          ],
          [
           511,
           3,
           "male"
          ],
          [
           512,
           3,
           "male"
          ],
          [
           513,
           1,
           "male"
          ],
          [
           514,
           1,
           "female"
          ],
          [
           515,
           3,
           "male"
          ],
          [
           516,
           1,
           "male"
          ],
          [
           517,
           2,
           "female"
          ],
          [
           518,
           3,
           "male"
          ],
          [
           519,
           2,
           "female"
          ],
          [
           520,
           3,
           "male"
          ],
          [
           521,
           1,
           "female"
          ],
          [
           522,
           3,
           "male"
          ],
          [
           523,
           3,
           "male"
          ],
          [
           524,
           1,
           "female"
          ],
          [
           525,
           3,
           "male"
          ],
          [
           526,
           3,
           "male"
          ],
          [
           527,
           2,
           "female"
          ],
          [
           528,
           1,
           "male"
          ],
          [
           529,
           3,
           "male"
          ],
          [
           530,
           2,
           "male"
          ],
          [
           531,
           2,
           "female"
          ],
          [
           532,
           3,
           "male"
          ],
          [
           533,
           3,
           "male"
          ],
          [
           534,
           3,
           "female"
          ],
          [
           535,
           3,
           "female"
          ],
          [
           536,
           2,
           "female"
          ],
          [
           537,
           1,
           "male"
          ],
          [
           538,
           1,
           "female"
          ],
          [
           539,
           3,
           "male"
          ],
          [
           540,
           1,
           "female"
          ],
          [
           541,
           1,
           "female"
          ],
          [
           542,
           3,
           "female"
          ],
          [
           543,
           3,
           "female"
          ],
          [
           544,
           2,
           "male"
          ],
          [
           545,
           1,
           "male"
          ],
          [
           546,
           1,
           "male"
          ],
          [
           547,
           2,
           "female"
          ],
          [
           548,
           2,
           "male"
          ],
          [
           549,
           3,
           "male"
          ],
          [
           550,
           2,
           "male"
          ],
          [
           551,
           1,
           "male"
          ],
          [
           552,
           2,
           "male"
          ],
          [
           553,
           3,
           "male"
          ],
          [
           554,
           3,
           "male"
          ],
          [
           555,
           3,
           "female"
          ],
          [
           556,
           1,
           "male"
          ],
          [
           557,
           1,
           "female"
          ],
          [
           558,
           1,
           "male"
          ],
          [
           559,
           1,
           "female"
          ],
          [
           560,
           3,
           "female"
          ],
          [
           561,
           3,
           "male"
          ],
          [
           562,
           3,
           "male"
          ],
          [
           563,
           2,
           "male"
          ],
          [
           564,
           3,
           "male"
          ],
          [
           565,
           3,
           "female"
          ],
          [
           566,
           3,
           "male"
          ],
          [
           567,
           3,
           "male"
          ],
          [
           568,
           3,
           "female"
          ],
          [
           569,
           3,
           "male"
          ],
          [
           570,
           3,
           "male"
          ],
          [
           571,
           2,
           "male"
          ],
          [
           572,
           1,
           "female"
          ],
          [
           573,
           1,
           "male"
          ],
          [
           574,
           3,
           "female"
          ],
          [
           575,
           3,
           "male"
          ],
          [
           576,
           3,
           "male"
          ],
          [
           577,
           2,
           "female"
          ],
          [
           578,
           1,
           "female"
          ],
          [
           579,
           3,
           "female"
          ],
          [
           580,
           3,
           "male"
          ],
          [
           581,
           2,
           "female"
          ],
          [
           582,
           1,
           "female"
          ],
          [
           583,
           2,
           "male"
          ],
          [
           584,
           1,
           "male"
          ],
          [
           585,
           3,
           "male"
          ],
          [
           586,
           1,
           "female"
          ],
          [
           587,
           2,
           "male"
          ],
          [
           588,
           1,
           "male"
          ],
          [
           589,
           3,
           "male"
          ],
          [
           590,
           3,
           "male"
          ],
          [
           591,
           3,
           "male"
          ],
          [
           592,
           1,
           "female"
          ],
          [
           593,
           3,
           "male"
          ],
          [
           594,
           3,
           "female"
          ],
          [
           595,
           2,
           "male"
          ],
          [
           596,
           3,
           "male"
          ],
          [
           597,
           2,
           "female"
          ],
          [
           598,
           3,
           "male"
          ],
          [
           599,
           3,
           "male"
          ],
          [
           600,
           1,
           "male"
          ],
          [
           601,
           2,
           "female"
          ],
          [
           602,
           3,
           "male"
          ],
          [
           603,
           1,
           "male"
          ],
          [
           604,
           3,
           "male"
          ],
          [
           605,
           1,
           "male"
          ],
          [
           606,
           3,
           "male"
          ],
          [
           607,
           3,
           "male"
          ],
          [
           608,
           1,
           "male"
          ],
          [
           609,
           2,
           "female"
          ],
          [
           610,
           1,
           "female"
          ],
          [
           611,
           3,
           "female"
          ],
          [
           612,
           3,
           "male"
          ],
          [
           613,
           3,
           "female"
          ],
          [
           614,
           3,
           "male"
          ],
          [
           615,
           3,
           "male"
          ],
          [
           616,
           2,
           "female"
          ],
          [
           617,
           3,
           "male"
          ],
          [
           618,
           3,
           "female"
          ],
          [
           619,
           2,
           "female"
          ],
          [
           620,
           2,
           "male"
          ],
          [
           621,
           3,
           "male"
          ],
          [
           622,
           1,
           "male"
          ],
          [
           623,
           3,
           "male"
          ],
          [
           624,
           3,
           "male"
          ],
          [
           625,
           3,
           "male"
          ],
          [
           626,
           1,
           "male"
          ],
          [
           627,
           2,
           "male"
          ],
          [
           628,
           1,
           "female"
          ],
          [
           629,
           3,
           "male"
          ],
          [
           630,
           3,
           "male"
          ],
          [
           631,
           1,
           "male"
          ],
          [
           632,
           3,
           "male"
          ],
          [
           633,
           1,
           "male"
          ],
          [
           634,
           1,
           "male"
          ],
          [
           635,
           3,
           "female"
          ],
          [
           636,
           2,
           "female"
          ],
          [
           637,
           3,
           "male"
          ],
          [
           638,
           2,
           "male"
          ],
          [
           639,
           3,
           "female"
          ],
          [
           640,
           3,
           "male"
          ],
          [
           641,
           3,
           "male"
          ],
          [
           642,
           1,
           "female"
          ],
          [
           643,
           3,
           "female"
          ],
          [
           644,
           3,
           "male"
          ],
          [
           645,
           3,
           "female"
          ],
          [
           646,
           1,
           "male"
          ],
          [
           647,
           3,
           "male"
          ],
          [
           648,
           1,
           "male"
          ],
          [
           649,
           3,
           "male"
          ],
          [
           650,
           3,
           "female"
          ],
          [
           651,
           3,
           "male"
          ],
          [
           652,
           2,
           "female"
          ],
          [
           653,
           3,
           "male"
          ],
          [
           654,
           3,
           "female"
          ],
          [
           655,
           3,
           "female"
          ],
          [
           656,
           2,
           "male"
          ],
          [
           657,
           3,
           "male"
          ],
          [
           658,
           3,
           "female"
          ],
          [
           659,
           2,
           "male"
          ],
          [
           660,
           1,
           "male"
          ],
          [
           661,
           1,
           "male"
          ],
          [
           662,
           3,
           "male"
          ],
          [
           663,
           1,
           "male"
          ],
          [
           664,
           3,
           "male"
          ],
          [
           665,
           3,
           "male"
          ],
          [
           666,
           2,
           "male"
          ],
          [
           667,
           2,
           "male"
          ],
          [
           668,
           3,
           "male"
          ],
          [
           669,
           3,
           "male"
          ],
          [
           670,
           1,
           "female"
          ],
          [
           671,
           2,
           "female"
          ],
          [
           672,
           1,
           "male"
          ],
          [
           673,
           2,
           "male"
          ],
          [
           674,
           2,
           "male"
          ],
          [
           675,
           2,
           "male"
          ],
          [
           676,
           3,
           "male"
          ],
          [
           677,
           3,
           "male"
          ],
          [
           678,
           3,
           "female"
          ],
          [
           679,
           3,
           "female"
          ],
          [
           680,
           1,
           "male"
          ],
          [
           681,
           3,
           "female"
          ],
          [
           682,
           1,
           "male"
          ],
          [
           683,
           3,
           "male"
          ],
          [
           684,
           3,
           "male"
          ],
          [
           685,
           2,
           "male"
          ],
          [
           686,
           2,
           "male"
          ],
          [
           687,
           3,
           "male"
          ],
          [
           688,
           3,
           "male"
          ],
          [
           689,
           3,
           "male"
          ],
          [
           690,
           1,
           "female"
          ],
          [
           691,
           1,
           "male"
          ],
          [
           692,
           3,
           "female"
          ],
          [
           693,
           3,
           "male"
          ],
          [
           694,
           3,
           "male"
          ],
          [
           695,
           1,
           "male"
          ],
          [
           696,
           2,
           "male"
          ],
          [
           697,
           3,
           "male"
          ],
          [
           698,
           3,
           "female"
          ],
          [
           699,
           1,
           "male"
          ],
          [
           700,
           3,
           "male"
          ],
          [
           701,
           1,
           "female"
          ],
          [
           702,
           1,
           "male"
          ],
          [
           703,
           3,
           "female"
          ],
          [
           704,
           3,
           "male"
          ],
          [
           705,
           3,
           "male"
          ],
          [
           706,
           2,
           "male"
          ],
          [
           707,
           2,
           "female"
          ],
          [
           708,
           1,
           "male"
          ],
          [
           709,
           1,
           "female"
          ],
          [
           710,
           3,
           "male"
          ],
          [
           711,
           1,
           "female"
          ],
          [
           712,
           1,
           "male"
          ],
          [
           713,
           1,
           "male"
          ],
          [
           714,
           3,
           "male"
          ],
          [
           715,
           2,
           "male"
          ],
          [
           716,
           3,
           "male"
          ],
          [
           717,
           1,
           "female"
          ],
          [
           718,
           2,
           "female"
          ],
          [
           719,
           3,
           "male"
          ],
          [
           720,
           3,
           "male"
          ],
          [
           721,
           2,
           "female"
          ],
          [
           722,
           3,
           "male"
          ],
          [
           723,
           2,
           "male"
          ],
          [
           724,
           2,
           "male"
          ],
          [
           725,
           1,
           "male"
          ],
          [
           726,
           3,
           "male"
          ],
          [
           727,
           2,
           "female"
          ],
          [
           728,
           3,
           "female"
          ],
          [
           729,
           2,
           "male"
          ],
          [
           730,
           3,
           "female"
          ],
          [
           731,
           1,
           "female"
          ],
          [
           732,
           3,
           "male"
          ],
          [
           733,
           2,
           "male"
          ],
          [
           734,
           2,
           "male"
          ],
          [
           735,
           2,
           "male"
          ],
          [
           736,
           3,
           "male"
          ],
          [
           737,
           3,
           "female"
          ],
          [
           738,
           1,
           "male"
          ],
          [
           739,
           3,
           "male"
          ],
          [
           740,
           3,
           "male"
          ],
          [
           741,
           1,
           "male"
          ],
          [
           742,
           1,
           "male"
          ],
          [
           743,
           1,
           "female"
          ],
          [
           744,
           3,
           "male"
          ],
          [
           745,
           3,
           "male"
          ],
          [
           746,
           1,
           "male"
          ],
          [
           747,
           3,
           "male"
          ],
          [
           748,
           2,
           "female"
          ],
          [
           749,
           1,
           "male"
          ],
          [
           750,
           3,
           "male"
          ],
          [
           751,
           2,
           "female"
          ],
          [
           752,
           3,
           "male"
          ],
          [
           753,
           3,
           "male"
          ],
          [
           754,
           3,
           "male"
          ],
          [
           755,
           2,
           "female"
          ],
          [
           756,
           2,
           "male"
          ],
          [
           757,
           3,
           "male"
          ],
          [
           758,
           2,
           "male"
          ],
          [
           759,
           3,
           "male"
          ],
          [
           760,
           1,
           "female"
          ],
          [
           761,
           3,
           "male"
          ],
          [
           762,
           3,
           "male"
          ],
          [
           763,
           3,
           "male"
          ],
          [
           764,
           1,
           "female"
          ],
          [
           765,
           3,
           "male"
          ],
          [
           766,
           1,
           "female"
          ],
          [
           767,
           1,
           "male"
          ],
          [
           768,
           3,
           "female"
          ],
          [
           769,
           3,
           "male"
          ],
          [
           770,
           3,
           "male"
          ],
          [
           771,
           3,
           "male"
          ],
          [
           772,
           3,
           "male"
          ],
          [
           773,
           2,
           "female"
          ],
          [
           774,
           3,
           "male"
          ],
          [
           775,
           2,
           "female"
          ],
          [
           776,
           3,
           "male"
          ],
          [
           777,
           3,
           "male"
          ],
          [
           778,
           3,
           "female"
          ],
          [
           779,
           3,
           "male"
          ],
          [
           780,
           1,
           "female"
          ],
          [
           781,
           3,
           "female"
          ],
          [
           782,
           1,
           "female"
          ],
          [
           783,
           1,
           "male"
          ],
          [
           784,
           3,
           "male"
          ],
          [
           785,
           3,
           "male"
          ],
          [
           786,
           3,
           "male"
          ],
          [
           787,
           3,
           "female"
          ],
          [
           788,
           3,
           "male"
          ],
          [
           789,
           3,
           "male"
          ],
          [
           790,
           1,
           "male"
          ],
          [
           791,
           3,
           "male"
          ],
          [
           792,
           2,
           "male"
          ],
          [
           793,
           3,
           "female"
          ],
          [
           794,
           1,
           "male"
          ],
          [
           795,
           3,
           "male"
          ],
          [
           796,
           2,
           "male"
          ],
          [
           797,
           1,
           "female"
          ],
          [
           798,
           3,
           "female"
          ],
          [
           799,
           3,
           "male"
          ],
          [
           800,
           3,
           "female"
          ],
          [
           801,
           2,
           "male"
          ],
          [
           802,
           2,
           "female"
          ],
          [
           803,
           1,
           "male"
          ],
          [
           804,
           3,
           "male"
          ],
          [
           805,
           3,
           "male"
          ],
          [
           806,
           3,
           "male"
          ],
          [
           807,
           1,
           "male"
          ],
          [
           808,
           3,
           "female"
          ],
          [
           809,
           2,
           "male"
          ],
          [
           810,
           1,
           "female"
          ],
          [
           811,
           3,
           "male"
          ],
          [
           812,
           3,
           "male"
          ],
          [
           813,
           2,
           "male"
          ],
          [
           814,
           3,
           "female"
          ],
          [
           815,
           3,
           "male"
          ],
          [
           816,
           1,
           "male"
          ],
          [
           817,
           3,
           "female"
          ],
          [
           818,
           2,
           "male"
          ],
          [
           819,
           3,
           "male"
          ],
          [
           820,
           3,
           "male"
          ],
          [
           821,
           1,
           "female"
          ],
          [
           822,
           3,
           "male"
          ],
          [
           823,
           1,
           "male"
          ],
          [
           824,
           3,
           "female"
          ],
          [
           825,
           3,
           "male"
          ],
          [
           826,
           3,
           "male"
          ],
          [
           827,
           3,
           "male"
          ],
          [
           828,
           2,
           "male"
          ],
          [
           829,
           3,
           "male"
          ],
          [
           830,
           1,
           "female"
          ],
          [
           831,
           3,
           "female"
          ],
          [
           832,
           2,
           "male"
          ],
          [
           833,
           3,
           "male"
          ],
          [
           834,
           3,
           "male"
          ],
          [
           835,
           3,
           "male"
          ],
          [
           836,
           1,
           "female"
          ],
          [
           837,
           3,
           "male"
          ],
          [
           838,
           3,
           "male"
          ],
          [
           839,
           3,
           "male"
          ],
          [
           840,
           1,
           "male"
          ],
          [
           841,
           3,
           "male"
          ],
          [
           842,
           2,
           "male"
          ],
          [
           843,
           1,
           "female"
          ],
          [
           844,
           3,
           "male"
          ],
          [
           845,
           3,
           "male"
          ],
          [
           846,
           3,
           "male"
          ],
          [
           847,
           3,
           "male"
          ],
          [
           848,
           3,
           "male"
          ],
          [
           849,
           2,
           "male"
          ],
          [
           850,
           1,
           "female"
          ],
          [
           851,
           3,
           "male"
          ],
          [
           852,
           3,
           "male"
          ],
          [
           853,
           3,
           "female"
          ],
          [
           854,
           1,
           "female"
          ],
          [
           855,
           2,
           "female"
          ],
          [
           856,
           3,
           "female"
          ],
          [
           857,
           1,
           "female"
          ],
          [
           858,
           1,
           "male"
          ],
          [
           859,
           3,
           "female"
          ],
          [
           860,
           3,
           "male"
          ],
          [
           861,
           3,
           "male"
          ],
          [
           862,
           2,
           "male"
          ],
          [
           863,
           1,
           "female"
          ],
          [
           864,
           3,
           "female"
          ],
          [
           865,
           2,
           "male"
          ],
          [
           866,
           2,
           "female"
          ],
          [
           867,
           2,
           "female"
          ],
          [
           868,
           1,
           "male"
          ],
          [
           869,
           3,
           "male"
          ],
          [
           870,
           3,
           "male"
          ],
          [
           871,
           3,
           "male"
          ],
          [
           872,
           1,
           "female"
          ],
          [
           873,
           1,
           "male"
          ],
          [
           874,
           3,
           "male"
          ],
          [
           875,
           2,
           "female"
          ],
          [
           876,
           3,
           "female"
          ],
          [
           877,
           3,
           "male"
          ],
          [
           878,
           3,
           "male"
          ],
          [
           879,
           3,
           "male"
          ],
          [
           880,
           1,
           "female"
          ],
          [
           881,
           2,
           "female"
          ],
          [
           882,
           3,
           "male"
          ],
          [
           883,
           3,
           "female"
          ],
          [
           884,
           2,
           "male"
          ],
          [
           885,
           3,
           "male"
          ],
          [
           886,
           3,
           "female"
          ],
          [
           887,
           2,
           "male"
          ],
          [
           888,
           1,
           "female"
          ],
          [
           889,
           3,
           "female"
          ],
          [
           890,
           1,
           "male"
          ],
          [
           891,
           3,
           "male"
          ]
         ],
         "hovertemplate": "CabinClass=%{x}<br>Fare=%{marker.size}<br>PassengerId=%{customdata[0]}<br>Pclass=%{customdata[1]}<br>Sex=%{customdata[2]}<br>Survived=%{marker.color}<extra></extra>",
         "legendgroup": "",
         "marker": {
          "color": [
           0,
           1,
           1,
           1,
           0,
           0,
           0,
           0,
           1,
           1,
           1,
           1,
           0,
           0,
           0,
           1,
           0,
           1,
           0,
           1,
           0,
           1,
           1,
           1,
           0,
           1,
           0,
           0,
           1,
           0,
           0,
           1,
           1,
           0,
           0,
           0,
           1,
           0,
           0,
           1,
           0,
           0,
           0,
           1,
           1,
           0,
           0,
           1,
           0,
           0,
           0,
           0,
           1,
           1,
           0,
           1,
           1,
           0,
           1,
           0,
           0,
           1,
           0,
           0,
           0,
           1,
           1,
           0,
           1,
           0,
           0,
           0,
           0,
           0,
           1,
           0,
           0,
           0,
           1,
           1,
           0,
           1,
           1,
           0,
           1,
           1,
           0,
           0,
           1,
           0,
           0,
           0,
           0,
           0,
           0,
           0,
           0,
           1,
           1,
           0,
           0,
           0,
           0,
           0,
           0,
           0,
           1,
           1,
           0,
           1,
           0,
           0,
           0,
           0,
           0,
           0,
           0,
           0,
           0,
           0,
           0,
           0,
           0,
           1,
           0,
           1,
           0,
           1,
           1,
           0,
           0,
           0,
           0,
           1,
           0,
           0,
           1,
           0,
           0,
           0,
           0,
           1,
           1,
           0,
           0,
           0,
           1,
           0,
           0,
           0,
           0,
           1,
           0,
           0,
           0,
           0,
           1,
           0,
           0,
           0,
           0,
           1,
           0,
           0,
           0,
           1,
           1,
           0,
           0,
           0,
           0,
           0,
           1,
           0,
           0,
           0,
           0,
           0,
           0,
           0,
           0,
           0,
           0,
           1,
           1,
           0,
           1,
           1,
           0,
           0,
           1,
           0,
           1,
           1,
           1,
           1,
           0,
           0,
           1,
           0,
           0,
           0,
           0,
           0,
           1,
           0,
           0,
           1,
           1,
           1,
           0,
           1,
           0,
           0,
           0,
           1,
           1,
           0,
           1,
           0,
           1,
           0,
           0,
           0,
           1,
           0,
           1,
           0,
           0,
           0,
           1,
           0,
           0,
           1,
           0,
           0,
           0,
           1,
           0,
           0,
           0,
           1,
           0,
           0,
           0,
           0,
           0,
           1,
           1,
           0,
           0,
           0,
           0,
           0,
           0,
           1,
           1,
           1,
           1,
           1,
           0,
           1,
           0,
           0,
           0,
           0,
           0,
           1,
           1,
           1,
           0,
           1,
           1,
           0,
           1,
           1,
           0,
           0,
           0,
           1,
           0,
           0,
           0,
           1,
           0,
           0,
           1,
           0,
           1,
           1,
           1,
           1,
           0,
           0,
           0,
           0,
           0,
           0,
           1,
           1,
           1,
           1,
           0,
           1,
           0,
           1,
           1,
           1,
           0,
           1,
           1,
           1,
           0,
           0,
           0,
           1,
           1,
           0,
           1,
           1,
           0,
           0,
           1,
           1,
           0,
           1,
           0,
           1,
           1,
           1,
           1,
           0,
           0,
           0,
           1,
           0,
           0,
           1,
           1,
           0,
           1,
           1,
           0,
           0,
           0,
           1,
           1,
           1,
           1,
           0,
           0,
           0,
           0,
           0,
           0,
           0,
           1,
           0,
           1,
           1,
           0,
           0,
           0,
           0,
           0,
           0,
           1,
           1,
           1,
           1,
           1,
           0,
           0,
           0,
           0,
           1,
           1,
           0,
           0,
           0,
           1,
           1,
           0,
           1,
           0,
           0,
           0,
           1,
           0,
           1,
           1,
           1,
           0,
           1,
           1,
           0,
           0,
           0,
           0,
           1,
           1,
           0,
           0,
           0,
           0,
           0,
           0,
           1,
           0,
           0,
           0,
           0,
           1,
           0,
           1,
           0,
           1,
           1,
           0,
           0,
           0,
           0,
           0,
           0,
           0,
           0,
           1,
           1,
           0,
           1,
           1,
           1,
           1,
           0,
           0,
           1,
           0,
           1,
           0,
           0,
           1,
           0,
           0,
           1,
           1,
           1,
           1,
           1,
           1,
           1,
           0,
           0,
           0,
           1,
           0,
           1,
           0,
           1,
           1,
           0,
           1,
           0,
           0,
           0,
           0,
           0,
           0,
           0,
           0,
           1,
           0,
           0,
           1,
           1,
           0,
           0,
           0,
           0,
           0,
           1,
           0,
           0,
           0,
           1,
           1,
           0,
           1,
           0,
           0,
           1,
           0,
           0,
           0,
           0,
           0,
           0,
           1,
           0,
           0,
           0,
           0,
           0,
           0,
           0,
           1,
           0,
           1,
           1,
           0,
           1,
           1,
           0,
           1,
           1,
           0,
           0,
           1,
           0,
           1,
           0,
           1,
           0,
           0,
           1,
           0,
           0,
           1,
           0,
           0,
           0,
           1,
           0,
           0,
           1,
           0,
           1,
           0,
           1,
           0,
           1,
           1,
           0,
           0,
           1,
           0,
           0,
           1,
           1,
           0,
           1,
           1,
           0,
           0,
           1,
           1,
           0,
           1,
           0,
           1,
           1,
           0,
           0,
           0,
           0,
           0,
           0,
           0,
           0,
           0,
           1,
           1,
           1,
           1,
           1,
           0,
           0,
           1,
           1,
           0,
           1,
           1,
           1,
           0,
           0,
           0,
           1,
           0,
           1,
           0,
           0,
           0,
           1,
           0,
           0,
           0,
           0,
           1,
           0,
           0,
           1,
           1,
           0,
           0,
           0,
           1,
           0,
           0,
           1,
           1,
           1,
           0,
           0,
           1,
           0,
           0,
           1,
           0,
           0,
           1,
           0,
           0,
           1,
           1,
           0,
           0,
           0,
           0,
           1,
           0,
           0,
           1,
           0,
           1,
           0,
           0,
           1,
           0,
           0,
           0,
           0,
           0,
           1,
           0,
           1,
           1,
           1,
           0,
           1,
           0,
           1,
           0,
           1,
           0,
           1,
           0,
           0,
           0,
           0,
           0,
           0,
           1,
           0,
           0,
           0,
           1,
           0,
           0,
           0,
           0,
           1,
           1,
           0,
           0,
           1,
           0,
           0,
           0,
           1,
           0,
           1,
           0,
           1,
           0,
           0,
           0,
           0,
           0,
           0,
           0,
           1,
           1,
           1,
           1,
           0,
           0,
           0,
           0,
           1,
           0,
           0,
           1,
           1,
           0,
           0,
           0,
           0,
           1,
           1,
           1,
           1,
           1,
           0,
           1,
           0,
           0,
           0,
           1,
           1,
           0,
           0,
           1,
           0,
           0,
           0,
           1,
           0,
           1,
           1,
           0,
           0,
           1,
           0,
           0,
           0,
           0,
           0,
           0,
           1,
           0,
           0,
           1,
           0,
           1,
           0,
           1,
           0,
           0,
           1,
           0,
           0,
           1,
           1,
           0,
           0,
           1,
           1,
           0,
           0,
           0,
           1,
           0,
           0,
           1,
           1,
           0,
           1,
           0,
           0,
           0,
           0,
           0,
           0,
           0,
           0,
           1,
           0,
           0,
           1,
           0,
           1,
           1,
           1,
           0,
           0,
           0,
           0,
           1,
           0,
           1,
           0,
           0,
           0,
           0,
           0,
           0,
           0,
           1,
           1,
           0,
           0,
           0,
           1,
           1,
           1,
           1,
           0,
           0,
           0,
           0,
           1,
           0,
           0,
           0,
           0,
           0,
           0,
           0,
           0,
           0,
           0,
           1,
           1,
           0,
           1,
           0,
           0,
           0,
           1,
           1,
           1,
           1,
           1,
           0,
           0,
           0,
           1,
           0,
           0,
           1,
           1,
           0,
           0,
           1,
           0,
           0,
           0,
           0,
           0,
           0,
           1,
           0,
           0,
           0,
           1,
           0,
           1,
           1,
           1,
           1,
           0,
           0,
           0,
           1,
           0,
           0,
           1,
           1,
           0,
           0,
           1,
           0,
           1,
           0,
           0,
           1,
           1,
           0,
           0,
           0,
           1,
           1,
           0,
           0,
           0,
           0,
           0,
           0,
           1,
           0,
           1,
           0
          ],
          "coloraxis": "coloraxis",
          "size": [
           7.25,
           71.2833,
           7.925,
           53.1,
           8.05,
           8.4583,
           51.8625,
           21.075,
           11.1333,
           30.0708,
           16.7,
           26.55,
           8.05,
           31.275,
           7.8542,
           16,
           29.125,
           13,
           18,
           7.225,
           26,
           13,
           8.0292,
           35.5,
           21.075,
           31.3875,
           7.225,
           263,
           7.8792,
           7.8958,
           27.7208,
           146.5208,
           7.75,
           10.5,
           82.1708,
           52,
           7.2292,
           8.05,
           18,
           11.2417,
           9.475,
           21,
           7.8958,
           41.5792,
           7.8792,
           8.05,
           15.5,
           7.75,
           21.6792,
           17.8,
           39.6875,
           7.8,
           76.7292,
           26,
           61.9792,
           35.5,
           10.5,
           7.2292,
           27.75,
           46.9,
           7.2292,
           80,
           83.475,
           27.9,
           27.7208,
           15.2458,
           10.5,
           8.1583,
           7.925,
           8.6625,
           10.5,
           46.9,
           73.5,
           14.4542,
           56.4958,
           7.65,
           7.8958,
           8.05,
           29,
           12.475,
           9,
           9.5,
           7.7875,
           47.1,
           10.5,
           15.85,
           34.375,
           8.05,
           263,
           8.05,
           8.05,
           7.8542,
           61.175,
           20.575,
           7.25,
           8.05,
           34.6542,
           63.3583,
           23,
           26,
           7.8958,
           7.8958,
           77.2875,
           8.6542,
           7.925,
           7.8958,
           7.65,
           7.775,
           7.8958,
           24.15,
           52,
           14.4542,
           8.05,
           9.825,
           14.4583,
           7.925,
           7.75,
           21,
           247.5208,
           31.275,
           73.5,
           8.05,
           30.0708,
           13,
           77.2875,
           11.2417,
           7.75,
           7.1417,
           22.3583,
           6.975,
           7.8958,
           7.05,
           14.5,
           26,
           13,
           15.0458,
           26.2833,
           53.1,
           9.2167,
           79.2,
           15.2458,
           7.75,
           15.85,
           6.75,
           11.5,
           36.75,
           7.7958,
           34.375,
           26,
           13,
           12.525,
           66.6,
           8.05,
           14.5,
           7.3125,
           61.3792,
           7.7333,
           8.05,
           8.6625,
           69.55,
           16.1,
           15.75,
           7.775,
           8.6625,
           39.6875,
           20.525,
           55,
           27.9,
           25.925,
           56.4958,
           33.5,
           29.125,
           11.1333,
           7.925,
           30.6958,
           7.8542,
           25.4667,
           28.7125,
           13,
           0,
           69.55,
           15.05,
           31.3875,
           39,
           22.025,
           50,
           15.5,
           26.55,
           15.5,
           7.8958,
           13,
           13,
           7.8542,
           26,
           27.7208,
           146.5208,
           7.75,
           8.4042,
           7.75,
           13,
           9.5,
           69.55,
           6.4958,
           7.225,
           8.05,
           10.4625,
           15.85,
           18.7875,
           7.75,
           31,
           7.05,
           21,
           7.25,
           13,
           7.75,
           113.275,
           7.925,
           27,
           76.2917,
           10.5,
           8.05,
           13,
           8.05,
           7.8958,
           90,
           9.35,
           10.5,
           7.25,
           13,
           25.4667,
           83.475,
           7.775,
           13.5,
           31.3875,
           10.5,
           7.55,
           26,
           26.25,
           10.5,
           12.275,
           14.4542,
           15.5,
           10.5,
           7.125,
           7.225,
           90,
           7.775,
           14.5,
           52.5542,
           26,
           7.25,
           10.4625,
           26.55,
           16.1,
           20.2125,
           15.2458,
           79.2,
           86.5,
           512.3292,
           26,
           7.75,
           31.3875,
           79.65,
           0,
           7.75,
           10.5,
           39.6875,
           7.775,
           153.4625,
           135.6333,
           31,
           0,
           19.5,
           29.7,
           7.75,
           77.9583,
           7.75,
           0,
           29.125,
           20.25,
           7.75,
           7.8542,
           9.5,
           8.05,
           26,
           8.6625,
           9.5,
           7.8958,
           13,
           7.75,
           78.85,
           91.0792,
           12.875,
           8.85,
           7.8958,
           27.7208,
           7.2292,
           151.55,
           30.5,
           247.5208,
           7.75,
           23.25,
           0,
           12.35,
           8.05,
           151.55,
           110.8833,
           108.9,
           24,
           56.9292,
           83.1583,
           262.375,
           26,
           7.8958,
           26.25,
           7.8542,
           26,
           14,
           164.8667,
           134.5,
           7.25,
           7.8958,
           12.35,
           29,
           69.55,
           135.6333,
           6.2375,
           13,
           20.525,
           57.9792,
           23.25,
           28.5,
           153.4625,
           18,
           133.65,
           7.8958,
           66.6,
           134.5,
           8.05,
           35.5,
           26,
           263,
           13,
           13,
           13,
           13,
           13,
           16.1,
           15.9,
           8.6625,
           9.225,
           35,
           7.2292,
           17.8,
           7.225,
           9.5,
           55,
           13,
           7.8792,
           7.8792,
           27.9,
           27.7208,
           14.4542,
           7.05,
           15.5,
           7.25,
           75.25,
           7.2292,
           7.75,
           69.3,
           55.4417,
           6.4958,
           8.05,
           135.6333,
           21.075,
           82.1708,
           7.25,
           211.5,
           4.0125,
           7.775,
           227.525,
           15.7417,
           7.925,
           52,
           7.8958,
           73.5,
           46.9,
           13,
           7.7292,
           12,
           120,
           7.7958,
           7.925,
           113.275,
           16.7,
           7.7958,
           7.8542,
           26,
           10.5,
           12.65,
           7.925,
           8.05,
           9.825,
           15.85,
           8.6625,
           21,
           7.75,
           18.75,
           7.775,
           25.4667,
           7.8958,
           6.8583,
           90,
           0,
           7.925,
           8.05,
           32.5,
           13,
           13,
           24.15,
           7.8958,
           7.7333,
           7.875,
           14.4,
           20.2125,
           7.25,
           26,
           26,
           7.75,
           8.05,
           26.55,
           16.1,
           26,
           7.125,
           55.9,
           120,
           34.375,
           18.75,
           263,
           10.5,
           26.25,
           9.5,
           7.775,
           13,
           8.1125,
           81.8583,
           19.5,
           26.55,
           19.2583,
           30.5,
           27.75,
           19.9667,
           27.75,
           89.1042,
           8.05,
           7.8958,
           26.55,
           51.8625,
           10.5,
           7.75,
           26.55,
           8.05,
           38.5,
           13,
           8.05,
           7.05,
           0,
           26.55,
           7.725,
           19.2583,
           7.25,
           8.6625,
           27.75,
           13.7917,
           9.8375,
           52,
           21,
           7.0458,
           7.5208,
           12.2875,
           46.9,
           0,
           8.05,
           9.5875,
           91.0792,
           25.4667,
           90,
           29.7,
           8.05,
           15.9,
           19.9667,
           7.25,
           30.5,
           49.5042,
           8.05,
           14.4583,
           78.2667,
           15.1,
           151.55,
           7.7958,
           8.6625,
           7.75,
           7.6292,
           9.5875,
           86.5,
           108.9,
           26,
           26.55,
           22.525,
           56.4958,
           7.75,
           8.05,
           26.2875,
           59.4,
           7.4958,
           34.0208,
           10.5,
           24.15,
           26,
           7.8958,
           93.5,
           7.8958,
           7.225,
           57.9792,
           7.2292,
           7.75,
           10.5,
           221.7792,
           7.925,
           11.5,
           26,
           7.2292,
           7.2292,
           22.3583,
           8.6625,
           26.25,
           26.55,
           106.425,
           14.5,
           49.5,
           71,
           31.275,
           31.275,
           26,
           106.425,
           26,
           26,
           13.8625,
           20.525,
           36.75,
           110.8833,
           26,
           7.8292,
           7.225,
           7.775,
           26.55,
           39.6,
           227.525,
           79.65,
           17.4,
           7.75,
           7.8958,
           13.5,
           8.05,
           8.05,
           24.15,
           7.8958,
           21.075,
           7.2292,
           7.8542,
           10.5,
           51.4792,
           26.3875,
           7.75,
           8.05,
           14.5,
           13,
           55.9,
           14.4583,
           7.925,
           30,
           110.8833,
           26,
           40.125,
           8.7125,
           79.65,
           15,
           79.2,
           8.05,
           8.05,
           7.125,
           78.2667,
           7.25,
           7.75,
           26,
           24.15,
           33,
           0,
           7.225,
           56.9292,
           27,
           7.8958,
           42.4,
           8.05,
           26.55,
           15.55,
           7.8958,
           30.5,
           41.5792,
           153.4625,
           31.275,
           7.05,
           15.5,
           7.75,
           8.05,
           65,
           14.4,
           16.1,
           39,
           10.5,
           14.4542,
           52.5542,
           15.7417,
           7.8542,
           16.1,
           32.3208,
           12.35,
           77.9583,
           7.8958,
           7.7333,
           30,
           7.0542,
           30.5,
           0,
           27.9,
           13,
           7.925,
           26.25,
           39.6875,
           16.1,
           7.8542,
           69.3,
           27.9,
           56.4958,
           19.2583,
           76.7292,
           7.8958,
           35.5,
           7.55,
           7.55,
           7.8958,
           23,
           8.4333,
           7.8292,
           6.75,
           73.5,
           7.8958,
           15.5,
           13,
           113.275,
           133.65,
           7.225,
           25.5875,
           7.4958,
           7.925,
           73.5,
           13,
           7.775,
           8.05,
           52,
           39,
           52,
           10.5,
           13,
           0,
           7.775,
           8.05,
           9.8417,
           46.9,
           512.3292,
           8.1375,
           76.7292,
           9.225,
           46.9,
           39,
           41.5792,
           39.6875,
           10.1708,
           7.7958,
           211.3375,
           57,
           13.4167,
           56.4958,
           7.225,
           26.55,
           13.5,
           8.05,
           7.7333,
           110.8833,
           7.65,
           227.525,
           26.2875,
           14.4542,
           7.7417,
           7.8542,
           26,
           13.5,
           26.2875,
           151.55,
           15.2458,
           49.5042,
           26.55,
           52,
           9.4833,
           13,
           7.65,
           227.525,
           10.5,
           15.5,
           7.775,
           33,
           7.0542,
           13,
           13,
           53.1,
           8.6625,
           21,
           7.7375,
           26,
           7.925,
           211.3375,
           18.7875,
           0,
           13,
           13,
           16.1,
           34.375,
           512.3292,
           7.8958,
           7.8958,
           30,
           78.85,
           262.375,
           16.1,
           7.925,
           71,
           20.25,
           13,
           53.1,
           7.75,
           23,
           12.475,
           9.5,
           7.8958,
           65,
           14.5,
           7.7958,
           11.5,
           8.05,
           86.5,
           14.5,
           7.125,
           7.2292,
           120,
           7.775,
           77.9583,
           39.6,
           7.75,
           24.15,
           8.3625,
           9.5,
           7.8542,
           10.5,
           7.225,
           23,
           7.75,
           7.75,
           12.475,
           7.7375,
           211.3375,
           7.2292,
           57,
           30,
           23.45,
           7.05,
           7.25,
           7.4958,
           29.125,
           20.575,
           79.2,
           7.75,
           26,
           69.55,
           30.6958,
           7.8958,
           13,
           25.9292,
           8.6833,
           7.2292,
           24.15,
           13,
           26.25,
           120,
           8.5167,
           6.975,
           7.775,
           0,
           7.775,
           13,
           53.1,
           7.8875,
           24.15,
           10.5,
           31.275,
           8.05,
           0,
           7.925,
           37.0042,
           6.45,
           27.9,
           93.5,
           8.6625,
           0,
           12.475,
           39.6875,
           6.95,
           56.4958,
           37.0042,
           7.75,
           80,
           14.4542,
           18.75,
           7.2292,
           7.8542,
           8.3,
           83.1583,
           8.6625,
           8.05,
           56.4958,
           29.7,
           7.925,
           10.5,
           31,
           6.4375,
           8.6625,
           7.55,
           69.55,
           7.8958,
           33,
           89.1042,
           31.275,
           7.775,
           15.2458,
           39.4,
           26,
           9.35,
           164.8667,
           26.55,
           19.2583,
           7.2292,
           14.1083,
           11.5,
           25.9292,
           69.55,
           13,
           13,
           13.8583,
           50.4958,
           9.5,
           11.1333,
           7.8958,
           52.5542,
           5,
           9,
           24,
           7.225,
           9.8458,
           7.8958,
           7.8958,
           83.1583,
           26,
           7.8958,
           10.5167,
           10.5,
           7.05,
           29.125,
           13,
           30,
           23.45,
           30,
           7.75
          ],
          "sizemode": "area",
          "sizeref": 1.280823,
          "symbol": "circle"
         },
         "mode": "markers",
         "name": "",
         "orientation": "v",
         "showlegend": false,
         "type": "scatter",
         "x": [
          null,
          "C",
          null,
          "C",
          null,
          null,
          "E",
          null,
          null,
          null,
          "G",
          "C",
          null,
          null,
          null,
          null,
          null,
          null,
          null,
          null,
          null,
          "D",
          null,
          "A",
          null,
          null,
          null,
          "C",
          null,
          null,
          null,
          "B",
          null,
          null,
          null,
          null,
          null,
          null,
          null,
          null,
          null,
          null,
          null,
          null,
          null,
          null,
          null,
          null,
          null,
          null,
          null,
          null,
          "D",
          null,
          "B",
          "C",
          null,
          null,
          null,
          null,
          null,
          "B",
          "C",
          null,
          null,
          null,
          "F",
          null,
          null,
          null,
          null,
          null,
          null,
          null,
          null,
          "F",
          null,
          null,
          null,
          null,
          null,
          null,
          null,
          null,
          null,
          null,
          null,
          null,
          "C",
          null,
          null,
          null,
          "E",
          null,
          null,
          null,
          "A",
          "D",
          null,
          null,
          null,
          null,
          "D",
          null,
          null,
          null,
          null,
          null,
          null,
          null,
          "C",
          null,
          null,
          null,
          null,
          null,
          null,
          null,
          "B",
          null,
          null,
          null,
          null,
          "E",
          "D",
          null,
          null,
          null,
          "F",
          null,
          null,
          null,
          null,
          null,
          null,
          null,
          "D",
          "C",
          null,
          "B",
          null,
          null,
          null,
          null,
          null,
          null,
          null,
          null,
          "F",
          null,
          null,
          "C",
          null,
          null,
          null,
          null,
          null,
          null,
          null,
          null,
          null,
          null,
          null,
          null,
          null,
          null,
          "E",
          null,
          null,
          null,
          "B",
          null,
          null,
          null,
          "A",
          null,
          null,
          "C",
          null,
          null,
          null,
          null,
          null,
          "F",
          null,
          "A",
          null,
          null,
          null,
          null,
          null,
          null,
          null,
          "F",
          "B",
          "B",
          null,
          null,
          null,
          null,
          null,
          null,
          null,
          null,
          null,
          "G",
          null,
          null,
          null,
          "A",
          null,
          null,
          null,
          null,
          null,
          "D",
          null,
          null,
          "D",
          null,
          null,
          null,
          null,
          null,
          "C",
          null,
          null,
          null,
          null,
          null,
          "C",
          null,
          null,
          null,
          null,
          null,
          null,
          null,
          null,
          null,
          null,
          null,
          null,
          null,
          null,
          "C",
          null,
          null,
          "D",
          null,
          null,
          "G",
          "C",
          null,
          null,
          null,
          null,
          "B",
          null,
          null,
          null,
          null,
          "E",
          "B",
          null,
          null,
          null,
          null,
          "C",
          "C",
          null,
          null,
          null,
          "C",
          null,
          "D",
          null,
          null,
          null,
          null,
          null,
          null,
          null,
          null,
          "A",
          null,
          null,
          null,
          null,
          null,
          null,
          "B",
          "D",
          null,
          null,
          null,
          null,
          "C",
          "C",
          "B",
          null,
          null,
          null,
          "E",
          null,
          "C",
          null,
          "C",
          null,
          "E",
          "C",
          "B",
          null,
          null,
          null,
          null,
          null,
          null,
          "C",
          "E",
          null,
          null,
          null,
          null,
          null,
          "C",
          null,
          "D",
          null,
          "B",
          null,
          "C",
          "C",
          null,
          null,
          null,
          "C",
          "E",
          null,
          "T",
          "F",
          "C",
          null,
          null,
          null,
          "F",
          null,
          null,
          null,
          null,
          null,
          "C",
          null,
          null,
          null,
          null,
          "E",
          null,
          null,
          null,
          null,
          null,
          null,
          null,
          null,
          null,
          "D",
          null,
          null,
          "B",
          "E",
          null,
          null,
          null,
          null,
          null,
          null,
          "C",
          null,
          null,
          null,
          null,
          null,
          null,
          null,
          null,
          null,
          null,
          null,
          null,
          "B",
          null,
          null,
          "D",
          "G",
          null,
          null,
          null,
          null,
          null,
          null,
          null,
          null,
          null,
          null,
          null,
          null,
          null,
          null,
          null,
          null,
          null,
          "C",
          null,
          null,
          null,
          null,
          null,
          null,
          null,
          null,
          null,
          null,
          null,
          null,
          null,
          null,
          null,
          null,
          "E",
          "C",
          null,
          null,
          null,
          "E",
          "B",
          null,
          null,
          "C",
          null,
          null,
          null,
          null,
          null,
          null,
          "A",
          null,
          null,
          null,
          "C",
          null,
          null,
          "C",
          "C",
          null,
          null,
          "E",
          "D",
          null,
          null,
          "E",
          null,
          "E",
          null,
          null,
          null,
          null,
          null,
          null,
          null,
          null,
          null,
          null,
          "D",
          null,
          "A",
          null,
          null,
          null,
          null,
          null,
          null,
          null,
          null,
          "B",
          null,
          "C",
          "B",
          null,
          null,
          null,
          null,
          "C",
          null,
          null,
          null,
          "D",
          null,
          "C",
          null,
          null,
          null,
          null,
          null,
          "B",
          "C",
          null,
          null,
          null,
          null,
          null,
          null,
          "E",
          null,
          null,
          "D",
          "F",
          null,
          null,
          null,
          "B",
          null,
          null,
          "B",
          null,
          null,
          null,
          "C",
          null,
          null,
          null,
          null,
          null,
          null,
          null,
          null,
          "B",
          null,
          null,
          "B",
          "B",
          null,
          null,
          null,
          "C",
          null,
          null,
          null,
          null,
          null,
          "C",
          null,
          null,
          null,
          null,
          null,
          "A",
          null,
          "E",
          null,
          null,
          null,
          null,
          null,
          null,
          null,
          null,
          null,
          null,
          null,
          null,
          "C",
          "E",
          null,
          null,
          null,
          null,
          "E",
          null,
          null,
          null,
          "C",
          null,
          "A",
          null,
          "E",
          null,
          "B",
          null,
          null,
          null,
          "D",
          null,
          null,
          null,
          null,
          null,
          null,
          null,
          "A",
          null,
          null,
          null,
          null,
          null,
          null,
          null,
          null,
          null,
          "C",
          null,
          null,
          null,
          null,
          null,
          null,
          null,
          null,
          "F",
          null,
          null,
          "D",
          null,
          null,
          null,
          "D",
          null,
          "D",
          null,
          null,
          "A",
          null,
          "B",
          null,
          null,
          null,
          null,
          null,
          null,
          null,
          null,
          "B",
          null,
          null,
          null,
          "D",
          null,
          "A",
          null,
          null,
          null,
          null,
          null,
          null,
          null,
          null,
          null,
          null,
          null,
          "D",
          null,
          null,
          "E",
          null,
          null,
          null,
          null,
          null,
          null,
          "C",
          null,
          "B",
          null,
          null,
          null,
          null,
          null,
          null,
          null,
          "B",
          null,
          "D",
          null,
          null,
          null,
          null,
          null,
          null,
          null,
          "B",
          "B",
          null,
          null,
          null,
          null,
          null,
          null,
          null,
          "C",
          "F",
          "C",
          "E",
          null,
          null,
          null,
          null,
          null,
          "E",
          null,
          null,
          "C",
          "C",
          "C",
          null,
          null,
          "F",
          "C",
          "E",
          null,
          null,
          null,
          null,
          null,
          null,
          "E",
          null,
          null,
          null,
          null,
          null,
          "B",
          null,
          null,
          null,
          null,
          null,
          null,
          "B",
          null,
          null,
          "D",
          "C",
          "B",
          null,
          null,
          "B",
          null,
          null,
          "D",
          null,
          null,
          "E",
          null,
          null,
          null,
          null,
          null,
          null,
          null,
          "B",
          null,
          null,
          null,
          "B",
          null,
          "D",
          null,
          null,
          null,
          null,
          null,
          null,
          "E",
          null,
          null,
          null,
          "F",
          null,
          null,
          "B",
          null,
          "B",
          "D",
          null,
          null,
          null,
          null,
          null,
          null,
          "B",
          null,
          null,
          null,
          null,
          null,
          null,
          "D",
          null,
          null,
          null,
          null,
          null,
          "B",
          null,
          null,
          null,
          "A",
          null,
          null,
          "E",
          null,
          null,
          null,
          null,
          null,
          "B",
          null,
          null,
          null,
          null,
          "B",
          null,
          null,
          "E",
          null,
          null,
          null,
          null,
          null,
          "B",
          null,
          null,
          null,
          null,
          null,
          "E",
          null,
          null,
          null,
          "C",
          null,
          null,
          null,
          null,
          null,
          null,
          null,
          null,
          null,
          "C",
          null,
          null,
          null,
          "D",
          null,
          null,
          null,
          "E",
          null,
          null,
          null,
          null,
          "D",
          null,
          null,
          null,
          null,
          "A",
          null,
          null,
          null,
          "D",
          "B",
          null,
          null,
          null,
          null,
          null,
          null,
          "C",
          null,
          null,
          null,
          null,
          null,
          null,
          null,
          "B",
          null,
          "C",
          null
         ],
         "xaxis": "x",
         "y": [
          7.25,
          71.2833,
          7.925,
          53.1,
          8.05,
          8.4583,
          51.8625,
          21.075,
          11.1333,
          30.0708,
          16.7,
          26.55,
          8.05,
          31.275,
          7.8542,
          16,
          29.125,
          13,
          18,
          7.225,
          26,
          13,
          8.0292,
          35.5,
          21.075,
          31.3875,
          7.225,
          263,
          7.8792,
          7.8958,
          27.7208,
          146.5208,
          7.75,
          10.5,
          82.1708,
          52,
          7.2292,
          8.05,
          18,
          11.2417,
          9.475,
          21,
          7.8958,
          41.5792,
          7.8792,
          8.05,
          15.5,
          7.75,
          21.6792,
          17.8,
          39.6875,
          7.8,
          76.7292,
          26,
          61.9792,
          35.5,
          10.5,
          7.2292,
          27.75,
          46.9,
          7.2292,
          80,
          83.475,
          27.9,
          27.7208,
          15.2458,
          10.5,
          8.1583,
          7.925,
          8.6625,
          10.5,
          46.9,
          73.5,
          14.4542,
          56.4958,
          7.65,
          7.8958,
          8.05,
          29,
          12.475,
          9,
          9.5,
          7.7875,
          47.1,
          10.5,
          15.85,
          34.375,
          8.05,
          263,
          8.05,
          8.05,
          7.8542,
          61.175,
          20.575,
          7.25,
          8.05,
          34.6542,
          63.3583,
          23,
          26,
          7.8958,
          7.8958,
          77.2875,
          8.6542,
          7.925,
          7.8958,
          7.65,
          7.775,
          7.8958,
          24.15,
          52,
          14.4542,
          8.05,
          9.825,
          14.4583,
          7.925,
          7.75,
          21,
          247.5208,
          31.275,
          73.5,
          8.05,
          30.0708,
          13,
          77.2875,
          11.2417,
          7.75,
          7.1417,
          22.3583,
          6.975,
          7.8958,
          7.05,
          14.5,
          26,
          13,
          15.0458,
          26.2833,
          53.1,
          9.2167,
          79.2,
          15.2458,
          7.75,
          15.85,
          6.75,
          11.5,
          36.75,
          7.7958,
          34.375,
          26,
          13,
          12.525,
          66.6,
          8.05,
          14.5,
          7.3125,
          61.3792,
          7.7333,
          8.05,
          8.6625,
          69.55,
          16.1,
          15.75,
          7.775,
          8.6625,
          39.6875,
          20.525,
          55,
          27.9,
          25.925,
          56.4958,
          33.5,
          29.125,
          11.1333,
          7.925,
          30.6958,
          7.8542,
          25.4667,
          28.7125,
          13,
          0,
          69.55,
          15.05,
          31.3875,
          39,
          22.025,
          50,
          15.5,
          26.55,
          15.5,
          7.8958,
          13,
          13,
          7.8542,
          26,
          27.7208,
          146.5208,
          7.75,
          8.4042,
          7.75,
          13,
          9.5,
          69.55,
          6.4958,
          7.225,
          8.05,
          10.4625,
          15.85,
          18.7875,
          7.75,
          31,
          7.05,
          21,
          7.25,
          13,
          7.75,
          113.275,
          7.925,
          27,
          76.2917,
          10.5,
          8.05,
          13,
          8.05,
          7.8958,
          90,
          9.35,
          10.5,
          7.25,
          13,
          25.4667,
          83.475,
          7.775,
          13.5,
          31.3875,
          10.5,
          7.55,
          26,
          26.25,
          10.5,
          12.275,
          14.4542,
          15.5,
          10.5,
          7.125,
          7.225,
          90,
          7.775,
          14.5,
          52.5542,
          26,
          7.25,
          10.4625,
          26.55,
          16.1,
          20.2125,
          15.2458,
          79.2,
          86.5,
          512.3292,
          26,
          7.75,
          31.3875,
          79.65,
          0,
          7.75,
          10.5,
          39.6875,
          7.775,
          153.4625,
          135.6333,
          31,
          0,
          19.5,
          29.7,
          7.75,
          77.9583,
          7.75,
          0,
          29.125,
          20.25,
          7.75,
          7.8542,
          9.5,
          8.05,
          26,
          8.6625,
          9.5,
          7.8958,
          13,
          7.75,
          78.85,
          91.0792,
          12.875,
          8.85,
          7.8958,
          27.7208,
          7.2292,
          151.55,
          30.5,
          247.5208,
          7.75,
          23.25,
          0,
          12.35,
          8.05,
          151.55,
          110.8833,
          108.9,
          24,
          56.9292,
          83.1583,
          262.375,
          26,
          7.8958,
          26.25,
          7.8542,
          26,
          14,
          164.8667,
          134.5,
          7.25,
          7.8958,
          12.35,
          29,
          69.55,
          135.6333,
          6.2375,
          13,
          20.525,
          57.9792,
          23.25,
          28.5,
          153.4625,
          18,
          133.65,
          7.8958,
          66.6,
          134.5,
          8.05,
          35.5,
          26,
          263,
          13,
          13,
          13,
          13,
          13,
          16.1,
          15.9,
          8.6625,
          9.225,
          35,
          7.2292,
          17.8,
          7.225,
          9.5,
          55,
          13,
          7.8792,
          7.8792,
          27.9,
          27.7208,
          14.4542,
          7.05,
          15.5,
          7.25,
          75.25,
          7.2292,
          7.75,
          69.3,
          55.4417,
          6.4958,
          8.05,
          135.6333,
          21.075,
          82.1708,
          7.25,
          211.5,
          4.0125,
          7.775,
          227.525,
          15.7417,
          7.925,
          52,
          7.8958,
          73.5,
          46.9,
          13,
          7.7292,
          12,
          120,
          7.7958,
          7.925,
          113.275,
          16.7,
          7.7958,
          7.8542,
          26,
          10.5,
          12.65,
          7.925,
          8.05,
          9.825,
          15.85,
          8.6625,
          21,
          7.75,
          18.75,
          7.775,
          25.4667,
          7.8958,
          6.8583,
          90,
          0,
          7.925,
          8.05,
          32.5,
          13,
          13,
          24.15,
          7.8958,
          7.7333,
          7.875,
          14.4,
          20.2125,
          7.25,
          26,
          26,
          7.75,
          8.05,
          26.55,
          16.1,
          26,
          7.125,
          55.9,
          120,
          34.375,
          18.75,
          263,
          10.5,
          26.25,
          9.5,
          7.775,
          13,
          8.1125,
          81.8583,
          19.5,
          26.55,
          19.2583,
          30.5,
          27.75,
          19.9667,
          27.75,
          89.1042,
          8.05,
          7.8958,
          26.55,
          51.8625,
          10.5,
          7.75,
          26.55,
          8.05,
          38.5,
          13,
          8.05,
          7.05,
          0,
          26.55,
          7.725,
          19.2583,
          7.25,
          8.6625,
          27.75,
          13.7917,
          9.8375,
          52,
          21,
          7.0458,
          7.5208,
          12.2875,
          46.9,
          0,
          8.05,
          9.5875,
          91.0792,
          25.4667,
          90,
          29.7,
          8.05,
          15.9,
          19.9667,
          7.25,
          30.5,
          49.5042,
          8.05,
          14.4583,
          78.2667,
          15.1,
          151.55,
          7.7958,
          8.6625,
          7.75,
          7.6292,
          9.5875,
          86.5,
          108.9,
          26,
          26.55,
          22.525,
          56.4958,
          7.75,
          8.05,
          26.2875,
          59.4,
          7.4958,
          34.0208,
          10.5,
          24.15,
          26,
          7.8958,
          93.5,
          7.8958,
          7.225,
          57.9792,
          7.2292,
          7.75,
          10.5,
          221.7792,
          7.925,
          11.5,
          26,
          7.2292,
          7.2292,
          22.3583,
          8.6625,
          26.25,
          26.55,
          106.425,
          14.5,
          49.5,
          71,
          31.275,
          31.275,
          26,
          106.425,
          26,
          26,
          13.8625,
          20.525,
          36.75,
          110.8833,
          26,
          7.8292,
          7.225,
          7.775,
          26.55,
          39.6,
          227.525,
          79.65,
          17.4,
          7.75,
          7.8958,
          13.5,
          8.05,
          8.05,
          24.15,
          7.8958,
          21.075,
          7.2292,
          7.8542,
          10.5,
          51.4792,
          26.3875,
          7.75,
          8.05,
          14.5,
          13,
          55.9,
          14.4583,
          7.925,
          30,
          110.8833,
          26,
          40.125,
          8.7125,
          79.65,
          15,
          79.2,
          8.05,
          8.05,
          7.125,
          78.2667,
          7.25,
          7.75,
          26,
          24.15,
          33,
          0,
          7.225,
          56.9292,
          27,
          7.8958,
          42.4,
          8.05,
          26.55,
          15.55,
          7.8958,
          30.5,
          41.5792,
          153.4625,
          31.275,
          7.05,
          15.5,
          7.75,
          8.05,
          65,
          14.4,
          16.1,
          39,
          10.5,
          14.4542,
          52.5542,
          15.7417,
          7.8542,
          16.1,
          32.3208,
          12.35,
          77.9583,
          7.8958,
          7.7333,
          30,
          7.0542,
          30.5,
          0,
          27.9,
          13,
          7.925,
          26.25,
          39.6875,
          16.1,
          7.8542,
          69.3,
          27.9,
          56.4958,
          19.2583,
          76.7292,
          7.8958,
          35.5,
          7.55,
          7.55,
          7.8958,
          23,
          8.4333,
          7.8292,
          6.75,
          73.5,
          7.8958,
          15.5,
          13,
          113.275,
          133.65,
          7.225,
          25.5875,
          7.4958,
          7.925,
          73.5,
          13,
          7.775,
          8.05,
          52,
          39,
          52,
          10.5,
          13,
          0,
          7.775,
          8.05,
          9.8417,
          46.9,
          512.3292,
          8.1375,
          76.7292,
          9.225,
          46.9,
          39,
          41.5792,
          39.6875,
          10.1708,
          7.7958,
          211.3375,
          57,
          13.4167,
          56.4958,
          7.225,
          26.55,
          13.5,
          8.05,
          7.7333,
          110.8833,
          7.65,
          227.525,
          26.2875,
          14.4542,
          7.7417,
          7.8542,
          26,
          13.5,
          26.2875,
          151.55,
          15.2458,
          49.5042,
          26.55,
          52,
          9.4833,
          13,
          7.65,
          227.525,
          10.5,
          15.5,
          7.775,
          33,
          7.0542,
          13,
          13,
          53.1,
          8.6625,
          21,
          7.7375,
          26,
          7.925,
          211.3375,
          18.7875,
          0,
          13,
          13,
          16.1,
          34.375,
          512.3292,
          7.8958,
          7.8958,
          30,
          78.85,
          262.375,
          16.1,
          7.925,
          71,
          20.25,
          13,
          53.1,
          7.75,
          23,
          12.475,
          9.5,
          7.8958,
          65,
          14.5,
          7.7958,
          11.5,
          8.05,
          86.5,
          14.5,
          7.125,
          7.2292,
          120,
          7.775,
          77.9583,
          39.6,
          7.75,
          24.15,
          8.3625,
          9.5,
          7.8542,
          10.5,
          7.225,
          23,
          7.75,
          7.75,
          12.475,
          7.7375,
          211.3375,
          7.2292,
          57,
          30,
          23.45,
          7.05,
          7.25,
          7.4958,
          29.125,
          20.575,
          79.2,
          7.75,
          26,
          69.55,
          30.6958,
          7.8958,
          13,
          25.9292,
          8.6833,
          7.2292,
          24.15,
          13,
          26.25,
          120,
          8.5167,
          6.975,
          7.775,
          0,
          7.775,
          13,
          53.1,
          7.8875,
          24.15,
          10.5,
          31.275,
          8.05,
          0,
          7.925,
          37.0042,
          6.45,
          27.9,
          93.5,
          8.6625,
          0,
          12.475,
          39.6875,
          6.95,
          56.4958,
          37.0042,
          7.75,
          80,
          14.4542,
          18.75,
          7.2292,
          7.8542,
          8.3,
          83.1583,
          8.6625,
          8.05,
          56.4958,
          29.7,
          7.925,
          10.5,
          31,
          6.4375,
          8.6625,
          7.55,
          69.55,
          7.8958,
          33,
          89.1042,
          31.275,
          7.775,
          15.2458,
          39.4,
          26,
          9.35,
          164.8667,
          26.55,
          19.2583,
          7.2292,
          14.1083,
          11.5,
          25.9292,
          69.55,
          13,
          13,
          13.8583,
          50.4958,
          9.5,
          11.1333,
          7.8958,
          52.5542,
          5,
          9,
          24,
          7.225,
          9.8458,
          7.8958,
          7.8958,
          83.1583,
          26,
          7.8958,
          10.5167,
          10.5,
          7.05,
          29.125,
          13,
          30,
          23.45,
          30,
          7.75
         ],
         "yaxis": "y"
        }
       ],
       "layout": {
        "coloraxis": {
         "colorbar": {
          "title": {
           "text": "Survived"
          }
         },
         "colorscale": [
          [
           0,
           "#0d0887"
          ],
          [
           0.1111111111111111,
           "#46039f"
          ],
          [
           0.2222222222222222,
           "#7201a8"
          ],
          [
           0.3333333333333333,
           "#9c179e"
          ],
          [
           0.4444444444444444,
           "#bd3786"
          ],
          [
           0.5555555555555556,
           "#d8576b"
          ],
          [
           0.6666666666666666,
           "#ed7953"
          ],
          [
           0.7777777777777778,
           "#fb9f3a"
          ],
          [
           0.8888888888888888,
           "#fdca26"
          ],
          [
           1,
           "#f0f921"
          ]
         ]
        },
        "legend": {
         "itemsizing": "constant",
         "tracegroupgap": 0
        },
        "margin": {
         "t": 60
        },
        "template": {
         "data": {
          "bar": [
           {
            "error_x": {
             "color": "#2a3f5f"
            },
            "error_y": {
             "color": "#2a3f5f"
            },
            "marker": {
             "line": {
              "color": "#E5ECF6",
              "width": 0.5
             },
             "pattern": {
              "fillmode": "overlay",
              "size": 10,
              "solidity": 0.2
             }
            },
            "type": "bar"
           }
          ],
          "barpolar": [
           {
            "marker": {
             "line": {
              "color": "#E5ECF6",
              "width": 0.5
             },
             "pattern": {
              "fillmode": "overlay",
              "size": 10,
              "solidity": 0.2
             }
            },
            "type": "barpolar"
           }
          ],
          "carpet": [
           {
            "aaxis": {
             "endlinecolor": "#2a3f5f",
             "gridcolor": "white",
             "linecolor": "white",
             "minorgridcolor": "white",
             "startlinecolor": "#2a3f5f"
            },
            "baxis": {
             "endlinecolor": "#2a3f5f",
             "gridcolor": "white",
             "linecolor": "white",
             "minorgridcolor": "white",
             "startlinecolor": "#2a3f5f"
            },
            "type": "carpet"
           }
          ],
          "choropleth": [
           {
            "colorbar": {
             "outlinewidth": 0,
             "ticks": ""
            },
            "type": "choropleth"
           }
          ],
          "contour": [
           {
            "colorbar": {
             "outlinewidth": 0,
             "ticks": ""
            },
            "colorscale": [
             [
              0,
              "#0d0887"
             ],
             [
              0.1111111111111111,
              "#46039f"
             ],
             [
              0.2222222222222222,
              "#7201a8"
             ],
             [
              0.3333333333333333,
              "#9c179e"
             ],
             [
              0.4444444444444444,
              "#bd3786"
             ],
             [
              0.5555555555555556,
              "#d8576b"
             ],
             [
              0.6666666666666666,
              "#ed7953"
             ],
             [
              0.7777777777777778,
              "#fb9f3a"
             ],
             [
              0.8888888888888888,
              "#fdca26"
             ],
             [
              1,
              "#f0f921"
             ]
            ],
            "type": "contour"
           }
          ],
          "contourcarpet": [
           {
            "colorbar": {
             "outlinewidth": 0,
             "ticks": ""
            },
            "type": "contourcarpet"
           }
          ],
          "heatmap": [
           {
            "colorbar": {
             "outlinewidth": 0,
             "ticks": ""
            },
            "colorscale": [
             [
              0,
              "#0d0887"
             ],
             [
              0.1111111111111111,
              "#46039f"
             ],
             [
              0.2222222222222222,
              "#7201a8"
             ],
             [
              0.3333333333333333,
              "#9c179e"
             ],
             [
              0.4444444444444444,
              "#bd3786"
             ],
             [
              0.5555555555555556,
              "#d8576b"
             ],
             [
              0.6666666666666666,
              "#ed7953"
             ],
             [
              0.7777777777777778,
              "#fb9f3a"
             ],
             [
              0.8888888888888888,
              "#fdca26"
             ],
             [
              1,
              "#f0f921"
             ]
            ],
            "type": "heatmap"
           }
          ],
          "heatmapgl": [
           {
            "colorbar": {
             "outlinewidth": 0,
             "ticks": ""
            },
            "colorscale": [
             [
              0,
              "#0d0887"
             ],
             [
              0.1111111111111111,
              "#46039f"
             ],
             [
              0.2222222222222222,
              "#7201a8"
             ],
             [
              0.3333333333333333,
              "#9c179e"
             ],
             [
              0.4444444444444444,
              "#bd3786"
             ],
             [
              0.5555555555555556,
              "#d8576b"
             ],
             [
              0.6666666666666666,
              "#ed7953"
             ],
             [
              0.7777777777777778,
              "#fb9f3a"
             ],
             [
              0.8888888888888888,
              "#fdca26"
             ],
             [
              1,
              "#f0f921"
             ]
            ],
            "type": "heatmapgl"
           }
          ],
          "histogram": [
           {
            "marker": {
             "pattern": {
              "fillmode": "overlay",
              "size": 10,
              "solidity": 0.2
             }
            },
            "type": "histogram"
           }
          ],
          "histogram2d": [
           {
            "colorbar": {
             "outlinewidth": 0,
             "ticks": ""
            },
            "colorscale": [
             [
              0,
              "#0d0887"
             ],
             [
              0.1111111111111111,
              "#46039f"
             ],
             [
              0.2222222222222222,
              "#7201a8"
             ],
             [
              0.3333333333333333,
              "#9c179e"
             ],
             [
              0.4444444444444444,
              "#bd3786"
             ],
             [
              0.5555555555555556,
              "#d8576b"
             ],
             [
              0.6666666666666666,
              "#ed7953"
             ],
             [
              0.7777777777777778,
              "#fb9f3a"
             ],
             [
              0.8888888888888888,
              "#fdca26"
             ],
             [
              1,
              "#f0f921"
             ]
            ],
            "type": "histogram2d"
           }
          ],
          "histogram2dcontour": [
           {
            "colorbar": {
             "outlinewidth": 0,
             "ticks": ""
            },
            "colorscale": [
             [
              0,
              "#0d0887"
             ],
             [
              0.1111111111111111,
              "#46039f"
             ],
             [
              0.2222222222222222,
              "#7201a8"
             ],
             [
              0.3333333333333333,
              "#9c179e"
             ],
             [
              0.4444444444444444,
              "#bd3786"
             ],
             [
              0.5555555555555556,
              "#d8576b"
             ],
             [
              0.6666666666666666,
              "#ed7953"
             ],
             [
              0.7777777777777778,
              "#fb9f3a"
             ],
             [
              0.8888888888888888,
              "#fdca26"
             ],
             [
              1,
              "#f0f921"
             ]
            ],
            "type": "histogram2dcontour"
           }
          ],
          "mesh3d": [
           {
            "colorbar": {
             "outlinewidth": 0,
             "ticks": ""
            },
            "type": "mesh3d"
           }
          ],
          "parcoords": [
           {
            "line": {
             "colorbar": {
              "outlinewidth": 0,
              "ticks": ""
             }
            },
            "type": "parcoords"
           }
          ],
          "pie": [
           {
            "automargin": true,
            "type": "pie"
           }
          ],
          "scatter": [
           {
            "fillpattern": {
             "fillmode": "overlay",
             "size": 10,
             "solidity": 0.2
            },
            "type": "scatter"
           }
          ],
          "scatter3d": [
           {
            "line": {
             "colorbar": {
              "outlinewidth": 0,
              "ticks": ""
             }
            },
            "marker": {
             "colorbar": {
              "outlinewidth": 0,
              "ticks": ""
             }
            },
            "type": "scatter3d"
           }
          ],
          "scattercarpet": [
           {
            "marker": {
             "colorbar": {
              "outlinewidth": 0,
              "ticks": ""
             }
            },
            "type": "scattercarpet"
           }
          ],
          "scattergeo": [
           {
            "marker": {
             "colorbar": {
              "outlinewidth": 0,
              "ticks": ""
             }
            },
            "type": "scattergeo"
           }
          ],
          "scattergl": [
           {
            "marker": {
             "colorbar": {
              "outlinewidth": 0,
              "ticks": ""
             }
            },
            "type": "scattergl"
           }
          ],
          "scattermapbox": [
           {
            "marker": {
             "colorbar": {
              "outlinewidth": 0,
              "ticks": ""
             }
            },
            "type": "scattermapbox"
           }
          ],
          "scatterpolar": [
           {
            "marker": {
             "colorbar": {
              "outlinewidth": 0,
              "ticks": ""
             }
            },
            "type": "scatterpolar"
           }
          ],
          "scatterpolargl": [
           {
            "marker": {
             "colorbar": {
              "outlinewidth": 0,
              "ticks": ""
             }
            },
            "type": "scatterpolargl"
           }
          ],
          "scatterternary": [
           {
            "marker": {
             "colorbar": {
              "outlinewidth": 0,
              "ticks": ""
             }
            },
            "type": "scatterternary"
           }
          ],
          "surface": [
           {
            "colorbar": {
             "outlinewidth": 0,
             "ticks": ""
            },
            "colorscale": [
             [
              0,
              "#0d0887"
             ],
             [
              0.1111111111111111,
              "#46039f"
             ],
             [
              0.2222222222222222,
              "#7201a8"
             ],
             [
              0.3333333333333333,
              "#9c179e"
             ],
             [
              0.4444444444444444,
              "#bd3786"
             ],
             [
              0.5555555555555556,
              "#d8576b"
             ],
             [
              0.6666666666666666,
              "#ed7953"
             ],
             [
              0.7777777777777778,
              "#fb9f3a"
             ],
             [
              0.8888888888888888,
              "#fdca26"
             ],
             [
              1,
              "#f0f921"
             ]
            ],
            "type": "surface"
           }
          ],
          "table": [
           {
            "cells": {
             "fill": {
              "color": "#EBF0F8"
             },
             "line": {
              "color": "white"
             }
            },
            "header": {
             "fill": {
              "color": "#C8D4E3"
             },
             "line": {
              "color": "white"
             }
            },
            "type": "table"
           }
          ]
         },
         "layout": {
          "annotationdefaults": {
           "arrowcolor": "#2a3f5f",
           "arrowhead": 0,
           "arrowwidth": 1
          },
          "autotypenumbers": "strict",
          "coloraxis": {
           "colorbar": {
            "outlinewidth": 0,
            "ticks": ""
           }
          },
          "colorscale": {
           "diverging": [
            [
             0,
             "#8e0152"
            ],
            [
             0.1,
             "#c51b7d"
            ],
            [
             0.2,
             "#de77ae"
            ],
            [
             0.3,
             "#f1b6da"
            ],
            [
             0.4,
             "#fde0ef"
            ],
            [
             0.5,
             "#f7f7f7"
            ],
            [
             0.6,
             "#e6f5d0"
            ],
            [
             0.7,
             "#b8e186"
            ],
            [
             0.8,
             "#7fbc41"
            ],
            [
             0.9,
             "#4d9221"
            ],
            [
             1,
             "#276419"
            ]
           ],
           "sequential": [
            [
             0,
             "#0d0887"
            ],
            [
             0.1111111111111111,
             "#46039f"
            ],
            [
             0.2222222222222222,
             "#7201a8"
            ],
            [
             0.3333333333333333,
             "#9c179e"
            ],
            [
             0.4444444444444444,
             "#bd3786"
            ],
            [
             0.5555555555555556,
             "#d8576b"
            ],
            [
             0.6666666666666666,
             "#ed7953"
            ],
            [
             0.7777777777777778,
             "#fb9f3a"
            ],
            [
             0.8888888888888888,
             "#fdca26"
            ],
            [
             1,
             "#f0f921"
            ]
           ],
           "sequentialminus": [
            [
             0,
             "#0d0887"
            ],
            [
             0.1111111111111111,
             "#46039f"
            ],
            [
             0.2222222222222222,
             "#7201a8"
            ],
            [
             0.3333333333333333,
             "#9c179e"
            ],
            [
             0.4444444444444444,
             "#bd3786"
            ],
            [
             0.5555555555555556,
             "#d8576b"
            ],
            [
             0.6666666666666666,
             "#ed7953"
            ],
            [
             0.7777777777777778,
             "#fb9f3a"
            ],
            [
             0.8888888888888888,
             "#fdca26"
            ],
            [
             1,
             "#f0f921"
            ]
           ]
          },
          "colorway": [
           "#636efa",
           "#EF553B",
           "#00cc96",
           "#ab63fa",
           "#FFA15A",
           "#19d3f3",
           "#FF6692",
           "#B6E880",
           "#FF97FF",
           "#FECB52"
          ],
          "font": {
           "color": "#2a3f5f"
          },
          "geo": {
           "bgcolor": "white",
           "lakecolor": "white",
           "landcolor": "#E5ECF6",
           "showlakes": true,
           "showland": true,
           "subunitcolor": "white"
          },
          "hoverlabel": {
           "align": "left"
          },
          "hovermode": "closest",
          "mapbox": {
           "style": "light"
          },
          "paper_bgcolor": "white",
          "plot_bgcolor": "#E5ECF6",
          "polar": {
           "angularaxis": {
            "gridcolor": "white",
            "linecolor": "white",
            "ticks": ""
           },
           "bgcolor": "#E5ECF6",
           "radialaxis": {
            "gridcolor": "white",
            "linecolor": "white",
            "ticks": ""
           }
          },
          "scene": {
           "xaxis": {
            "backgroundcolor": "#E5ECF6",
            "gridcolor": "white",
            "gridwidth": 2,
            "linecolor": "white",
            "showbackground": true,
            "ticks": "",
            "zerolinecolor": "white"
           },
           "yaxis": {
            "backgroundcolor": "#E5ECF6",
            "gridcolor": "white",
            "gridwidth": 2,
            "linecolor": "white",
            "showbackground": true,
            "ticks": "",
            "zerolinecolor": "white"
           },
           "zaxis": {
            "backgroundcolor": "#E5ECF6",
            "gridcolor": "white",
            "gridwidth": 2,
            "linecolor": "white",
            "showbackground": true,
            "ticks": "",
            "zerolinecolor": "white"
           }
          },
          "shapedefaults": {
           "line": {
            "color": "#2a3f5f"
           }
          },
          "ternary": {
           "aaxis": {
            "gridcolor": "white",
            "linecolor": "white",
            "ticks": ""
           },
           "baxis": {
            "gridcolor": "white",
            "linecolor": "white",
            "ticks": ""
           },
           "bgcolor": "#E5ECF6",
           "caxis": {
            "gridcolor": "white",
            "linecolor": "white",
            "ticks": ""
           }
          },
          "title": {
           "x": 0.05
          },
          "xaxis": {
           "automargin": true,
           "gridcolor": "white",
           "linecolor": "white",
           "ticks": "",
           "title": {
            "standoff": 15
           },
           "zerolinecolor": "white",
           "zerolinewidth": 2
          },
          "yaxis": {
           "automargin": true,
           "gridcolor": "white",
           "linecolor": "white",
           "ticks": "",
           "title": {
            "standoff": 15
           },
           "zerolinecolor": "white",
           "zerolinewidth": 2
          }
         }
        },
        "title": {
         "text": "Survival Rate by Cabin Class and Fare"
        },
        "xaxis": {
         "anchor": "y",
         "domain": [
          0,
          1
         ],
         "title": {
          "text": "CabinClass"
         }
        },
        "yaxis": {
         "anchor": "x",
         "domain": [
          0,
          1
         ],
         "title": {
          "text": "Fare"
         }
        }
       }
      }
     },
     "metadata": {},
     "output_type": "display_data"
    }
   ],
   "source": [
    "# Visualize survival rate by age and sex\n",
    "fig1 = px.histogram(train_df, x='Age', color='Sex', barmode='group', nbins=20,\n",
    "                    histnorm='percent', marginal='violin', hover_data=['Survived'])\n",
    "fig1.update_layout(title='Survival Rate by Age and Sex')\n",
    "\n",
    "# Visualize survival rate by fare and embarkation port\n",
    "fig2 = px.scatter(train_df, x='Fare', y='Survived', color='Embarked', size='Fare',\n",
    "                  hover_data=['PassengerId', 'Pclass', 'Sex'])\n",
    "fig2.update_layout(title='Survival Rate by Fare and Embarkation Port')\n",
    "\n",
    "# Visualize survival rate by passenger class and age\n",
    "fig3 = px.box(train_df, x='Pclass', y='Age', color='Survived', points='all',\n",
    "              hover_data=['PassengerId', 'Sex'])\n",
    "fig3.update_layout(title='Survival Rate by Passenger Class and Age')\n",
    "\n",
    "# Visualize survival rate by cabin class and fare\n",
    "train_df['CabinClass'] = train_df['Cabin'].str.extract('([A-Za-z])')\n",
    "fig4 = px.scatter(train_df, x='CabinClass', y='Fare', color='Survived', size='Fare',\n",
    "                  hover_data=['PassengerId', 'Pclass', 'Sex'])\n",
    "fig4.update_layout(title='Survival Rate by Cabin Class and Fare')\n",
    "\n",
    "# Show plots\n",
    "fig1.show()\n",
    "fig2.show()\n",
    "fig3.show()\n",
    "fig4.show()"
   ]
  },
  {
   "attachments": {},
   "cell_type": "markdown",
   "metadata": {},
   "source": [
    "## Data Preprocessing"
   ]
  },
  {
   "cell_type": "code",
   "execution_count": 11,
   "metadata": {},
   "outputs": [
    {
     "name": "stdout",
     "output_type": "stream",
     "text": [
      "891 418\n"
     ]
    }
   ],
   "source": [
    "def clean1(data):\n",
    "    data = data.drop([\"Ticket\", \"Cabin\", \"Name\", \"PassengerId\"], axis=1)\n",
    "\n",
    "    cols = [\"SibSp\", \"Parch\", \"Fare\", \"Age\"]\n",
    "    for col in cols:\n",
    "        data[col].fillna(data[col].median(), inplace=True)\n",
    "\n",
    "    data.Embarked.fillna(\"U\", inplace=True)\n",
    "\n",
    "    return data\n",
    "\n",
    "\n",
    "post1_train_df = clean1(train_df)\n",
    "post1_test_df = clean1(test_df)\n",
    "\n",
    "print(len(post1_train_df), len(post1_test_df))\n",
    "\n",
    "le = preprocessing.LabelEncoder()\n",
    "\n",
    "cols = [\"Sex\", \"Embarked\"]\n",
    "\n",
    "for col in cols:\n",
    "    post1_train_df[col] = le.fit_transform (post1_train_df[col])\n",
    "    post1_test_df[col] = le.transform(post1_test_df[col])\n",
    "    print(le.classes_)\n"
   ]
  },
  {
   "cell_type": "code",
   "execution_count": 36,
   "metadata": {},
   "outputs": [
    {
     "name": "stdout",
     "output_type": "stream",
     "text": [
      "['female' 'male']\n",
      "['C' 'Q' 'S' nan]\n"
     ]
    }
   ],
   "source": [
    "def clean2(data):\n",
    "    data = data.drop([\"Ticket\", \"Cabin\", \"Name\", \"PassengerId\"], axis=1)\n",
    "\n",
    "    return data\n",
    "\n",
    "post2_train_df = clean2(train_df)\n",
    "post2_test_df = clean2(test_df)\n",
    "\n",
    "le = preprocessing.LabelEncoder()\n",
    "\n",
    "cols = [\"Sex\", \"Embarked\"]\n",
    "\n",
    "for col in cols:\n",
    "    post2_train_df[col] = le.fit_transform (post2_train_df[col])\n",
    "    post2_test_df[col] = le.transform(post2_test_df[col])\n",
    "    print(le.classes_)\n"
   ]
  },
  {
   "cell_type": "code",
   "execution_count": 13,
   "metadata": {},
   "outputs": [
    {
     "data": {
      "text/html": [
       "<div>\n",
       "<style scoped>\n",
       "    .dataframe tbody tr th:only-of-type {\n",
       "        vertical-align: middle;\n",
       "    }\n",
       "\n",
       "    .dataframe tbody tr th {\n",
       "        vertical-align: top;\n",
       "    }\n",
       "\n",
       "    .dataframe thead th {\n",
       "        text-align: right;\n",
       "    }\n",
       "</style>\n",
       "<table border=\"1\" class=\"dataframe\">\n",
       "  <thead>\n",
       "    <tr style=\"text-align: right;\">\n",
       "      <th></th>\n",
       "      <th>Survived</th>\n",
       "      <th>Pclass</th>\n",
       "      <th>Sex</th>\n",
       "      <th>Age</th>\n",
       "      <th>SibSp</th>\n",
       "      <th>Parch</th>\n",
       "      <th>Fare</th>\n",
       "      <th>Embarked</th>\n",
       "    </tr>\n",
       "  </thead>\n",
       "  <tbody>\n",
       "    <tr>\n",
       "      <th>0</th>\n",
       "      <td>0</td>\n",
       "      <td>3</td>\n",
       "      <td>1</td>\n",
       "      <td>22.0</td>\n",
       "      <td>1</td>\n",
       "      <td>0</td>\n",
       "      <td>7.2500</td>\n",
       "      <td>2</td>\n",
       "    </tr>\n",
       "    <tr>\n",
       "      <th>1</th>\n",
       "      <td>1</td>\n",
       "      <td>1</td>\n",
       "      <td>0</td>\n",
       "      <td>38.0</td>\n",
       "      <td>1</td>\n",
       "      <td>0</td>\n",
       "      <td>71.2833</td>\n",
       "      <td>0</td>\n",
       "    </tr>\n",
       "    <tr>\n",
       "      <th>2</th>\n",
       "      <td>1</td>\n",
       "      <td>3</td>\n",
       "      <td>0</td>\n",
       "      <td>26.0</td>\n",
       "      <td>0</td>\n",
       "      <td>0</td>\n",
       "      <td>7.9250</td>\n",
       "      <td>2</td>\n",
       "    </tr>\n",
       "    <tr>\n",
       "      <th>3</th>\n",
       "      <td>1</td>\n",
       "      <td>1</td>\n",
       "      <td>0</td>\n",
       "      <td>35.0</td>\n",
       "      <td>1</td>\n",
       "      <td>0</td>\n",
       "      <td>53.1000</td>\n",
       "      <td>2</td>\n",
       "    </tr>\n",
       "    <tr>\n",
       "      <th>4</th>\n",
       "      <td>0</td>\n",
       "      <td>3</td>\n",
       "      <td>1</td>\n",
       "      <td>35.0</td>\n",
       "      <td>0</td>\n",
       "      <td>0</td>\n",
       "      <td>8.0500</td>\n",
       "      <td>2</td>\n",
       "    </tr>\n",
       "  </tbody>\n",
       "</table>\n",
       "</div>"
      ],
      "text/plain": [
       "   Survived  Pclass  Sex   Age  SibSp  Parch     Fare  Embarked\n",
       "0         0       3    1  22.0      1      0   7.2500         2\n",
       "1         1       1    0  38.0      1      0  71.2833         0\n",
       "2         1       3    0  26.0      0      0   7.9250         2\n",
       "3         1       1    0  35.0      1      0  53.1000         2\n",
       "4         0       3    1  35.0      0      0   8.0500         2"
      ]
     },
     "execution_count": 13,
     "metadata": {},
     "output_type": "execute_result"
    }
   ],
   "source": [
    "post1_train_df.head()"
   ]
  },
  {
   "cell_type": "code",
   "execution_count": 14,
   "metadata": {},
   "outputs": [],
   "source": [
    "y = post1_train_df[\"Survived\"]\n",
    "X = post1_train_df.drop(\"Survived\", axis=1)\n",
    "\n",
    "X_train, X_val, y_train, y_val = train_test_split(X, y, test_size=0.2, random_state=42)"
   ]
  },
  {
   "attachments": {},
   "cell_type": "markdown",
   "metadata": {},
   "source": [
    "## Model Training\n",
    "\n",
    "#### LogisticRegression (sklearn)"
   ]
  },
  {
   "cell_type": "code",
   "execution_count": 15,
   "metadata": {},
   "outputs": [],
   "source": [
    "model1 = LogisticRegression(random_state=0, max_iter=1000).fit(X_train, y_train)"
   ]
  },
  {
   "cell_type": "code",
   "execution_count": 16,
   "metadata": {},
   "outputs": [
    {
     "data": {
      "text/plain": [
       "0.8100558659217877"
      ]
     },
     "execution_count": 16,
     "metadata": {},
     "output_type": "execute_result"
    }
   ],
   "source": [
    "predictions = model1.predict(X_val)\n",
    "\n",
    "accuracy_score(y_val, predictions)"
   ]
  },
  {
   "cell_type": "code",
   "execution_count": 17,
   "metadata": {},
   "outputs": [],
   "source": [
    "submission_preds = model1.predict(post1_test_df)"
   ]
  },
  {
   "cell_type": "code",
   "execution_count": 37,
   "metadata": {},
   "outputs": [],
   "source": [
    "submission_df = pd.DataFrame({\"PassengerId\": test_ids.values,\n",
    "                            \"Survived\": submission_preds\n",
    "                            })\n",
    "\n",
    "submission_df.to_csv(\"submission.csv\", index=False)"
   ]
  },
  {
   "attachments": {},
   "cell_type": "markdown",
   "metadata": {},
   "source": [
    "#### XGBoost Classifier"
   ]
  },
  {
   "cell_type": "code",
   "execution_count": 37,
   "metadata": {},
   "outputs": [],
   "source": [
    "y = post2_train_df[\"Survived\"]\n",
    "X = post2_train_df.drop(\"Survived\", axis=1)\n",
    "\n",
    "X_train, X_val, y_train, y_val = train_test_split(X, y, test_size=0.2, random_state=42)"
   ]
  },
  {
   "cell_type": "code",
   "execution_count": 46,
   "metadata": {},
   "outputs": [],
   "source": [
    "from xgboost import DMatrix\n",
    "\n",
    "\n",
    "model2 = xgb.XGBClassifier(\n",
    "                        learning_rate=0.1, \n",
    "                        max_depth=5, \n",
    "                        n_estimators=200, \n",
    "                        reg_lambda=0.1, \n",
    "                        subsample=0.9,\n",
    "                        ).fit(X_train, y_train)"
   ]
  },
  {
   "cell_type": "code",
   "execution_count": 47,
   "metadata": {},
   "outputs": [
    {
     "name": "stdout",
     "output_type": "stream",
     "text": [
      "Accuracy: 0.83\n"
     ]
    }
   ],
   "source": [
    "# Make predictions on validation set\n",
    "y_pred = model2.predict(X_val)\n",
    "\n",
    "# Evaluate accuracy\n",
    "accuracy = accuracy_score(y_val, y_pred)\n",
    "print(f'Accuracy: {accuracy:.2f}')"
   ]
  },
  {
   "cell_type": "code",
   "execution_count": 48,
   "metadata": {},
   "outputs": [],
   "source": [
    "submission_preds = model2.predict(post2_test_df)"
   ]
  },
  {
   "cell_type": "code",
   "execution_count": 49,
   "metadata": {},
   "outputs": [],
   "source": [
    "submission_df = pd.DataFrame({\"PassengerId\": test_ids.values,\n",
    "                            \"Survived\": submission_preds\n",
    "                            })\n",
    "\n",
    "submission_df.to_csv(\"submission.csv\", index=False)"
   ]
  },
  {
   "cell_type": "code",
   "execution_count": 25,
   "metadata": {},
   "outputs": [
    {
     "name": "stdout",
     "output_type": "stream",
     "text": [
      "Best hyperparameters: {'learning_rate': 0.1, 'max_depth': 3, 'n_estimators': 100, 'reg_lambda': 0.1, 'subsample': 0.9}\n",
      "Accuracy: 0.84\n"
     ]
    }
   ],
   "source": [
    "from sklearn.model_selection import GridSearchCV\n",
    "\n",
    "# Define parameter grid for grid search\n",
    "param_grid = {\n",
    "    'learning_rate': [0.01, 0.05, 0.1],\n",
    "    'max_depth': [3, 5, 7],\n",
    "    'subsample': [0.5, 0.7, 0.9],\n",
    "    'reg_lambda': [0.1, 1, 10],\n",
    "    'n_estimators': [100, 200, 300]\n",
    "}\n",
    "\n",
    "# Create XGBoost classifier\n",
    "model = xgb.XGBClassifier()\n",
    "\n",
    "# Perform grid search\n",
    "grid_search = GridSearchCV(model, param_grid, cv=5)\n",
    "grid_search.fit(X_train, y_train)\n",
    "\n",
    "# Print best hyperparameters and accuracy\n",
    "print(f'Best hyperparameters: {grid_search.best_params_}')\n",
    "print(f'Accuracy: {grid_search.best_score_:.2f}')"
   ]
  },
  {
   "cell_type": "code",
   "execution_count": 32,
   "metadata": {},
   "outputs": [
    {
     "name": "stdout",
     "output_type": "stream",
     "text": [
      "Accuracy: 0.81\n"
     ]
    }
   ],
   "source": [
    "import pickle\n",
    "\n",
    "# Train XGBoost classifier with best hyperparameters\n",
    "best_params = {'learning_rate': 0.05, 'max_depth': 5, 'n_estimators': 300, 'reg_lambda': 1, 'subsample': 0.7}\n",
    "model3 = xgb.XGBClassifier(**best_params)\n",
    "model3.fit(X_train, y_train)\n",
    "\n",
    "# Make predictions on validation set\n",
    "y_pred = model3.predict(X_val)\n",
    "\n",
    "# Evaluate accuracy\n",
    "accuracy = accuracy_score(y_val, y_pred)\n",
    "print(f'Accuracy: {accuracy:.2f}')\n",
    "\n",
    "# Save model to file\n",
    "filename = 'titanic_xgboost_model.pkl'\n",
    "with open(filename, 'wb') as file:\n",
    "    pickle.dump(model2, file)"
   ]
  },
  {
   "cell_type": "code",
   "execution_count": null,
   "metadata": {},
   "outputs": [],
   "source": [
    "# Load model from file\n",
    "filename = 'titanic_xgboost_model.pkl'\n",
    "with open(filename, 'rb') as file:\n",
    "    model = pickle.load(file)\n",
    "\n",
    "# Make predictions on new data\n",
    "new_data = pd.read_csv('test.csv')\n",
    "new_data.drop(['PassengerId', 'Name', 'Ticket', 'Cabin'], axis=1, inplace=True)\n",
    "new_data['Age'].fillna(new_data['Age'].median(), inplace=True)\n",
    "new_data['Fare'].fillna(new_data['Fare'].median(), inplace=True)\n",
    "new_data = pd.get_dummies(new_data, columns=['Sex', 'Embarked'])\n",
    "y_pred = model.predict(new_data)\n",
    "\n",
    "# Export predictions to CSV file\n",
    "output_df = pd.DataFrame({'PassengerId': pd.read_csv('test.csv')['PassengerId'], 'Survived': y_pred})\n",
    "output_df.to_csv('titanic_predictions.csv', index=False)"
   ]
  }
 ],
 "metadata": {
  "kernelspec": {
   "display_name": "venv",
   "language": "python",
   "name": "python3"
  },
  "language_info": {
   "codemirror_mode": {
    "name": "ipython",
    "version": 3
   },
   "file_extension": ".py",
   "mimetype": "text/x-python",
   "name": "python",
   "nbconvert_exporter": "python",
   "pygments_lexer": "ipython3",
   "version": "3.11.0"
  },
  "orig_nbformat": 4,
  "vscode": {
   "interpreter": {
    "hash": "e5f0d27544c972fb4ecbc45940aa413cc8e7d714ffdb125b478768dcf85cc395"
   }
  }
 },
 "nbformat": 4,
 "nbformat_minor": 2
}
