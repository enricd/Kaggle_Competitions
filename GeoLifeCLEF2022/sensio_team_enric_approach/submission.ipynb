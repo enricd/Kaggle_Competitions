{
 "cells": [
  {
   "cell_type": "code",
   "execution_count": 7,
   "metadata": {},
   "outputs": [],
   "source": [
    "%load_ext autoreload\n",
    "%autoreload 2"
   ]
  },
  {
   "cell_type": "code",
   "execution_count": 5,
   "metadata": {},
   "outputs": [
    {
     "name": "stdout",
     "output_type": "stream",
     "text": [
      "train: 1587395\n",
      "val: 40080\n",
      "test: 36421\n"
     ]
    }
   ],
   "source": [
    "from src import RGBNirBioDataModule, RGBNirBioModule\n",
    "import pytorch_lightning as pl\n",
    "\n",
    "dm = RGBNirBioDataModule(batch_size=700, num_workers=6, pin_memory=True)\n",
    "dm.setup()"
   ]
  },
  {
   "cell_type": "code",
   "execution_count": 3,
   "metadata": {},
   "outputs": [],
   "source": [
    "config = {\n",
    "    \"backbone\": \"resnet34\",\n",
    "    \"pretrained\": True,\n",
    "    \"optimizer\": \"Adam\",\n",
    "    \"num_bio\": 27,\n",
    "    \"bio_layers\": [256, 512],\n",
    "    \"bio_dropout\": 0.,\n",
    "    \"optimizer_params\": {\n",
    "        \"lr\": 1e-3\n",
    "    },\n",
    "    \"early_stopping\": False,\n",
    "    \"trainer\": {\n",
    "        \"gpus\": 1,\n",
    "        \"max_epochs\": 7,\n",
    "        \"logger\": None,\n",
    "        \"enable_checkpointing\": True,\n",
    "        \"overfit_batches\": 0,\n",
    "        \"deterministic\": True,\n",
    "        \"precision\": 16\n",
    "    },\n",
    "    \"datamodule\": {\n",
    "        \"batch_size\": 700,\n",
    "        \"num_workers\": 6,\n",
    "        \"pin_memory\": True\n",
    "    },\n",
    "}\n",
    "\n",
    "if __name__ == \"__main__\":\n",
    "    model = RGBNirBioModule(config)\n",
    "    #trainer = pl.Trainer(**config[\"trainer\"], resume_from_checkpoint=\"checkpoints/r34rgbnir_da-val_loss=6.54345-epoch=3.ckpt\")\n",
    "    model = RGBNirBioModule.load_from_checkpoint(\"r34RGBNirBio_vl=6.35_epoch=7.ckpt\")\n",
    "    #trainer.fit(model, dm)\n",
    "    model.hparams"
   ]
  },
  {
   "cell_type": "code",
   "execution_count": null,
   "metadata": {},
   "outputs": [],
   "source": []
  },
  {
   "cell_type": "code",
   "execution_count": 5,
   "metadata": {},
   "outputs": [
    {
     "name": "stderr",
     "output_type": "stream",
     "text": [
      "100%|██████████| 53/53 [01:09<00:00,  1.32s/it]\n"
     ]
    }
   ],
   "source": [
    "from tqdm import tqdm\n",
    "\n",
    "model.cuda()\n",
    "dl = dm.test_dataloader()\n",
    "labels, observations = [], []\n",
    "for batch in tqdm(dl):\n",
    "    preds = model.predict(batch)\n",
    "    values, ixs = preds.topk(30)\n",
    "    labels += [\" \".join([str(i.item()) for i in ix]) for ix in ixs]\n",
    "    observation_ids = batch[\"observation_id\"]\n",
    "    observations += observation_ids.numpy().tolist()\n",
    "    "
   ]
  },
  {
   "cell_type": "code",
   "execution_count": 9,
   "metadata": {},
   "outputs": [
    {
     "ename": "NameError",
     "evalue": "name 'observations' is not defined",
     "output_type": "error",
     "traceback": [
      "\u001b[1;31m---------------------------------------------------------------------------\u001b[0m",
      "\u001b[1;31mNameError\u001b[0m                                 Traceback (most recent call last)",
      "\u001b[1;32md:\\Code\\Kaggle_Competitions\\GeoLifeCLEF2022\\sensio_approach\\submission.ipynb Cell 6'\u001b[0m in \u001b[0;36m<cell line: 2>\u001b[1;34m()\u001b[0m\n\u001b[0;32m      <a href='vscode-notebook-cell:/d%3A/Code/Kaggle_Competitions/GeoLifeCLEF2022/sensio_approach/submission.ipynb#ch0000005?line=0'>1</a>\u001b[0m \u001b[39mimport\u001b[39;00m \u001b[39mpandas\u001b[39;00m \u001b[39mas\u001b[39;00m \u001b[39mpd\u001b[39;00m\n\u001b[1;32m----> <a href='vscode-notebook-cell:/d%3A/Code/Kaggle_Competitions/GeoLifeCLEF2022/sensio_approach/submission.ipynb#ch0000005?line=1'>2</a>\u001b[0m submission \u001b[39m=\u001b[39m pd\u001b[39m.\u001b[39mDataFrame({\u001b[39m\"\u001b[39m\u001b[39mId\u001b[39m\u001b[39m\"\u001b[39m: observations, \u001b[39m\"\u001b[39m\u001b[39mPredicted\u001b[39m\u001b[39m\"\u001b[39m: labels})\n\u001b[0;32m      <a href='vscode-notebook-cell:/d%3A/Code/Kaggle_Competitions/GeoLifeCLEF2022/sensio_approach/submission.ipynb#ch0000005?line=2'>3</a>\u001b[0m \u001b[39m#submission[\"Id\"] = submission[\"Id\"].astype(int)\u001b[39;00m\n\u001b[0;32m      <a href='vscode-notebook-cell:/d%3A/Code/Kaggle_Competitions/GeoLifeCLEF2022/sensio_approach/submission.ipynb#ch0000005?line=3'>4</a>\u001b[0m submission\u001b[39m.\u001b[39mto_csv(\u001b[39m\"\u001b[39m\u001b[39msubmission.csv\u001b[39m\u001b[39m\"\u001b[39m, index\u001b[39m=\u001b[39m\u001b[39mFalse\u001b[39;00m)\n",
      "\u001b[1;31mNameError\u001b[0m: name 'observations' is not defined"
     ]
    }
   ],
   "source": [
    "import pandas as pd\n",
    "submission = pd.DataFrame({\"Id\": observations, \"Predicted\": labels})\n",
    "#submission[\"Id\"] = submission[\"Id\"].astype(int)\n",
    "submission.to_csv(\"submission.csv\", index=False)\n",
    "submission.sample(5)"
   ]
  },
  {
   "cell_type": "code",
   "execution_count": 9,
   "metadata": {},
   "outputs": [],
   "source": [
    "submission[\"Id\"] = submission[\"Id\"].astype(int)"
   ]
  },
  {
   "cell_type": "code",
   "execution_count": 10,
   "metadata": {},
   "outputs": [
    {
     "data": {
      "text/html": [
       "<div>\n",
       "<style scoped>\n",
       "    .dataframe tbody tr th:only-of-type {\n",
       "        vertical-align: middle;\n",
       "    }\n",
       "\n",
       "    .dataframe tbody tr th {\n",
       "        vertical-align: top;\n",
       "    }\n",
       "\n",
       "    .dataframe thead th {\n",
       "        text-align: right;\n",
       "    }\n",
       "</style>\n",
       "<table border=\"1\" class=\"dataframe\">\n",
       "  <thead>\n",
       "    <tr style=\"text-align: right;\">\n",
       "      <th></th>\n",
       "      <th>Id</th>\n",
       "      <th>Predicted</th>\n",
       "    </tr>\n",
       "  </thead>\n",
       "  <tbody>\n",
       "    <tr>\n",
       "      <th>33609</th>\n",
       "      <td>21762543</td>\n",
       "      <td>3495 2902 5230 3132 5109 4949 5317 5068 5351 5...</td>\n",
       "    </tr>\n",
       "    <tr>\n",
       "      <th>6654</th>\n",
       "      <td>10742493</td>\n",
       "      <td>250 510 213 403 110 456 86 47 521 677 5 1090 4...</td>\n",
       "    </tr>\n",
       "    <tr>\n",
       "      <th>35155</th>\n",
       "      <td>21935529</td>\n",
       "      <td>3485 2902 6428 5317 5020 4870 4823 8084 4242 5...</td>\n",
       "    </tr>\n",
       "    <tr>\n",
       "      <th>1539</th>\n",
       "      <td>10066796</td>\n",
       "      <td>1041 472 336 751 263 600 9 692 660 211 748 380...</td>\n",
       "    </tr>\n",
       "    <tr>\n",
       "      <th>2149</th>\n",
       "      <td>10717747</td>\n",
       "      <td>373 316 399 334 85 333 235 250 319 140 754 592...</td>\n",
       "    </tr>\n",
       "  </tbody>\n",
       "</table>\n",
       "</div>"
      ],
      "text/plain": [
       "             Id                                          Predicted\n",
       "33609  21762543  3495 2902 5230 3132 5109 4949 5317 5068 5351 5...\n",
       "6654   10742493  250 510 213 403 110 456 86 47 521 677 5 1090 4...\n",
       "35155  21935529  3485 2902 6428 5317 5020 4870 4823 8084 4242 5...\n",
       "1539   10066796  1041 472 336 751 263 600 9 692 660 211 748 380...\n",
       "2149   10717747  373 316 399 334 85 333 235 250 319 140 754 592..."
      ]
     },
     "execution_count": 10,
     "metadata": {},
     "output_type": "execute_result"
    }
   ],
   "source": [
    "submission.to_csv(\"submission.csv\", index=False)\n",
    "submission.sample(5)\n"
   ]
  },
  {
   "cell_type": "code",
   "execution_count": 10,
   "metadata": {},
   "outputs": [
    {
     "ename": "NameError",
     "evalue": "name 'submission' is not defined",
     "output_type": "error",
     "traceback": [
      "\u001b[1;31m---------------------------------------------------------------------------\u001b[0m",
      "\u001b[1;31mNameError\u001b[0m                                 Traceback (most recent call last)",
      "\u001b[1;32md:\\Code\\Kaggle_Competitions\\GeoLifeCLEF2022\\sensio_approach\\submission.ipynb Cell 9'\u001b[0m in \u001b[0;36m<cell line: 2>\u001b[1;34m()\u001b[0m\n\u001b[0;32m      <a href='vscode-notebook-cell:/d%3A/Code/Kaggle_Competitions/GeoLifeCLEF2022/sensio_approach/submission.ipynb#ch0000008?line=0'>1</a>\u001b[0m sample_submission \u001b[39m=\u001b[39m pd\u001b[39m.\u001b[39mread_csv(\u001b[39m\"\u001b[39m\u001b[39m../data/sample_submission.csv\u001b[39m\u001b[39m\"\u001b[39m)\n\u001b[1;32m----> <a href='vscode-notebook-cell:/d%3A/Code/Kaggle_Competitions/GeoLifeCLEF2022/sensio_approach/submission.ipynb#ch0000008?line=1'>2</a>\u001b[0m \u001b[39massert\u001b[39;00m \u001b[39mlen\u001b[39m(sample_submission) \u001b[39m==\u001b[39m \u001b[39mlen\u001b[39m(submission)\n\u001b[0;32m      <a href='vscode-notebook-cell:/d%3A/Code/Kaggle_Competitions/GeoLifeCLEF2022/sensio_approach/submission.ipynb#ch0000008?line=2'>3</a>\u001b[0m sample_submission\u001b[39m.\u001b[39msample(\u001b[39m10\u001b[39m)\n",
      "\u001b[1;31mNameError\u001b[0m: name 'submission' is not defined"
     ]
    }
   ],
   "source": [
    "sample_submission = pd.read_csv(\"../data/sample_submission.csv\")\n",
    "assert len(sample_submission) == len(submission)\n",
    "sample_submission.sample(10)"
   ]
  },
  {
   "cell_type": "code",
   "execution_count": 11,
   "metadata": {},
   "outputs": [
    {
     "data": {
      "text/plain": [
       "36421"
      ]
     },
     "execution_count": 11,
     "metadata": {},
     "output_type": "execute_result"
    }
   ],
   "source": [
    "len(sample_submission)"
   ]
  },
  {
   "cell_type": "code",
   "execution_count": null,
   "metadata": {},
   "outputs": [],
   "source": []
  }
 ],
 "metadata": {
  "interpreter": {
   "hash": "3c1fba53d05ad3ab318740f1cd3e740e5684579702ae133612ff36666452b762"
  },
  "kernelspec": {
   "display_name": "Python 3.10.4 ('venv': venv)",
   "language": "python",
   "name": "python3"
  },
  "language_info": {
   "codemirror_mode": {
    "name": "ipython",
    "version": 3
   },
   "file_extension": ".py",
   "mimetype": "text/x-python",
   "name": "python",
   "nbconvert_exporter": "python",
   "pygments_lexer": "ipython3",
   "version": "3.10.4"
  },
  "orig_nbformat": 4
 },
 "nbformat": 4,
 "nbformat_minor": 2
}
