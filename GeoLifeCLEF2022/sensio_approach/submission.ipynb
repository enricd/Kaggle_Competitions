{
 "cells": [
  {
   "cell_type": "code",
   "execution_count": 1,
   "metadata": {},
   "outputs": [],
   "source": [
    "%load_ext autoreload\n",
    "%autoreload 2"
   ]
  },
  {
   "cell_type": "code",
   "execution_count": 2,
   "metadata": {},
   "outputs": [
    {
     "name": "stdout",
     "output_type": "stream",
     "text": [
      "train: 1587395\n",
      "val: 40080\n",
      "test: 36421\n"
     ]
    }
   ],
   "source": [
    "from src import RGBModule, RGBDataModule, RGBNirDataModule, RGBNirModule\n",
    "import pytorch_lightning as pl\n",
    "\n",
    "dm = RGBNirDataModule(batch_size=512, num_workers=4, pin_memory=True)\n",
    "dm.setup()"
   ]
  },
  {
   "cell_type": "code",
   "execution_count": 4,
   "metadata": {},
   "outputs": [
    {
     "name": "stderr",
     "output_type": "stream",
     "text": [
      "Using 16bit native Automatic Mixed Precision (AMP)\n",
      "d:\\Code\\Kaggle_Competitions\\GeoLifeCLEF2022\\venv\\lib\\site-packages\\pytorch_lightning\\trainer\\connectors\\checkpoint_connector.py:51: LightningDeprecationWarning: Setting `Trainer(resume_from_checkpoint=)` is deprecated in v1.5 and will be removed in v1.7. Please pass `Trainer.fit(ckpt_path=)` directly instead.\n",
      "  rank_zero_deprecation(\n",
      "GPU available: True, used: True\n",
      "TPU available: False, using: 0 TPU cores\n",
      "IPU available: False, using: 0 IPUs\n",
      "HPU available: False, using: 0 HPUs\n",
      "d:\\Code\\Kaggle_Competitions\\GeoLifeCLEF2022\\venv\\lib\\site-packages\\pytorch_lightning\\trainer\\trainer.py:805: LightningDeprecationWarning: `trainer.resume_from_checkpoint` is deprecated in v1.5 and will be removed in v2.0. Specify the fit checkpoint path with `trainer.fit(ckpt_path=)` instead.\n",
      "  ckpt_path = ckpt_path or self.resume_from_checkpoint\n",
      "Restoring states from the checkpoint path at checkpoints/r34rgbnir_da-val_loss=6.54345-epoch=3.ckpt\n"
     ]
    },
    {
     "name": "stdout",
     "output_type": "stream",
     "text": [
      "train: 1587395\n",
      "val: 40080\n",
      "test: 36421\n"
     ]
    },
    {
     "name": "stderr",
     "output_type": "stream",
     "text": [
      "d:\\Code\\Kaggle_Competitions\\GeoLifeCLEF2022\\venv\\lib\\site-packages\\pytorch_lightning\\trainer\\trainer.py:1718: UserWarning: Be aware that when using `ckpt_path`, callbacks used to create the checkpoint need to be provided during `Trainer` instantiation. Please add the following callbacks: [\"ModelCheckpoint{'monitor': 'val_loss', 'mode': 'min', 'every_n_train_steps': 0, 'every_n_epochs': 1, 'train_time_interval': None, 'save_on_train_epoch_end': True}\"].\n",
      "  rank_zero_warn(\n",
      "LOCAL_RANK: 0 - CUDA_VISIBLE_DEVICES: [0]\n",
      "\n",
      "  | Name  | Type   | Params\n",
      "---------------------------------\n",
      "0 | model | ResNet | 30.0 M\n",
      "---------------------------------\n",
      "30.0 M    Trainable params\n",
      "0         Non-trainable params\n",
      "30.0 M    Total params\n",
      "60.056    Total estimated model params size (MB)\n",
      "Restored all states from the checkpoint file at checkpoints/r34rgbnir_da-val_loss=6.54345-epoch=3.ckpt\n"
     ]
    }
   ],
   "source": [
    "config = {\n",
    "    'backbone': 'resnet34',\n",
    "    'pretrained': True,\n",
    "    'optimizer': 'Adam',\n",
    "    'optimizer_params': {\n",
    "        'lr': 1e-3\n",
    "    },\n",
    "    'early_stopping': False,\n",
    "    'trainer': {\n",
    "        'gpus': 1,\n",
    "        'max_epochs': 3,\n",
    "        'logger': None,\n",
    "        'enable_checkpointing': False,\n",
    "        'overfit_batches': 0,\n",
    "        'deterministic': True,\n",
    "        'precision': 16\n",
    "    },\n",
    "    'datamodule': {\n",
    "        'batch_size': 780,\n",
    "        'num_workers': 8,\n",
    "        'pin_memory': True\n",
    "    },\n",
    "}\n",
    "\n",
    "if __name__ == \"__main__\":\n",
    "    model = RGBNirModule(config)\n",
    "    trainer = pl.Trainer(**config[\"trainer\"], resume_from_checkpoint=\"checkpoints/r34rgbnir_da-val_loss=6.54345-epoch=3.ckpt\")\n",
    "    #model = RGBModule.load_from_checkpoint(\"checkpoints/baseline-val_loss=8.22737-epoch=0.ckpt\")\n",
    "    trainer.fit(model, dm)\n",
    "    model.hparams"
   ]
  },
  {
   "cell_type": "code",
   "execution_count": 5,
   "metadata": {},
   "outputs": [
    {
     "name": "stderr",
     "output_type": "stream",
     "text": [
      "  8%|▊         | 6/72 [00:20<01:46,  1.62s/it]Exception ignored in: <function _MultiProcessingDataLoaderIter.__del__ at 0x000001D37997DFC0>\n",
      "Traceback (most recent call last):\n",
      "  File \"d:\\Code\\Kaggle_Competitions\\GeoLifeCLEF2022\\venv\\lib\\site-packages\\torch\\utils\\data\\dataloader.py\", line 1358, in __del__\n",
      "    self._shutdown_workers()\n",
      "  File \"d:\\Code\\Kaggle_Competitions\\GeoLifeCLEF2022\\venv\\lib\\site-packages\\torch\\utils\\data\\dataloader.py\", line 1289, in _shutdown_workers\n",
      "    if not self._shutdown:\n",
      "AttributeError: '_MultiProcessingDataLoaderIter' object has no attribute '_shutdown'\n",
      "Exception ignored in: <function _MultiProcessingDataLoaderIter.__del__ at 0x000001D37997DFC0>\n",
      "Traceback (most recent call last):\n",
      "  File \"d:\\Code\\Kaggle_Competitions\\GeoLifeCLEF2022\\venv\\lib\\site-packages\\torch\\utils\\data\\dataloader.py\", line 1358, in __del__\n",
      "    self._shutdown_workers()\n",
      "  File \"d:\\Code\\Kaggle_Competitions\\GeoLifeCLEF2022\\venv\\lib\\site-packages\\torch\\utils\\data\\dataloader.py\", line 1289, in _shutdown_workers\n",
      "    if not self._shutdown:\n",
      "AttributeError: '_MultiProcessingDataLoaderIter' object has no attribute '_shutdown'\n",
      "100%|██████████| 72/72 [01:27<00:00,  1.22s/it]\n"
     ]
    }
   ],
   "source": [
    "from tqdm import tqdm\n",
    "\n",
    "model.cuda()\n",
    "dl = dm.test_dataloader()\n",
    "labels, observations = [], []\n",
    "for imgs, observation_ids in tqdm(dl):\n",
    "    preds = model.predict(imgs)\n",
    "    values, ixs = preds.topk(30)\n",
    "    labels += [' '.join([str(i.item()) for i in ix]) for ix in ixs]\n",
    "    observations += observation_ids\n",
    "    "
   ]
  },
  {
   "cell_type": "code",
   "execution_count": 6,
   "metadata": {},
   "outputs": [
    {
     "data": {
      "text/html": [
       "<div>\n",
       "<style scoped>\n",
       "    .dataframe tbody tr th:only-of-type {\n",
       "        vertical-align: middle;\n",
       "    }\n",
       "\n",
       "    .dataframe tbody tr th {\n",
       "        vertical-align: top;\n",
       "    }\n",
       "\n",
       "    .dataframe thead th {\n",
       "        text-align: right;\n",
       "    }\n",
       "</style>\n",
       "<table border=\"1\" class=\"dataframe\">\n",
       "  <thead>\n",
       "    <tr style=\"text-align: right;\">\n",
       "      <th></th>\n",
       "      <th>Id</th>\n",
       "      <th>Predicted</th>\n",
       "    </tr>\n",
       "  </thead>\n",
       "  <tbody>\n",
       "    <tr>\n",
       "      <th>32128</th>\n",
       "      <td>tensor(21606530)</td>\n",
       "      <td>3962 5227 5686 5045 5192 5504 3072 6739 5168 5...</td>\n",
       "    </tr>\n",
       "    <tr>\n",
       "      <th>5687</th>\n",
       "      <td>tensor(10709993)</td>\n",
       "      <td>191 118 743 1059 223 515 131 416 205 209 30 56...</td>\n",
       "    </tr>\n",
       "    <tr>\n",
       "      <th>22835</th>\n",
       "      <td>tensor(20601479)</td>\n",
       "      <td>6028 1432 2044 5796 5794 7413 4903 1767 4870 1...</td>\n",
       "    </tr>\n",
       "    <tr>\n",
       "      <th>22589</th>\n",
       "      <td>tensor(20573605)</td>\n",
       "      <td>5311 5058 5409 5068 6350 12203 7897 12181 5322...</td>\n",
       "    </tr>\n",
       "    <tr>\n",
       "      <th>21320</th>\n",
       "      <td>tensor(20440587)</td>\n",
       "      <td>1227 2682 2561 1075 2386 1792 5364 774 2334 50...</td>\n",
       "    </tr>\n",
       "  </tbody>\n",
       "</table>\n",
       "</div>"
      ],
      "text/plain": [
       "                     Id                                          Predicted\n",
       "32128  tensor(21606530)  3962 5227 5686 5045 5192 5504 3072 6739 5168 5...\n",
       "5687   tensor(10709993)  191 118 743 1059 223 515 131 416 205 209 30 56...\n",
       "22835  tensor(20601479)  6028 1432 2044 5796 5794 7413 4903 1767 4870 1...\n",
       "22589  tensor(20573605)  5311 5058 5409 5068 6350 12203 7897 12181 5322...\n",
       "21320  tensor(20440587)  1227 2682 2561 1075 2386 1792 5364 774 2334 50..."
      ]
     },
     "execution_count": 6,
     "metadata": {},
     "output_type": "execute_result"
    }
   ],
   "source": [
    "import pandas as pd\n",
    "submission = pd.DataFrame({\"Id\": int(observations), \"Predicted\": labels})\n",
    "submission.to_csv(\"submission.csv\", index=False)\n",
    "submission.sample(5)"
   ]
  },
  {
   "cell_type": "code",
   "execution_count": 7,
   "metadata": {},
   "outputs": [],
   "source": [
    "submission[\"Id\"] = submission[\"Id\"].astype(int)"
   ]
  },
  {
   "cell_type": "code",
   "execution_count": 8,
   "metadata": {},
   "outputs": [
    {
     "data": {
      "text/html": [
       "<div>\n",
       "<style scoped>\n",
       "    .dataframe tbody tr th:only-of-type {\n",
       "        vertical-align: middle;\n",
       "    }\n",
       "\n",
       "    .dataframe tbody tr th {\n",
       "        vertical-align: top;\n",
       "    }\n",
       "\n",
       "    .dataframe thead th {\n",
       "        text-align: right;\n",
       "    }\n",
       "</style>\n",
       "<table border=\"1\" class=\"dataframe\">\n",
       "  <thead>\n",
       "    <tr style=\"text-align: right;\">\n",
       "      <th></th>\n",
       "      <th>Id</th>\n",
       "      <th>Predicted</th>\n",
       "    </tr>\n",
       "  </thead>\n",
       "  <tbody>\n",
       "    <tr>\n",
       "      <th>20145</th>\n",
       "      <td>20312324</td>\n",
       "      <td>1597 5356 6184 1452 2200 2268 5901 6818 2674 2...</td>\n",
       "    </tr>\n",
       "    <tr>\n",
       "      <th>28101</th>\n",
       "      <td>21175631</td>\n",
       "      <td>2723 1092 5666 5940 2329 5194 5 5688 6171 6049...</td>\n",
       "    </tr>\n",
       "    <tr>\n",
       "      <th>15761</th>\n",
       "      <td>10030437</td>\n",
       "      <td>944 29 188 327 527 908 409 371 748 511 426 751...</td>\n",
       "    </tr>\n",
       "    <tr>\n",
       "      <th>28281</th>\n",
       "      <td>21196626</td>\n",
       "      <td>5612 5504 5633 5045 5402 5011 5969 5698 5366 4...</td>\n",
       "    </tr>\n",
       "    <tr>\n",
       "      <th>30640</th>\n",
       "      <td>21446244</td>\n",
       "      <td>5020 5068 4982 5668 5531 5359 3953 5298 4988 5...</td>\n",
       "    </tr>\n",
       "  </tbody>\n",
       "</table>\n",
       "</div>"
      ],
      "text/plain": [
       "             Id                                          Predicted\n",
       "20145  20312324  1597 5356 6184 1452 2200 2268 5901 6818 2674 2...\n",
       "28101  21175631  2723 1092 5666 5940 2329 5194 5 5688 6171 6049...\n",
       "15761  10030437  944 29 188 327 527 908 409 371 748 511 426 751...\n",
       "28281  21196626  5612 5504 5633 5045 5402 5011 5969 5698 5366 4...\n",
       "30640  21446244  5020 5068 4982 5668 5531 5359 3953 5298 4988 5..."
      ]
     },
     "execution_count": 8,
     "metadata": {},
     "output_type": "execute_result"
    }
   ],
   "source": [
    "submission.to_csv(\"submission.csv\", index=False)\n",
    "submission.sample(5)\n"
   ]
  },
  {
   "cell_type": "code",
   "execution_count": 9,
   "metadata": {},
   "outputs": [
    {
     "data": {
      "text/html": [
       "<div>\n",
       "<style scoped>\n",
       "    .dataframe tbody tr th:only-of-type {\n",
       "        vertical-align: middle;\n",
       "    }\n",
       "\n",
       "    .dataframe tbody tr th {\n",
       "        vertical-align: top;\n",
       "    }\n",
       "\n",
       "    .dataframe thead th {\n",
       "        text-align: right;\n",
       "    }\n",
       "</style>\n",
       "<table border=\"1\" class=\"dataframe\">\n",
       "  <thead>\n",
       "    <tr style=\"text-align: right;\">\n",
       "      <th></th>\n",
       "      <th>Id</th>\n",
       "      <th>Predicted</th>\n",
       "    </tr>\n",
       "  </thead>\n",
       "  <tbody>\n",
       "    <tr>\n",
       "      <th>27021</th>\n",
       "      <td>21058535</td>\n",
       "      <td>0 1 2 3 4 5 6 7 8 9 10 11 12 13 14 15 16 17 18...</td>\n",
       "    </tr>\n",
       "    <tr>\n",
       "      <th>34204</th>\n",
       "      <td>21825709</td>\n",
       "      <td>0 1 2 3 4 5 6 7 8 9 10 11 12 13 14 15 16 17 18...</td>\n",
       "    </tr>\n",
       "    <tr>\n",
       "      <th>26623</th>\n",
       "      <td>21016851</td>\n",
       "      <td>0 1 2 3 4 5 6 7 8 9 10 11 12 13 14 15 16 17 18...</td>\n",
       "    </tr>\n",
       "    <tr>\n",
       "      <th>11934</th>\n",
       "      <td>10571438</td>\n",
       "      <td>0 1 2 3 4 5 6 7 8 9 10 11 12 13 14 15 16 17 18...</td>\n",
       "    </tr>\n",
       "    <tr>\n",
       "      <th>18462</th>\n",
       "      <td>20124927</td>\n",
       "      <td>0 1 2 3 4 5 6 7 8 9 10 11 12 13 14 15 16 17 18...</td>\n",
       "    </tr>\n",
       "    <tr>\n",
       "      <th>26604</th>\n",
       "      <td>21014972</td>\n",
       "      <td>0 1 2 3 4 5 6 7 8 9 10 11 12 13 14 15 16 17 18...</td>\n",
       "    </tr>\n",
       "    <tr>\n",
       "      <th>7718</th>\n",
       "      <td>10366128</td>\n",
       "      <td>0 1 2 3 4 5 6 7 8 9 10 11 12 13 14 15 16 17 18...</td>\n",
       "    </tr>\n",
       "    <tr>\n",
       "      <th>6828</th>\n",
       "      <td>10321425</td>\n",
       "      <td>0 1 2 3 4 5 6 7 8 9 10 11 12 13 14 15 16 17 18...</td>\n",
       "    </tr>\n",
       "    <tr>\n",
       "      <th>2377</th>\n",
       "      <td>10113023</td>\n",
       "      <td>0 1 2 3 4 5 6 7 8 9 10 11 12 13 14 15 16 17 18...</td>\n",
       "    </tr>\n",
       "    <tr>\n",
       "      <th>12097</th>\n",
       "      <td>10580254</td>\n",
       "      <td>0 1 2 3 4 5 6 7 8 9 10 11 12 13 14 15 16 17 18...</td>\n",
       "    </tr>\n",
       "  </tbody>\n",
       "</table>\n",
       "</div>"
      ],
      "text/plain": [
       "             Id                                          Predicted\n",
       "27021  21058535  0 1 2 3 4 5 6 7 8 9 10 11 12 13 14 15 16 17 18...\n",
       "34204  21825709  0 1 2 3 4 5 6 7 8 9 10 11 12 13 14 15 16 17 18...\n",
       "26623  21016851  0 1 2 3 4 5 6 7 8 9 10 11 12 13 14 15 16 17 18...\n",
       "11934  10571438  0 1 2 3 4 5 6 7 8 9 10 11 12 13 14 15 16 17 18...\n",
       "18462  20124927  0 1 2 3 4 5 6 7 8 9 10 11 12 13 14 15 16 17 18...\n",
       "26604  21014972  0 1 2 3 4 5 6 7 8 9 10 11 12 13 14 15 16 17 18...\n",
       "7718   10366128  0 1 2 3 4 5 6 7 8 9 10 11 12 13 14 15 16 17 18...\n",
       "6828   10321425  0 1 2 3 4 5 6 7 8 9 10 11 12 13 14 15 16 17 18...\n",
       "2377   10113023  0 1 2 3 4 5 6 7 8 9 10 11 12 13 14 15 16 17 18...\n",
       "12097  10580254  0 1 2 3 4 5 6 7 8 9 10 11 12 13 14 15 16 17 18..."
      ]
     },
     "execution_count": 9,
     "metadata": {},
     "output_type": "execute_result"
    }
   ],
   "source": [
    "sample_submission = pd.read_csv(\"../data/sample_submission.csv\")\n",
    "assert len(sample_submission) == len(submission)\n",
    "sample_submission.sample(10)"
   ]
  },
  {
   "cell_type": "code",
   "execution_count": null,
   "metadata": {},
   "outputs": [],
   "source": []
  }
 ],
 "metadata": {
  "interpreter": {
   "hash": "609d97ee8331fecaf8b0add525accbfe35acad4ebbfad042d8c275a2aaa68c22"
  },
  "kernelspec": {
   "display_name": "Python 3.10.4 ('venv': venv)",
   "language": "python",
   "name": "python3"
  },
  "language_info": {
   "codemirror_mode": {
    "name": "ipython",
    "version": 3
   },
   "file_extension": ".py",
   "mimetype": "text/x-python",
   "name": "python",
   "nbconvert_exporter": "python",
   "pygments_lexer": "ipython3",
   "version": "3.10.4"
  },
  "orig_nbformat": 4
 },
 "nbformat": 4,
 "nbformat_minor": 2
}
