{
 "cells": [
  {
   "cell_type": "code",
   "execution_count": null,
   "metadata": {},
   "outputs": [],
   "source": [
    "# From sensio"
   ]
  },
  {
   "cell_type": "code",
   "execution_count": 1,
   "metadata": {},
   "outputs": [
    {
     "data": {
      "text/plain": [
       "['train.csv',\n",
       " 'asset_details.csv',\n",
       " 'gresearch_crypto',\n",
       " 'supplemental_train.csv',\n",
       " 'example_sample_submission.csv',\n",
       " 'example_test.csv']"
      ]
     },
     "execution_count": 1,
     "metadata": {},
     "output_type": "execute_result"
    }
   ],
   "source": [
    "import os\n",
    "from pathlib import Path\n",
    "\n",
    "path = Path(\"data\")\n",
    "os.listdir(path)"
   ]
  },
  {
   "cell_type": "code",
   "execution_count": 2,
   "metadata": {},
   "outputs": [
    {
     "data": {
      "text/html": [
       "<div>\n",
       "<style scoped>\n",
       "    .dataframe tbody tr th:only-of-type {\n",
       "        vertical-align: middle;\n",
       "    }\n",
       "\n",
       "    .dataframe tbody tr th {\n",
       "        vertical-align: top;\n",
       "    }\n",
       "\n",
       "    .dataframe thead th {\n",
       "        text-align: right;\n",
       "    }\n",
       "</style>\n",
       "<table border=\"1\" class=\"dataframe\">\n",
       "  <thead>\n",
       "    <tr style=\"text-align: right;\">\n",
       "      <th></th>\n",
       "      <th>timestamp</th>\n",
       "      <th>Count</th>\n",
       "      <th>Open</th>\n",
       "      <th>High</th>\n",
       "      <th>Low</th>\n",
       "      <th>Close</th>\n",
       "      <th>Volume</th>\n",
       "      <th>VWAP</th>\n",
       "      <th>Target</th>\n",
       "      <th>Asset_ID</th>\n",
       "    </tr>\n",
       "    <tr>\n",
       "      <th>timestamp</th>\n",
       "      <th></th>\n",
       "      <th></th>\n",
       "      <th></th>\n",
       "      <th></th>\n",
       "      <th></th>\n",
       "      <th></th>\n",
       "      <th></th>\n",
       "      <th></th>\n",
       "      <th></th>\n",
       "      <th></th>\n",
       "    </tr>\n",
       "  </thead>\n",
       "  <tbody>\n",
       "    <tr>\n",
       "      <th>2018-01-01 00:01:00</th>\n",
       "      <td>1514764860</td>\n",
       "      <td>5.0</td>\n",
       "      <td>8.530000</td>\n",
       "      <td>8.530000</td>\n",
       "      <td>8.530000</td>\n",
       "      <td>8.530000</td>\n",
       "      <td>7.838000e+01</td>\n",
       "      <td>8.530000</td>\n",
       "      <td>-0.014399</td>\n",
       "      <td>0</td>\n",
       "    </tr>\n",
       "    <tr>\n",
       "      <th>2018-01-01 00:01:00</th>\n",
       "      <td>1514764860</td>\n",
       "      <td>229.0</td>\n",
       "      <td>13835.194000</td>\n",
       "      <td>14013.800000</td>\n",
       "      <td>13666.110000</td>\n",
       "      <td>13850.176000</td>\n",
       "      <td>3.155006e+01</td>\n",
       "      <td>13827.062093</td>\n",
       "      <td>-0.014643</td>\n",
       "      <td>1</td>\n",
       "    </tr>\n",
       "    <tr>\n",
       "      <th>2018-01-01 00:01:00</th>\n",
       "      <td>1514764860</td>\n",
       "      <td>40.0</td>\n",
       "      <td>2376.580000</td>\n",
       "      <td>2399.500000</td>\n",
       "      <td>2357.140000</td>\n",
       "      <td>2374.590000</td>\n",
       "      <td>1.923301e+01</td>\n",
       "      <td>2373.116392</td>\n",
       "      <td>-0.004218</td>\n",
       "      <td>2</td>\n",
       "    </tr>\n",
       "    <tr>\n",
       "      <th>2018-01-01 00:01:00</th>\n",
       "      <td>1514764860</td>\n",
       "      <td>32.0</td>\n",
       "      <td>7.659600</td>\n",
       "      <td>7.659600</td>\n",
       "      <td>7.656700</td>\n",
       "      <td>7.657600</td>\n",
       "      <td>6.626713e+03</td>\n",
       "      <td>7.657713</td>\n",
       "      <td>-0.013922</td>\n",
       "      <td>5</td>\n",
       "    </tr>\n",
       "    <tr>\n",
       "      <th>2018-01-01 00:01:00</th>\n",
       "      <td>1514764860</td>\n",
       "      <td>173.0</td>\n",
       "      <td>738.302500</td>\n",
       "      <td>746.000000</td>\n",
       "      <td>732.510000</td>\n",
       "      <td>738.507500</td>\n",
       "      <td>3.359879e+02</td>\n",
       "      <td>738.839291</td>\n",
       "      <td>-0.004809</td>\n",
       "      <td>6</td>\n",
       "    </tr>\n",
       "    <tr>\n",
       "      <th>...</th>\n",
       "      <td>...</td>\n",
       "      <td>...</td>\n",
       "      <td>...</td>\n",
       "      <td>...</td>\n",
       "      <td>...</td>\n",
       "      <td>...</td>\n",
       "      <td>...</td>\n",
       "      <td>...</td>\n",
       "      <td>...</td>\n",
       "      <td>...</td>\n",
       "    </tr>\n",
       "    <tr>\n",
       "      <th>2021-09-21 00:00:00</th>\n",
       "      <td>1632182400</td>\n",
       "      <td>775.0</td>\n",
       "      <td>157.181571</td>\n",
       "      <td>157.250000</td>\n",
       "      <td>156.700000</td>\n",
       "      <td>156.943857</td>\n",
       "      <td>4.663725e+03</td>\n",
       "      <td>156.994319</td>\n",
       "      <td>-0.001154</td>\n",
       "      <td>9</td>\n",
       "    </tr>\n",
       "    <tr>\n",
       "      <th>2021-09-21 00:00:00</th>\n",
       "      <td>1632182400</td>\n",
       "      <td>34.0</td>\n",
       "      <td>2437.065067</td>\n",
       "      <td>2438.000000</td>\n",
       "      <td>2430.226900</td>\n",
       "      <td>2432.907467</td>\n",
       "      <td>3.975460e+00</td>\n",
       "      <td>2434.818747</td>\n",
       "      <td>0.009831</td>\n",
       "      <td>10</td>\n",
       "    </tr>\n",
       "    <tr>\n",
       "      <th>2021-09-21 00:00:00</th>\n",
       "      <td>1632182400</td>\n",
       "      <td>48.0</td>\n",
       "      <td>232.695000</td>\n",
       "      <td>232.800000</td>\n",
       "      <td>232.240000</td>\n",
       "      <td>232.275000</td>\n",
       "      <td>1.035123e+02</td>\n",
       "      <td>232.569697</td>\n",
       "      <td>0.002568</td>\n",
       "      <td>11</td>\n",
       "    </tr>\n",
       "    <tr>\n",
       "      <th>2021-09-21 00:00:00</th>\n",
       "      <td>1632182400</td>\n",
       "      <td>177.0</td>\n",
       "      <td>0.282168</td>\n",
       "      <td>0.282438</td>\n",
       "      <td>0.281842</td>\n",
       "      <td>0.282051</td>\n",
       "      <td>1.828508e+05</td>\n",
       "      <td>0.282134</td>\n",
       "      <td>0.000449</td>\n",
       "      <td>12</td>\n",
       "    </tr>\n",
       "    <tr>\n",
       "      <th>2021-09-21 00:00:00</th>\n",
       "      <td>1632182400</td>\n",
       "      <td>380.0</td>\n",
       "      <td>0.091390</td>\n",
       "      <td>0.091527</td>\n",
       "      <td>0.091260</td>\n",
       "      <td>0.091349</td>\n",
       "      <td>2.193732e+06</td>\n",
       "      <td>0.091388</td>\n",
       "      <td>0.004163</td>\n",
       "      <td>13</td>\n",
       "    </tr>\n",
       "  </tbody>\n",
       "</table>\n",
       "<p>24236806 rows × 10 columns</p>\n",
       "</div>"
      ],
      "text/plain": [
       "                      timestamp  Count          Open          High  \\\n",
       "timestamp                                                            \n",
       "2018-01-01 00:01:00  1514764860    5.0      8.530000      8.530000   \n",
       "2018-01-01 00:01:00  1514764860  229.0  13835.194000  14013.800000   \n",
       "2018-01-01 00:01:00  1514764860   40.0   2376.580000   2399.500000   \n",
       "2018-01-01 00:01:00  1514764860   32.0      7.659600      7.659600   \n",
       "2018-01-01 00:01:00  1514764860  173.0    738.302500    746.000000   \n",
       "...                         ...    ...           ...           ...   \n",
       "2021-09-21 00:00:00  1632182400  775.0    157.181571    157.250000   \n",
       "2021-09-21 00:00:00  1632182400   34.0   2437.065067   2438.000000   \n",
       "2021-09-21 00:00:00  1632182400   48.0    232.695000    232.800000   \n",
       "2021-09-21 00:00:00  1632182400  177.0      0.282168      0.282438   \n",
       "2021-09-21 00:00:00  1632182400  380.0      0.091390      0.091527   \n",
       "\n",
       "                              Low         Close        Volume          VWAP  \\\n",
       "timestamp                                                                     \n",
       "2018-01-01 00:01:00      8.530000      8.530000  7.838000e+01      8.530000   \n",
       "2018-01-01 00:01:00  13666.110000  13850.176000  3.155006e+01  13827.062093   \n",
       "2018-01-01 00:01:00   2357.140000   2374.590000  1.923301e+01   2373.116392   \n",
       "2018-01-01 00:01:00      7.656700      7.657600  6.626713e+03      7.657713   \n",
       "2018-01-01 00:01:00    732.510000    738.507500  3.359879e+02    738.839291   \n",
       "...                           ...           ...           ...           ...   \n",
       "2021-09-21 00:00:00    156.700000    156.943857  4.663725e+03    156.994319   \n",
       "2021-09-21 00:00:00   2430.226900   2432.907467  3.975460e+00   2434.818747   \n",
       "2021-09-21 00:00:00    232.240000    232.275000  1.035123e+02    232.569697   \n",
       "2021-09-21 00:00:00      0.281842      0.282051  1.828508e+05      0.282134   \n",
       "2021-09-21 00:00:00      0.091260      0.091349  2.193732e+06      0.091388   \n",
       "\n",
       "                       Target  Asset_ID  \n",
       "timestamp                                \n",
       "2018-01-01 00:01:00 -0.014399         0  \n",
       "2018-01-01 00:01:00 -0.014643         1  \n",
       "2018-01-01 00:01:00 -0.004218         2  \n",
       "2018-01-01 00:01:00 -0.013922         5  \n",
       "2018-01-01 00:01:00 -0.004809         6  \n",
       "...                       ...       ...  \n",
       "2021-09-21 00:00:00 -0.001154         9  \n",
       "2021-09-21 00:00:00  0.009831        10  \n",
       "2021-09-21 00:00:00  0.002568        11  \n",
       "2021-09-21 00:00:00  0.000449        12  \n",
       "2021-09-21 00:00:00  0.004163        13  \n",
       "\n",
       "[24236806 rows x 10 columns]"
      ]
     },
     "execution_count": 2,
     "metadata": {},
     "output_type": "execute_result"
    }
   ],
   "source": [
    "import pandas as pd\n",
    "\n",
    "train = pd.read_csv(path / \"train.csv\")\n",
    "train = train.sort_values(by=[\"timestamp\", \"Asset_ID\"])\n",
    "train.index = pd.to_datetime(train[\"timestamp\"], unit=\"s\")\n",
    "train_clean = train.groupby(\"Asset_ID\").ffill().bfill()\n",
    "train_clean[\"Asset_ID\"] = train[\"Asset_ID\"].values.copy()\n",
    "\n",
    "train_clean"
   ]
  },
  {
   "cell_type": "code",
   "execution_count": 3,
   "metadata": {},
   "outputs": [
    {
     "data": {
      "text/plain": [
       "<AxesSubplot:xlabel='timestamp'>"
      ]
     },
     "execution_count": 3,
     "metadata": {},
     "output_type": "execute_result"
    },
    {
     "data": {
      "image/png": "[encoded data removed]",
      "text/plain": [
       "<Figure size 432x288 with 1 Axes>"
      ]
     },
     "metadata": {
      "needs_background": "light"
     },
     "output_type": "display_data"
    }
   ],
   "source": [
    "train_clean[train_clean[\"Asset_ID\"] == 1][-100:].Target.plot()"
   ]
  },
  {
   "cell_type": "code",
   "execution_count": 1,
   "metadata": {},
   "outputs": [
    {
     "ename": "NameError",
     "evalue": "name 'train_clean' is not defined",
     "output_type": "error",
     "traceback": [
      "\u001b[0;31m---------------------------------------------------------------------------\u001b[0m",
      "\u001b[0;31mNameError\u001b[0m                                 Traceback (most recent call last)",
      "\u001b[0;32m/tmp/ipykernel_6834/713094961.py\u001b[0m in \u001b[0;36m<module>\u001b[0;34m\u001b[0m\n\u001b[0;32m----> 1\u001b[0;31m \u001b[0mtrain_clean\u001b[0m\u001b[0;34m.\u001b[0m\u001b[0misna\u001b[0m\u001b[0;34m(\u001b[0m\u001b[0;34m)\u001b[0m\u001b[0;34m.\u001b[0m\u001b[0msum\u001b[0m\u001b[0;34m(\u001b[0m\u001b[0;34m)\u001b[0m\u001b[0;34m\u001b[0m\u001b[0;34m\u001b[0m\u001b[0m\n\u001b[0m",
      "\u001b[0;31mNameError\u001b[0m: name 'train_clean' is not defined"
     ]
    }
   ],
   "source": [
    "train_clean.isna().sum()"
   ]
  },
  {
   "cell_type": "code",
   "execution_count": null,
   "metadata": {},
   "outputs": [],
   "source": [
    "kk = train_clean[train_clean[\"Asset_ID\"] == 1][-5:]\n",
    "\n",
    "kk"
   ]
  },
  {
   "cell_type": "code",
   "execution_count": null,
   "metadata": {},
   "outputs": [],
   "source": [
    "kk.rresample('1Min').mean()"
   ]
  }
 ],
 "metadata": {
  "interpreter": {
   "hash": "b1473e23e2dcfee293aee447f6b42f98e7f1a7fdb26f75602c5f40fe7c2af243"
  },
  "kernelspec": {
   "display_name": "Python 3.8.5 64-bit ('base': conda)",
   "language": "python",
   "name": "python3"
  },
  "language_info": {
   "codemirror_mode": {
    "name": "ipython",
    "version": 3
   },
   "file_extension": ".py",
   "mimetype": "text/x-python",
   "name": "python",
   "nbconvert_exporter": "python",
   "pygments_lexer": "ipython3",
   "version": "3.8.5"
  },
  "orig_nbformat": 4
 },
 "nbformat": 4,
 "nbformat_minor": 2
}
